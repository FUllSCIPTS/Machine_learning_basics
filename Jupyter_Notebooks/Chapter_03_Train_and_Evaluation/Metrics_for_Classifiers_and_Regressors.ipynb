{
 "cells": [
  {
   "cell_type": "markdown",
   "id": "3e207e20",
   "metadata": {},
   "source": [
    "<div dir=\"rtl\" align=\"center\">\n",
    "<font face=\"XB Zar\" size=5>\n",
    "    <font face=\"IranNastaliq\" size=5>\n",
    "      به نام خدا\n",
    "    </font>\n",
    "    <br>\n",
    "    <font size=3>\n",
    "      دانشگاه صنعتی شریف - دانشکده مهندسی کامپیوتر\n",
    "    </font>\n",
    "    <br>\n",
    "    <font color=blue size=5>\n",
    "      مقدمه‌ای بر یادگیری ماشین\n",
    "    </font>\n",
    "    <br>\n",
    "    <hr/>\n",
    "    <font color=red size=6>\n",
    "      فصل سوم: یادگیری، ارزیابی و تنطیم کردن مدل ها\n",
    "    </font>\n",
    "    <hr/>\n",
    "    <font color=red size=6>\n",
    "      مبحث:‌ارزیابی مدل ها\n",
    "    </font>\n",
    "    <hr/>\n",
    "    <br>\n",
    "      نویسنده:‌علیرضا حیدری\n",
    "    <hr>\n"
   ]
  },
  {
   "cell_type": "markdown",
   "id": "eee43bbe",
   "metadata": {},
   "source": [
    "<div dir=rtl id=\"Abstract\">\n",
    "<font face=\"XB Zar\" size=4>\n",
    "  <font color=\"red\" size=5>\n",
    "    روند کلی\n",
    "  </font>\n",
    "  <hr />\n",
    "    در این نوتبوک با معیار های مختلف ارزیابی مدل ها در مسایل دسته بندی و رگرسیون آشنا می‌شویم\n",
    "  <br/>\n",
    "</font>\n",
    "</div>"
   ]
  },
  {
   "cell_type": "markdown",
   "id": "2067698c",
   "metadata": {},
   "source": [
    "\n",
    "  <div dir=rtl id=\"dataset\">\n",
    "  <font face=\"XB Zar\" size=4>\n",
    "      <font color=\"red\" size=5>\n",
    "        آشنایی با دیتاست\n",
    "      </font>\n",
    "      <hr />\n",
    "      دیتاست ای که در این بخش استفاده خواهد شد، دیتاست MNIST است.\n",
    "      <br />\n",
    "      </font>\n",
    "    </div>"
   ]
  },
  {
   "cell_type": "code",
   "execution_count": 31,
   "id": "c8c47d0d",
   "metadata": {},
   "outputs": [
    {
     "data": {
      "text/plain": [
       "dict_keys(['data', 'target', 'frame', 'categories', 'feature_names', 'target_names', 'DESCR', 'details', 'url'])"
      ]
     },
     "execution_count": 31,
     "metadata": {},
     "output_type": "execute_result"
    }
   ],
   "source": [
    "import numpy as np\n",
    "from sklearn.datasets import fetch_openml\n",
    "mnist = fetch_openml('mnist_784', version=1, as_frame=False)\n",
    "mnist.keys()"
   ]
  },
  {
   "cell_type": "code",
   "execution_count": 32,
   "id": "f2931f4f",
   "metadata": {},
   "outputs": [
    {
     "data": {
      "text/plain": [
       "(70000, 784)"
      ]
     },
     "execution_count": 32,
     "metadata": {},
     "output_type": "execute_result"
    }
   ],
   "source": [
    "X, y = mnist[\"data\"], mnist[\"target\"]\n",
    "y = y.astype(np.uint8)\n",
    "X.shape"
   ]
  },
  {
   "cell_type": "markdown",
   "id": "6af90145",
   "metadata": {},
   "source": [
    "  <div dir=rtl id=\"dataset\">\n",
    "\n",
    "<font face=\"XB Zar\" size=4>\n",
    "      همانطورکه مشخص است،‌داده ها عکس های ۲۸ در ۲۸ هستند\n",
    "      </font>\n",
    "      </div>\n"
   ]
  },
  {
   "cell_type": "code",
   "execution_count": 33,
   "id": "5eb0b35e",
   "metadata": {},
   "outputs": [
    {
     "data": {
      "text/plain": [
       "(70000,)"
      ]
     },
     "execution_count": 33,
     "metadata": {},
     "output_type": "execute_result"
    }
   ],
   "source": [
    "y.shape"
   ]
  },
  {
   "cell_type": "code",
   "execution_count": 51,
   "id": "6fed5ff5",
   "metadata": {},
   "outputs": [
    {
     "data": {
      "image/png": "[encoded data removed]",
      "text/plain": [
       "<Figure size 432x288 with 1 Axes>"
      ]
     },
     "metadata": {
      "needs_background": "light"
     },
     "output_type": "display_data"
    }
   ],
   "source": [
    "%matplotlib inline\n",
    "import matplotlib as mpl\n",
    "import matplotlib.pyplot as plt\n",
    "\n",
    "def plot_digit(data):\n",
    "    image = data.reshape(28, 28)\n",
    "    plt.imshow(image, cmap = mpl.cm.binary,\n",
    "               interpolation=\"nearest\")\n",
    "    plt.axis(\"off\")\n",
    "  \n",
    "\n",
    "digit = X[0]\n",
    "plot_digit(digit)"
   ]
  },
  {
   "cell_type": "code",
   "execution_count": 35,
   "id": "4ec617fa",
   "metadata": {},
   "outputs": [
    {
     "data": {
      "text/plain": [
       "9"
      ]
     },
     "execution_count": 35,
     "metadata": {},
     "output_type": "execute_result"
    }
   ],
   "source": [
    "y[1401]"
   ]
  },
  {
   "cell_type": "markdown",
   "id": "43177f63",
   "metadata": {},
   "source": [
    "<div dir=rtl id=\"Abstract\">\n",
    "<font face=\"XB Zar\" size=4>\n",
    "  <font color=\"red\" size=5>\n",
    "    آموزش دادن یک Binary Classifier\n",
    "  </font>\n",
    "  <hr />\n",
    "    در این بخش یک binary classifier که تشخیض می‌دهید یک عدد ۵ است یا نه را آموزش دهیم.\n",
    "  <br/>\n",
    "</font>\n",
    "</div>"
   ]
  },
  {
   "cell_type": "code",
   "execution_count": 44,
   "id": "d83968bd",
   "metadata": {},
   "outputs": [],
   "source": [
    "from sklearn.model_selection import train_test_split\n",
    "X_train, X_test, y_train, y_test = train_test_split(X, y, test_size=0.25, random_state=42)"
   ]
  },
  {
   "cell_type": "code",
   "execution_count": 45,
   "id": "c2d1bfc8",
   "metadata": {},
   "outputs": [],
   "source": [
    "y_train_5 = (y_train == 5)\n",
    "y_test_5 = (y_test == 5)"
   ]
  },
  {
   "cell_type": "code",
   "execution_count": 46,
   "id": "045c38b8",
   "metadata": {},
   "outputs": [
    {
     "data": {
      "text/plain": [
       "array([False, False, False, ..., False, False, False])"
      ]
     },
     "execution_count": 46,
     "metadata": {},
     "output_type": "execute_result"
    }
   ],
   "source": [
    "y_train_5"
   ]
  },
  {
   "cell_type": "code",
   "execution_count": 47,
   "id": "9b76344e",
   "metadata": {},
   "outputs": [
    {
     "data": {
      "text/html": [
       "<style>#sk-container-id-1 {color: black;background-color: white;}#sk-container-id-1 pre{padding: 0;}#sk-container-id-1 div.sk-toggleable {background-color: white;}#sk-container-id-1 label.sk-toggleable__label {cursor: pointer;display: block;width: 100%;margin-bottom: 0;padding: 0.3em;box-sizing: border-box;text-align: center;}#sk-container-id-1 label.sk-toggleable__label-arrow:before {content: \"▸\";float: left;margin-right: 0.25em;color: #696969;}#sk-container-id-1 label.sk-toggleable__label-arrow:hover:before {color: black;}#sk-container-id-1 div.sk-estimator:hover label.sk-toggleable__label-arrow:before {color: black;}#sk-container-id-1 div.sk-toggleable__content {max-height: 0;max-width: 0;overflow: hidden;text-align: left;background-color: #f0f8ff;}#sk-container-id-1 div.sk-toggleable__content pre {margin: 0.2em;color: black;border-radius: 0.25em;background-color: #f0f8ff;}#sk-container-id-1 input.sk-toggleable__control:checked~div.sk-toggleable__content {max-height: 200px;max-width: 100%;overflow: auto;}#sk-container-id-1 input.sk-toggleable__control:checked~label.sk-toggleable__label-arrow:before {content: \"▾\";}#sk-container-id-1 div.sk-estimator input.sk-toggleable__control:checked~label.sk-toggleable__label {background-color: #d4ebff;}#sk-container-id-1 div.sk-label input.sk-toggleable__control:checked~label.sk-toggleable__label {background-color: #d4ebff;}#sk-container-id-1 input.sk-hidden--visually {border: 0;clip: rect(1px 1px 1px 1px);clip: rect(1px, 1px, 1px, 1px);height: 1px;margin: -1px;overflow: hidden;padding: 0;position: absolute;width: 1px;}#sk-container-id-1 div.sk-estimator {font-family: monospace;background-color: #f0f8ff;border: 1px dotted black;border-radius: 0.25em;box-sizing: border-box;margin-bottom: 0.5em;}#sk-container-id-1 div.sk-estimator:hover {background-color: #d4ebff;}#sk-container-id-1 div.sk-parallel-item::after {content: \"\";width: 100%;border-bottom: 1px solid gray;flex-grow: 1;}#sk-container-id-1 div.sk-label:hover label.sk-toggleable__label {background-color: #d4ebff;}#sk-container-id-1 div.sk-serial::before {content: \"\";position: absolute;border-left: 1px solid gray;box-sizing: border-box;top: 0;bottom: 0;left: 50%;z-index: 0;}#sk-container-id-1 div.sk-serial {display: flex;flex-direction: column;align-items: center;background-color: white;padding-right: 0.2em;padding-left: 0.2em;position: relative;}#sk-container-id-1 div.sk-item {position: relative;z-index: 1;}#sk-container-id-1 div.sk-parallel {display: flex;align-items: stretch;justify-content: center;background-color: white;position: relative;}#sk-container-id-1 div.sk-item::before, #sk-container-id-1 div.sk-parallel-item::before {content: \"\";position: absolute;border-left: 1px solid gray;box-sizing: border-box;top: 0;bottom: 0;left: 50%;z-index: -1;}#sk-container-id-1 div.sk-parallel-item {display: flex;flex-direction: column;z-index: 1;position: relative;background-color: white;}#sk-container-id-1 div.sk-parallel-item:first-child::after {align-self: flex-end;width: 50%;}#sk-container-id-1 div.sk-parallel-item:last-child::after {align-self: flex-start;width: 50%;}#sk-container-id-1 div.sk-parallel-item:only-child::after {width: 0;}#sk-container-id-1 div.sk-dashed-wrapped {border: 1px dashed gray;margin: 0 0.4em 0.5em 0.4em;box-sizing: border-box;padding-bottom: 0.4em;background-color: white;}#sk-container-id-1 div.sk-label label {font-family: monospace;font-weight: bold;display: inline-block;line-height: 1.2em;}#sk-container-id-1 div.sk-label-container {text-align: center;}#sk-container-id-1 div.sk-container {/* jupyter's `normalize.less` sets `[hidden] { display: none; }` but bootstrap.min.css set `[hidden] { display: none !important; }` so we also need the `!important` here to be able to override the default hidden behavior on the sphinx rendered scikit-learn.org. See: https://github.com/scikit-learn/scikit-learn/issues/21755 */display: inline-block !important;position: relative;}#sk-container-id-1 div.sk-text-repr-fallback {display: none;}</style><div id=\"sk-container-id-1\" class=\"sk-top-container\"><div class=\"sk-text-repr-fallback\"><pre>SGDClassifier(random_state=42)</pre><b>In a Jupyter environment, please rerun this cell to show the HTML representation or trust the notebook. <br />On GitHub, the HTML representation is unable to render, please try loading this page with nbviewer.org.</b></div><div class=\"sk-container\" hidden><div class=\"sk-item\"><div class=\"sk-estimator sk-toggleable\"><input class=\"sk-toggleable__control sk-hidden--visually\" id=\"sk-estimator-id-1\" type=\"checkbox\" checked><label for=\"sk-estimator-id-1\" class=\"sk-toggleable__label sk-toggleable__label-arrow\">SGDClassifier</label><div class=\"sk-toggleable__content\"><pre>SGDClassifier(random_state=42)</pre></div></div></div></div></div>"
      ],
      "text/plain": [
       "SGDClassifier(random_state=42)"
      ]
     },
     "execution_count": 47,
     "metadata": {},
     "output_type": "execute_result"
    }
   ],
   "source": [
    "from sklearn.linear_model import SGDClassifier\n",
    "sgd_clf = SGDClassifier(random_state=42)\n",
    "sgd_clf.fit(X_train, y_train_5)"
   ]
  },
  {
   "cell_type": "code",
   "execution_count": 52,
   "id": "b5bd23f2",
   "metadata": {},
   "outputs": [
    {
     "data": {
      "text/plain": [
       "array([ True])"
      ]
     },
     "execution_count": 52,
     "metadata": {},
     "output_type": "execute_result"
    }
   ],
   "source": [
    "sgd_clf.predict([digit])"
   ]
  },
  {
   "cell_type": "markdown",
   "id": "b3d0643e",
   "metadata": {},
   "source": [
    "<div dir=rtl id=\"Abstract\">\n",
    "<font face=\"XB Zar\" size=4>\n",
    "  <font color=\"red\" size=5>\n",
    "    محاسبه دقت\n",
    "  </font>\n",
    "  <hr />\n",
    "    دقت این classifier را با کمک از cross validation به دست می‌آوریم.\n",
    "\n",
    "   <br/>\n",
    "</font>\n",
    "</div>"
   ]
  },
  {
   "cell_type": "code",
   "execution_count": 54,
   "id": "cbc747dd",
   "metadata": {},
   "outputs": [
    {
     "data": {
      "text/plain": [
       "array([0.96428571, 0.95247619, 0.9627619 , 0.964     , 0.93180952])"
      ]
     },
     "execution_count": 54,
     "metadata": {},
     "output_type": "execute_result"
    }
   ],
   "source": [
    "from sklearn.model_selection import cross_val_score\n",
    "cross_val_score(sgd_clf, X_train, y_train_5, cv=5, scoring=\"accuracy\")"
   ]
  },
  {
   "cell_type": "markdown",
   "id": "169276fd",
   "metadata": {},
   "source": [
    "  <div dir=rtl id=\"dataset\">\n",
    "\n",
    "<font face=\"XB Zar\" size=4>\n",
    "    این مدل برای همه fold ها به دقت بالای ۹۳ درصد رسیده است! چقدر خوب!\n",
    "      </font>\n",
    "      </div>\n"
   ]
  },
  {
   "cell_type": "markdown",
   "id": "e108763b",
   "metadata": {},
   "source": [
    "  <div dir=rtl id=\"dataset\">\n",
    "\n",
    "<font face=\"XB Zar\" size=4>\n",
    "    قبل از اینکه خیلی هیجان زده شوید،‌بگذارید تا یک مدل بسیار ساده را آموزش دهیم تا دقت آن را بسنجیم.\n",
    "      </font>\n",
    "      </div>\n"
   ]
  },
  {
   "cell_type": "markdown",
   "id": "7be74e15",
   "metadata": {},
   "source": [
    "  <div dir=rtl id=\"dataset\">\n",
    "\n",
    "<font face=\"XB Zar\" size=4>\n",
    "    این مدل به گونه ای کار می‌کند که هر عکسی ببیند، آن را دسته \"غیر ۵\" می‌گذارد\n",
    "      </font>\n",
    "      </div>\n"
   ]
  },
  {
   "cell_type": "code",
   "execution_count": 55,
   "id": "c81bea95",
   "metadata": {},
   "outputs": [],
   "source": [
    "from sklearn.base import BaseEstimator\n",
    "class Never5Classifier(BaseEstimator):\n",
    "    def fit(self, X, y=None):\n",
    "        pass\n",
    "    def predict(self, X):\n",
    "        return np.zeros((len(X), 1), dtype=bool)"
   ]
  },
  {
   "cell_type": "code",
   "execution_count": 56,
   "id": "0fb1413a",
   "metadata": {},
   "outputs": [
    {
     "data": {
      "text/plain": [
       "array([0.9107619 , 0.91047619, 0.90857143, 0.91304762, 0.90895238])"
      ]
     },
     "execution_count": 56,
     "metadata": {},
     "output_type": "execute_result"
    }
   ],
   "source": [
    "never_5_clf = Never5Classifier()\n",
    "cross_val_score(never_5_clf, X_train, y_train_5, cv=5, scoring=\"accuracy\")"
   ]
  },
  {
   "cell_type": "markdown",
   "id": "e488d22c",
   "metadata": {},
   "source": [
    "  <div dir=rtl id=\"dataset\">\n",
    "\n",
    "<font face=\"XB Zar\" size=4>\n",
    "خب همانطور که مشخص است این دسته بند، به دقت بالای ۹۰ درصد رسید! خیلی هم تعجب برانگیر نیست، زیرا حدود ۱۰ درصد از داده ها لیبل شان ۵ بوده است، و آن ها اشتباه تشخیص داده شده اند.\n",
    "      </font>\n",
    "      </div>\n"
   ]
  },
  {
   "cell_type": "markdown",
   "id": "48e0f482",
   "metadata": {},
   "source": [
    "<div dir=rtl id=\"dataset\">\n",
    "\n",
    "<font face=\"XB Zar\" size=4>\n",
    "بنابراین، accuracy همیشه یه متریک خوب برای ارزیابی مدل ها نیست.\n",
    "      </font>\n",
    "      </div>\n"
   ]
  },
  {
   "cell_type": "markdown",
   "id": "8e5d31a2",
   "metadata": {},
   "source": [
    "<div dir=rtl id=\"Abstract\">\n",
    "<font face=\"XB Zar\" size=4>\n",
    "  <font color=\"red\" size=5>\n",
    "    Confusion Matrix\n",
    "  </font>\n",
    "  <hr />\n",
    "    یک روش خیلی بهتر برای ارزیابی مدل،‌نگاه به confusion matrix است که به ما نشان می‌دهد که هر دسته چند بار در دسته درست و چند بار در دسته های اشتباه دسته بندی شده است\n",
    "\n",
    "   <br/>\n",
    "</font>\n",
    "</div>"
   ]
  },
  {
   "cell_type": "markdown",
   "id": "29b66574",
   "metadata": {},
   "source": [
    "  <div dir=rtl id=\"dataset\">\n",
    "\n",
    "<font face=\"XB Zar\" size=4>\n",
    "    هر سطر در این ماترسی نشان دهنده کلاس واقعی و هر ستون نشان دهنده کلاسی است که مدل پیش‌بینی کرده است.\n",
    "      </font>\n",
    "      </div>\n"
   ]
  },
  {
   "cell_type": "code",
   "execution_count": 59,
   "id": "3ae6961a",
   "metadata": {},
   "outputs": [],
   "source": [
    "from sklearn.model_selection import cross_val_predict\n",
    "\n",
    "y_train_pred = cross_val_predict(sgd_clf, X_train, y_train_5, cv=5)"
   ]
  },
  {
   "cell_type": "code",
   "execution_count": 67,
   "id": "1576e58e",
   "metadata": {},
   "outputs": [
    {
     "data": {
      "text/plain": [
       "array([[46654,  1140],\n",
       "       [ 1219,  3487]])"
      ]
     },
     "execution_count": 67,
     "metadata": {},
     "output_type": "execute_result"
    }
   ],
   "source": [
    "from sklearn.metrics import confusion_matrix\n",
    "\n",
    "sgd_confusion_matrix = confusion_matrix(y_train_5, y_train_pred)\n",
    "sgd_confusion_matrix"
   ]
  },
  {
   "cell_type": "markdown",
   "id": "33e3889b",
   "metadata": {},
   "source": [
    "<div dir=rtl id=\"dataset\">\n",
    "<font face=\"XB Zar\" size=4>\n",
    "اطلاعاتی که confusion matrix از SGDClassifier به ما می‌دهد عبارت هستند از:\n",
    "          <ul>\n",
    "            <font face=\"Roboto\">\n",
    "              <li>\n",
    "                اندیس [0,0]: ۴۶۶۵۴ عکسی که لیبل آن ها \"غیر ۵\" بوده است به درستی \"غیر ۵\" تشخیص داده شده اند.\n",
    "              </li>\n",
    "              <li>\n",
    "                اندیس [0,1]: ۱۱۴۰ عکسی که لیبل آن ها \"غیر ۵\" بوده است به اشتباه \"۵\" تشخیص داده شده اند.\n",
    "              </li>\n",
    "              <li>\n",
    "                اندیس [1,0]: ۱۲۱۹ عکسی که لیبل آن ها \"۵\" بوده است به اشتباه \"غیر ۵\" تشخیص داده شده اند.\n",
    "              </li>\n",
    "              <li>\n",
    "                اندیس [1,1]: ۳۴۸۷ عکسی که لیبل آن ها \"۵\" بوده است به درستی \"۵\" تشخیص داده شده اند.\n",
    "              </li>\n",
    "            </font>\n",
    "          </ul>\n",
    "</font>\n",
    "</div>\n"
   ]
  },
  {
   "cell_type": "code",
   "execution_count": 62,
   "id": "fb8d15a1",
   "metadata": {
    "scrolled": true
   },
   "outputs": [
    {
     "data": {
      "text/plain": [
       "array([[47794,     0],\n",
       "       [    0,  4706]])"
      ]
     },
     "execution_count": 62,
     "metadata": {},
     "output_type": "execute_result"
    }
   ],
   "source": [
    "y_train_perfect_predictions = y_train_5 = y_train_5  # pretend we reached perfection\n",
    "confusion_matrix(y_train_5, y_train_perfect_predictions)"
   ]
  },
  {
   "cell_type": "markdown",
   "id": "ab9656e8",
   "metadata": {},
   "source": [
    "<div dir=rtl id=\"dataset\">\n",
    "\n",
    "<font face=\"XB Zar\" size=4>\n",
    "برای یک دسته بند ایده آل، خانه های غیر قطری confusion matrix همگی ۰ هستند.\n",
    "</font>\n",
    "      </div>\n"
   ]
  },
  {
   "cell_type": "markdown",
   "id": "7e65b920",
   "metadata": {},
   "source": [
    "<div dir=rtl id=\"dataset\">\n",
    "\n",
    "<font face=\"XB Zar\" size=4>\n",
    "همانطور که متوجه شده اید، confusion matrix اطلاعات زیادی به ما می‌دهد. یکی از آن ها، دقت پیش‌بینی های positive .است که به آن precision می‌گوییم\n",
    "</font>\n",
    "      </div>\n"
   ]
  },
  {
   "cell_type": "markdown",
   "id": "26a3f394",
   "metadata": {},
   "source": [
    "<br><center>  $ Precision = \\frac{TP}{TP + FP} $"
   ]
  },
  {
   "cell_type": "code",
   "execution_count": null,
   "id": "e00514c7",
   "metadata": {},
   "outputs": [],
   "source": []
  }
 ],
 "metadata": {
  "kernelspec": {
   "display_name": "Python 3 (ipykernel)",
   "language": "python",
   "name": "python3"
  },
  "language_info": {
   "codemirror_mode": {
    "name": "ipython",
    "version": 3
   },
   "file_extension": ".py",
   "mimetype": "text/x-python",
   "name": "python",
   "nbconvert_exporter": "python",
   "pygments_lexer": "ipython3",
   "version": "3.8.10"
  }
 },
 "nbformat": 4,
 "nbformat_minor": 5
}
