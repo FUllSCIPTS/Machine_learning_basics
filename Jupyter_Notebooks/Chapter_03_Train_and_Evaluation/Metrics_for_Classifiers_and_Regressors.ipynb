{
 "cells": [
  {
   "cell_type": "markdown",
   "id": "3e207e20",
   "metadata": {},
   "source": [
    "<div dir=\"rtl\" align=\"center\">\n",
    "<font face=\"XB Zar\" size=5>\n",
    "    <font face=\"IranNastaliq\" size=5>\n",
    "      به نام خدا\n",
    "    </font>\n",
    "    <br>\n",
    "    <font size=3>\n",
    "      دانشگاه صنعتی شریف - دانشکده مهندسی کامپیوتر\n",
    "    </font>\n",
    "    <br>\n",
    "    <font color=blue size=5>\n",
    "      مقدمه‌ای بر یادگیری ماشین\n",
    "    </font>\n",
    "    <br>\n",
    "    <hr/>\n",
    "    <font color=red size=6>\n",
    "      فصل سوم: یادگیری، ارزیابی و تنطیم کردن مدل ها\n",
    "    </font>\n",
    "    <hr/>\n",
    "    <font color=red size=6>\n",
    "      مبحث:‌ارزیابی مدل ها\n",
    "    </font>\n",
    "    <hr/>\n",
    "    <br>\n",
    "      نویسنده:‌علیرضا حیدری\n",
    "    <hr>\n"
   ]
  },
  {
   "cell_type": "markdown",
   "id": "eee43bbe",
   "metadata": {},
   "source": [
    "<div dir=rtl id=\"Abstract\">\n",
    "<font face=\"XB Zar\" size=4>\n",
    "  <font color=\"red\" size=5>\n",
    "    روند کلی\n",
    "  </font>\n",
    "  <hr />\n",
    "    در این نوتبوک با معیار های مختلف ارزیابی مدل ها در مسایل دسته بندی و رگرسیون آشنا می‌شویم\n",
    "  <br/>\n",
    "</font>\n",
    "</div>"
   ]
  },
  {
   "cell_type": "markdown",
   "id": "2067698c",
   "metadata": {},
   "source": [
    "\n",
    "  <div dir=rtl id=\"dataset\">\n",
    "  <font face=\"XB Zar\" size=4>\n",
    "      <font color=\"red\" size=5>\n",
    "        آشنایی با دیتاست\n",
    "      </font>\n",
    "      <hr />\n",
    "      دیتاست ای که در این بخش استفاده خواهد شد، دیتاست MNIST است.\n",
    "      <br />\n",
    "      </font>\n",
    "    </div>"
   ]
  },
  {
   "cell_type": "code",
   "execution_count": 1,
   "id": "c8c47d0d",
   "metadata": {},
   "outputs": [
    {
     "data": {
      "text/plain": [
       "dict_keys(['data', 'target', 'frame', 'categories', 'feature_names', 'target_names', 'DESCR', 'details', 'url'])"
      ]
     },
     "execution_count": 1,
     "metadata": {},
     "output_type": "execute_result"
    }
   ],
   "source": [
    "import numpy as np\n",
    "from sklearn.datasets import fetch_openml\n",
    "mnist = fetch_openml('mnist_784', version=1, as_frame=False)\n",
    "mnist.keys()"
   ]
  },
  {
   "cell_type": "code",
   "execution_count": 2,
   "id": "f2931f4f",
   "metadata": {},
   "outputs": [
    {
     "data": {
      "text/plain": [
       "(70000, 784)"
      ]
     },
     "execution_count": 2,
     "metadata": {},
     "output_type": "execute_result"
    }
   ],
   "source": [
    "X, y = mnist[\"data\"], mnist[\"target\"]\n",
    "y = y.astype(np.uint8)\n",
    "X.shape"
   ]
  },
  {
   "cell_type": "markdown",
   "id": "6af90145",
   "metadata": {},
   "source": [
    "  <div dir=rtl id=\"dataset\">\n",
    "\n",
    "<font face=\"XB Zar\" size=4>\n",
    "      همانطورکه مشخص است،‌داده ها عکس های ۲۸ در ۲۸ هستند\n",
    "      </font>\n",
    "      </div>\n"
   ]
  },
  {
   "cell_type": "code",
   "execution_count": 3,
   "id": "5eb0b35e",
   "metadata": {},
   "outputs": [
    {
     "data": {
      "text/plain": [
       "(70000,)"
      ]
     },
     "execution_count": 3,
     "metadata": {},
     "output_type": "execute_result"
    }
   ],
   "source": [
    "y.shape"
   ]
  },
  {
   "cell_type": "code",
   "execution_count": 4,
   "id": "6fed5ff5",
   "metadata": {},
   "outputs": [
    {
     "data": {
      "image/png": "[encoded data removed]",
      "text/plain": [
       "<Figure size 432x288 with 1 Axes>"
      ]
     },
     "metadata": {
      "needs_background": "light"
     },
     "output_type": "display_data"
    }
   ],
   "source": [
    "%matplotlib inline\n",
    "import matplotlib as mpl\n",
    "import matplotlib.pyplot as plt\n",
    "\n",
    "def plot_digit(data):\n",
    "    image = data.reshape(28, 28)\n",
    "    plt.imshow(image, cmap = mpl.cm.binary,\n",
    "               interpolation=\"nearest\")\n",
    "    plt.axis(\"off\")\n",
    "  \n",
    "\n",
    "digit = X[0]\n",
    "plot_digit(digit)"
   ]
  },
  {
   "cell_type": "code",
   "execution_count": 5,
   "id": "4ec617fa",
   "metadata": {},
   "outputs": [
    {
     "data": {
      "text/plain": [
       "9"
      ]
     },
     "execution_count": 5,
     "metadata": {},
     "output_type": "execute_result"
    }
   ],
   "source": [
    "y[1401]"
   ]
  },
  {
   "cell_type": "markdown",
   "id": "43177f63",
   "metadata": {},
   "source": [
    "<div dir=rtl id=\"Abstract\">\n",
    "<font face=\"XB Zar\" size=4>\n",
    "  <font color=\"red\" size=5>\n",
    "    آموزش دادن یک Binary Classifier\n",
    "  </font>\n",
    "  <hr />\n",
    "    در این بخش یک binary classifier که تشخیض می‌دهید یک عدد ۵ است یا نه را آموزش دهیم.\n",
    "  <br/>\n",
    "</font>\n",
    "</div>"
   ]
  },
  {
   "cell_type": "code",
   "execution_count": 6,
   "id": "d83968bd",
   "metadata": {},
   "outputs": [],
   "source": [
    "from sklearn.model_selection import train_test_split\n",
    "X_train, X_test, y_train, y_test = train_test_split(X, y, test_size=0.25, random_state=42)"
   ]
  },
  {
   "cell_type": "code",
   "execution_count": 7,
   "id": "c2d1bfc8",
   "metadata": {},
   "outputs": [],
   "source": [
    "y_train_5 = (y_train == 5)\n",
    "y_test_5 = (y_test == 5)"
   ]
  },
  {
   "cell_type": "code",
   "execution_count": 8,
   "id": "045c38b8",
   "metadata": {},
   "outputs": [
    {
     "data": {
      "text/plain": [
       "array([False, False, False, ..., False, False, False])"
      ]
     },
     "execution_count": 8,
     "metadata": {},
     "output_type": "execute_result"
    }
   ],
   "source": [
    "y_train_5"
   ]
  },
  {
   "cell_type": "code",
   "execution_count": 9,
   "id": "9b76344e",
   "metadata": {},
   "outputs": [
    {
     "data": {
      "text/html": [
       "<style>#sk-container-id-1 {color: black;background-color: white;}#sk-container-id-1 pre{padding: 0;}#sk-container-id-1 div.sk-toggleable {background-color: white;}#sk-container-id-1 label.sk-toggleable__label {cursor: pointer;display: block;width: 100%;margin-bottom: 0;padding: 0.3em;box-sizing: border-box;text-align: center;}#sk-container-id-1 label.sk-toggleable__label-arrow:before {content: \"▸\";float: left;margin-right: 0.25em;color: #696969;}#sk-container-id-1 label.sk-toggleable__label-arrow:hover:before {color: black;}#sk-container-id-1 div.sk-estimator:hover label.sk-toggleable__label-arrow:before {color: black;}#sk-container-id-1 div.sk-toggleable__content {max-height: 0;max-width: 0;overflow: hidden;text-align: left;background-color: #f0f8ff;}#sk-container-id-1 div.sk-toggleable__content pre {margin: 0.2em;color: black;border-radius: 0.25em;background-color: #f0f8ff;}#sk-container-id-1 input.sk-toggleable__control:checked~div.sk-toggleable__content {max-height: 200px;max-width: 100%;overflow: auto;}#sk-container-id-1 input.sk-toggleable__control:checked~label.sk-toggleable__label-arrow:before {content: \"▾\";}#sk-container-id-1 div.sk-estimator input.sk-toggleable__control:checked~label.sk-toggleable__label {background-color: #d4ebff;}#sk-container-id-1 div.sk-label input.sk-toggleable__control:checked~label.sk-toggleable__label {background-color: #d4ebff;}#sk-container-id-1 input.sk-hidden--visually {border: 0;clip: rect(1px 1px 1px 1px);clip: rect(1px, 1px, 1px, 1px);height: 1px;margin: -1px;overflow: hidden;padding: 0;position: absolute;width: 1px;}#sk-container-id-1 div.sk-estimator {font-family: monospace;background-color: #f0f8ff;border: 1px dotted black;border-radius: 0.25em;box-sizing: border-box;margin-bottom: 0.5em;}#sk-container-id-1 div.sk-estimator:hover {background-color: #d4ebff;}#sk-container-id-1 div.sk-parallel-item::after {content: \"\";width: 100%;border-bottom: 1px solid gray;flex-grow: 1;}#sk-container-id-1 div.sk-label:hover label.sk-toggleable__label {background-color: #d4ebff;}#sk-container-id-1 div.sk-serial::before {content: \"\";position: absolute;border-left: 1px solid gray;box-sizing: border-box;top: 0;bottom: 0;left: 50%;z-index: 0;}#sk-container-id-1 div.sk-serial {display: flex;flex-direction: column;align-items: center;background-color: white;padding-right: 0.2em;padding-left: 0.2em;position: relative;}#sk-container-id-1 div.sk-item {position: relative;z-index: 1;}#sk-container-id-1 div.sk-parallel {display: flex;align-items: stretch;justify-content: center;background-color: white;position: relative;}#sk-container-id-1 div.sk-item::before, #sk-container-id-1 div.sk-parallel-item::before {content: \"\";position: absolute;border-left: 1px solid gray;box-sizing: border-box;top: 0;bottom: 0;left: 50%;z-index: -1;}#sk-container-id-1 div.sk-parallel-item {display: flex;flex-direction: column;z-index: 1;position: relative;background-color: white;}#sk-container-id-1 div.sk-parallel-item:first-child::after {align-self: flex-end;width: 50%;}#sk-container-id-1 div.sk-parallel-item:last-child::after {align-self: flex-start;width: 50%;}#sk-container-id-1 div.sk-parallel-item:only-child::after {width: 0;}#sk-container-id-1 div.sk-dashed-wrapped {border: 1px dashed gray;margin: 0 0.4em 0.5em 0.4em;box-sizing: border-box;padding-bottom: 0.4em;background-color: white;}#sk-container-id-1 div.sk-label label {font-family: monospace;font-weight: bold;display: inline-block;line-height: 1.2em;}#sk-container-id-1 div.sk-label-container {text-align: center;}#sk-container-id-1 div.sk-container {/* jupyter's `normalize.less` sets `[hidden] { display: none; }` but bootstrap.min.css set `[hidden] { display: none !important; }` so we also need the `!important` here to be able to override the default hidden behavior on the sphinx rendered scikit-learn.org. See: https://github.com/scikit-learn/scikit-learn/issues/21755 */display: inline-block !important;position: relative;}#sk-container-id-1 div.sk-text-repr-fallback {display: none;}</style><div id=\"sk-container-id-1\" class=\"sk-top-container\"><div class=\"sk-text-repr-fallback\"><pre>SVC(C=0.03, random_state=42)</pre><b>In a Jupyter environment, please rerun this cell to show the HTML representation or trust the notebook. <br />On GitHub, the HTML representation is unable to render, please try loading this page with nbviewer.org.</b></div><div class=\"sk-container\" hidden><div class=\"sk-item\"><div class=\"sk-estimator sk-toggleable\"><input class=\"sk-toggleable__control sk-hidden--visually\" id=\"sk-estimator-id-1\" type=\"checkbox\" checked><label for=\"sk-estimator-id-1\" class=\"sk-toggleable__label sk-toggleable__label-arrow\">SVC</label><div class=\"sk-toggleable__content\"><pre>SVC(C=0.03, random_state=42)</pre></div></div></div></div></div>"
      ],
      "text/plain": [
       "SVC(C=0.03, random_state=42)"
      ]
     },
     "execution_count": 9,
     "metadata": {},
     "output_type": "execute_result"
    }
   ],
   "source": [
    "from sklearn.svm import SVC\n",
    "svm_clf = SVC(C= 0.03, random_state=42)\n",
    "svm_clf.fit(X_train, y_train_5)"
   ]
  },
  {
   "cell_type": "code",
   "execution_count": 10,
   "id": "b5bd23f2",
   "metadata": {},
   "outputs": [
    {
     "data": {
      "text/plain": [
       "array([ True])"
      ]
     },
     "execution_count": 10,
     "metadata": {},
     "output_type": "execute_result"
    }
   ],
   "source": [
    "svm_clf.predict([digit])"
   ]
  },
  {
   "cell_type": "markdown",
   "id": "b3d0643e",
   "metadata": {},
   "source": [
    "<div dir=rtl id=\"Abstract\">\n",
    "<font face=\"XB Zar\" size=4>\n",
    "  <font color=\"red\" size=5>\n",
    "    محاسبه دقت\n",
    "  </font>\n",
    "  <hr />\n",
    "    دقت این classifier را با کمک از accuracy_score به دست می‌آوریم.\n",
    "\n",
    "   <br/>\n",
    "</font>\n",
    "</div>"
   ]
  },
  {
   "cell_type": "code",
   "execution_count": 11,
   "id": "cbc747dd",
   "metadata": {},
   "outputs": [
    {
     "data": {
      "text/plain": [
       "0.9729714285714286"
      ]
     },
     "execution_count": 11,
     "metadata": {},
     "output_type": "execute_result"
    }
   ],
   "source": [
    "from sklearn.metrics import accuracy_score\n",
    "svm_clf_predictions = svm_clf.predict(X_test)\n",
    "accuracy_score(y_test_5, svm_clf_predictions)"
   ]
  },
  {
   "cell_type": "markdown",
   "id": "169276fd",
   "metadata": {},
   "source": [
    "  <div dir=rtl id=\"dataset\">\n",
    "\n",
    "<font face=\"XB Zar\" size=4>\n",
    "    به دقت بالای ۹۸ درصد رسیدیم! چقدر خوب!\n",
    "      </font>\n",
    "      </div>\n"
   ]
  },
  {
   "cell_type": "markdown",
   "id": "e108763b",
   "metadata": {},
   "source": [
    "  <div dir=rtl id=\"dataset\">\n",
    "\n",
    "<font face=\"XB Zar\" size=4>\n",
    "    قبل از اینکه خیلی هیجان زده شوید،‌بگذارید تا یک مدل بسیار ساده را آموزش دهیم تا دقت آن را بسنجیم.\n",
    "      </font>\n",
    "      </div>\n"
   ]
  },
  {
   "cell_type": "markdown",
   "id": "7be74e15",
   "metadata": {},
   "source": [
    "  <div dir=rtl id=\"dataset\">\n",
    "\n",
    "<font face=\"XB Zar\" size=4>\n",
    "    این مدل به گونه ای کار می‌کند که هر عکسی ببیند، آن را دسته \"غیر ۵\" می‌گذارد\n",
    "      </font>\n",
    "      </div>\n"
   ]
  },
  {
   "cell_type": "code",
   "execution_count": 12,
   "id": "c81bea95",
   "metadata": {},
   "outputs": [],
   "source": [
    "from sklearn.base import BaseEstimator\n",
    "class Never5Classifier(BaseEstimator):\n",
    "    def fit(self, X, y=None):\n",
    "        pass\n",
    "    def predict(self, X):\n",
    "        return np.zeros((len(X), 1), dtype=bool)"
   ]
  },
  {
   "cell_type": "code",
   "execution_count": 13,
   "id": "0fb1413a",
   "metadata": {},
   "outputs": [
    {
     "data": {
      "text/plain": [
       "0.9081714285714285"
      ]
     },
     "execution_count": 13,
     "metadata": {},
     "output_type": "execute_result"
    }
   ],
   "source": [
    "never_5_clf = Never5Classifier()\n",
    "never_5_clf_predictions = never_5_clf.predict(X_test)\n",
    "accuracy_score(y_test_5, never_5_clf_predictions)"
   ]
  },
  {
   "cell_type": "markdown",
   "id": "e488d22c",
   "metadata": {},
   "source": [
    "  <div dir=rtl id=\"dataset\">\n",
    "\n",
    "<font face=\"XB Zar\" size=4>\n",
    "خب همانطور که مشخص است این دسته بند، به دقت بالای ۹۰ درصد رسید! خیلی هم تعجب برانگیر نیست، زیرا حدود ۱۰ درصد از داده ها لیبل شان ۵ بوده است، و آن ها اشتباه تشخیص داده شده اند.\n",
    "      </font>\n",
    "      </div>\n"
   ]
  },
  {
   "cell_type": "markdown",
   "id": "48e0f482",
   "metadata": {},
   "source": [
    "<div dir=rtl id=\"dataset\">\n",
    "\n",
    "<font face=\"XB Zar\" size=4>\n",
    "بنابراین، accuracy همیشه یه متریک خوب برای ارزیابی مدل ها نیست.\n",
    "      </font>\n",
    "      </div>\n"
   ]
  },
  {
   "cell_type": "markdown",
   "id": "8e5d31a2",
   "metadata": {},
   "source": [
    "<div dir=rtl id=\"Abstract\">\n",
    "<font face=\"XB Zar\" size=4>\n",
    "  <font color=\"red\" size=5>\n",
    "    Confusion Matrix\n",
    "  </font>\n",
    "  <hr />\n",
    "    یک روش خیلی بهتر برای ارزیابی مدل،‌نگاه به confusion matrix است که به ما نشان می‌دهد که هر دسته چند بار در دسته درست و چند بار در دسته های اشتباه دسته بندی شده است\n",
    "\n",
    "   <br/>\n",
    "</font>\n",
    "</div>"
   ]
  },
  {
   "cell_type": "markdown",
   "id": "29b66574",
   "metadata": {},
   "source": [
    "  <div dir=rtl id=\"dataset\">\n",
    "\n",
    "<font face=\"XB Zar\" size=4>\n",
    "    هر سطر در این ماترسی نشان دهنده کلاس واقعی و هر ستون نشان دهنده کلاسی است که مدل پیش‌بینی کرده است.\n",
    "      </font>\n",
    "      </div>\n"
   ]
  },
  {
   "cell_type": "code",
   "execution_count": 14,
   "id": "1576e58e",
   "metadata": {},
   "outputs": [
    {
     "data": {
      "text/plain": [
       "array([[15887,     6],\n",
       "       [  467,  1140]])"
      ]
     },
     "execution_count": 14,
     "metadata": {},
     "output_type": "execute_result"
    }
   ],
   "source": [
    "from sklearn.metrics import confusion_matrix\n",
    "\n",
    "svm_confusion_matrix = confusion_matrix(y_test_5, svm_clf_predictions)\n",
    "svm_confusion_matrix"
   ]
  },
  {
   "cell_type": "markdown",
   "id": "33e3889b",
   "metadata": {},
   "source": [
    "<div dir=rtl id=\"dataset\">\n",
    "<font face=\"XB Zar\" size=4>\n",
    "اطلاعاتی که confusion matrix از SGDClassifier به ما می‌دهد عبارت هستند از:\n",
    "          <ul>\n",
    "            <font face=\"Roboto\">\n",
    "              <li>\n",
    "                اندیس [0,0]: ۱۵۸۸۱ عکسی که لیبل آن ها \"غیر ۵\" بوده است به درستی \"غیر ۵\" تشخیص داده شده اند.\n",
    "              </li>\n",
    "              <li>\n",
    "                اندیس [0,1]: ۱۲ عکسی که لیبل آن ها \"غیر ۵\" بوده است به اشتباه \"۵\" تشخیص داده شده اند.\n",
    "              </li>\n",
    "              <li>\n",
    "                اندیس [1,0]: ۲۱۱ عکسی که لیبل آن ها \"۵\" بوده است به اشتباه \"غیر ۵\" تشخیص داده شده اند.\n",
    "              </li>\n",
    "              <li>\n",
    "                اندیس [1,1]: ۱۳۹۶ عکسی که لیبل آن ها \"۵\" بوده است به درستی \"۵\" تشخیص داده شده اند.\n",
    "              </li>\n",
    "            </font>\n",
    "          </ul>\n",
    "</font>\n",
    "</div>\n"
   ]
  },
  {
   "cell_type": "code",
   "execution_count": 15,
   "id": "fb8d15a1",
   "metadata": {
    "scrolled": true
   },
   "outputs": [
    {
     "data": {
      "text/plain": [
       "array([[47794,     0],\n",
       "       [    0,  4706]])"
      ]
     },
     "execution_count": 15,
     "metadata": {},
     "output_type": "execute_result"
    }
   ],
   "source": [
    "y_train_perfect_predictions = y_train_5 = y_train_5  # pretend we reached perfection\n",
    "confusion_matrix(y_train_5, y_train_perfect_predictions)"
   ]
  },
  {
   "cell_type": "markdown",
   "id": "ab9656e8",
   "metadata": {},
   "source": [
    "<div dir=rtl id=\"dataset\">\n",
    "\n",
    "<font face=\"XB Zar\" size=4>\n",
    "برای یک دسته بند ایده آل، خانه های غیر قطری confusion matrix همگی ۰ هستند.\n",
    "</font>\n",
    "      </div>\n"
   ]
  },
  {
   "cell_type": "markdown",
   "id": "7e65b920",
   "metadata": {},
   "source": [
    "<div dir=rtl id=\"dataset\">\n",
    "\n",
    "<font face=\"XB Zar\" size=4>\n",
    "همانطور که متوجه شده اید، confusion matrix اطلاعات زیادی به ما می‌دهد. یکی از آن ها، دقت پیش‌بینی های positive .است که به آن precision می‌گوییم\n",
    "</font>\n",
    "      </div>\n"
   ]
  },
  {
   "cell_type": "markdown",
   "id": "26a3f394",
   "metadata": {},
   "source": [
    "<br><center>  $ Precision = \\frac{TP}{TP + FP} $"
   ]
  },
  {
   "cell_type": "markdown",
   "id": "e3f6ad8d",
   "metadata": {},
   "source": [
    "<div dir=rtl id=\"dataset\">\n",
    "\n",
    "<font face=\"XB Zar\" size=4>\n",
    "اگر یک پیش بینی انجام دهیم که positive باشد، آنگاه presision برابر با ۱ می‌شود. به همین دلیل این متریک را با متریک دیگری به اسم recall  می‌سنجیم:\n",
    "</font>\n",
    "      </div>\n"
   ]
  },
  {
   "cell_type": "markdown",
   "id": "40da49a6",
   "metadata": {},
   "source": [
    "<br><center>  $ Recall (sensitivity) = \\frac{TP}{TP + FN} $"
   ]
  },
  {
   "cell_type": "code",
   "execution_count": 16,
   "id": "b4769883",
   "metadata": {},
   "outputs": [
    {
     "name": "stdout",
     "output_type": "stream",
     "text": [
      "precision 0.9943045563549161\n",
      "recall 0.704844878878028\n"
     ]
    }
   ],
   "source": [
    "from sklearn.metrics import precision_score, recall_score\n",
    "svm_y_train_pred = svm_clf.predict(X_train)\n",
    "print('precision', precision_score(y_train_5, svm_y_train_pred))\n",
    "print('recall', recall_score(y_train_5, svm_y_train_pred))"
   ]
  },
  {
   "cell_type": "markdown",
   "id": "e8d78eda",
   "metadata": {},
   "source": [
    "<div dir=rtl id=\"dataset\">\n",
    "\n",
    "<font face=\"XB Zar\" size=4>\n",
    "دسته بند ما الان آنقدر هم خوب بنظر نمی‌آید! این دسته بند ۸۶ درصد عکس هایی که ۵ بوده است را درست دسته بندی کرده است.\n",
    "</font>\n",
    "      </div>\n"
   ]
  },
  {
   "cell_type": "markdown",
   "id": "4b31aa45",
   "metadata": {},
   "source": [
    "<div dir=rtl id=\"dataset\">\n",
    "\n",
    "<font face=\"XB Zar\" size=4>\n",
    "یک معیار دیگر که برای ارزیابی مدل استفاده می‌شود، F1 score نام دارد که به شکل زیر تعریف می‌شود:\n",
    "</font>\n",
    "      </div>\n"
   ]
  },
  {
   "cell_type": "markdown",
   "id": "31afbc92",
   "metadata": {},
   "source": [
    "<br><center>  $ F1 = \\frac{2}{\\frac{1}{precision} + \\frac{1}{recall}} $"
   ]
  },
  {
   "cell_type": "code",
   "execution_count": 17,
   "id": "4119e27d",
   "metadata": {},
   "outputs": [
    {
     "data": {
      "text/plain": [
       "0.8249191743347426"
      ]
     },
     "execution_count": 17,
     "metadata": {},
     "output_type": "execute_result"
    }
   ],
   "source": [
    "from sklearn.metrics import f1_score\n",
    "f1_score(y_train_5, svm_y_train_pred)"
   ]
  },
  {
   "cell_type": "markdown",
   "id": "0e11991f",
   "metadata": {},
   "source": [
    "<div dir=rtl id=\"dataset\">\n",
    "\n",
    "<font face=\"XB Zar\" size=4>\n",
    "این متریک دسته بند هایی که precision و recall نزدیکی دارند را دوست دارد. استفاده از این متریک خیلی وابسته به مساله است. ممکن است در یک مساله precision برای ما اهمیت زیادی داشته باشد یا در مساله دیگری بخواهیم recall بالایی داشته باشیم.\n",
    "</font>\n",
    "      </div>\n"
   ]
  },
  {
   "cell_type": "markdown",
   "id": "b32c81cf",
   "metadata": {},
   "source": [
    "<div dir=rtl id=\"Abstract\">\n",
    "<font face=\"XB Zar\" size=4>\n",
    "  <font color=\"red\" size=5>\n",
    "    Precision/Recall tradeoff\n",
    "  </font>\n",
    "\n",
    "</font>\n",
    "</div>"
   ]
  },
  {
   "cell_type": "markdown",
   "id": "e1117e0b",
   "metadata": {},
   "source": [
    "<div dir=rtl id=\"dataset\">\n",
    "\n",
    "<font face=\"XB Zar\" size=4>\n",
    "دسته بند ها،‌برای هر داده که دسته بندی می‌کنند، یک score مشخص می‌کنند و بر اساس یک threshold آن را به دسته مثبت یا دسته منفی اختصاص می‌دهند.\n",
    "</font>\n",
    "      </div>\n"
   ]
  },
  {
   "cell_type": "markdown",
   "id": "a107ffb9",
   "metadata": {},
   "source": [
    "<div dir=rtl id=\"dataset\">\n",
    "\n",
    "<font face=\"XB Zar\" size=4>\n",
    "به طور مثال برای این دسته بند،‌این threshold برابر با ۰ می‌باشد. با جابجایی این threshold، پیشبینی های عوض می‌شود و بنابراین،‌متریک ها هم عوض می‌شوند و precision و recall  های متفاوتی خواهیم داشت.\n",
    "</font>\n",
    "      </div>\n"
   ]
  },
  {
   "cell_type": "code",
   "execution_count": 18,
   "id": "3a027969",
   "metadata": {},
   "outputs": [],
   "source": [
    "svm_train_scores = svm_clf.decision_function(X_train)"
   ]
  },
  {
   "cell_type": "code",
   "execution_count": 19,
   "id": "7d548460",
   "metadata": {},
   "outputs": [],
   "source": [
    "from sklearn.metrics import precision_recall_curve\n",
    "\n",
    "precisions, recalls, thresholds = precision_recall_curve(y_train_5, svm_train_scores)"
   ]
  },
  {
   "cell_type": "code",
   "execution_count": 20,
   "id": "bfbcc403",
   "metadata": {},
   "outputs": [
    {
     "data": {
      "text/plain": [
       "array([-2.82740324, -2.72198694, -2.66664357, ...,  1.85226769,\n",
       "        1.89011781,  1.96884864])"
      ]
     },
     "execution_count": 20,
     "metadata": {},
     "output_type": "execute_result"
    }
   ],
   "source": [
    "thresholds"
   ]
  },
  {
   "cell_type": "code",
   "execution_count": 21,
   "id": "9523e8d0",
   "metadata": {},
   "outputs": [
    {
     "data": {
      "image/png": "[encoded data removed]",
      "text/plain": [
       "<Figure size 576x288 with 1 Axes>"
      ]
     },
     "metadata": {
      "needs_background": "light"
     },
     "output_type": "display_data"
    }
   ],
   "source": [
    "def plot_precision_recall_vs_threshold(precisions, recalls, thresholds):\n",
    "    plt.plot(thresholds, precisions[:-1], \"b--\", label=\"Precision\", linewidth=2)\n",
    "    plt.plot(thresholds, recalls[:-1], \"g-\", label=\"Recall\", linewidth=2)\n",
    "    plt.legend(loc=\"center right\", fontsize=16) # Not shown in the book\n",
    "    plt.xlabel(\"Threshold\", fontsize=16)        # Not shown\n",
    "    plt.grid(True)                              # Not shown\n",
    "    plt.axis([-2.5, 2.5, 0, 1])             # Not shown\n",
    "\n",
    "\n",
    "\n",
    "recall_90_precision = recalls[np.argmax(precisions >= 0.90)]\n",
    "threshold_90_precision = thresholds[np.argmax(precisions >= 0.90)]\n",
    "\n",
    "\n",
    "plt.figure(figsize=(8, 4))                                                                  # Not shown\n",
    "plot_precision_recall_vs_threshold(precisions, recalls, thresholds)\n",
    "plt.plot([threshold_90_precision, threshold_90_precision], [0., 0.9], \"r:\")                 # Not shown\n",
    "plt.plot([-2.5, threshold_90_precision], [0.9, 0.9], \"r:\")                                # Not shown\n",
    "plt.plot([-2.5, threshold_90_precision], [recall_90_precision, recall_90_precision], \"r:\")# Not shown\n",
    "plt.plot([threshold_90_precision], [0.9], \"ro\")                                             # Not shown\n",
    "plt.plot([threshold_90_precision], [recall_90_precision], \"ro\")                             # Not shown\n",
    "plt.show()"
   ]
  },
  {
   "cell_type": "markdown",
   "id": "5bdfd3cb",
   "metadata": {},
   "source": [
    "<div dir=rtl id=\"dataset\">\n",
    "\n",
    "<font face=\"XB Zar\" size=4>\n",
    "همانطور که از نمودار بالا مشخص است،‌با جابجا کردن این threshold، نمیتوان هم precisionرا زیاد کرد و هم recall را زیاد کرد. و این جا این مساله مطرح می‌شود که این threshold را در کجا قرار دهیم،‌که جواب این سوال،‌وابسته به مساله است.\n",
    "</font>\n",
    "      </div>\n"
   ]
  },
  {
   "cell_type": "markdown",
   "id": "babe90d4",
   "metadata": {},
   "source": [
    "<div dir=rtl id=\"dataset\">\n",
    "\n",
    "<font face=\"XB Zar\" size=4>\n",
    "همچنین می‌توان نمودار precision برحسب recall را کشید و از روی آن تصمیم گیری کرد:\n",
    "</font>\n",
    "      </div>\n"
   ]
  },
  {
   "cell_type": "code",
   "execution_count": 22,
   "id": "1aa22f31",
   "metadata": {},
   "outputs": [
    {
     "data": {
      "image/png": "[encoded data removed]",
      "text/plain": [
       "<Figure size 576x432 with 1 Axes>"
      ]
     },
     "metadata": {
      "needs_background": "light"
     },
     "output_type": "display_data"
    }
   ],
   "source": [
    "def plot_precision_vs_recall(precisions, recalls):\n",
    "    plt.plot(recalls, precisions, \"b-\", linewidth=2)\n",
    "    plt.xlabel(\"Recall\", fontsize=16)\n",
    "    plt.ylabel(\"Precision\", fontsize=16)\n",
    "    plt.axis([0, 1, 0, 1])\n",
    "    plt.grid(True)\n",
    "\n",
    "plt.figure(figsize=(8, 6))\n",
    "plot_precision_vs_recall(precisions, recalls)\n",
    "plt.plot([recall_90_precision, recall_90_precision], [0., 0.9], \"r:\")\n",
    "plt.plot([0.0, recall_90_precision], [0.9, 0.9], \"r:\")\n",
    "plt.plot([recall_90_precision], [0.9], \"ro\")\n",
    "plt.show()"
   ]
  },
  {
   "cell_type": "markdown",
   "id": "4fae174f",
   "metadata": {},
   "source": [
    "<div dir=rtl id=\"dataset\">\n",
    "\n",
    "<font face=\"XB Zar\" size=4>\n",
    "حال بطور مثال در مساله ای که داریم،‌می‌خواهیم حتمابه recall برابر با ۹۰ درصد برسیم. کاری که انجام می‌دهیم بصورت زیر است:\n",
    "</font>\n",
    "      </div>\n"
   ]
  },
  {
   "cell_type": "code",
   "execution_count": 23,
   "id": "95374e5c",
   "metadata": {},
   "outputs": [
    {
     "data": {
      "text/plain": [
       "-2.8274032359600163"
      ]
     },
     "execution_count": 23,
     "metadata": {},
     "output_type": "execute_result"
    }
   ],
   "source": [
    "threshold_90_recall = thresholds[np.argmax(recalls >= 0.90)]\n",
    "threshold_90_recall"
   ]
  },
  {
   "cell_type": "code",
   "execution_count": 24,
   "id": "1488ef32",
   "metadata": {},
   "outputs": [],
   "source": [
    "svm_y_train_pred_90 = (svm_train_scores >= threshold_90_precision)"
   ]
  },
  {
   "cell_type": "code",
   "execution_count": 25,
   "id": "d8f9268b",
   "metadata": {},
   "outputs": [
    {
     "data": {
      "text/plain": [
       "0.9001044932079415"
      ]
     },
     "execution_count": 25,
     "metadata": {},
     "output_type": "execute_result"
    }
   ],
   "source": [
    "precision_score(y_train_5, svm_y_train_pred_90)"
   ]
  },
  {
   "cell_type": "code",
   "execution_count": 26,
   "id": "649a9b39",
   "metadata": {},
   "outputs": [
    {
     "data": {
      "text/plain": [
       "0.9152146196345091"
      ]
     },
     "execution_count": 26,
     "metadata": {},
     "output_type": "execute_result"
    }
   ],
   "source": [
    "recall_score(y_train_5, svm_y_train_pred_90)\n"
   ]
  },
  {
   "cell_type": "markdown",
   "id": "0aca8232",
   "metadata": {},
   "source": [
    "<div dir=rtl id=\"Abstract\">\n",
    "<font face=\"XB Zar\" size=4>\n",
    "  <font color=\"red\" size=5>\n",
    "    ROC Curve\n",
    "  </font>\n",
    "\n",
    "</font>\n",
    "</div>"
   ]
  },
  {
   "cell_type": "markdown",
   "id": "6199e442",
   "metadata": {},
   "source": [
    "<div dir=rtl id=\"dataset\">\n",
    "\n",
    "<font face=\"XB Zar\" size=4>\n",
    "این ابزار نیز برای دسته بند های باینری زیاد استفاده می‌شود. و خیلی شبیه به precision-recall curve می‌باشد، با این تفاوت که recall  را بر حسب false positive rate می‌کشد.\n",
    "</font>\n",
    "      </div>\n"
   ]
  },
  {
   "cell_type": "code",
   "execution_count": 27,
   "id": "065c7725",
   "metadata": {},
   "outputs": [],
   "source": [
    "from sklearn.metrics import roc_curve\n",
    "\n",
    "fpr, tpr, thresholds = roc_curve(y_train_5, svm_train_scores)"
   ]
  },
  {
   "cell_type": "code",
   "execution_count": 28,
   "id": "2648f78b",
   "metadata": {},
   "outputs": [
    {
     "data": {
      "image/png": "[encoded data removed]",
      "text/plain": [
       "<Figure size 576x432 with 1 Axes>"
      ]
     },
     "metadata": {
      "needs_background": "light"
     },
     "output_type": "display_data"
    }
   ],
   "source": [
    "def plot_roc_curve(fpr, tpr, label=None):\n",
    "    plt.plot(fpr, tpr, linewidth=2, label=label)\n",
    "    plt.plot([0, 1], [0, 1], 'k--') # dashed diagonal\n",
    "    plt.axis([0, 1, 0, 1])                                    # Not shown in the book\n",
    "    plt.xlabel('False Positive Rate (Fall-Out)', fontsize=16) # Not shown\n",
    "    plt.ylabel('True Positive Rate (Recall)', fontsize=16)    # Not shown\n",
    "    plt.grid(True)                                            # Not shown\n",
    "\n",
    "plt.figure(figsize=(8, 6))                                    # Not shown\n",
    "plot_roc_curve(fpr, tpr)\n",
    "fpr_90 = fpr[np.argmax(tpr >= recall_90_precision)]           # Not shown\n",
    "plt.plot([fpr_90, fpr_90], [0., recall_90_precision], \"r:\")   # Not shown\n",
    "plt.plot([0.0, fpr_90], [recall_90_precision, recall_90_precision], \"r:\")  # Not shown\n",
    "plt.plot([fpr_90], [recall_90_precision], \"ro\")               # Not shown\n",
    "plt.show()"
   ]
  },
  {
   "cell_type": "markdown",
   "id": "1f89baac",
   "metadata": {},
   "source": [
    "<div dir=rtl id=\"dataset\">\n",
    "\n",
    "<font face=\"XB Zar\" size=4>\n",
    "در این جا هم یک tradeoff بین recall و false positive rate داریم.\n",
    "خط چین نمایش داده شده برای یک دسته بند کاملا رندوم است و یک دسته بند خوب،‌ در دورترین حالت نسبت به آن خط چین است.\n",
    "</font>\n",
    "      </div>\n"
   ]
  },
  {
   "cell_type": "markdown",
   "id": "f849fc54",
   "metadata": {},
   "source": [
    "<div dir=rtl id=\"Abstract\">\n",
    "<font face=\"XB Zar\" size=4>\n",
    "  <font color=\"red\" size=5>\n",
    "   AUC\n",
    "  </font>\n",
    "\n",
    "</font>\n",
    "</div>"
   ]
  },
  {
   "cell_type": "markdown",
   "id": "703c0463",
   "metadata": {},
   "source": [
    "<div dir=rtl id=\"dataset\">\n",
    "\n",
    "<font face=\"XB Zar\" size=4>\n",
    "یک راه دیگر برای ارزیابی و مقایسه مدل ها،‌مقایسه کردن مساحت زیر نمودار ROC Curve است که به این متریک،‌AUC گفته می‌شود.\n",
    "    </font>\n",
    "      </div>\n"
   ]
  },
  {
   "cell_type": "code",
   "execution_count": 29,
   "id": "245d9b03",
   "metadata": {},
   "outputs": [
    {
     "data": {
      "text/plain": [
       "0.9916184997517591"
      ]
     },
     "execution_count": 29,
     "metadata": {},
     "output_type": "execute_result"
    }
   ],
   "source": [
    "from sklearn.metrics import roc_auc_score\n",
    "roc_auc_score(y_train_5, svm_train_scores)"
   ]
  },
  {
   "cell_type": "markdown",
   "id": "d1f63136",
   "metadata": {},
   "source": [
    "<div dir=rtl id=\"dataset\">\n",
    "\n",
    "<font face=\"XB Zar\" size=4>\n",
    "این متریک برای دسته بند SVM ما عدد بالایی است!\n",
    "    </font>\n",
    "      </div>\n"
   ]
  },
  {
   "cell_type": "markdown",
   "id": "4fa65048",
   "metadata": {},
   "source": [
    "<div dir=rtl id=\"dataset\">\n",
    "\n",
    "<font face=\"XB Zar\" size=4>\n",
    "حال یک دسته بند دیگر در نظر می‌گیریم و روی داده ها آموزش می‌دهیم و سپس آن را با SVM ای که داشتیم، مقایسه می‌کنیم.\n",
    "</font>\n",
    "      </div>\n"
   ]
  },
  {
   "cell_type": "code",
   "execution_count": 30,
   "id": "a406836a",
   "metadata": {},
   "outputs": [],
   "source": [
    "from sklearn.ensemble import RandomForestClassifier\n",
    "forest_clf = RandomForestClassifier(random_state=42).fit(X_train, y_train_5)\n",
    "y_probas_forest = forest_clf.predict(X_train)"
   ]
  },
  {
   "cell_type": "code",
   "execution_count": 31,
   "id": "d13baeb2",
   "metadata": {},
   "outputs": [],
   "source": [
    "y_probas_forest = forest_clf.predict_proba(X_train)\n",
    "y_scores_forest = y_probas_forest[:, 1] # score = proba of positive class"
   ]
  },
  {
   "cell_type": "code",
   "execution_count": 32,
   "id": "3bc2e487",
   "metadata": {},
   "outputs": [],
   "source": [
    "fpr_forest, tpr_forest, thresholds_forest = roc_curve(y_train_5,y_scores_forest)\n"
   ]
  },
  {
   "cell_type": "code",
   "execution_count": 33,
   "id": "776d983c",
   "metadata": {},
   "outputs": [
    {
     "data": {
      "image/png": "[encoded data removed]",
      "text/plain": [
       "<Figure size 576x432 with 1 Axes>"
      ]
     },
     "metadata": {
      "needs_background": "light"
     },
     "output_type": "display_data"
    }
   ],
   "source": [
    "recall_for_forest = tpr_forest[np.argmax(fpr_forest >= fpr_90)]\n",
    "\n",
    "plt.figure(figsize=(8, 6))\n",
    "plt.plot(fpr, tpr, \"b:\", linewidth=2, label=\"SVM\")\n",
    "plot_roc_curve(fpr_forest, tpr_forest, \"Random Forest\")\n",
    "plt.plot([fpr_90, fpr_90], [0., recall_90_precision], \"r:\")\n",
    "plt.plot([0.0, fpr_90], [recall_90_precision, recall_90_precision], \"r:\")\n",
    "plt.plot([fpr_90], [recall_90_precision], \"ro\")\n",
    "plt.plot([fpr_90, fpr_90], [0., recall_for_forest], \"r:\")\n",
    "plt.plot([fpr_90], [recall_for_forest], \"ro\")\n",
    "plt.grid(True)\n",
    "plt.legend(loc=\"lower right\", fontsize=16)\n",
    "plt.show()"
   ]
  },
  {
   "cell_type": "code",
   "execution_count": null,
   "id": "8b02710c",
   "metadata": {},
   "outputs": [],
   "source": []
  }
 ],
 "metadata": {
  "kernelspec": {
   "display_name": "Python 3 (ipykernel)",
   "language": "python",
   "name": "python3"
  },
  "language_info": {
   "codemirror_mode": {
    "name": "ipython",
    "version": 3
   },
   "file_extension": ".py",
   "mimetype": "text/x-python",
   "name": "python",
   "nbconvert_exporter": "python",
   "pygments_lexer": "ipython3",
   "version": "3.8.10"
  }
 },
 "nbformat": 4,
 "nbformat_minor": 5
}
