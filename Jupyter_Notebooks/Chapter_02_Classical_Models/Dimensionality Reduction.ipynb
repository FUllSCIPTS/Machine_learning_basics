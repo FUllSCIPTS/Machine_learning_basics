{
 "cells": [
  {
   "cell_type": "markdown",
   "id": "8cee9c79-ae63-4675-87df-255510403af3",
   "metadata": {},
   "source": [
    "<div dir=\"rtl\" align=\"center\">\n",
    "<font face=\"XB Zar\" size=5>\n",
    "    <font face=\"IranNastaliq\" size=5>\n",
    "      به نام خدا\n",
    "    </font>\n",
    "    <br>\n",
    "    <font size=3>\n",
    "      دانشگاه صنعتی شریف - دانشکده مهندسی کامپیوتر\n",
    "    </font>\n",
    "    <br>\n",
    "    <font color=blue size=5>\n",
    "      مقدمه‌ای بر یادگیری ماشین\n",
    "    </font>\n",
    "    <br>\n",
    "    <hr/>\n",
    "    <font color=red size=6>\n",
    "      فصل دوم:  کاهش بعد داده‌ها\n",
    "    </font>\n",
    "    <br>\n",
    "      نویسنده:‌ سینا مظاهری\n",
    "    <hr>\n",
    "<br>\n",
    "</font>\n",
    "</div>"
   ]
  },
  {
   "cell_type": "markdown",
   "id": "3ba14717-4269-4af7-9901-62b59bd8a751",
   "metadata": {},
   "source": [
    "<span style=\"font-family: XB Zar; font-size: 5; \"><div dir=rtl><meta charset=\"UTF-8\">\n",
    "    <span style=\"color: red; font-size: large; \">1.مقدمه</span>\n",
    "    <br>\n",
    "    در مباحثی از یادگیری نظارت نشده که بیشتر بر روی کاهش بعد داده‌ها تمرکز دارند؛ یک هدف اصلی وجود دارد:  <b> پیدا کردن متغیر‌های تصادفی نهان پیوسته در ساختار مجموعه دادگان داده شده </b>.<br>\n",
    "    این عمل درست بر‌خلاف خوشه‌بندی می‌باشد که در آن ما به دنبال متغیر‌های نهان گسسته می‌باشیم. (پیدا کردن تعداد خوشه‌ها، بررسی رفتار خوشه‌ها، ...)<br>\n",
    "    روش‌های متعددی به منظور کاهش بعد داده‌ها وجود دارند. در این بخش به یکی از پرکاربردترین و معروف‌ترین آن‌ها می پردازیم.<br>\n",
    "    کاهش بعد‌ داده‌ها عموما به سه منظور صورت می‌گیرد:\n",
    "    <ul>\n",
    "        <li>نمایش داده‌ها یا همان Data Visualization برای مجموعه دادگانی که معمولا ابعاد بسیار بالایی دارند یعنی تعداد ابعاد از تعداد داده‌ها بسیار بسیار بیشتر است $(D \\gg N)$</li>\n",
    "        <li>در بعضی از روش‌های یادگیری ماشین نظارت شده که هدف به دست آوردن یک مقدار پیوسته یا گسسته است، کاهش بعد داده‌های ورودی، تاثیر بسزایی برروی عملکرد و نتایج خروجی آن می گذارد.</li> \n",
    "        <li>به منظور فشرده‌سازی داده‌ها استفاده می‌گردد.</li>\n",
    "    </ul>\n",
    "</div></span>"
   ]
  },
  {
   "cell_type": "markdown",
   "id": "d25574fb-0e37-45aa-99b8-db7fe7ff82e4",
   "metadata": {},
   "source": [
    "<div dir=\"rtl\"><table><tr>\n",
    "<td> <img src=\"https://www.sqlservercentral.com/wp-content/uploads/legacy/c2362193dd68a81c6774bb9668f1178fc2cf4ad4/32947.jpg\" width=\"500\" style=\"vertical-align:middle\">\n",
    " <figcaption><center>شکل1. فشرده‌سازی تصویر</center></figcaption>\n",
    " </td>\n",
    "<td> <img src=\"https://www.researchgate.net/profile/Diego-Peluffo/publication/325363944/figure/fig1/AS:631693463539712@1527618866278/Dimensionality-reduction-effect-over-an-3D-artificial-Swiss-roll-manifold-the-2D.png\" width=\"500\" style=\"vertical-align:middle\">\n",
    " <figcaption><center>شکل2. کاهش بعد داده‌های سه بعدی به دو بعدی</center></figcaption> </td>\n",
    "</tr></table>\n",
    "    </div>\n",
    "     "
   ]
  },
  {
   "cell_type": "markdown",
   "id": "0ebc8de2-1826-41ac-a8a4-ba878c473e49",
   "metadata": {},
   "source": [
    "<span style=\"font-family: XB Zar; font-size: medium; \"><div dir=rtl><meta charset=\"UTF-8\">\n",
    "    <span style=\"color: red; font-size: large; \">2. تحلیل مولفه‌های اصلی یا PCA</span>\n",
    "    <br>\n",
    "    یکی از پرکاربردترین روش‌هایی که در کاهش بعد داده‌های یک مجموعه دادگان استفاده می‌شود\n",
    "    <b>تحلیل مولفه‌های اصلی </b>\n",
    "    می‌باشد. این روش از دو منظر قابل تعریف است که هر دو معادل یکدیگر می‌باشند:\n",
    "    <ul>\n",
    "  <li>نگاشت متعامد مجموعه دادگان به یک فضای برداری خطی با ابعاد کمتر از فضای برداری اصلی خود دادگان به گونه‌ای که واریانس دادگان تبدیل یافته بیشینه شود. به این زیرفضای کاهش یافته،\n",
    "      <b>زیرفضای اصلی (principal subspace)</b>\n",
    "      نیز گفته می‌شود.</li>\n",
    "  <li>نگاشت خطی‌ای می باشد که میانگین مربعات فاصله اقلیدسی بین داده اصلی و داده تبدیل یافته را کمینه می‌کند. </li>\n",
    "    </ul>\n",
    "</div></span>"
   ]
  },
  {
   "cell_type": "markdown",
   "id": "6fdd67a9-aea0-4d11-ac85-5f58269e2356",
   "metadata": {},
   "source": [
    "<div>\n",
    "<center>\n",
    "<img src=\"http://alexhwilliams.info/itsneuronalblog/img/pca/pca_two_views.png\" width=\"500\">\n",
    "     <figcaption><center>شکل3. کمینه‌سازی خطای مربعات در مقایسه با بیشینه‌سازی واریانس</center></figcaption> </td>\n",
    "</center>\n",
    "</div>"
   ]
  },
  {
   "cell_type": "markdown",
   "id": "92e77070-39ad-4805-bcdd-d2074c89f3b2",
   "metadata": {},
   "source": [
    "<span style=\"font-family: XB Zar; font-size: medium; \"><div dir=rtl><meta charset=\"UTF-8\">\n",
    "    ما در این درسنامه به بررسی تعریف اول یعنی بیشینه سازی واریانس می پردازیم و بررسی درستی تعریف دوم را به خواننده واگذار می کنیم.\n",
    "</div></span>"
   ]
  },
  {
   "cell_type": "markdown",
   "id": "5339da8d-2ac7-43aa-8109-cdeaf40ade04",
   "metadata": {},
   "source": [
    "<span style=\"font-family: XB Zar; font-size: medium; \"><div dir=rtl><meta charset=\"UTF-8\">\n",
    "    <span style=\"color: red; font-size: large; \">1.2. بررسی تعریف بیشینه سازی واریانس در تحلیل مولفه های اصلی</span>\n",
    "    <br>\n",
    "    ابتدا فرص کنید که مجموعه دادگان\n",
    "    $ \\mathcal{D} = \\{ \\mathbf{x}_{1}, \\mathbf{x}_{2}, \\dots, \\mathbf{x}_{N}\\} $\n",
    "    به ما داده شده است. هر یک از\n",
    "    $ \\mathbf{x}_{i} $\n",
    "    یک بردار داده\n",
    "    $ D $\n",
    "     بعدی می‌باشد. حال ما این بردار‌ها را در درون یک ماتریس قرار می‌دهیم تا ماتریس دادگان یا \n",
    "    <b>Design Matrix</b>\n",
    "    $ \\mathbf{X}_{N \\times D} $\n",
    "    را تشکیل دهیم.\n",
    "    <br>\n",
    "    <br>\n",
    "    $$\\mathbf{X}_{N \\times D}=\n",
    "\\begin{bmatrix}\n",
    "\\mathbf{x}^\\top_{1} \\\\\n",
    "\\mathbf{x}^\\top_{2} \\\\\n",
    "\\vdots \\\\\n",
    "\\mathbf{x}^\\top_n \\\\\n",
    "\\end{bmatrix} = \\begin{bmatrix}\n",
    " x_{1}^{[1]} & x_{2}^{[1]} & \\cdots & x_{D}^{[1]} \\\\\n",
    " x_{1}^{[2]} & x_{2}^{[2]} & \\cdots & x_{D}^{[2]} \\\\\n",
    "\\vdots & \\vdots & \\cdots & \\vdots \\\\\n",
    " x_{1}^{[N]} & x_{2}^{[N]} & \\cdots & x_{D}^{[N]} \\\\\n",
    "\\end{bmatrix}\n",
    "$$\n",
    "<br>\n",
    "    ابتدا به بررسی میانگین نمونه‌ای و کوواریانس نمونه‌ای این ماتریس دادگان می‌پردازیم و سپس زیر فضای اصلی را میابیم \n",
    "</div></span>"
   ]
  },
  {
   "cell_type": "markdown",
   "id": "2bac21f2-1e28-4dd6-b697-94b43704a873",
   "metadata": {},
   "source": [
    "<span style=\"font-family: XB Zar; font-size: medium; \"><div dir=rtl><meta charset=\"UTF-8\">\n",
    "    <span style=\"color: red; font-size: large; \">2.2. بررسی تعریف میانگین نمونه‌ای و واریانس نمونه‌ای ماتریس دادگان</span>\n",
    "    <br>\n",
    "    میانگین نمونه ای ماتریس دادگان را با\n",
    "    $\\bar{\\mathbf{x}}$\n",
    "    نمایش می دهیم و طبق تعریف خواهیم داشت:\n",
    "    <br>\n",
    "    $$\n",
    "    \\begin{split}\n",
    "    \\bar{\\mathbf{x}}_{D \\times 1} = \\frac{1}{N}\\mathbf{X}^\\top \\mathbf{1}\\quad, \\quad \\mathbf{1}_{N \\times 1} = \\begin{bmatrix}\n",
    "1 \\\\\n",
    "1 \\\\\n",
    "\\vdots \\\\\n",
    "1 \\\\\n",
    "\\end{bmatrix}\n",
    "    \\end{split}\n",
    "    $$\n",
    "    <br>\n",
    "    ‌برای ماتریس کوواریانس نمونه‌ای که آن را با\n",
    "    $\\mathbf{S}$\n",
    "    نشان می‌دهیم نیز خواهیم داشت:\n",
    "    <br>\n",
    "     $$\n",
    "    \\mathbf{S}_{D \\times D} = \\frac{1}{N - 1}(\\mathbf{X} - \\mathbf{1}\\bar{\\mathbf{x}}^{\\top})^\\top(\\mathbf{X} - \\mathbf{1}\\bar{\\mathbf{x}}^{\\top}) = \\frac{1}{N - 1}\\displaystyle\\sum_{i = 1}^{N}(\\mathbf{x}_{i} - \\bar{\\mathbf{x}})(\\mathbf{x}_{i} - \\bar{\\mathbf{x}})^\\top\n",
    "    $$\n",
    "</div></span>"
   ]
  },
  {
   "cell_type": "markdown",
   "id": "7b8a806c-0d35-4945-ae77-ba0ee73af0b2",
   "metadata": {},
   "source": [
    "<span style=\"font-family: XB Zar; font-size: medium; \"><div dir=rtl><meta charset=\"UTF-8\">\n",
    "    چند نکته در مورد ماتریس کوواریانس نمونه‌ای\n",
    "    $ \\mathbf{S} $:\n",
    "    <ul>\n",
    "        <li>این ماتریس به وضوح یک ماتریس\n",
    "            <b> متقارن</b>\n",
    "        می‌باشد زیرا داریم:\n",
    "        $ \\mathbf{S}^{\\top} = \\mathbf{S} $\n",
    "        </li>\n",
    "        <li>\n",
    "            طبق قضیه‌ای در جبر خطی، هر ماتریس متقارن\n",
    "            ،$ D \\times D $،\n",
    "            $D$\n",
    "            مقدار ویژه حقیقی به شکل\n",
    "            $ \\lambda_{1}, \\lambda_{2}, \\dots, \\lambda_{D} $\n",
    "            دارد که متناظر آن‌ها بردار ویژه‌ای وجود دارد به شکل\n",
    "            $\\{ \\mathbf{q}_{1}, \\mathbf{q}_{1}, \\dots, \\mathbf{q}_{D} \\}$\n",
    "که \n",
    "            <b>متعامد نرمال</b>\n",
    "             می‌باشند. نکته‌ای که وجود دارد آن است که بردارهای ویژه متعامد هستند اما لزوما نرم واحد ندارند. ما می‌توانیم آن را نرمال کنیم و با قرار دادن آن‌ها در ستون های ماتریس\n",
    "            $ \\mathbf{Q} $\n",
    "            ، بردار‌های ویژه متعامد نرمال را به دست بیاوریم.\n",
    "        </li>\n",
    "        <li>\n",
    "            طبق قضیه ای در جبر خطی، هر ماتریس متقارن یک ماتریس قطری شدنی است یعنی چنین تجزیه ای برای آن وجود دارد:\n",
    "            <br>\n",
    "            <br>\n",
    "            $$\\begin{split}\n",
    "            \\mathbf{S} = \\mathbf{Q}\\mathbf{\\Lambda}\\mathbf{Q}^{-1} = \\mathbf{Q}\\mathbf{\\Lambda}\\mathbf{Q}^{\\top} = \\displaystyle\\sum_{i = 1}^{D} \\lambda_{i}\\mathbf{q}_{i}\\mathbf{q}_{i}^{\\top}, \\quad \\mathbf{\\Lambda} = diag(\\lambda_{1}, \\lambda_{2}, \\dots, \\lambda_{D}), \\quad \\mathbf{Q}= \\begin{bmatrix}\n",
    "\\mathbf{q}_{1} & \\mathbf{q}_{1} & \\dots & \\mathbf{q}_{D}\n",
    "\\end{bmatrix}\n",
    "            \\end{split}\n",
    "            $$\n",
    "        </li>\n",
    "    </ul>\n",
    "</div></span>"
   ]
  },
  {
   "cell_type": "markdown",
   "id": "c90f5171-29fc-4360-8894-4b26044fd508",
   "metadata": {},
   "source": [
    "<span style=\"font-family: XB Zar; font-size: medium; \"><div dir=rtl><meta charset=\"UTF-8\">\n",
    "    <span style=\"color: red; font-size: large; \">4.2. بررسی زیرفضای اصلی دادگان تبدیل یافته</span>\n",
    "    <br>\n",
    "    ابتدا فرض می‌کنیم که می‌خواهیم بعد داده‌ها را به مقدار\n",
    "    $M$\n",
    "    به گونه ای که\n",
    "    $M < D$\n",
    "    می‌باشد؛ کاهش دهیم. این فضای برداری را\n",
    "    $\\mathbf{W}$\n",
    "    می‌نامیم و داریم\n",
    "    $ \\mathbf{W} \\subseteq \\mathbb{R}^{D}$.\n",
    "    برای این کار ابتدا فرض می‌کنیم که پایه‌های متعامد نرمال تشکیل دهنده این فضا به شکل \n",
    "    $\\mathbf{u}_{1}, \\mathbf{u}_{2}, \\dots, \\mathbf{u}_{M}$\n",
    "    می‌باشند. هر کدام از این پایه‌های برداری\n",
    "    $\\mathbf{u}_{i}$،\n",
    "    $D \\times 1$\n",
    "    ‌بوده که داده‌‌ای چون \n",
    "    $\\mathbf{x}$\n",
    "    را به فضای مقصد می‌نگارند. اگر فرض کنیم که با قرار دادن این پایه‌ها در درون ستون‌های یک ماتریس چون \n",
    "    $ \\mathbf{U} $\n",
    "    ماتریس نگاشت به دست می‌آید؛ در اینصورت بردار داده در فضای تبدیل یافته \n",
    "    $ M $\n",
    "    بعدی را با \n",
    "    $\\mathbf{x}^{*}$\n",
    "    نشان می‌دهیم و خواهیم داشت:\n",
    "    <br>\n",
    "    <br>\n",
    "    $$\\begin{split}\n",
    "    \\mathbf{x}^{*} = \\mathbf{U}^{\\top}\\mathbf{x}, \\quad \\mathbf{U} = \\begin{bmatrix}\n",
    "\\mathbf{u}_{1} & \\mathbf{u}_{2} & \\dots & \\mathbf{u}_{M}\n",
    "\\end{bmatrix}\n",
    "    \\end{split}\n",
    "    $$\n",
    "    <br>\n",
    "    حال اگر فرض کنیم که می‌خواهیم این موضوع را در مورد کل\n",
    "    $ N $\n",
    "    داده ماتریس دادگان تعمیم دهیم آن را با \n",
    "    $ \\mathbf{X}^{*} $\n",
    "   نشان می‌دهیم و خواهیم داشت: (در عبارت زیر منظور از \n",
    "    $ \\mathbf{X} $\n",
    "    همان \n",
    "    <b>Design Matrix</b>\n",
    "    می‌باشد.)\n",
    "    <br>\n",
    "    <br>\n",
    "    $$\n",
    "    \\mathbf{X}^{*} = \\mathbf{X}\\mathbf{U} $$\n",
    "    حال از آنجایی که نیاز است تا واریانس داده‌ها در هر یک از \n",
    "    $M$\n",
    "     بعد بیشینه شود. باید ابتدا بردار میانگین داده‌های تبدیل یافته و همچنین ماتریس کوواریانس آن‌ها را به دست بیاوریم \n",
    "    این مقادیر را به ترتیب با \n",
    "    $ \\bar{\\mathbf{x}}^{*} $\n",
    "    و\n",
    "    $ \\mathbf{S}^{*} $\n",
    "    نشان می‌دهیم و طبق تعریفی که قبلا ارائه دادیم؛ داریم:\n",
    "    <br>\n",
    "    <br>\n",
    "    $$ \n",
    "    \\bar{\\mathbf{x}}^{*} = \\frac{1}{N} (\\mathbf{X}^{*})^{\\top} \\mathbf{1} = \\frac{1}{N} (\\mathbf{X}\\mathbf{U})^{\\top} \\mathbf{1} = \\frac{1}{N} (\\mathbf{U}^{\\top}\\mathbf{X}^{\\top}) \\mathbf{1} =  \\mathbf{U}^{\\top}(\\frac{1}{N}\\mathbf{X}^{\\top} \\mathbf{1}) = \\mathbf{U}^{\\top}\\bar{\\mathbf{x}} $$\n",
    "    <br>\n",
    "    $$\n",
    "    \\mathbf{S}^{*} =\n",
    "    \\frac{1}{N - 1}\\big(\\mathbf{X}^{*} - \\mathbf{1}(\\bar{\\mathbf{x}}^{*})^{\\top}\\big)^\\top\\big(\\mathbf{X}^{*} - \\mathbf{1}(\\bar{\\mathbf{x}}^{*})^{\\top}\\big) =\n",
    "    \\frac{1}{N - 1}\\big((\\mathbf{X}\\mathbf{U}) - \\mathbf{1}(\\mathbf{U}^{\\top}\\bar{\\mathbf{x}})^{\\top}\\big)^\\top\\big((\\mathbf{X}\\mathbf{U}) - \\mathbf{1}(\\mathbf{U}^{\\top}\\bar{\\mathbf{x}})^{\\top}\\big) = \n",
    "    \\frac{1}{N - 1}\\big((\\mathbf{X} - \\mathbf{1}\\bar{\\mathbf{x}}^{\\top})\\mathbf{U}\\big)^\\top\\big((\\mathbf{X} - \\mathbf{1}\\bar{\\mathbf{x}}^{\\top})\\mathbf{U}\\big) = \n",
    "    \\frac{1}{N - 1}\\mathbf{U}^{\\top}\\big(\\mathbf{X} - \\mathbf{1}\\bar{\\mathbf{x}}^{\\top}\\big)^\\top\\big(\\mathbf{X} - \\mathbf{1}\\bar{\\mathbf{x}}^{\\top}\\big)\\mathbf{U} = \n",
    "    \\mathbf{U}^{\\top}\\bigg(\\frac{1}{N - 1}\\big(\\mathbf{X} - \\mathbf{1}\\bar{\\mathbf{x}}^{\\top}\\big)^\\top\\big(\\mathbf{X} - \\mathbf{1}\\bar{\\mathbf{x}}^{\\top}\\big)\\bigg)\\mathbf{U} = \\mathbf{U}^{\\top}\\mathbf{S}\\mathbf{U}\n",
    "    $$\n",
    "    <br>\n",
    "ما می‌دانیم که واریانس هر بعد (می توان هر بعد را به نوعی محور اعداد حقیقی فرض کرد که واریانس نمونه‌ای \n",
    "    $ S_{i} $\n",
    "    برای آن تعریف می‌شود)\n",
    "    بر روی درایه‌های قطر اصلی ماتریس\n",
    "        $ \\mathbf{S}^{*} $\n",
    "    واقع شده‌است. به منظور بیشینه‌سازی هر واریانس نمونه‌ای، حاصل جمع آن‌ها را بیشینه می‌کنیم:\n",
    "    <br>\n",
    "    <br>\n",
    "    $$\\DeclareMathOperator{\\Tr}{Tr} \\max_{S_1, S_2, \\dots, S_{M}} S_1 + S_2 + \\dots + S_{M} \\equiv  \\max_{S_1, S_2, \\dots, S_{M}} \\Tr(\\mathbf{S^{*}}) \\equiv \\max_{S_1, S_2, \\dots, S_{M}} \\Tr(\\mathbf{U}^{\\top}\\mathbf{S}\\mathbf{U})$$\n",
    "    <br>\n",
    "    چون حاصل جمع تابعی خطی از تک تک واریانس‌ها می‌باشد؛ بیشینه کردن آن نسبت به واریانس‌ها، بیشینه کردن هر یک از واریانس‌ها را تضمین می‌کند. ما می‌دانیم که \n",
    "    واریانس هر بعد چون \n",
    "    $ S_{i} $\n",
    "    از مولفه‌های تبدیل یافته هر داده توسط پایه متناظر آن بعد یعنی\n",
    "    $ \\mathbf{u}_{i} $\n",
    "    بدست می‌آید\n",
    "    پس در واقع\n",
    "    $S_{i} = \\mathbf{u}_{i}^{\\top} \\mathbf{S} \\mathbf{u}_{i} $\n",
    "    و از آنجایی که ماتریس \n",
    "    $ \\mathbf{S}$\n",
    "    از روی داده‌ها حساب شده است پس متغیر‌های برداری \n",
    "    $ \\mathbf{u}_{i} $\n",
    "    در مسئله بهینه‌سازی استفاده شده و مقدار حاصل جمع باید نسبت به آن‌ها بهینه شود. چون این بردارها متعامد نرمال هستند پس داریم\n",
    "    $\\mathbf{U}^{\\top} \\mathbf{U} = \\mathbf{I}$\n",
    "    و مسئله بهینه‌سازی به شکل زیر خواهد شد:\n",
    "    </div></span>\n",
    "    \n"
   ]
  },
  {
   "cell_type": "markdown",
   "id": "ded6de1c-1f9c-4272-920e-9275a6173a78",
   "metadata": {},
   "source": [
    "<span style=\"font-family: XB Zar; font-size: medium; \"><div dir=rtl><meta charset=\"UTF-8\">\n",
    "    <br>\n",
    "    $$\\DeclareMathOperator{\\Tr}{Tr} \\begin{aligned}\n",
    "\\max_{\\mathbf{U}} \\quad & \\Tr(\\mathbf{U}^{\\top}\\mathbf{S}\\mathbf{U})\\\\\n",
    "\\textrm{subject to} \\quad & \\mathbf{U} \\in \\mathbb{R}^{D \\times M},\\\\\n",
    "  & \\mathbf{U}^{\\top}\\mathbf{U} = \\mathbf{I}\\\\\n",
    "\\end{aligned}$$\n",
    "    <br>\n",
    "     ثابت می کنیم که\n",
    "    اگر \n",
    "    $\\lambda_{1} \\geq \\lambda_{2} \\geq \\dots \\geq \\lambda_{D}$\n",
    "    مقادیر ویژه ماتریس\n",
    "    $ \\mathbf{S} $\n",
    "    باشند؛ آنگاه بیشینه عبارت بالا برابر\n",
    "    $ \\lambda_{1} + \\lambda_{2} + \\dots + \\lambda_{M} $\n",
    "    می باشد یا به عبارتی حاصل جمع \n",
    "    $M$\n",
    "    مقدار ویژه بزرگ \n",
    "    ماتریس\n",
    "    $ S $\n",
    "    می شود.\n",
    "    در واقع این مقادیر ویژه همان بیشینه مقدار واریانس در هر یک از \n",
    "    $ M $\n",
    "    بعد می‌باشند\n",
    "    $S_{1}^{max} = \\lambda_{1}, S_{2}^{max} = \\lambda_{2}, \\dots, S_{M}^{max} = \\lambda_{M} $\n",
    "    و این زمانی به دست می آید که \n",
    "    ماتریس\n",
    "    $\\mathbf{U}$\n",
    "    ماتریس نگاشت متعامد و شامل بردارهای ویژه \n",
    "    $\\mathbf{U} = \\begin{bmatrix} \\mathbf{q_{1}} & \\mathbf{q_{2}} & \\cdots & \\mathbf{q_{M}} \\end{bmatrix}$\n",
    "    نظیر مقادیر ویژه\n",
    "    $ \\lambda_{1}, \\lambda_{2}, \\dots, \\lambda_{M} $\n",
    "    باشد.\n",
    "    </div></span>"
   ]
  },
  {
   "cell_type": "markdown",
   "id": "29fde405-e67c-483d-94ee-1a2067601a18",
   "metadata": {},
   "source": [
    "<span style=\"font-family: XB Zar; font-size: medium; \"><div dir=rtl><meta charset=\"UTF-8\">\n",
    "    اثبات:\n",
    "    <br>\n",
    "    ابتدا فرض می کنیم که\n",
    "    $ \\mathbf{u}_{1}, \\mathbf{u}_{2}, \\dots, \\mathbf{u}_{M} $\n",
    "    بردار های ستونی، ستون های ماتریس\n",
    "    $ U $\n",
    "     می باشند. از آنجایی که گفتیم برای هر ماتریس متقارن یک تجزیه به شکل\n",
    "    $ \\sum_{j = 1}^{D} \\lambda_{j}\\mathbf{q}_{j}\\mathbf{q}_{j}^{\\top} $\n",
    "    وجود دارد در نتیجه عبارت\n",
    "    $\\DeclareMathOperator{\\Tr}{Tr} \\Tr(\\mathbf{U}^{\\top}\\mathbf{S}\\mathbf{U})$\n",
    "    به شکل زیر می شود:\n",
    "    <br>\n",
    "    <br>\n",
    "    $$\n",
    "    \\DeclareMathOperator{\\Tr}{Tr} \\Tr(\\mathbf{U}^{\\top}\\mathbf{S}\\mathbf{U}) = \\displaystyle\\sum_{i = 1}^{M} \\mathbf{u}_{i}^{\\top}\\mathbf{S}\\mathbf{u}_{i} =\n",
    "    \\displaystyle\\sum_{i = 1}^{M} \\mathbf{u}_{i}^{\\top}\\Big(\\displaystyle\\sum_{j = 1}^{D} \\lambda_{j}\\mathbf{q}_{j}\\mathbf{q}_{j}^{\\top}\\Big)\\mathbf{u}_{i} = \n",
    "    \\displaystyle\\sum_{i = 1}^{M}\\displaystyle\\sum_{j = 1}^{D} \\lambda_{j} \\mathbf{u}_{i}^{\\top}\\mathbf{q}_{j}\\mathbf{q}_{j}^{\\top}\\mathbf{u}_{i} = \n",
    "    \\displaystyle\\sum_{i = 1}^{M}\\displaystyle\\sum_{j = 1}^{D} \\lambda_{j} \\big(\\mathbf{q}_{j}^{\\top}\\mathbf{u}_{i}\\big)^{2} =\n",
    "    \\displaystyle\\sum_{j = 1}^{D} \\lambda_{j}\\displaystyle\\sum_{i = 1}^{M} \\big(\\mathbf{q}_{j}^{\\top}\\mathbf{u}_{i}\\big)^{2} =\n",
    "    \\displaystyle\\sum_{j = 1}^{D} \\lambda_{j}c_{j}\n",
    "    $$\n",
    "    <br>\n",
    "    در عبارت بالا مقدار\n",
    "    $c_{j}$\n",
    "    برابر\n",
    "    $c_{j} = \\sum_{i = 1}^{M} \\big(\\mathbf{q}_{j}^{\\top}\\mathbf{u}_{i}\\big)^{2}$\n",
    "    می باشد. ابتدا ثابت می کنیم که مقدار \n",
    "    $c_{j}$\n",
    "    بین 0 و 1 می باشد یعنی \n",
    "    $0 \\leq c_{j} \\leq 1$\n",
    "    و ثانیا ثابت می کنیم که \n",
    "    $\\sum_{j = 1}^{D} c_{j} = M$.\n",
    "    <br>\n",
    "    می دانیم که به وضوح\n",
    "    $ c_{j} \\geq 0 $\n",
    "    برقرار است زیرا مجموع مقادیر نامنفی می‌باشد\n",
    "    حال برای اثبات \n",
    "    $ c_{j} \\leq 1 $\n",
    "    مقادیر برداری \n",
    "    $\\mathbf{u}_{1}, \\mathbf{u}_{2}, \\dots,  \\mathbf{u}_{M}$\n",
    "    را به پایه‌های متعامد نرمال\n",
    "    $\\mathbf{u}_{1}, \\mathbf{u}_{2}, \\dots,  \\mathbf{u}_{D}$\n",
    "    فضای برداری\n",
    "    $\\mathbb{R}^{D} $\n",
    "    گسترده می‌کنیم و داریم:\n",
    "    <br>\n",
    "    <br>\n",
    "    $$\n",
    "    c_{j} = \\displaystyle\\sum_{i = 1}^{M}\\big(\\mathbf{q}_{j}^{\\top}\\mathbf{u}_{i}\\big)^{2} \\leq \\displaystyle\\sum_{i = 1}^{D}\\big(\\mathbf{q}_{j}^{\\top}\\mathbf{u}_{i}\\big)^{2} = \n",
    "    \\| \\mathbf{q}_{j}^{\\top} \\mathbf{U} \\|_{2}^{2} =\n",
    "    (\\mathbf{q}_{j}^{\\top} \\mathbf{U})(\\mathbf{q}_{j}^{\\top} \\mathbf{U})^{\\top}\n",
    "    = \\| \\mathbf{q}_{j} \\|_{2}^{2} = 1\n",
    "    $$\n",
    "    <br>\n",
    "    و چون \n",
    "    $\\mathbf{q}_{1}, \\mathbf{q}_{2}, \\dots,  \\mathbf{q}_{D}$\n",
    "    پایه‌های متعامد نرمالی برای فضای برداری \n",
    "    $\\mathbb{R}^{D} $\n",
    "    هستند؛ نیز داریم:\n",
    "    <br>\n",
    "    <br>\n",
    "    $$\\displaystyle\\sum_{j = 1}^{D} c_{j} = \\displaystyle\\sum_{j = 1}^{D}\\displaystyle\\sum_{i = 1}^{M}\\big(\\mathbf{q}_{j}^{\\top}\\mathbf{u}_{i}\\big)^{2} =\n",
    "    \\displaystyle\\sum_{i = 1}^{M}\\displaystyle\\sum_{j = 1}^{D}\\big(\\mathbf{q}_{j}^{\\top}\\mathbf{u}_{i}\\big)^{2} =\n",
    "    \\displaystyle\\sum_{i = 1}^{M}\\| \\mathbf{u}_{i} \\|_{2}^{2} =\n",
    "    \\displaystyle\\sum_{i = 1}^{M}1 = M$$\n",
    "    <br> \n",
    "     بنابراین \n",
    "    عبارت \n",
    "    $ \\sum_{j = 1}^{D} \\lambda_{j}c_{j}$\n",
    "    زمانی بیشینه میشود که با داده شدن مقادیر ویژه، هر یک از ضرایب آن‌ها بیشینه شود و مقدار 1 را به خود بگیرد از طرفی چون رابطه تساوی\n",
    "    $ \\sum_{j = 1}^{D} c_{j} = M$\n",
    "    باید برقرار باشد خواهیم داشت:\n",
    "    <br>\n",
    "    <br>\n",
    "    $$\n",
    "    \\begin{split}\n",
    "    c_{1} = c_{2} =  \\dots = c_{M} = 1, \\quad c_{M+1} = c_{M+2} =  \\dots = c_{D} = 0\n",
    "    \\end{split}\n",
    "    $$\n",
    "    <br>\n",
    "    در نتیجه تساوی \n",
    "    $Span[\\mathbf{q}_{1}, \\mathbf{q}_{2}, \\dots,  \\mathbf{q}_{M}] = Span[\\mathbf{u}_{1}, \\mathbf{u}_{2}, \\dots,  \\mathbf{u}_{M}]$\n",
    "    باید برقرار باشد \n",
    "    و در نتیجه مقادیر برداری \n",
    "    $\\mathbf{q}_{1}, \\mathbf{q}_{2}, \\dots,  \\mathbf{q}_{M}$\n",
    "    پایه‌هایی برای فضای مقصد می‌باشند که در ستون‌های ماتریس \n",
    "    $\\mathbf{U}$\n",
    "    قرار گرفته‌اند.\n",
    "    <br>\n",
    "    <br>\n",
    "    خلاصه و جمع‌بندی:\n",
    "    <br>\n",
    "     برای پیداکردن مجموعه دادگان تبدیل یافته با بعد کمتر به کمک روش تحلیل مولفه‌های اصلی باید مراحل زیر را طی کنیم. فرض می‌کنیم که مجموعه دادگان\n",
    "    $ \\mathbf{X}_{N \\times D}$\n",
    "    که \n",
    "    $D$\n",
    "    بعدی است داده شده و می‌خواهیم آن را به \n",
    "    $\\mathbf{X}^{*}_{N \\times M}$\n",
    "    تبدیل کنیم که \n",
    "    $ M $\n",
    "    بعدی است:\n",
    "    <ol>\n",
    "  <li>ابتدا ماتریس کوواریانس نمونه‌ای \n",
    "        $ S $\n",
    "      را طبق فرمول \n",
    "      $\\mathbf{S}_{D \\times D} = \\frac{1}{N - 1}(\\mathbf{X} - \\mathbf{1}\\bar{\\mathbf{x}}^{\\top})^\\top(\\mathbf{X} - \\mathbf{1}\\bar{\\mathbf{x}}^{\\top}) $\n",
    "        بدست می‌آوریم که در آن\n",
    "      $\\bar{\\mathbf{x}}_{D \\times 1} = \\frac{1}{N}\\mathbf{X}^\\top \\mathbf{1}$\n",
    "      می‌باشد\n",
    "        </li>\n",
    "  <li>مقادیر ویژه\n",
    "      $\\lambda_{1}, \\lambda_{2}, \\dots, \\lambda_{M}$\n",
    "       و بردار‌های ویژه نظیر آن‌ها \n",
    "        $\\mathbf{q}_{1}, \\mathbf{q}_{2}, \\dots,  \\mathbf{q}_{M}$\n",
    "       را برای ماتریس\n",
    "      $ S $\n",
    "       می‌یابیم\n",
    "        </li>\n",
    "  <li>برای کاهش بعد داده‌ها به \n",
    "        $M$\n",
    "        بعد، ابتدا این مقادیر ویژه را به شکل نزولی مرتب می‌کنیم\n",
    "        $\\lambda_{1} \\geq \\lambda_{2} \\geq \\dots \\geq \\lambda_{D}$\n",
    "        سپس \n",
    "        $M$\n",
    "        تا از بزرگترین آن‌ها را به شکل \n",
    "        $\\lambda_{1} \\geq \\lambda_{2} \\geq \\dots \\geq \\lambda_{M}$\n",
    "        بر می‌گزینیم و بردار‌های ویژه نظیر آن‌ها را انتخاب می‌کنیم\n",
    "        $\\mathbf{q}_{1}, \\mathbf{q}_{2}, \\dots,\\mathbf{q}_{M} $\n",
    "        </li>\n",
    "        <li>\n",
    "        مقادیر ویژه \n",
    "        $\\lambda_{1}, \\lambda_{2}, \\dots, \\lambda_{M}$\n",
    "        به ترتیب واریانس نمونه‌ای دادگان تبدیل یافته در هر یک از \n",
    "            $ M $\n",
    "            بعد جدید خواهند بود و با قرار دادن بردار‌های ویژه \n",
    "            $\\mathbf{q}_{1}, \\mathbf{q}_{2}, \\dots,\\mathbf{q}_{M}$\n",
    "            در ستون‌های ماتریس \n",
    "            $ \\mathbf{U}_{D \\times M} $\n",
    "            به شکل \n",
    "            $\\mathbf{U}_{D \\times M} = \\begin{bmatrix} \\mathbf{q}_{1}& \\mathbf{q}_{2}& \\cdots&\\mathbf{q}_{M}\\end{bmatrix}$\n",
    "            ؛ ماتریس نگاشت را می‌سازیم.\n",
    "        </li>\n",
    "        <li>\n",
    "          در نهایت با اعمال نگاشت به ماتریس دادگان طبق رابطه\n",
    "        $\\mathbf{X}^{*} = \\mathbf{X}\\mathbf{U}$\n",
    "        ماتریس \n",
    "            $\\mathbf{X}^{*}$\n",
    "        را بدست می‌اوریم.\n",
    "        </li>\n",
    "    </ol>\n",
    "    </div></span>\n",
    "    "
   ]
  },
  {
   "cell_type": "markdown",
   "id": "ef2d8ee5-66f8-4c74-a765-b418923e6089",
   "metadata": {},
   "source": [
    "<span style=\"font-family: XB Zar; font-size: medium; \"><div dir=rtl><meta charset=\"UTF-8\">\n",
    "    <span style=\"color: red; font-size: large; \"> 5.2. بررسی مجموعه دادگان  Iris </span>\n",
    "    <br>\n",
    "    برای مشاهده عملکرد PCA به منظور کاهش بعد داده‌ها ، مجموعه دادگان Iris را در نظر می‌گیریم. از آنجایی که داده‌های این مجموعه 4 بعدی هستند؛ قصد داریم تا آن‌ها را به 2 و 3 بعد کاهش دهیم.\n",
    "    ابتدا توصیفی از ویژگی‌های این مجموعه دادگان ارائه می‌دهیم:\n",
    "    <ul>\n",
    "        <li><b>Sepal Length: </b>\n",
    "      این مقدار طول کاسبرگ را نشان می‌دهد.</li>\n",
    "        <li><b> Sepal Width:</b>\n",
    "      این مقدار عرض کاسبرگ را نشان می‌دهد.</li>\n",
    "        <li><b>Petal Length:</b>\n",
    "      این مقدار طول گلبرگ را نشان می‌دهد.</li>\n",
    "        <li><b>Petal Width:</b>\n",
    "      این مقدار عرض گلبرگ را نشان می‌دهد.</li>\n",
    "        <li><b>Species:</b>\n",
    "      این مقدار نوع گونه را نشان می‌دهد که می تواند از 3 نوع \n",
    "           Setosa, Virginica یا Versicolor باشد</li>\n",
    "</ul>   \n",
    "    </div></span>\n",
    "    "
   ]
  },
  {
   "cell_type": "code",
   "execution_count": 1,
   "id": "e32b9b44-671f-4c7c-a9b7-8c7984cb78c0",
   "metadata": {},
   "outputs": [],
   "source": [
    "import numpy as np\n",
    "import pandas as pd\n",
    "import plotly.express as px"
   ]
  },
  {
   "cell_type": "markdown",
   "id": "6e7a6c21-09b3-45e4-b177-5dac7b643c6c",
   "metadata": {},
   "source": [
    "<span style=\"font-family: XB Zar; font-size: medium; \"><div dir=rtl><meta charset=\"UTF-8\">\n",
    "    <br>\n",
    "    بعد از آنکه کتابخانه‌های مورد نظر را import کردیم مجموعه دادگان را ابتدا بارگذاری می‌کنیم. \n",
    "    </div></span>"
   ]
  },
  {
   "cell_type": "code",
   "execution_count": 2,
   "id": "e8525cc5-7416-4669-9f93-c645f6c3700c",
   "metadata": {},
   "outputs": [
    {
     "data": {
      "text/html": [
       "<div>\n",
       "<style scoped>\n",
       "    .dataframe tbody tr th:only-of-type {\n",
       "        vertical-align: middle;\n",
       "    }\n",
       "\n",
       "    .dataframe tbody tr th {\n",
       "        vertical-align: top;\n",
       "    }\n",
       "\n",
       "    .dataframe thead th {\n",
       "        text-align: right;\n",
       "    }\n",
       "</style>\n",
       "<table border=\"1\" class=\"dataframe\">\n",
       "  <thead>\n",
       "    <tr style=\"text-align: right;\">\n",
       "      <th></th>\n",
       "      <th>sepal.length</th>\n",
       "      <th>sepal.width</th>\n",
       "      <th>petal.length</th>\n",
       "      <th>petal.width</th>\n",
       "      <th>variety</th>\n",
       "    </tr>\n",
       "  </thead>\n",
       "  <tbody>\n",
       "    <tr>\n",
       "      <th>0</th>\n",
       "      <td>5.1</td>\n",
       "      <td>3.5</td>\n",
       "      <td>1.4</td>\n",
       "      <td>0.2</td>\n",
       "      <td>Setosa</td>\n",
       "    </tr>\n",
       "    <tr>\n",
       "      <th>1</th>\n",
       "      <td>4.9</td>\n",
       "      <td>3.0</td>\n",
       "      <td>1.4</td>\n",
       "      <td>0.2</td>\n",
       "      <td>Setosa</td>\n",
       "    </tr>\n",
       "    <tr>\n",
       "      <th>2</th>\n",
       "      <td>4.7</td>\n",
       "      <td>3.2</td>\n",
       "      <td>1.3</td>\n",
       "      <td>0.2</td>\n",
       "      <td>Setosa</td>\n",
       "    </tr>\n",
       "    <tr>\n",
       "      <th>3</th>\n",
       "      <td>4.6</td>\n",
       "      <td>3.1</td>\n",
       "      <td>1.5</td>\n",
       "      <td>0.2</td>\n",
       "      <td>Setosa</td>\n",
       "    </tr>\n",
       "    <tr>\n",
       "      <th>4</th>\n",
       "      <td>5.0</td>\n",
       "      <td>3.6</td>\n",
       "      <td>1.4</td>\n",
       "      <td>0.2</td>\n",
       "      <td>Setosa</td>\n",
       "    </tr>\n",
       "    <tr>\n",
       "      <th>...</th>\n",
       "      <td>...</td>\n",
       "      <td>...</td>\n",
       "      <td>...</td>\n",
       "      <td>...</td>\n",
       "      <td>...</td>\n",
       "    </tr>\n",
       "    <tr>\n",
       "      <th>145</th>\n",
       "      <td>6.7</td>\n",
       "      <td>3.0</td>\n",
       "      <td>5.2</td>\n",
       "      <td>2.3</td>\n",
       "      <td>Virginica</td>\n",
       "    </tr>\n",
       "    <tr>\n",
       "      <th>146</th>\n",
       "      <td>6.3</td>\n",
       "      <td>2.5</td>\n",
       "      <td>5.0</td>\n",
       "      <td>1.9</td>\n",
       "      <td>Virginica</td>\n",
       "    </tr>\n",
       "    <tr>\n",
       "      <th>147</th>\n",
       "      <td>6.5</td>\n",
       "      <td>3.0</td>\n",
       "      <td>5.2</td>\n",
       "      <td>2.0</td>\n",
       "      <td>Virginica</td>\n",
       "    </tr>\n",
       "    <tr>\n",
       "      <th>148</th>\n",
       "      <td>6.2</td>\n",
       "      <td>3.4</td>\n",
       "      <td>5.4</td>\n",
       "      <td>2.3</td>\n",
       "      <td>Virginica</td>\n",
       "    </tr>\n",
       "    <tr>\n",
       "      <th>149</th>\n",
       "      <td>5.9</td>\n",
       "      <td>3.0</td>\n",
       "      <td>5.1</td>\n",
       "      <td>1.8</td>\n",
       "      <td>Virginica</td>\n",
       "    </tr>\n",
       "  </tbody>\n",
       "</table>\n",
       "<p>150 rows × 5 columns</p>\n",
       "</div>"
      ],
      "text/plain": [
       "     sepal.length  sepal.width  petal.length  petal.width    variety\n",
       "0             5.1          3.5           1.4          0.2     Setosa\n",
       "1             4.9          3.0           1.4          0.2     Setosa\n",
       "2             4.7          3.2           1.3          0.2     Setosa\n",
       "3             4.6          3.1           1.5          0.2     Setosa\n",
       "4             5.0          3.6           1.4          0.2     Setosa\n",
       "..            ...          ...           ...          ...        ...\n",
       "145           6.7          3.0           5.2          2.3  Virginica\n",
       "146           6.3          2.5           5.0          1.9  Virginica\n",
       "147           6.5          3.0           5.2          2.0  Virginica\n",
       "148           6.2          3.4           5.4          2.3  Virginica\n",
       "149           5.9          3.0           5.1          1.8  Virginica\n",
       "\n",
       "[150 rows x 5 columns]"
      ]
     },
     "execution_count": 2,
     "metadata": {},
     "output_type": "execute_result"
    }
   ],
   "source": [
    "df = pd.read_csv(\"iris.csv\")\n",
    "df"
   ]
  },
  {
   "cell_type": "code",
   "execution_count": 3,
   "id": "ea43cb40-a74a-4391-ac7e-adc8c7d5be14",
   "metadata": {},
   "outputs": [
    {
     "name": "stdout",
     "output_type": "stream",
     "text": [
      "The Design Matrix Shape is (150, 4) That is N = 150 and D = 4\n"
     ]
    }
   ],
   "source": [
    "X = df.iloc[:, 0:4].to_numpy()\n",
    "y = df.iloc[:, 4:].to_numpy().reshape((150,))\n",
    "N, D = X.shape \n",
    "print(\"The Design Matrix Shape is\", X.shape, \"That is N =\", N, \"and D =\", D)"
   ]
  },
  {
   "cell_type": "markdown",
   "id": "b7e659b1-1330-46cb-94ac-af25470584bc",
   "metadata": {},
   "source": [
    "<span style=\"font-family: XB Zar; font-size: medium; \"><div dir=rtl><meta charset=\"UTF-8\">\n",
    "    <br>\n",
    "    طبق آنچه که گفته شد ابتدا میانگین نمونه‌ای یعنی \n",
    "    $\\bar{\\mathbf{x}}$\n",
    "    و سپس ماتریس کوواریانس نمونه‌ای \n",
    "    $\\mathbf{S}$\n",
    "    را\n",
    "    حساب می‌کنیم\n",
    "    </div></span>"
   ]
  },
  {
   "cell_type": "code",
   "execution_count": 4,
   "id": "24195c0c-c653-4869-ade2-a603c1be0b2e",
   "metadata": {},
   "outputs": [
    {
     "name": "stdout",
     "output_type": "stream",
     "text": [
      "The Sample Covariance Matrix is:\n",
      " [[ 0.68569351 -0.042434    1.27431544  0.51627069]\n",
      " [-0.042434    0.18997942 -0.32965638 -0.12163937]\n",
      " [ 1.27431544 -0.32965638  3.11627785  1.2956094 ]\n",
      " [ 0.51627069 -0.12163937  1.2956094   0.58100626]]\n"
     ]
    }
   ],
   "source": [
    "ones = np.ones((N, 1), dtype=X.dtype)\n",
    "x_bar = 1 / N * (X.transpose().dot(ones))\n",
    "T = X - ones.dot(x_bar.transpose())\n",
    "S = 1 / (N - 1) * T.transpose().dot(T)\n",
    "print(\"The Sample Covariance Matrix is:\\n\", S)"
   ]
  },
  {
   "cell_type": "markdown",
   "id": "ed095bf0-219d-4f61-b6c0-48495580c87e",
   "metadata": {},
   "source": [
    "<span style=\"font-family: XB Zar; font-size: medium; \"><div dir=rtl><meta charset=\"UTF-8\">\n",
    "    <br>\n",
    "    حال مقادیر ویژه و بردار‌های ویژه را حساب می‌کنیم. این کار را با استفاده از تابع \n",
    "   np.linalg.eig(S)\n",
    "    حساب می‌کنیم. دقت داریم که این تابع خود مقادیر ویژه را به شکل نزولی مرتب می‌کند\n",
    "    </div></span>"
   ]
  },
  {
   "cell_type": "code",
   "execution_count": 5,
   "id": "8bc9acdf-93a8-4e82-a6e3-7a198d36eb77",
   "metadata": {},
   "outputs": [
    {
     "name": "stdout",
     "output_type": "stream",
     "text": [
      "The Eigenvalues are:  [4.22824171 0.24267075 0.0782095  0.02383509]\n",
      "The Eigenvectors Matrix which each of them is a column-vector:\n",
      " [[ 0.36138659 -0.65658877 -0.58202985  0.31548719]\n",
      " [-0.08452251 -0.73016143  0.59791083 -0.3197231 ]\n",
      " [ 0.85667061  0.17337266  0.07623608 -0.47983899]\n",
      " [ 0.3582892   0.07548102  0.54583143  0.75365743]]\n"
     ]
    }
   ],
   "source": [
    "eigenvalues, eigenvectors = np.linalg.eig(S)\n",
    "print(\"The Eigenvalues are: \", eigenvalues)\n",
    "print(\"The Eigenvectors Matrix which each of them is a column-vector:\\n\", eigenvectors)"
   ]
  },
  {
   "cell_type": "markdown",
   "id": "fbb35d4d-fad7-41ed-88b9-005e8c9673ed",
   "metadata": {},
   "source": [
    "<span style=\"font-family: XB Zar; font-size: medium; \"><div dir=rtl><meta charset=\"UTF-8\">\n",
    "    <br>\n",
    "    با انتخاب 3 مقدار ویژه بزرگتر، 3 بردار‌ ویژه متناظر با آن را به عنوان پایه‌ای برای فضای مقصد درنظر می‌گیریم و با انجام تبدیل مورد نظر داده‌های ما 3 بعدی شده و در شکل زیر نتایج را می‌بینیم:\n",
    "    </div></span>"
   ]
  },
  {
   "cell_type": "code",
   "execution_count": 37,
   "id": "5ac60432-89fe-4f31-a7fa-f14594795fcc",
   "metadata": {},
   "outputs": [
    {
     "data": {
      "application/vnd.plotly.v1+json": {
       "config": {
        "plotlyServerURL": "https://plot.ly"
       },
       "data": [
        {
         "hovertemplate": "species=Setosa<br>sepal_length=%{x}<br>sepal_width=%{y}<br>petal_width=%{z}<extra></extra>",
         "legendgroup": "Setosa",
         "marker": {
          "color": "#636efa",
          "symbol": "circle"
         },
         "mode": "markers",
         "name": "Setosa",
         "scene": "scene",
         "showlegend": true,
         "type": "scatter3d",
         "x": [
          2.818239506639465,
          2.7882234453146766,
          2.6133745635497054,
          2.7570222769675925,
          2.7736485960544717,
          3.221505499764509,
          2.6818273818683935,
          2.876220159462369,
          2.6159824008284494,
          2.829609334788048,
          2.9954180419571457,
          2.8896099017002794,
          2.7162558664209846,
          2.27856138874335,
          2.857614742666972,
          3.1163260990778676,
          2.878837257384575,
          2.8540684263546203,
          3.3025448089914216,
          2.9143787327302335,
          3.192108917366484,
          2.958659903851845,
          2.2864257169603905,
          3.199631950382795,
          3.14661108348523,
          2.9956962256831803,
          3.0335450594876625,
          2.940045226412986,
          2.862830417224459,
          2.8703757453346563,
          2.91496665591965,
          3.0924326356068264,
          2.8535027982590897,
          2.9036283835084142,
          2.865438254503203,
          2.6361234804903324,
          2.8771270827586295,
          2.70168101716078,
          2.521863088827009,
          2.912358818640906,
          2.7322627065811003,
          2.652996427565899,
          2.5049585860140953,
          3.096750647511516,
          3.2928758948253223,
          2.787913705851295,
          2.964216873610062,
          2.662902964966152,
          2.959279382778609,
          2.7990053502738426
         ],
         "y": [
          -5.6463498234127965,
          -5.149951351762915,
          -5.182003150742138,
          -5.008653597575779,
          -5.653707089762615,
          -6.06828302589061,
          -5.237491192299125,
          -5.490337536526025,
          -4.748640822640992,
          -5.213178330953579,
          -5.97202147547627,
          -5.341682515989069,
          -5.0918405766259776,
          -4.815557989821313,
          -6.505717213265272,
          -6.665014907228347,
          -6.137632091008952,
          -5.63880172142105,
          -6.1997916157899065,
          -5.840512885576972,
          -5.71829851248159,
          -5.759948640106724,
          -5.46042064636622,
          -5.425661431641795,
          -5.289670717150312,
          -5.180935696332428,
          -5.457904066262945,
          -5.694671434261896,
          -5.638992557062979,
          -5.129991351903381,
          -5.122634085553561,
          -5.737876841057269,
          -6.140316397124657,
          -6.420098336277052,
          -5.205630228961833,
          -5.396317048407777,
          -5.926322598207119,
          -5.595596314625677,
          -4.838994232399079,
          -5.555996413654708,
          -5.590480110571952,
          -4.385992003186499,
          -4.985026519356085,
          -5.515824005757955,
          -5.763615718466882,
          -5.076744372642485,
          -5.830723721289132,
          -5.099007007333867,
          -5.906362598347585,
          -5.434658659327107
         ],
         "z": [
          -0.6597675437572553,
          -0.8423169885460869,
          -0.6139524598469525,
          -0.600293342562162,
          -0.5417734756166404,
          -0.4631750579587361,
          -0.3739605579122248,
          -0.6537320340545617,
          -0.6110931459030637,
          -0.829485441155989,
          -0.707170725546961,
          -0.5297024562112523,
          -0.8386971466174878,
          -0.5705530437107444,
          -0.7834802397856494,
          -0.35407581346470346,
          -0.4936694882871217,
          -0.605184400555248,
          -0.7521582395625714,
          -0.4181875439431252,
          -0.8712967594127948,
          -0.4233954837511264,
          -0.3394559654225999,
          -0.592729457424962,
          -0.5068316334649631,
          -0.8852727585125006,
          -0.5369421400684508,
          -0.7103469213057658,
          -0.7777616118978712,
          -0.5910816371006633,
          -0.7090757052412787,
          -0.777377688172973,
          -0.4061835664477204,
          -0.4740419032096194,
          -0.7749022979539816,
          -0.7961850228208683,
          -0.9002030918617777,
          -0.5381536336880413,
          -0.5589256704751512,
          -0.7119350191851678,
          -0.5546050230067383,
          -0.981083093473812,
          -0.4393435044551334,
          -0.3679847706544272,
          -0.3331099704127322,
          -0.7295308602134731,
          -0.4651470795630362,
          -0.5481258671342496,
          -0.6489677404163541,
          -0.7211467246466671
         ]
        },
        {
         "hovertemplate": "species=Versicolor<br>sepal_length=%{x}<br>sepal_width=%{y}<br>petal_width=%{z}<extra></extra>",
         "legendgroup": "Versicolor",
         "marker": {
          "color": "#EF553B",
          "symbol": "circle"
         },
         "mode": "markers",
         "name": "Versicolor",
         "scene": "scene",
         "showlegend": true,
         "type": "scatter3d",
         "x": [
          6.787190821467353,
          6.434853664921319,
          6.966667454600395,
          5.685682852567373,
          6.590468390320667,
          6.144034216867079,
          6.597425795241448,
          4.753242462779345,
          6.546496958662437,
          5.493619728526106,
          4.9945242487736765,
          6.014063690056599,
          5.767341640721049,
          6.487299643079892,
          5.328439760927234,
          6.430225913553248,
          6.1626488943059385,
          5.738470125926673,
          6.447098860628815,
          5.547592108907701,
          6.618648309959052,
          5.860253550606309,
          6.800549007967915,
          6.424094055056038,
          6.217218458520413,
          6.402539505781169,
          6.83438956933109,
          7.060167287675072,
          6.315655782426544,
          5.196781354584693,
          5.434238640540638,
          5.3127426602305,
          5.638793844167017,
          6.882391568524513,
          6.090371575948866,
          6.309223445109414,
          6.723056015053354,
          6.317460368375601,
          5.748322812495695,
          5.668778349754459,
          5.967165421012782,
          6.393180331078451,
          5.732913156168457,
          4.797833373364338,
          5.859346627310049,
          5.83429961255406,
          5.878580783675672,
          6.14494114016334,
          4.595895267660166,
          5.801365974487145
         ],
         "y": [
          -6.0121130472950055,
          -5.645286215090326,
          -5.831215392136902,
          -4.498993565007064,
          -5.401543252025413,
          -4.908705705259017,
          -5.610420846889223,
          -4.3220616156458,
          -5.555314476616093,
          -4.603870671822861,
          -4.060981386301303,
          -5.222971341328655,
          -4.776916113147222,
          -5.202134722701339,
          -5.072098368125107,
          -5.794132071269207,
          -4.973982911103845,
          -4.993341810002781,
          -4.783807026047931,
          -4.743118199355832,
          -5.242335724632906,
          -5.258027545171682,
          -4.99916526849378,
          -5.144214783206329,
          -5.476008521197483,
          -5.65545705066202,
          -5.571393452844041,
          -5.594448024137949,
          -5.16360227614008,
          -4.9586903870731085,
          -4.621780445028231,
          -4.646665813299563,
          -5.01292013857846,
          -4.905998289513813,
          -4.8426651568464765,
          -5.521134891540845,
          -5.734572170438703,
          -4.954915516918195,
          -5.058428180205681,
          -4.645025851964069,
          -4.656241032315975,
          -5.292488132459427,
          -4.922566728820371,
          -4.314704349295981,
          -4.822042483490588,
          -5.114297893046526,
          -5.033733647576277,
          -5.344690766940114,
          -4.570859210228681,
          -4.978054770377359
         ],
         "z": [
          -1.038420741635536,
          -0.6498669028140822,
          -0.9701784811487377,
          -0.8114441080432006,
          -0.9396106124026276,
          -0.5907766253438874,
          -0.4620424763072669,
          -0.6195497969302496,
          -1.0471888009272394,
          -0.3507112849914349,
          -0.9016698989366988,
          -0.501304965927357,
          -1.3259995463122634,
          -0.6939671244901038,
          -0.5413950254421395,
          -0.9464736920000145,
          -0.30382518778924844,
          -0.9030145534189101,
          -1.1313717626529578,
          -0.8668548211399002,
          -0.17223172480873888,
          -0.861706603776795,
          -0.9797070684251523,
          -0.8629244939041275,
          -0.9536536534123162,
          -0.9480617898794164,
          -1.1535554958322614,
          -0.7967736999114228,
          -0.5964282113216828,
          -0.9503442967908909,
          -0.8760665266013988,
          -0.9382732773855026,
          -0.8090954821790882,
          -0.6156855886471145,
          -0.18741921752803586,
          -0.24288965306963126,
          -0.8690197260517178,
          -1.2465735587596665,
          -0.4434859045216487,
          -0.6918619420231827,
          -0.6561595718867957,
          -0.6417996490621913,
          -0.8612629576070009,
          -0.7375438650708651,
          -0.6152355459695785,
          -0.5486484252721661,
          -0.5538563650801674,
          -0.8372476831511032,
          -0.6444523637257352,
          -0.621271055672273
         ]
        },
        {
         "hovertemplate": "species=Virginica<br>sepal_length=%{x}<br>sepal_width=%{y}<br>petal_width=%{z}<extra></extra>",
         "legendgroup": "Virginica",
         "marker": {
          "color": "#00cc96",
          "symbol": "circle"
         },
         "mode": "markers",
         "name": "Virginica",
         "scene": "scene",
         "showlegend": true,
         "type": "scatter3d",
         "x": [
          8.033557860412628,
          6.917601009312904,
          8.11904114860469,
          7.473896185652437,
          7.852371052653641,
          8.89940386866226,
          6.023597376518776,
          8.43495220160269,
          7.82359394918238,
          8.419116099395072,
          7.164139286245532,
          7.305767085574091,
          7.667956928689146,
          6.848528712067452,
          7.088293356482223,
          7.4068215074024275,
          7.452054192008071,
          8.98942049689928,
          9.298010554681886,
          6.803156845246659,
          7.930183045675046,
          6.701366238074562,
          9.002285171533538,
          6.8911312643004665,
          7.777795636481206,
          8.116455606419832,
          6.76087329312049,
          6.793497191724023,
          7.625973855382895,
          7.890368148612469,
          8.344037910712872,
          8.733038794041093,
          7.66180277509805,
          6.946526374938511,
          7.283659942654114,
          8.578865064296188,
          7.646608446911083,
          7.407463281423077,
          6.671691471950502,
          7.609976275866242,
          7.8165198378446,
          7.424632933511601,
          6.917601009312904,
          8.065378507686477,
          7.921111315341826,
          7.446474927155969,
          7.029531747423518,
          7.26671084965343,
          7.4033067468274245,
          6.892553994556915
         ],
         "y": [
          -5.3171034673288915,
          -4.752036229281205,
          -5.67085572816943,
          -5.14722467247545,
          -5.286691629685163,
          -5.877789249855752,
          -4.1341938498270485,
          -5.682452579805194,
          -5.083121074517005,
          -6.109744525642972,
          -5.569180984582761,
          -5.11131495949414,
          -5.54322816190172,
          -4.550134229483354,
          -4.7873118628009745,
          -5.4462032689196676,
          -5.368895836490906,
          -6.502691906541124,
          -5.584275550248177,
          -4.565802940392633,
          -5.705148589444746,
          -4.720861049069764,
          -5.787626675739592,
          -5.122553249475544,
          -5.661943182649371,
          -5.887853931950774,
          -5.147247782104949,
          -5.210283925653683,
          -5.117223100150393,
          -5.791592381536432,
          -5.7022217440228,
          -6.701117663620743,
          -5.1096749981586465,
          -5.183539166370116,
          -4.827050895749561,
          -6.015038254398871,
          -5.467016777917483,
          -5.376253102840725,
          -5.161962314804585,
          -5.699240448788493,
          -5.510603855996713,
          -5.736156043643757,
          -4.752036229281205,
          -5.60481517975689,
          -5.631750774682385,
          -5.5144848796282995,
          -4.951635594247207,
          -5.40581143134617,
          -5.443580535339717,
          -5.0442916388371435
         ],
         "z": [
          0.12831271107805226,
          -0.33553018877988,
          -0.7426405993869514,
          -0.5234280537044198,
          -0.34646315298340197,
          -0.9802902719653086,
          -0.08619342052103286,
          -1.0520926519358098,
          -0.9801571111026888,
          -0.20851729848528316,
          -0.3894125264420736,
          -0.669500884399326,
          -0.5985260743235175,
          -0.3499498340493803,
          -0.0028233897598347866,
          -0.15221289654125247,
          -0.5876665485377204,
          -0.49795784223174105,
          -1.145620479985647,
          -0.9768477544812626,
          -0.4127333918658992,
          -0.11999720747084397,
          -1.2050349587358442,
          -0.6963754727991123,
          -0.34570262499869236,
          -0.8373872405214664,
          -0.5860050122405935,
          -0.4005962535078729,
          -0.47767269223901315,
          -1.0813829081096915,
          -1.130750792038611,
          -0.7464009216432581,
          -0.42308954903700574,
          -0.7850866042309328,
          -0.8047279052812628,
          -0.9674450086023832,
          0.10302622055766827,
          -0.46967248039710513,
          -0.35001687595936276,
          -0.6045615840262115,
          -0.30915896899478434,
          -0.5182661203684863,
          -0.33553018877988,
          -0.33928319157109976,
          -0.12737005219066305,
          -0.45402762553518616,
          -0.7537508880350265,
          -0.501371084879995,
          0.0913988473220747,
          -0.26894306808246743
         ]
        }
       ],
       "layout": {
        "autosize": true,
        "legend": {
         "title": {
          "text": "species"
         },
         "tracegroupgap": 0
        },
        "margin": {
         "t": 60
        },
        "scene": {
         "aspectmode": "auto",
         "aspectratio": {
          "x": 1,
          "y": 1,
          "z": 1
         },
         "camera": {
          "center": {
           "x": 0,
           "y": 0,
           "z": 0
          },
          "eye": {
           "x": -0.545741743238633,
           "y": 1.5638262221838133,
           "z": 0.580377934500448
          },
          "projection": {
           "type": "perspective"
          },
          "up": {
           "x": 0,
           "y": 0,
           "z": 1
          }
         },
         "domain": {
          "x": [
           0,
           1
          ],
          "y": [
           0,
           1
          ]
         },
         "xaxis": {
          "title": {
           "text": "sepal_length"
          },
          "type": "linear"
         },
         "yaxis": {
          "title": {
           "text": "sepal_width"
          },
          "type": "linear"
         },
         "zaxis": {
          "title": {
           "text": "petal_width"
          },
          "type": "linear"
         }
        },
        "template": {
         "data": {
          "bar": [
           {
            "error_x": {
             "color": "#2a3f5f"
            },
            "error_y": {
             "color": "#2a3f5f"
            },
            "marker": {
             "line": {
              "color": "#E5ECF6",
              "width": 0.5
             },
             "pattern": {
              "fillmode": "overlay",
              "size": 10,
              "solidity": 0.2
             }
            },
            "type": "bar"
           }
          ],
          "barpolar": [
           {
            "marker": {
             "line": {
              "color": "#E5ECF6",
              "width": 0.5
             },
             "pattern": {
              "fillmode": "overlay",
              "size": 10,
              "solidity": 0.2
             }
            },
            "type": "barpolar"
           }
          ],
          "carpet": [
           {
            "aaxis": {
             "endlinecolor": "#2a3f5f",
             "gridcolor": "white",
             "linecolor": "white",
             "minorgridcolor": "white",
             "startlinecolor": "#2a3f5f"
            },
            "baxis": {
             "endlinecolor": "#2a3f5f",
             "gridcolor": "white",
             "linecolor": "white",
             "minorgridcolor": "white",
             "startlinecolor": "#2a3f5f"
            },
            "type": "carpet"
           }
          ],
          "choropleth": [
           {
            "colorbar": {
             "outlinewidth": 0,
             "ticks": ""
            },
            "type": "choropleth"
           }
          ],
          "contour": [
           {
            "colorbar": {
             "outlinewidth": 0,
             "ticks": ""
            },
            "colorscale": [
             [
              0,
              "#0d0887"
             ],
             [
              0.1111111111111111,
              "#46039f"
             ],
             [
              0.2222222222222222,
              "#7201a8"
             ],
             [
              0.3333333333333333,
              "#9c179e"
             ],
             [
              0.4444444444444444,
              "#bd3786"
             ],
             [
              0.5555555555555556,
              "#d8576b"
             ],
             [
              0.6666666666666666,
              "#ed7953"
             ],
             [
              0.7777777777777778,
              "#fb9f3a"
             ],
             [
              0.8888888888888888,
              "#fdca26"
             ],
             [
              1,
              "#f0f921"
             ]
            ],
            "type": "contour"
           }
          ],
          "contourcarpet": [
           {
            "colorbar": {
             "outlinewidth": 0,
             "ticks": ""
            },
            "type": "contourcarpet"
           }
          ],
          "heatmap": [
           {
            "colorbar": {
             "outlinewidth": 0,
             "ticks": ""
            },
            "colorscale": [
             [
              0,
              "#0d0887"
             ],
             [
              0.1111111111111111,
              "#46039f"
             ],
             [
              0.2222222222222222,
              "#7201a8"
             ],
             [
              0.3333333333333333,
              "#9c179e"
             ],
             [
              0.4444444444444444,
              "#bd3786"
             ],
             [
              0.5555555555555556,
              "#d8576b"
             ],
             [
              0.6666666666666666,
              "#ed7953"
             ],
             [
              0.7777777777777778,
              "#fb9f3a"
             ],
             [
              0.8888888888888888,
              "#fdca26"
             ],
             [
              1,
              "#f0f921"
             ]
            ],
            "type": "heatmap"
           }
          ],
          "heatmapgl": [
           {
            "colorbar": {
             "outlinewidth": 0,
             "ticks": ""
            },
            "colorscale": [
             [
              0,
              "#0d0887"
             ],
             [
              0.1111111111111111,
              "#46039f"
             ],
             [
              0.2222222222222222,
              "#7201a8"
             ],
             [
              0.3333333333333333,
              "#9c179e"
             ],
             [
              0.4444444444444444,
              "#bd3786"
             ],
             [
              0.5555555555555556,
              "#d8576b"
             ],
             [
              0.6666666666666666,
              "#ed7953"
             ],
             [
              0.7777777777777778,
              "#fb9f3a"
             ],
             [
              0.8888888888888888,
              "#fdca26"
             ],
             [
              1,
              "#f0f921"
             ]
            ],
            "type": "heatmapgl"
           }
          ],
          "histogram": [
           {
            "marker": {
             "pattern": {
              "fillmode": "overlay",
              "size": 10,
              "solidity": 0.2
             }
            },
            "type": "histogram"
           }
          ],
          "histogram2d": [
           {
            "colorbar": {
             "outlinewidth": 0,
             "ticks": ""
            },
            "colorscale": [
             [
              0,
              "#0d0887"
             ],
             [
              0.1111111111111111,
              "#46039f"
             ],
             [
              0.2222222222222222,
              "#7201a8"
             ],
             [
              0.3333333333333333,
              "#9c179e"
             ],
             [
              0.4444444444444444,
              "#bd3786"
             ],
             [
              0.5555555555555556,
              "#d8576b"
             ],
             [
              0.6666666666666666,
              "#ed7953"
             ],
             [
              0.7777777777777778,
              "#fb9f3a"
             ],
             [
              0.8888888888888888,
              "#fdca26"
             ],
             [
              1,
              "#f0f921"
             ]
            ],
            "type": "histogram2d"
           }
          ],
          "histogram2dcontour": [
           {
            "colorbar": {
             "outlinewidth": 0,
             "ticks": ""
            },
            "colorscale": [
             [
              0,
              "#0d0887"
             ],
             [
              0.1111111111111111,
              "#46039f"
             ],
             [
              0.2222222222222222,
              "#7201a8"
             ],
             [
              0.3333333333333333,
              "#9c179e"
             ],
             [
              0.4444444444444444,
              "#bd3786"
             ],
             [
              0.5555555555555556,
              "#d8576b"
             ],
             [
              0.6666666666666666,
              "#ed7953"
             ],
             [
              0.7777777777777778,
              "#fb9f3a"
             ],
             [
              0.8888888888888888,
              "#fdca26"
             ],
             [
              1,
              "#f0f921"
             ]
            ],
            "type": "histogram2dcontour"
           }
          ],
          "mesh3d": [
           {
            "colorbar": {
             "outlinewidth": 0,
             "ticks": ""
            },
            "type": "mesh3d"
           }
          ],
          "parcoords": [
           {
            "line": {
             "colorbar": {
              "outlinewidth": 0,
              "ticks": ""
             }
            },
            "type": "parcoords"
           }
          ],
          "pie": [
           {
            "automargin": true,
            "type": "pie"
           }
          ],
          "scatter": [
           {
            "fillpattern": {
             "fillmode": "overlay",
             "size": 10,
             "solidity": 0.2
            },
            "type": "scatter"
           }
          ],
          "scatter3d": [
           {
            "line": {
             "colorbar": {
              "outlinewidth": 0,
              "ticks": ""
             }
            },
            "marker": {
             "colorbar": {
              "outlinewidth": 0,
              "ticks": ""
             }
            },
            "type": "scatter3d"
           }
          ],
          "scattercarpet": [
           {
            "marker": {
             "colorbar": {
              "outlinewidth": 0,
              "ticks": ""
             }
            },
            "type": "scattercarpet"
           }
          ],
          "scattergeo": [
           {
            "marker": {
             "colorbar": {
              "outlinewidth": 0,
              "ticks": ""
             }
            },
            "type": "scattergeo"
           }
          ],
          "scattergl": [
           {
            "marker": {
             "colorbar": {
              "outlinewidth": 0,
              "ticks": ""
             }
            },
            "type": "scattergl"
           }
          ],
          "scattermapbox": [
           {
            "marker": {
             "colorbar": {
              "outlinewidth": 0,
              "ticks": ""
             }
            },
            "type": "scattermapbox"
           }
          ],
          "scatterpolar": [
           {
            "marker": {
             "colorbar": {
              "outlinewidth": 0,
              "ticks": ""
             }
            },
            "type": "scatterpolar"
           }
          ],
          "scatterpolargl": [
           {
            "marker": {
             "colorbar": {
              "outlinewidth": 0,
              "ticks": ""
             }
            },
            "type": "scatterpolargl"
           }
          ],
          "scatterternary": [
           {
            "marker": {
             "colorbar": {
              "outlinewidth": 0,
              "ticks": ""
             }
            },
            "type": "scatterternary"
           }
          ],
          "surface": [
           {
            "colorbar": {
             "outlinewidth": 0,
             "ticks": ""
            },
            "colorscale": [
             [
              0,
              "#0d0887"
             ],
             [
              0.1111111111111111,
              "#46039f"
             ],
             [
              0.2222222222222222,
              "#7201a8"
             ],
             [
              0.3333333333333333,
              "#9c179e"
             ],
             [
              0.4444444444444444,
              "#bd3786"
             ],
             [
              0.5555555555555556,
              "#d8576b"
             ],
             [
              0.6666666666666666,
              "#ed7953"
             ],
             [
              0.7777777777777778,
              "#fb9f3a"
             ],
             [
              0.8888888888888888,
              "#fdca26"
             ],
             [
              1,
              "#f0f921"
             ]
            ],
            "type": "surface"
           }
          ],
          "table": [
           {
            "cells": {
             "fill": {
              "color": "#EBF0F8"
             },
             "line": {
              "color": "white"
             }
            },
            "header": {
             "fill": {
              "color": "#C8D4E3"
             },
             "line": {
              "color": "white"
             }
            },
            "type": "table"
           }
          ]
         },
         "layout": {
          "annotationdefaults": {
           "arrowcolor": "#2a3f5f",
           "arrowhead": 0,
           "arrowwidth": 1
          },
          "autotypenumbers": "strict",
          "coloraxis": {
           "colorbar": {
            "outlinewidth": 0,
            "ticks": ""
           }
          },
          "colorscale": {
           "diverging": [
            [
             0,
             "#8e0152"
            ],
            [
             0.1,
             "#c51b7d"
            ],
            [
             0.2,
             "#de77ae"
            ],
            [
             0.3,
             "#f1b6da"
            ],
            [
             0.4,
             "#fde0ef"
            ],
            [
             0.5,
             "#f7f7f7"
            ],
            [
             0.6,
             "#e6f5d0"
            ],
            [
             0.7,
             "#b8e186"
            ],
            [
             0.8,
             "#7fbc41"
            ],
            [
             0.9,
             "#4d9221"
            ],
            [
             1,
             "#276419"
            ]
           ],
           "sequential": [
            [
             0,
             "#0d0887"
            ],
            [
             0.1111111111111111,
             "#46039f"
            ],
            [
             0.2222222222222222,
             "#7201a8"
            ],
            [
             0.3333333333333333,
             "#9c179e"
            ],
            [
             0.4444444444444444,
             "#bd3786"
            ],
            [
             0.5555555555555556,
             "#d8576b"
            ],
            [
             0.6666666666666666,
             "#ed7953"
            ],
            [
             0.7777777777777778,
             "#fb9f3a"
            ],
            [
             0.8888888888888888,
             "#fdca26"
            ],
            [
             1,
             "#f0f921"
            ]
           ],
           "sequentialminus": [
            [
             0,
             "#0d0887"
            ],
            [
             0.1111111111111111,
             "#46039f"
            ],
            [
             0.2222222222222222,
             "#7201a8"
            ],
            [
             0.3333333333333333,
             "#9c179e"
            ],
            [
             0.4444444444444444,
             "#bd3786"
            ],
            [
             0.5555555555555556,
             "#d8576b"
            ],
            [
             0.6666666666666666,
             "#ed7953"
            ],
            [
             0.7777777777777778,
             "#fb9f3a"
            ],
            [
             0.8888888888888888,
             "#fdca26"
            ],
            [
             1,
             "#f0f921"
            ]
           ]
          },
          "colorway": [
           "#636efa",
           "#EF553B",
           "#00cc96",
           "#ab63fa",
           "#FFA15A",
           "#19d3f3",
           "#FF6692",
           "#B6E880",
           "#FF97FF",
           "#FECB52"
          ],
          "font": {
           "color": "#2a3f5f"
          },
          "geo": {
           "bgcolor": "white",
           "lakecolor": "white",
           "landcolor": "#E5ECF6",
           "showlakes": true,
           "showland": true,
           "subunitcolor": "white"
          },
          "hoverlabel": {
           "align": "left"
          },
          "hovermode": "closest",
          "mapbox": {
           "style": "light"
          },
          "paper_bgcolor": "white",
          "plot_bgcolor": "#E5ECF6",
          "polar": {
           "angularaxis": {
            "gridcolor": "white",
            "linecolor": "white",
            "ticks": ""
           },
           "bgcolor": "#E5ECF6",
           "radialaxis": {
            "gridcolor": "white",
            "linecolor": "white",
            "ticks": ""
           }
          },
          "scene": {
           "xaxis": {
            "backgroundcolor": "#E5ECF6",
            "gridcolor": "white",
            "gridwidth": 2,
            "linecolor": "white",
            "showbackground": true,
            "ticks": "",
            "zerolinecolor": "white"
           },
           "yaxis": {
            "backgroundcolor": "#E5ECF6",
            "gridcolor": "white",
            "gridwidth": 2,
            "linecolor": "white",
            "showbackground": true,
            "ticks": "",
            "zerolinecolor": "white"
           },
           "zaxis": {
            "backgroundcolor": "#E5ECF6",
            "gridcolor": "white",
            "gridwidth": 2,
            "linecolor": "white",
            "showbackground": true,
            "ticks": "",
            "zerolinecolor": "white"
           }
          },
          "shapedefaults": {
           "line": {
            "color": "#2a3f5f"
           }
          },
          "ternary": {
           "aaxis": {
            "gridcolor": "white",
            "linecolor": "white",
            "ticks": ""
           },
           "baxis": {
            "gridcolor": "white",
            "linecolor": "white",
            "ticks": ""
           },
           "bgcolor": "#E5ECF6",
           "caxis": {
            "gridcolor": "white",
            "linecolor": "white",
            "ticks": ""
           }
          },
          "title": {
           "x": 0.05
          },
          "xaxis": {
           "automargin": true,
           "gridcolor": "white",
           "linecolor": "white",
           "ticks": "",
           "title": {
            "standoff": 15
           },
           "zerolinecolor": "white",
           "zerolinewidth": 2
          },
          "yaxis": {
           "automargin": true,
           "gridcolor": "white",
           "linecolor": "white",
           "ticks": "",
           "title": {
            "standoff": 15
           },
           "zerolinecolor": "white",
           "zerolinewidth": 2
          }
         }
        }
       }
      },
      "image/png": "[encoded data removed]",
      "text/html": [
       "<div>                            <div id=\"924ff01e-cccc-47dd-92b5-322923ecd460\" class=\"plotly-graph-div\" style=\"height:525px; width:100%;\"></div>            <script type=\"text/javascript\">                require([\"plotly\"], function(Plotly) {                    window.PLOTLYENV=window.PLOTLYENV || {};                                    if (document.getElementById(\"924ff01e-cccc-47dd-92b5-322923ecd460\")) {                    Plotly.newPlot(                        \"924ff01e-cccc-47dd-92b5-322923ecd460\",                        [{\"hovertemplate\":\"species=Setosa<br>sepal_length=%{x}<br>sepal_width=%{y}<br>petal_width=%{z}<extra></extra>\",\"legendgroup\":\"Setosa\",\"marker\":{\"color\":\"#636efa\",\"symbol\":\"circle\"},\"mode\":\"markers\",\"name\":\"Setosa\",\"scene\":\"scene\",\"showlegend\":true,\"x\":[2.818239506639465,2.7882234453146766,2.6133745635497054,2.7570222769675925,2.7736485960544717,3.221505499764509,2.6818273818683935,2.876220159462369,2.6159824008284494,2.829609334788048,2.9954180419571457,2.8896099017002794,2.7162558664209846,2.27856138874335,2.857614742666972,3.1163260990778676,2.878837257384575,2.8540684263546203,3.3025448089914216,2.9143787327302335,3.192108917366484,2.958659903851845,2.2864257169603905,3.199631950382795,3.14661108348523,2.9956962256831803,3.0335450594876625,2.940045226412986,2.862830417224459,2.8703757453346563,2.91496665591965,3.0924326356068264,2.8535027982590897,2.9036283835084142,2.865438254503203,2.6361234804903324,2.8771270827586295,2.70168101716078,2.521863088827009,2.912358818640906,2.7322627065811003,2.652996427565899,2.5049585860140953,3.096750647511516,3.2928758948253223,2.787913705851295,2.964216873610062,2.662902964966152,2.959279382778609,2.7990053502738426],\"y\":[-5.6463498234127965,-5.149951351762915,-5.182003150742138,-5.008653597575779,-5.653707089762615,-6.06828302589061,-5.237491192299125,-5.490337536526025,-4.748640822640992,-5.213178330953579,-5.97202147547627,-5.341682515989069,-5.0918405766259776,-4.815557989821313,-6.505717213265272,-6.665014907228347,-6.137632091008952,-5.63880172142105,-6.1997916157899065,-5.840512885576972,-5.71829851248159,-5.759948640106724,-5.46042064636622,-5.425661431641795,-5.289670717150312,-5.180935696332428,-5.457904066262945,-5.694671434261896,-5.638992557062979,-5.129991351903381,-5.122634085553561,-5.737876841057269,-6.140316397124657,-6.420098336277052,-5.205630228961833,-5.396317048407777,-5.926322598207119,-5.595596314625677,-4.838994232399079,-5.555996413654708,-5.590480110571952,-4.385992003186499,-4.985026519356085,-5.515824005757955,-5.763615718466882,-5.076744372642485,-5.830723721289132,-5.099007007333867,-5.906362598347585,-5.434658659327107],\"z\":[-0.6597675437572553,-0.8423169885460869,-0.6139524598469525,-0.600293342562162,-0.5417734756166404,-0.4631750579587361,-0.3739605579122248,-0.6537320340545617,-0.6110931459030637,-0.829485441155989,-0.707170725546961,-0.5297024562112523,-0.8386971466174878,-0.5705530437107444,-0.7834802397856494,-0.35407581346470346,-0.4936694882871217,-0.605184400555248,-0.7521582395625714,-0.4181875439431252,-0.8712967594127948,-0.4233954837511264,-0.3394559654225999,-0.592729457424962,-0.5068316334649631,-0.8852727585125006,-0.5369421400684508,-0.7103469213057658,-0.7777616118978712,-0.5910816371006633,-0.7090757052412787,-0.777377688172973,-0.4061835664477204,-0.4740419032096194,-0.7749022979539816,-0.7961850228208683,-0.9002030918617777,-0.5381536336880413,-0.5589256704751512,-0.7119350191851678,-0.5546050230067383,-0.981083093473812,-0.4393435044551334,-0.3679847706544272,-0.3331099704127322,-0.7295308602134731,-0.4651470795630362,-0.5481258671342496,-0.6489677404163541,-0.7211467246466671],\"type\":\"scatter3d\"},{\"hovertemplate\":\"species=Versicolor<br>sepal_length=%{x}<br>sepal_width=%{y}<br>petal_width=%{z}<extra></extra>\",\"legendgroup\":\"Versicolor\",\"marker\":{\"color\":\"#EF553B\",\"symbol\":\"circle\"},\"mode\":\"markers\",\"name\":\"Versicolor\",\"scene\":\"scene\",\"showlegend\":true,\"x\":[6.787190821467353,6.434853664921319,6.966667454600395,5.685682852567373,6.590468390320667,6.144034216867079,6.597425795241448,4.753242462779345,6.546496958662437,5.493619728526106,4.9945242487736765,6.014063690056599,5.767341640721049,6.487299643079892,5.328439760927234,6.430225913553248,6.1626488943059385,5.738470125926673,6.447098860628815,5.547592108907701,6.618648309959052,5.860253550606309,6.800549007967915,6.424094055056038,6.217218458520413,6.402539505781169,6.83438956933109,7.060167287675072,6.315655782426544,5.196781354584693,5.434238640540638,5.3127426602305,5.638793844167017,6.882391568524513,6.090371575948866,6.309223445109414,6.723056015053354,6.317460368375601,5.748322812495695,5.668778349754459,5.967165421012782,6.393180331078451,5.732913156168457,4.797833373364338,5.859346627310049,5.83429961255406,5.878580783675672,6.14494114016334,4.595895267660166,5.801365974487145],\"y\":[-6.0121130472950055,-5.645286215090326,-5.831215392136902,-4.498993565007064,-5.401543252025413,-4.908705705259017,-5.610420846889223,-4.3220616156458,-5.555314476616093,-4.603870671822861,-4.060981386301303,-5.222971341328655,-4.776916113147222,-5.202134722701339,-5.072098368125107,-5.794132071269207,-4.973982911103845,-4.993341810002781,-4.783807026047931,-4.743118199355832,-5.242335724632906,-5.258027545171682,-4.99916526849378,-5.144214783206329,-5.476008521197483,-5.65545705066202,-5.571393452844041,-5.594448024137949,-5.16360227614008,-4.9586903870731085,-4.621780445028231,-4.646665813299563,-5.01292013857846,-4.905998289513813,-4.8426651568464765,-5.521134891540845,-5.734572170438703,-4.954915516918195,-5.058428180205681,-4.645025851964069,-4.656241032315975,-5.292488132459427,-4.922566728820371,-4.314704349295981,-4.822042483490588,-5.114297893046526,-5.033733647576277,-5.344690766940114,-4.570859210228681,-4.978054770377359],\"z\":[-1.038420741635536,-0.6498669028140822,-0.9701784811487377,-0.8114441080432006,-0.9396106124026276,-0.5907766253438874,-0.4620424763072669,-0.6195497969302496,-1.0471888009272394,-0.3507112849914349,-0.9016698989366988,-0.501304965927357,-1.3259995463122634,-0.6939671244901038,-0.5413950254421395,-0.9464736920000145,-0.30382518778924844,-0.9030145534189101,-1.1313717626529578,-0.8668548211399002,-0.17223172480873888,-0.861706603776795,-0.9797070684251523,-0.8629244939041275,-0.9536536534123162,-0.9480617898794164,-1.1535554958322614,-0.7967736999114228,-0.5964282113216828,-0.9503442967908909,-0.8760665266013988,-0.9382732773855026,-0.8090954821790882,-0.6156855886471145,-0.18741921752803586,-0.24288965306963126,-0.8690197260517178,-1.2465735587596665,-0.4434859045216487,-0.6918619420231827,-0.6561595718867957,-0.6417996490621913,-0.8612629576070009,-0.7375438650708651,-0.6152355459695785,-0.5486484252721661,-0.5538563650801674,-0.8372476831511032,-0.6444523637257352,-0.621271055672273],\"type\":\"scatter3d\"},{\"hovertemplate\":\"species=Virginica<br>sepal_length=%{x}<br>sepal_width=%{y}<br>petal_width=%{z}<extra></extra>\",\"legendgroup\":\"Virginica\",\"marker\":{\"color\":\"#00cc96\",\"symbol\":\"circle\"},\"mode\":\"markers\",\"name\":\"Virginica\",\"scene\":\"scene\",\"showlegend\":true,\"x\":[8.033557860412628,6.917601009312904,8.11904114860469,7.473896185652437,7.852371052653641,8.89940386866226,6.023597376518776,8.43495220160269,7.82359394918238,8.419116099395072,7.164139286245532,7.305767085574091,7.667956928689146,6.848528712067452,7.088293356482223,7.4068215074024275,7.452054192008071,8.98942049689928,9.298010554681886,6.803156845246659,7.930183045675046,6.701366238074562,9.002285171533538,6.8911312643004665,7.777795636481206,8.116455606419832,6.76087329312049,6.793497191724023,7.625973855382895,7.890368148612469,8.344037910712872,8.733038794041093,7.66180277509805,6.946526374938511,7.283659942654114,8.578865064296188,7.646608446911083,7.407463281423077,6.671691471950502,7.609976275866242,7.8165198378446,7.424632933511601,6.917601009312904,8.065378507686477,7.921111315341826,7.446474927155969,7.029531747423518,7.26671084965343,7.4033067468274245,6.892553994556915],\"y\":[-5.3171034673288915,-4.752036229281205,-5.67085572816943,-5.14722467247545,-5.286691629685163,-5.877789249855752,-4.1341938498270485,-5.682452579805194,-5.083121074517005,-6.109744525642972,-5.569180984582761,-5.11131495949414,-5.54322816190172,-4.550134229483354,-4.7873118628009745,-5.4462032689196676,-5.368895836490906,-6.502691906541124,-5.584275550248177,-4.565802940392633,-5.705148589444746,-4.720861049069764,-5.787626675739592,-5.122553249475544,-5.661943182649371,-5.887853931950774,-5.147247782104949,-5.210283925653683,-5.117223100150393,-5.791592381536432,-5.7022217440228,-6.701117663620743,-5.1096749981586465,-5.183539166370116,-4.827050895749561,-6.015038254398871,-5.467016777917483,-5.376253102840725,-5.161962314804585,-5.699240448788493,-5.510603855996713,-5.736156043643757,-4.752036229281205,-5.60481517975689,-5.631750774682385,-5.5144848796282995,-4.951635594247207,-5.40581143134617,-5.443580535339717,-5.0442916388371435],\"z\":[0.12831271107805226,-0.33553018877988,-0.7426405993869514,-0.5234280537044198,-0.34646315298340197,-0.9802902719653086,-0.08619342052103286,-1.0520926519358098,-0.9801571111026888,-0.20851729848528316,-0.3894125264420736,-0.669500884399326,-0.5985260743235175,-0.3499498340493803,-0.0028233897598347866,-0.15221289654125247,-0.5876665485377204,-0.49795784223174105,-1.145620479985647,-0.9768477544812626,-0.4127333918658992,-0.11999720747084397,-1.2050349587358442,-0.6963754727991123,-0.34570262499869236,-0.8373872405214664,-0.5860050122405935,-0.4005962535078729,-0.47767269223901315,-1.0813829081096915,-1.130750792038611,-0.7464009216432581,-0.42308954903700574,-0.7850866042309328,-0.8047279052812628,-0.9674450086023832,0.10302622055766827,-0.46967248039710513,-0.35001687595936276,-0.6045615840262115,-0.30915896899478434,-0.5182661203684863,-0.33553018877988,-0.33928319157109976,-0.12737005219066305,-0.45402762553518616,-0.7537508880350265,-0.501371084879995,0.0913988473220747,-0.26894306808246743],\"type\":\"scatter3d\"}],                        {\"template\":{\"data\":{\"histogram2dcontour\":[{\"type\":\"histogram2dcontour\",\"colorbar\":{\"outlinewidth\":0,\"ticks\":\"\"},\"colorscale\":[[0.0,\"#0d0887\"],[0.1111111111111111,\"#46039f\"],[0.2222222222222222,\"#7201a8\"],[0.3333333333333333,\"#9c179e\"],[0.4444444444444444,\"#bd3786\"],[0.5555555555555556,\"#d8576b\"],[0.6666666666666666,\"#ed7953\"],[0.7777777777777778,\"#fb9f3a\"],[0.8888888888888888,\"#fdca26\"],[1.0,\"#f0f921\"]]}],\"choropleth\":[{\"type\":\"choropleth\",\"colorbar\":{\"outlinewidth\":0,\"ticks\":\"\"}}],\"histogram2d\":[{\"type\":\"histogram2d\",\"colorbar\":{\"outlinewidth\":0,\"ticks\":\"\"},\"colorscale\":[[0.0,\"#0d0887\"],[0.1111111111111111,\"#46039f\"],[0.2222222222222222,\"#7201a8\"],[0.3333333333333333,\"#9c179e\"],[0.4444444444444444,\"#bd3786\"],[0.5555555555555556,\"#d8576b\"],[0.6666666666666666,\"#ed7953\"],[0.7777777777777778,\"#fb9f3a\"],[0.8888888888888888,\"#fdca26\"],[1.0,\"#f0f921\"]]}],\"heatmap\":[{\"type\":\"heatmap\",\"colorbar\":{\"outlinewidth\":0,\"ticks\":\"\"},\"colorscale\":[[0.0,\"#0d0887\"],[0.1111111111111111,\"#46039f\"],[0.2222222222222222,\"#7201a8\"],[0.3333333333333333,\"#9c179e\"],[0.4444444444444444,\"#bd3786\"],[0.5555555555555556,\"#d8576b\"],[0.6666666666666666,\"#ed7953\"],[0.7777777777777778,\"#fb9f3a\"],[0.8888888888888888,\"#fdca26\"],[1.0,\"#f0f921\"]]}],\"heatmapgl\":[{\"type\":\"heatmapgl\",\"colorbar\":{\"outlinewidth\":0,\"ticks\":\"\"},\"colorscale\":[[0.0,\"#0d0887\"],[0.1111111111111111,\"#46039f\"],[0.2222222222222222,\"#7201a8\"],[0.3333333333333333,\"#9c179e\"],[0.4444444444444444,\"#bd3786\"],[0.5555555555555556,\"#d8576b\"],[0.6666666666666666,\"#ed7953\"],[0.7777777777777778,\"#fb9f3a\"],[0.8888888888888888,\"#fdca26\"],[1.0,\"#f0f921\"]]}],\"contourcarpet\":[{\"type\":\"contourcarpet\",\"colorbar\":{\"outlinewidth\":0,\"ticks\":\"\"}}],\"contour\":[{\"type\":\"contour\",\"colorbar\":{\"outlinewidth\":0,\"ticks\":\"\"},\"colorscale\":[[0.0,\"#0d0887\"],[0.1111111111111111,\"#46039f\"],[0.2222222222222222,\"#7201a8\"],[0.3333333333333333,\"#9c179e\"],[0.4444444444444444,\"#bd3786\"],[0.5555555555555556,\"#d8576b\"],[0.6666666666666666,\"#ed7953\"],[0.7777777777777778,\"#fb9f3a\"],[0.8888888888888888,\"#fdca26\"],[1.0,\"#f0f921\"]]}],\"surface\":[{\"type\":\"surface\",\"colorbar\":{\"outlinewidth\":0,\"ticks\":\"\"},\"colorscale\":[[0.0,\"#0d0887\"],[0.1111111111111111,\"#46039f\"],[0.2222222222222222,\"#7201a8\"],[0.3333333333333333,\"#9c179e\"],[0.4444444444444444,\"#bd3786\"],[0.5555555555555556,\"#d8576b\"],[0.6666666666666666,\"#ed7953\"],[0.7777777777777778,\"#fb9f3a\"],[0.8888888888888888,\"#fdca26\"],[1.0,\"#f0f921\"]]}],\"mesh3d\":[{\"type\":\"mesh3d\",\"colorbar\":{\"outlinewidth\":0,\"ticks\":\"\"}}],\"scatter\":[{\"fillpattern\":{\"fillmode\":\"overlay\",\"size\":10,\"solidity\":0.2},\"type\":\"scatter\"}],\"parcoords\":[{\"type\":\"parcoords\",\"line\":{\"colorbar\":{\"outlinewidth\":0,\"ticks\":\"\"}}}],\"scatterpolargl\":[{\"type\":\"scatterpolargl\",\"marker\":{\"colorbar\":{\"outlinewidth\":0,\"ticks\":\"\"}}}],\"bar\":[{\"error_x\":{\"color\":\"#2a3f5f\"},\"error_y\":{\"color\":\"#2a3f5f\"},\"marker\":{\"line\":{\"color\":\"#E5ECF6\",\"width\":0.5},\"pattern\":{\"fillmode\":\"overlay\",\"size\":10,\"solidity\":0.2}},\"type\":\"bar\"}],\"scattergeo\":[{\"type\":\"scattergeo\",\"marker\":{\"colorbar\":{\"outlinewidth\":0,\"ticks\":\"\"}}}],\"scatterpolar\":[{\"type\":\"scatterpolar\",\"marker\":{\"colorbar\":{\"outlinewidth\":0,\"ticks\":\"\"}}}],\"histogram\":[{\"marker\":{\"pattern\":{\"fillmode\":\"overlay\",\"size\":10,\"solidity\":0.2}},\"type\":\"histogram\"}],\"scattergl\":[{\"type\":\"scattergl\",\"marker\":{\"colorbar\":{\"outlinewidth\":0,\"ticks\":\"\"}}}],\"scatter3d\":[{\"type\":\"scatter3d\",\"line\":{\"colorbar\":{\"outlinewidth\":0,\"ticks\":\"\"}},\"marker\":{\"colorbar\":{\"outlinewidth\":0,\"ticks\":\"\"}}}],\"scattermapbox\":[{\"type\":\"scattermapbox\",\"marker\":{\"colorbar\":{\"outlinewidth\":0,\"ticks\":\"\"}}}],\"scatterternary\":[{\"type\":\"scatterternary\",\"marker\":{\"colorbar\":{\"outlinewidth\":0,\"ticks\":\"\"}}}],\"scattercarpet\":[{\"type\":\"scattercarpet\",\"marker\":{\"colorbar\":{\"outlinewidth\":0,\"ticks\":\"\"}}}],\"carpet\":[{\"aaxis\":{\"endlinecolor\":\"#2a3f5f\",\"gridcolor\":\"white\",\"linecolor\":\"white\",\"minorgridcolor\":\"white\",\"startlinecolor\":\"#2a3f5f\"},\"baxis\":{\"endlinecolor\":\"#2a3f5f\",\"gridcolor\":\"white\",\"linecolor\":\"white\",\"minorgridcolor\":\"white\",\"startlinecolor\":\"#2a3f5f\"},\"type\":\"carpet\"}],\"table\":[{\"cells\":{\"fill\":{\"color\":\"#EBF0F8\"},\"line\":{\"color\":\"white\"}},\"header\":{\"fill\":{\"color\":\"#C8D4E3\"},\"line\":{\"color\":\"white\"}},\"type\":\"table\"}],\"barpolar\":[{\"marker\":{\"line\":{\"color\":\"#E5ECF6\",\"width\":0.5},\"pattern\":{\"fillmode\":\"overlay\",\"size\":10,\"solidity\":0.2}},\"type\":\"barpolar\"}],\"pie\":[{\"automargin\":true,\"type\":\"pie\"}]},\"layout\":{\"autotypenumbers\":\"strict\",\"colorway\":[\"#636efa\",\"#EF553B\",\"#00cc96\",\"#ab63fa\",\"#FFA15A\",\"#19d3f3\",\"#FF6692\",\"#B6E880\",\"#FF97FF\",\"#FECB52\"],\"font\":{\"color\":\"#2a3f5f\"},\"hovermode\":\"closest\",\"hoverlabel\":{\"align\":\"left\"},\"paper_bgcolor\":\"white\",\"plot_bgcolor\":\"#E5ECF6\",\"polar\":{\"bgcolor\":\"#E5ECF6\",\"angularaxis\":{\"gridcolor\":\"white\",\"linecolor\":\"white\",\"ticks\":\"\"},\"radialaxis\":{\"gridcolor\":\"white\",\"linecolor\":\"white\",\"ticks\":\"\"}},\"ternary\":{\"bgcolor\":\"#E5ECF6\",\"aaxis\":{\"gridcolor\":\"white\",\"linecolor\":\"white\",\"ticks\":\"\"},\"baxis\":{\"gridcolor\":\"white\",\"linecolor\":\"white\",\"ticks\":\"\"},\"caxis\":{\"gridcolor\":\"white\",\"linecolor\":\"white\",\"ticks\":\"\"}},\"coloraxis\":{\"colorbar\":{\"outlinewidth\":0,\"ticks\":\"\"}},\"colorscale\":{\"sequential\":[[0.0,\"#0d0887\"],[0.1111111111111111,\"#46039f\"],[0.2222222222222222,\"#7201a8\"],[0.3333333333333333,\"#9c179e\"],[0.4444444444444444,\"#bd3786\"],[0.5555555555555556,\"#d8576b\"],[0.6666666666666666,\"#ed7953\"],[0.7777777777777778,\"#fb9f3a\"],[0.8888888888888888,\"#fdca26\"],[1.0,\"#f0f921\"]],\"sequentialminus\":[[0.0,\"#0d0887\"],[0.1111111111111111,\"#46039f\"],[0.2222222222222222,\"#7201a8\"],[0.3333333333333333,\"#9c179e\"],[0.4444444444444444,\"#bd3786\"],[0.5555555555555556,\"#d8576b\"],[0.6666666666666666,\"#ed7953\"],[0.7777777777777778,\"#fb9f3a\"],[0.8888888888888888,\"#fdca26\"],[1.0,\"#f0f921\"]],\"diverging\":[[0,\"#8e0152\"],[0.1,\"#c51b7d\"],[0.2,\"#de77ae\"],[0.3,\"#f1b6da\"],[0.4,\"#fde0ef\"],[0.5,\"#f7f7f7\"],[0.6,\"#e6f5d0\"],[0.7,\"#b8e186\"],[0.8,\"#7fbc41\"],[0.9,\"#4d9221\"],[1,\"#276419\"]]},\"xaxis\":{\"gridcolor\":\"white\",\"linecolor\":\"white\",\"ticks\":\"\",\"title\":{\"standoff\":15},\"zerolinecolor\":\"white\",\"automargin\":true,\"zerolinewidth\":2},\"yaxis\":{\"gridcolor\":\"white\",\"linecolor\":\"white\",\"ticks\":\"\",\"title\":{\"standoff\":15},\"zerolinecolor\":\"white\",\"automargin\":true,\"zerolinewidth\":2},\"scene\":{\"xaxis\":{\"backgroundcolor\":\"#E5ECF6\",\"gridcolor\":\"white\",\"linecolor\":\"white\",\"showbackground\":true,\"ticks\":\"\",\"zerolinecolor\":\"white\",\"gridwidth\":2},\"yaxis\":{\"backgroundcolor\":\"#E5ECF6\",\"gridcolor\":\"white\",\"linecolor\":\"white\",\"showbackground\":true,\"ticks\":\"\",\"zerolinecolor\":\"white\",\"gridwidth\":2},\"zaxis\":{\"backgroundcolor\":\"#E5ECF6\",\"gridcolor\":\"white\",\"linecolor\":\"white\",\"showbackground\":true,\"ticks\":\"\",\"zerolinecolor\":\"white\",\"gridwidth\":2}},\"shapedefaults\":{\"line\":{\"color\":\"#2a3f5f\"}},\"annotationdefaults\":{\"arrowcolor\":\"#2a3f5f\",\"arrowhead\":0,\"arrowwidth\":1},\"geo\":{\"bgcolor\":\"white\",\"landcolor\":\"#E5ECF6\",\"subunitcolor\":\"white\",\"showland\":true,\"showlakes\":true,\"lakecolor\":\"white\"},\"title\":{\"x\":0.05},\"mapbox\":{\"style\":\"light\"}}},\"scene\":{\"domain\":{\"x\":[0.0,1.0],\"y\":[0.0,1.0]},\"xaxis\":{\"title\":{\"text\":\"sepal_length\"}},\"yaxis\":{\"title\":{\"text\":\"sepal_width\"}},\"zaxis\":{\"title\":{\"text\":\"petal_width\"}}},\"legend\":{\"title\":{\"text\":\"species\"},\"tracegroupgap\":0},\"margin\":{\"t\":60}},                        {\"responsive\": true}                    ).then(function(){\n",
       "                            \n",
       "var gd = document.getElementById('924ff01e-cccc-47dd-92b5-322923ecd460');\n",
       "var x = new MutationObserver(function (mutations, observer) {{\n",
       "        var display = window.getComputedStyle(gd).display;\n",
       "        if (!display || display === 'none') {{\n",
       "            console.log([gd, 'removed!']);\n",
       "            Plotly.purge(gd);\n",
       "            observer.disconnect();\n",
       "        }}\n",
       "}});\n",
       "\n",
       "// Listen for the removal of the full notebook cells\n",
       "var notebookContainer = gd.closest('#notebook-container');\n",
       "if (notebookContainer) {{\n",
       "    x.observe(notebookContainer, {childList: true});\n",
       "}}\n",
       "\n",
       "// Listen for the clearing of the current output cell\n",
       "var outputEl = gd.closest('.output');\n",
       "if (outputEl) {{\n",
       "    x.observe(outputEl, {childList: true});\n",
       "}}\n",
       "\n",
       "                        })                };                });            </script>        </div>"
      ]
     },
     "metadata": {},
     "output_type": "display_data"
    }
   ],
   "source": [
    "U = eigenvectors[:, 0:3]\n",
    "X_star_3D = X.dot(U)\n",
    "df_3D = pd.DataFrame({'sepal_length': X_star_3D[:, 0], 'sepal_width': X_star_3D[:, 1], 'petal_width': X_star_3D[:, 2], 'species': y})\n",
    "fig = px.scatter_3d(df_3D, x='sepal_length', y='sepal_width', z='petal_width',\n",
    "              color='species')\n",
    "fig.show()"
   ]
  },
  {
   "cell_type": "markdown",
   "id": "eb65d41c-d9b4-496e-8cd8-924a3409108c",
   "metadata": {},
   "source": [
    "<span style=\"font-family: XB Zar; font-size: medium; \"><div dir=rtl><meta charset=\"UTF-8\">\n",
    "    <br>\n",
    "    در این قسمت با انتخاب 2 بردار ویژه، فضای مقصد را 2 بعدی در نظر گرفته و تبدیل را انجام می‌دهیم:  \n",
    "    </div></span>"
   ]
  },
  {
   "cell_type": "code",
   "execution_count": 41,
   "id": "d009a8c4-51db-4ec1-87f0-9f04d0367e5f",
   "metadata": {},
   "outputs": [
    {
     "data": {
      "application/vnd.plotly.v1+json": {
       "config": {
        "plotlyServerURL": "https://plot.ly"
       },
       "data": [
        {
         "hovertemplate": "species=Setosa<br>sepal_length=%{x}<br>sepal_width=%{y}<extra></extra>",
         "legendgroup": "Setosa",
         "marker": {
          "color": "#636efa",
          "symbol": "circle"
         },
         "mode": "markers",
         "name": "Setosa",
         "orientation": "v",
         "showlegend": true,
         "type": "scatter",
         "x": [
          2.818239506639465,
          2.7882234453146766,
          2.6133745635497054,
          2.7570222769675925,
          2.7736485960544717,
          3.221505499764509,
          2.6818273818683935,
          2.876220159462369,
          2.6159824008284494,
          2.829609334788048,
          2.9954180419571457,
          2.8896099017002794,
          2.7162558664209846,
          2.27856138874335,
          2.857614742666972,
          3.1163260990778676,
          2.878837257384575,
          2.8540684263546203,
          3.3025448089914216,
          2.9143787327302335,
          3.192108917366484,
          2.958659903851845,
          2.2864257169603905,
          3.199631950382795,
          3.14661108348523,
          2.9956962256831803,
          3.0335450594876625,
          2.940045226412986,
          2.862830417224459,
          2.8703757453346563,
          2.91496665591965,
          3.0924326356068264,
          2.8535027982590897,
          2.9036283835084142,
          2.865438254503203,
          2.6361234804903324,
          2.8771270827586295,
          2.70168101716078,
          2.521863088827009,
          2.912358818640906,
          2.7322627065811003,
          2.652996427565899,
          2.5049585860140953,
          3.096750647511516,
          3.2928758948253223,
          2.787913705851295,
          2.964216873610062,
          2.662902964966152,
          2.959279382778609,
          2.7990053502738426
         ],
         "xaxis": "x",
         "y": [
          -5.6463498234127965,
          -5.149951351762915,
          -5.182003150742138,
          -5.008653597575779,
          -5.653707089762615,
          -6.06828302589061,
          -5.237491192299125,
          -5.490337536526025,
          -4.748640822640992,
          -5.213178330953579,
          -5.97202147547627,
          -5.341682515989069,
          -5.0918405766259776,
          -4.815557989821313,
          -6.505717213265272,
          -6.665014907228347,
          -6.137632091008952,
          -5.63880172142105,
          -6.1997916157899065,
          -5.840512885576972,
          -5.71829851248159,
          -5.759948640106724,
          -5.46042064636622,
          -5.425661431641795,
          -5.289670717150312,
          -5.180935696332428,
          -5.457904066262945,
          -5.694671434261896,
          -5.638992557062979,
          -5.129991351903381,
          -5.122634085553561,
          -5.737876841057269,
          -6.140316397124657,
          -6.420098336277052,
          -5.205630228961833,
          -5.396317048407777,
          -5.926322598207119,
          -5.595596314625677,
          -4.838994232399079,
          -5.555996413654708,
          -5.590480110571952,
          -4.385992003186499,
          -4.985026519356085,
          -5.515824005757955,
          -5.763615718466882,
          -5.076744372642485,
          -5.830723721289132,
          -5.099007007333867,
          -5.906362598347585,
          -5.434658659327107
         ],
         "yaxis": "y"
        },
        {
         "hovertemplate": "species=Versicolor<br>sepal_length=%{x}<br>sepal_width=%{y}<extra></extra>",
         "legendgroup": "Versicolor",
         "marker": {
          "color": "#EF553B",
          "symbol": "circle"
         },
         "mode": "markers",
         "name": "Versicolor",
         "orientation": "v",
         "showlegend": true,
         "type": "scatter",
         "x": [
          6.787190821467353,
          6.434853664921319,
          6.966667454600395,
          5.685682852567373,
          6.590468390320667,
          6.144034216867079,
          6.597425795241448,
          4.753242462779345,
          6.546496958662437,
          5.493619728526106,
          4.9945242487736765,
          6.014063690056599,
          5.767341640721049,
          6.487299643079892,
          5.328439760927234,
          6.430225913553248,
          6.1626488943059385,
          5.738470125926673,
          6.447098860628815,
          5.547592108907701,
          6.618648309959052,
          5.860253550606309,
          6.800549007967915,
          6.424094055056038,
          6.217218458520413,
          6.402539505781169,
          6.83438956933109,
          7.060167287675072,
          6.315655782426544,
          5.196781354584693,
          5.434238640540638,
          5.3127426602305,
          5.638793844167017,
          6.882391568524513,
          6.090371575948866,
          6.309223445109414,
          6.723056015053354,
          6.317460368375601,
          5.748322812495695,
          5.668778349754459,
          5.967165421012782,
          6.393180331078451,
          5.732913156168457,
          4.797833373364338,
          5.859346627310049,
          5.83429961255406,
          5.878580783675672,
          6.14494114016334,
          4.595895267660166,
          5.801365974487145
         ],
         "xaxis": "x",
         "y": [
          -6.0121130472950055,
          -5.645286215090326,
          -5.831215392136902,
          -4.498993565007064,
          -5.401543252025413,
          -4.908705705259017,
          -5.610420846889223,
          -4.3220616156458,
          -5.555314476616093,
          -4.603870671822861,
          -4.060981386301303,
          -5.222971341328655,
          -4.776916113147222,
          -5.202134722701339,
          -5.072098368125107,
          -5.794132071269207,
          -4.973982911103845,
          -4.993341810002781,
          -4.783807026047931,
          -4.743118199355832,
          -5.242335724632906,
          -5.258027545171682,
          -4.99916526849378,
          -5.144214783206329,
          -5.476008521197483,
          -5.65545705066202,
          -5.571393452844041,
          -5.594448024137949,
          -5.16360227614008,
          -4.9586903870731085,
          -4.621780445028231,
          -4.646665813299563,
          -5.01292013857846,
          -4.905998289513813,
          -4.8426651568464765,
          -5.521134891540845,
          -5.734572170438703,
          -4.954915516918195,
          -5.058428180205681,
          -4.645025851964069,
          -4.656241032315975,
          -5.292488132459427,
          -4.922566728820371,
          -4.314704349295981,
          -4.822042483490588,
          -5.114297893046526,
          -5.033733647576277,
          -5.344690766940114,
          -4.570859210228681,
          -4.978054770377359
         ],
         "yaxis": "y"
        },
        {
         "hovertemplate": "species=Virginica<br>sepal_length=%{x}<br>sepal_width=%{y}<extra></extra>",
         "legendgroup": "Virginica",
         "marker": {
          "color": "#00cc96",
          "symbol": "circle"
         },
         "mode": "markers",
         "name": "Virginica",
         "orientation": "v",
         "showlegend": true,
         "type": "scatter",
         "x": [
          8.033557860412628,
          6.917601009312904,
          8.11904114860469,
          7.473896185652437,
          7.852371052653641,
          8.89940386866226,
          6.023597376518776,
          8.43495220160269,
          7.82359394918238,
          8.419116099395072,
          7.164139286245532,
          7.305767085574091,
          7.667956928689146,
          6.848528712067452,
          7.088293356482223,
          7.4068215074024275,
          7.452054192008071,
          8.98942049689928,
          9.298010554681886,
          6.803156845246659,
          7.930183045675046,
          6.701366238074562,
          9.002285171533538,
          6.8911312643004665,
          7.777795636481206,
          8.116455606419832,
          6.76087329312049,
          6.793497191724023,
          7.625973855382895,
          7.890368148612469,
          8.344037910712872,
          8.733038794041093,
          7.66180277509805,
          6.946526374938511,
          7.283659942654114,
          8.578865064296188,
          7.646608446911083,
          7.407463281423077,
          6.671691471950502,
          7.609976275866242,
          7.8165198378446,
          7.424632933511601,
          6.917601009312904,
          8.065378507686477,
          7.921111315341826,
          7.446474927155969,
          7.029531747423518,
          7.26671084965343,
          7.4033067468274245,
          6.892553994556915
         ],
         "xaxis": "x",
         "y": [
          -5.3171034673288915,
          -4.752036229281205,
          -5.67085572816943,
          -5.14722467247545,
          -5.286691629685163,
          -5.877789249855752,
          -4.1341938498270485,
          -5.682452579805194,
          -5.083121074517005,
          -6.109744525642972,
          -5.569180984582761,
          -5.11131495949414,
          -5.54322816190172,
          -4.550134229483354,
          -4.7873118628009745,
          -5.4462032689196676,
          -5.368895836490906,
          -6.502691906541124,
          -5.584275550248177,
          -4.565802940392633,
          -5.705148589444746,
          -4.720861049069764,
          -5.787626675739592,
          -5.122553249475544,
          -5.661943182649371,
          -5.887853931950774,
          -5.147247782104949,
          -5.210283925653683,
          -5.117223100150393,
          -5.791592381536432,
          -5.7022217440228,
          -6.701117663620743,
          -5.1096749981586465,
          -5.183539166370116,
          -4.827050895749561,
          -6.015038254398871,
          -5.467016777917483,
          -5.376253102840725,
          -5.161962314804585,
          -5.699240448788493,
          -5.510603855996713,
          -5.736156043643757,
          -4.752036229281205,
          -5.60481517975689,
          -5.631750774682385,
          -5.5144848796282995,
          -4.951635594247207,
          -5.40581143134617,
          -5.443580535339717,
          -5.0442916388371435
         ],
         "yaxis": "y"
        }
       ],
       "layout": {
        "autosize": true,
        "legend": {
         "title": {
          "text": "species"
         },
         "tracegroupgap": 0
        },
        "margin": {
         "t": 60
        },
        "template": {
         "data": {
          "bar": [
           {
            "error_x": {
             "color": "#2a3f5f"
            },
            "error_y": {
             "color": "#2a3f5f"
            },
            "marker": {
             "line": {
              "color": "#E5ECF6",
              "width": 0.5
             },
             "pattern": {
              "fillmode": "overlay",
              "size": 10,
              "solidity": 0.2
             }
            },
            "type": "bar"
           }
          ],
          "barpolar": [
           {
            "marker": {
             "line": {
              "color": "#E5ECF6",
              "width": 0.5
             },
             "pattern": {
              "fillmode": "overlay",
              "size": 10,
              "solidity": 0.2
             }
            },
            "type": "barpolar"
           }
          ],
          "carpet": [
           {
            "aaxis": {
             "endlinecolor": "#2a3f5f",
             "gridcolor": "white",
             "linecolor": "white",
             "minorgridcolor": "white",
             "startlinecolor": "#2a3f5f"
            },
            "baxis": {
             "endlinecolor": "#2a3f5f",
             "gridcolor": "white",
             "linecolor": "white",
             "minorgridcolor": "white",
             "startlinecolor": "#2a3f5f"
            },
            "type": "carpet"
           }
          ],
          "choropleth": [
           {
            "colorbar": {
             "outlinewidth": 0,
             "ticks": ""
            },
            "type": "choropleth"
           }
          ],
          "contour": [
           {
            "colorbar": {
             "outlinewidth": 0,
             "ticks": ""
            },
            "colorscale": [
             [
              0,
              "#0d0887"
             ],
             [
              0.1111111111111111,
              "#46039f"
             ],
             [
              0.2222222222222222,
              "#7201a8"
             ],
             [
              0.3333333333333333,
              "#9c179e"
             ],
             [
              0.4444444444444444,
              "#bd3786"
             ],
             [
              0.5555555555555556,
              "#d8576b"
             ],
             [
              0.6666666666666666,
              "#ed7953"
             ],
             [
              0.7777777777777778,
              "#fb9f3a"
             ],
             [
              0.8888888888888888,
              "#fdca26"
             ],
             [
              1,
              "#f0f921"
             ]
            ],
            "type": "contour"
           }
          ],
          "contourcarpet": [
           {
            "colorbar": {
             "outlinewidth": 0,
             "ticks": ""
            },
            "type": "contourcarpet"
           }
          ],
          "heatmap": [
           {
            "colorbar": {
             "outlinewidth": 0,
             "ticks": ""
            },
            "colorscale": [
             [
              0,
              "#0d0887"
             ],
             [
              0.1111111111111111,
              "#46039f"
             ],
             [
              0.2222222222222222,
              "#7201a8"
             ],
             [
              0.3333333333333333,
              "#9c179e"
             ],
             [
              0.4444444444444444,
              "#bd3786"
             ],
             [
              0.5555555555555556,
              "#d8576b"
             ],
             [
              0.6666666666666666,
              "#ed7953"
             ],
             [
              0.7777777777777778,
              "#fb9f3a"
             ],
             [
              0.8888888888888888,
              "#fdca26"
             ],
             [
              1,
              "#f0f921"
             ]
            ],
            "type": "heatmap"
           }
          ],
          "heatmapgl": [
           {
            "colorbar": {
             "outlinewidth": 0,
             "ticks": ""
            },
            "colorscale": [
             [
              0,
              "#0d0887"
             ],
             [
              0.1111111111111111,
              "#46039f"
             ],
             [
              0.2222222222222222,
              "#7201a8"
             ],
             [
              0.3333333333333333,
              "#9c179e"
             ],
             [
              0.4444444444444444,
              "#bd3786"
             ],
             [
              0.5555555555555556,
              "#d8576b"
             ],
             [
              0.6666666666666666,
              "#ed7953"
             ],
             [
              0.7777777777777778,
              "#fb9f3a"
             ],
             [
              0.8888888888888888,
              "#fdca26"
             ],
             [
              1,
              "#f0f921"
             ]
            ],
            "type": "heatmapgl"
           }
          ],
          "histogram": [
           {
            "marker": {
             "pattern": {
              "fillmode": "overlay",
              "size": 10,
              "solidity": 0.2
             }
            },
            "type": "histogram"
           }
          ],
          "histogram2d": [
           {
            "colorbar": {
             "outlinewidth": 0,
             "ticks": ""
            },
            "colorscale": [
             [
              0,
              "#0d0887"
             ],
             [
              0.1111111111111111,
              "#46039f"
             ],
             [
              0.2222222222222222,
              "#7201a8"
             ],
             [
              0.3333333333333333,
              "#9c179e"
             ],
             [
              0.4444444444444444,
              "#bd3786"
             ],
             [
              0.5555555555555556,
              "#d8576b"
             ],
             [
              0.6666666666666666,
              "#ed7953"
             ],
             [
              0.7777777777777778,
              "#fb9f3a"
             ],
             [
              0.8888888888888888,
              "#fdca26"
             ],
             [
              1,
              "#f0f921"
             ]
            ],
            "type": "histogram2d"
           }
          ],
          "histogram2dcontour": [
           {
            "colorbar": {
             "outlinewidth": 0,
             "ticks": ""
            },
            "colorscale": [
             [
              0,
              "#0d0887"
             ],
             [
              0.1111111111111111,
              "#46039f"
             ],
             [
              0.2222222222222222,
              "#7201a8"
             ],
             [
              0.3333333333333333,
              "#9c179e"
             ],
             [
              0.4444444444444444,
              "#bd3786"
             ],
             [
              0.5555555555555556,
              "#d8576b"
             ],
             [
              0.6666666666666666,
              "#ed7953"
             ],
             [
              0.7777777777777778,
              "#fb9f3a"
             ],
             [
              0.8888888888888888,
              "#fdca26"
             ],
             [
              1,
              "#f0f921"
             ]
            ],
            "type": "histogram2dcontour"
           }
          ],
          "mesh3d": [
           {
            "colorbar": {
             "outlinewidth": 0,
             "ticks": ""
            },
            "type": "mesh3d"
           }
          ],
          "parcoords": [
           {
            "line": {
             "colorbar": {
              "outlinewidth": 0,
              "ticks": ""
             }
            },
            "type": "parcoords"
           }
          ],
          "pie": [
           {
            "automargin": true,
            "type": "pie"
           }
          ],
          "scatter": [
           {
            "fillpattern": {
             "fillmode": "overlay",
             "size": 10,
             "solidity": 0.2
            },
            "type": "scatter"
           }
          ],
          "scatter3d": [
           {
            "line": {
             "colorbar": {
              "outlinewidth": 0,
              "ticks": ""
             }
            },
            "marker": {
             "colorbar": {
              "outlinewidth": 0,
              "ticks": ""
             }
            },
            "type": "scatter3d"
           }
          ],
          "scattercarpet": [
           {
            "marker": {
             "colorbar": {
              "outlinewidth": 0,
              "ticks": ""
             }
            },
            "type": "scattercarpet"
           }
          ],
          "scattergeo": [
           {
            "marker": {
             "colorbar": {
              "outlinewidth": 0,
              "ticks": ""
             }
            },
            "type": "scattergeo"
           }
          ],
          "scattergl": [
           {
            "marker": {
             "colorbar": {
              "outlinewidth": 0,
              "ticks": ""
             }
            },
            "type": "scattergl"
           }
          ],
          "scattermapbox": [
           {
            "marker": {
             "colorbar": {
              "outlinewidth": 0,
              "ticks": ""
             }
            },
            "type": "scattermapbox"
           }
          ],
          "scatterpolar": [
           {
            "marker": {
             "colorbar": {
              "outlinewidth": 0,
              "ticks": ""
             }
            },
            "type": "scatterpolar"
           }
          ],
          "scatterpolargl": [
           {
            "marker": {
             "colorbar": {
              "outlinewidth": 0,
              "ticks": ""
             }
            },
            "type": "scatterpolargl"
           }
          ],
          "scatterternary": [
           {
            "marker": {
             "colorbar": {
              "outlinewidth": 0,
              "ticks": ""
             }
            },
            "type": "scatterternary"
           }
          ],
          "surface": [
           {
            "colorbar": {
             "outlinewidth": 0,
             "ticks": ""
            },
            "colorscale": [
             [
              0,
              "#0d0887"
             ],
             [
              0.1111111111111111,
              "#46039f"
             ],
             [
              0.2222222222222222,
              "#7201a8"
             ],
             [
              0.3333333333333333,
              "#9c179e"
             ],
             [
              0.4444444444444444,
              "#bd3786"
             ],
             [
              0.5555555555555556,
              "#d8576b"
             ],
             [
              0.6666666666666666,
              "#ed7953"
             ],
             [
              0.7777777777777778,
              "#fb9f3a"
             ],
             [
              0.8888888888888888,
              "#fdca26"
             ],
             [
              1,
              "#f0f921"
             ]
            ],
            "type": "surface"
           }
          ],
          "table": [
           {
            "cells": {
             "fill": {
              "color": "#EBF0F8"
             },
             "line": {
              "color": "white"
             }
            },
            "header": {
             "fill": {
              "color": "#C8D4E3"
             },
             "line": {
              "color": "white"
             }
            },
            "type": "table"
           }
          ]
         },
         "layout": {
          "annotationdefaults": {
           "arrowcolor": "#2a3f5f",
           "arrowhead": 0,
           "arrowwidth": 1
          },
          "autotypenumbers": "strict",
          "coloraxis": {
           "colorbar": {
            "outlinewidth": 0,
            "ticks": ""
           }
          },
          "colorscale": {
           "diverging": [
            [
             0,
             "#8e0152"
            ],
            [
             0.1,
             "#c51b7d"
            ],
            [
             0.2,
             "#de77ae"
            ],
            [
             0.3,
             "#f1b6da"
            ],
            [
             0.4,
             "#fde0ef"
            ],
            [
             0.5,
             "#f7f7f7"
            ],
            [
             0.6,
             "#e6f5d0"
            ],
            [
             0.7,
             "#b8e186"
            ],
            [
             0.8,
             "#7fbc41"
            ],
            [
             0.9,
             "#4d9221"
            ],
            [
             1,
             "#276419"
            ]
           ],
           "sequential": [
            [
             0,
             "#0d0887"
            ],
            [
             0.1111111111111111,
             "#46039f"
            ],
            [
             0.2222222222222222,
             "#7201a8"
            ],
            [
             0.3333333333333333,
             "#9c179e"
            ],
            [
             0.4444444444444444,
             "#bd3786"
            ],
            [
             0.5555555555555556,
             "#d8576b"
            ],
            [
             0.6666666666666666,
             "#ed7953"
            ],
            [
             0.7777777777777778,
             "#fb9f3a"
            ],
            [
             0.8888888888888888,
             "#fdca26"
            ],
            [
             1,
             "#f0f921"
            ]
           ],
           "sequentialminus": [
            [
             0,
             "#0d0887"
            ],
            [
             0.1111111111111111,
             "#46039f"
            ],
            [
             0.2222222222222222,
             "#7201a8"
            ],
            [
             0.3333333333333333,
             "#9c179e"
            ],
            [
             0.4444444444444444,
             "#bd3786"
            ],
            [
             0.5555555555555556,
             "#d8576b"
            ],
            [
             0.6666666666666666,
             "#ed7953"
            ],
            [
             0.7777777777777778,
             "#fb9f3a"
            ],
            [
             0.8888888888888888,
             "#fdca26"
            ],
            [
             1,
             "#f0f921"
            ]
           ]
          },
          "colorway": [
           "#636efa",
           "#EF553B",
           "#00cc96",
           "#ab63fa",
           "#FFA15A",
           "#19d3f3",
           "#FF6692",
           "#B6E880",
           "#FF97FF",
           "#FECB52"
          ],
          "font": {
           "color": "#2a3f5f"
          },
          "geo": {
           "bgcolor": "white",
           "lakecolor": "white",
           "landcolor": "#E5ECF6",
           "showlakes": true,
           "showland": true,
           "subunitcolor": "white"
          },
          "hoverlabel": {
           "align": "left"
          },
          "hovermode": "closest",
          "mapbox": {
           "style": "light"
          },
          "paper_bgcolor": "white",
          "plot_bgcolor": "#E5ECF6",
          "polar": {
           "angularaxis": {
            "gridcolor": "white",
            "linecolor": "white",
            "ticks": ""
           },
           "bgcolor": "#E5ECF6",
           "radialaxis": {
            "gridcolor": "white",
            "linecolor": "white",
            "ticks": ""
           }
          },
          "scene": {
           "xaxis": {
            "backgroundcolor": "#E5ECF6",
            "gridcolor": "white",
            "gridwidth": 2,
            "linecolor": "white",
            "showbackground": true,
            "ticks": "",
            "zerolinecolor": "white"
           },
           "yaxis": {
            "backgroundcolor": "#E5ECF6",
            "gridcolor": "white",
            "gridwidth": 2,
            "linecolor": "white",
            "showbackground": true,
            "ticks": "",
            "zerolinecolor": "white"
           },
           "zaxis": {
            "backgroundcolor": "#E5ECF6",
            "gridcolor": "white",
            "gridwidth": 2,
            "linecolor": "white",
            "showbackground": true,
            "ticks": "",
            "zerolinecolor": "white"
           }
          },
          "shapedefaults": {
           "line": {
            "color": "#2a3f5f"
           }
          },
          "ternary": {
           "aaxis": {
            "gridcolor": "white",
            "linecolor": "white",
            "ticks": ""
           },
           "baxis": {
            "gridcolor": "white",
            "linecolor": "white",
            "ticks": ""
           },
           "bgcolor": "#E5ECF6",
           "caxis": {
            "gridcolor": "white",
            "linecolor": "white",
            "ticks": ""
           }
          },
          "title": {
           "x": 0.05
          },
          "xaxis": {
           "automargin": true,
           "gridcolor": "white",
           "linecolor": "white",
           "ticks": "",
           "title": {
            "standoff": 15
           },
           "zerolinecolor": "white",
           "zerolinewidth": 2
          },
          "yaxis": {
           "automargin": true,
           "gridcolor": "white",
           "linecolor": "white",
           "ticks": "",
           "title": {
            "standoff": 15
           },
           "zerolinecolor": "white",
           "zerolinewidth": 2
          }
         }
        },
        "xaxis": {
         "anchor": "y",
         "autorange": true,
         "domain": [
          0,
          1
         ],
         "range": [
          1.8551469307636381,
          9.721425012661598
         ],
         "title": {
          "text": "sepal_length"
         },
         "type": "linear"
        },
        "yaxis": {
         "anchor": "x",
         "autorange": true,
         "domain": [
          0,
          1
         ],
         "range": [
          -6.905537664095608,
          -3.856561385826438
         ],
         "title": {
          "text": "sepal_width"
         },
         "type": "linear"
        }
       }
      },
      "image/png": "[encoded data removed]",
      "text/html": [
       "<div>                            <div id=\"747f80a9-56f4-4f4b-bc90-ecb108dcc353\" class=\"plotly-graph-div\" style=\"height:525px; width:100%;\"></div>            <script type=\"text/javascript\">                require([\"plotly\"], function(Plotly) {                    window.PLOTLYENV=window.PLOTLYENV || {};                                    if (document.getElementById(\"747f80a9-56f4-4f4b-bc90-ecb108dcc353\")) {                    Plotly.newPlot(                        \"747f80a9-56f4-4f4b-bc90-ecb108dcc353\",                        [{\"hovertemplate\":\"species=Setosa<br>sepal_length=%{x}<br>sepal_width=%{y}<extra></extra>\",\"legendgroup\":\"Setosa\",\"marker\":{\"color\":\"#636efa\",\"symbol\":\"circle\"},\"mode\":\"markers\",\"name\":\"Setosa\",\"orientation\":\"v\",\"showlegend\":true,\"x\":[2.818239506639465,2.7882234453146766,2.6133745635497054,2.7570222769675925,2.7736485960544717,3.221505499764509,2.6818273818683935,2.876220159462369,2.6159824008284494,2.829609334788048,2.9954180419571457,2.8896099017002794,2.7162558664209846,2.27856138874335,2.857614742666972,3.1163260990778676,2.878837257384575,2.8540684263546203,3.3025448089914216,2.9143787327302335,3.192108917366484,2.958659903851845,2.2864257169603905,3.199631950382795,3.14661108348523,2.9956962256831803,3.0335450594876625,2.940045226412986,2.862830417224459,2.8703757453346563,2.91496665591965,3.0924326356068264,2.8535027982590897,2.9036283835084142,2.865438254503203,2.6361234804903324,2.8771270827586295,2.70168101716078,2.521863088827009,2.912358818640906,2.7322627065811003,2.652996427565899,2.5049585860140953,3.096750647511516,3.2928758948253223,2.787913705851295,2.964216873610062,2.662902964966152,2.959279382778609,2.7990053502738426],\"xaxis\":\"x\",\"y\":[-5.6463498234127965,-5.149951351762915,-5.182003150742138,-5.008653597575779,-5.653707089762615,-6.06828302589061,-5.237491192299125,-5.490337536526025,-4.748640822640992,-5.213178330953579,-5.97202147547627,-5.341682515989069,-5.0918405766259776,-4.815557989821313,-6.505717213265272,-6.665014907228347,-6.137632091008952,-5.63880172142105,-6.1997916157899065,-5.840512885576972,-5.71829851248159,-5.759948640106724,-5.46042064636622,-5.425661431641795,-5.289670717150312,-5.180935696332428,-5.457904066262945,-5.694671434261896,-5.638992557062979,-5.129991351903381,-5.122634085553561,-5.737876841057269,-6.140316397124657,-6.420098336277052,-5.205630228961833,-5.396317048407777,-5.926322598207119,-5.595596314625677,-4.838994232399079,-5.555996413654708,-5.590480110571952,-4.385992003186499,-4.985026519356085,-5.515824005757955,-5.763615718466882,-5.076744372642485,-5.830723721289132,-5.099007007333867,-5.906362598347585,-5.434658659327107],\"yaxis\":\"y\",\"type\":\"scatter\"},{\"hovertemplate\":\"species=Versicolor<br>sepal_length=%{x}<br>sepal_width=%{y}<extra></extra>\",\"legendgroup\":\"Versicolor\",\"marker\":{\"color\":\"#EF553B\",\"symbol\":\"circle\"},\"mode\":\"markers\",\"name\":\"Versicolor\",\"orientation\":\"v\",\"showlegend\":true,\"x\":[6.787190821467353,6.434853664921319,6.966667454600395,5.685682852567373,6.590468390320667,6.144034216867079,6.597425795241448,4.753242462779345,6.546496958662437,5.493619728526106,4.9945242487736765,6.014063690056599,5.767341640721049,6.487299643079892,5.328439760927234,6.430225913553248,6.1626488943059385,5.738470125926673,6.447098860628815,5.547592108907701,6.618648309959052,5.860253550606309,6.800549007967915,6.424094055056038,6.217218458520413,6.402539505781169,6.83438956933109,7.060167287675072,6.315655782426544,5.196781354584693,5.434238640540638,5.3127426602305,5.638793844167017,6.882391568524513,6.090371575948866,6.309223445109414,6.723056015053354,6.317460368375601,5.748322812495695,5.668778349754459,5.967165421012782,6.393180331078451,5.732913156168457,4.797833373364338,5.859346627310049,5.83429961255406,5.878580783675672,6.14494114016334,4.595895267660166,5.801365974487145],\"xaxis\":\"x\",\"y\":[-6.0121130472950055,-5.645286215090326,-5.831215392136902,-4.498993565007064,-5.401543252025413,-4.908705705259017,-5.610420846889223,-4.3220616156458,-5.555314476616093,-4.603870671822861,-4.060981386301303,-5.222971341328655,-4.776916113147222,-5.202134722701339,-5.072098368125107,-5.794132071269207,-4.973982911103845,-4.993341810002781,-4.783807026047931,-4.743118199355832,-5.242335724632906,-5.258027545171682,-4.99916526849378,-5.144214783206329,-5.476008521197483,-5.65545705066202,-5.571393452844041,-5.594448024137949,-5.16360227614008,-4.9586903870731085,-4.621780445028231,-4.646665813299563,-5.01292013857846,-4.905998289513813,-4.8426651568464765,-5.521134891540845,-5.734572170438703,-4.954915516918195,-5.058428180205681,-4.645025851964069,-4.656241032315975,-5.292488132459427,-4.922566728820371,-4.314704349295981,-4.822042483490588,-5.114297893046526,-5.033733647576277,-5.344690766940114,-4.570859210228681,-4.978054770377359],\"yaxis\":\"y\",\"type\":\"scatter\"},{\"hovertemplate\":\"species=Virginica<br>sepal_length=%{x}<br>sepal_width=%{y}<extra></extra>\",\"legendgroup\":\"Virginica\",\"marker\":{\"color\":\"#00cc96\",\"symbol\":\"circle\"},\"mode\":\"markers\",\"name\":\"Virginica\",\"orientation\":\"v\",\"showlegend\":true,\"x\":[8.033557860412628,6.917601009312904,8.11904114860469,7.473896185652437,7.852371052653641,8.89940386866226,6.023597376518776,8.43495220160269,7.82359394918238,8.419116099395072,7.164139286245532,7.305767085574091,7.667956928689146,6.848528712067452,7.088293356482223,7.4068215074024275,7.452054192008071,8.98942049689928,9.298010554681886,6.803156845246659,7.930183045675046,6.701366238074562,9.002285171533538,6.8911312643004665,7.777795636481206,8.116455606419832,6.76087329312049,6.793497191724023,7.625973855382895,7.890368148612469,8.344037910712872,8.733038794041093,7.66180277509805,6.946526374938511,7.283659942654114,8.578865064296188,7.646608446911083,7.407463281423077,6.671691471950502,7.609976275866242,7.8165198378446,7.424632933511601,6.917601009312904,8.065378507686477,7.921111315341826,7.446474927155969,7.029531747423518,7.26671084965343,7.4033067468274245,6.892553994556915],\"xaxis\":\"x\",\"y\":[-5.3171034673288915,-4.752036229281205,-5.67085572816943,-5.14722467247545,-5.286691629685163,-5.877789249855752,-4.1341938498270485,-5.682452579805194,-5.083121074517005,-6.109744525642972,-5.569180984582761,-5.11131495949414,-5.54322816190172,-4.550134229483354,-4.7873118628009745,-5.4462032689196676,-5.368895836490906,-6.502691906541124,-5.584275550248177,-4.565802940392633,-5.705148589444746,-4.720861049069764,-5.787626675739592,-5.122553249475544,-5.661943182649371,-5.887853931950774,-5.147247782104949,-5.210283925653683,-5.117223100150393,-5.791592381536432,-5.7022217440228,-6.701117663620743,-5.1096749981586465,-5.183539166370116,-4.827050895749561,-6.015038254398871,-5.467016777917483,-5.376253102840725,-5.161962314804585,-5.699240448788493,-5.510603855996713,-5.736156043643757,-4.752036229281205,-5.60481517975689,-5.631750774682385,-5.5144848796282995,-4.951635594247207,-5.40581143134617,-5.443580535339717,-5.0442916388371435],\"yaxis\":\"y\",\"type\":\"scatter\"}],                        {\"template\":{\"data\":{\"histogram2dcontour\":[{\"type\":\"histogram2dcontour\",\"colorbar\":{\"outlinewidth\":0,\"ticks\":\"\"},\"colorscale\":[[0.0,\"#0d0887\"],[0.1111111111111111,\"#46039f\"],[0.2222222222222222,\"#7201a8\"],[0.3333333333333333,\"#9c179e\"],[0.4444444444444444,\"#bd3786\"],[0.5555555555555556,\"#d8576b\"],[0.6666666666666666,\"#ed7953\"],[0.7777777777777778,\"#fb9f3a\"],[0.8888888888888888,\"#fdca26\"],[1.0,\"#f0f921\"]]}],\"choropleth\":[{\"type\":\"choropleth\",\"colorbar\":{\"outlinewidth\":0,\"ticks\":\"\"}}],\"histogram2d\":[{\"type\":\"histogram2d\",\"colorbar\":{\"outlinewidth\":0,\"ticks\":\"\"},\"colorscale\":[[0.0,\"#0d0887\"],[0.1111111111111111,\"#46039f\"],[0.2222222222222222,\"#7201a8\"],[0.3333333333333333,\"#9c179e\"],[0.4444444444444444,\"#bd3786\"],[0.5555555555555556,\"#d8576b\"],[0.6666666666666666,\"#ed7953\"],[0.7777777777777778,\"#fb9f3a\"],[0.8888888888888888,\"#fdca26\"],[1.0,\"#f0f921\"]]}],\"heatmap\":[{\"type\":\"heatmap\",\"colorbar\":{\"outlinewidth\":0,\"ticks\":\"\"},\"colorscale\":[[0.0,\"#0d0887\"],[0.1111111111111111,\"#46039f\"],[0.2222222222222222,\"#7201a8\"],[0.3333333333333333,\"#9c179e\"],[0.4444444444444444,\"#bd3786\"],[0.5555555555555556,\"#d8576b\"],[0.6666666666666666,\"#ed7953\"],[0.7777777777777778,\"#fb9f3a\"],[0.8888888888888888,\"#fdca26\"],[1.0,\"#f0f921\"]]}],\"heatmapgl\":[{\"type\":\"heatmapgl\",\"colorbar\":{\"outlinewidth\":0,\"ticks\":\"\"},\"colorscale\":[[0.0,\"#0d0887\"],[0.1111111111111111,\"#46039f\"],[0.2222222222222222,\"#7201a8\"],[0.3333333333333333,\"#9c179e\"],[0.4444444444444444,\"#bd3786\"],[0.5555555555555556,\"#d8576b\"],[0.6666666666666666,\"#ed7953\"],[0.7777777777777778,\"#fb9f3a\"],[0.8888888888888888,\"#fdca26\"],[1.0,\"#f0f921\"]]}],\"contourcarpet\":[{\"type\":\"contourcarpet\",\"colorbar\":{\"outlinewidth\":0,\"ticks\":\"\"}}],\"contour\":[{\"type\":\"contour\",\"colorbar\":{\"outlinewidth\":0,\"ticks\":\"\"},\"colorscale\":[[0.0,\"#0d0887\"],[0.1111111111111111,\"#46039f\"],[0.2222222222222222,\"#7201a8\"],[0.3333333333333333,\"#9c179e\"],[0.4444444444444444,\"#bd3786\"],[0.5555555555555556,\"#d8576b\"],[0.6666666666666666,\"#ed7953\"],[0.7777777777777778,\"#fb9f3a\"],[0.8888888888888888,\"#fdca26\"],[1.0,\"#f0f921\"]]}],\"surface\":[{\"type\":\"surface\",\"colorbar\":{\"outlinewidth\":0,\"ticks\":\"\"},\"colorscale\":[[0.0,\"#0d0887\"],[0.1111111111111111,\"#46039f\"],[0.2222222222222222,\"#7201a8\"],[0.3333333333333333,\"#9c179e\"],[0.4444444444444444,\"#bd3786\"],[0.5555555555555556,\"#d8576b\"],[0.6666666666666666,\"#ed7953\"],[0.7777777777777778,\"#fb9f3a\"],[0.8888888888888888,\"#fdca26\"],[1.0,\"#f0f921\"]]}],\"mesh3d\":[{\"type\":\"mesh3d\",\"colorbar\":{\"outlinewidth\":0,\"ticks\":\"\"}}],\"scatter\":[{\"fillpattern\":{\"fillmode\":\"overlay\",\"size\":10,\"solidity\":0.2},\"type\":\"scatter\"}],\"parcoords\":[{\"type\":\"parcoords\",\"line\":{\"colorbar\":{\"outlinewidth\":0,\"ticks\":\"\"}}}],\"scatterpolargl\":[{\"type\":\"scatterpolargl\",\"marker\":{\"colorbar\":{\"outlinewidth\":0,\"ticks\":\"\"}}}],\"bar\":[{\"error_x\":{\"color\":\"#2a3f5f\"},\"error_y\":{\"color\":\"#2a3f5f\"},\"marker\":{\"line\":{\"color\":\"#E5ECF6\",\"width\":0.5},\"pattern\":{\"fillmode\":\"overlay\",\"size\":10,\"solidity\":0.2}},\"type\":\"bar\"}],\"scattergeo\":[{\"type\":\"scattergeo\",\"marker\":{\"colorbar\":{\"outlinewidth\":0,\"ticks\":\"\"}}}],\"scatterpolar\":[{\"type\":\"scatterpolar\",\"marker\":{\"colorbar\":{\"outlinewidth\":0,\"ticks\":\"\"}}}],\"histogram\":[{\"marker\":{\"pattern\":{\"fillmode\":\"overlay\",\"size\":10,\"solidity\":0.2}},\"type\":\"histogram\"}],\"scattergl\":[{\"type\":\"scattergl\",\"marker\":{\"colorbar\":{\"outlinewidth\":0,\"ticks\":\"\"}}}],\"scatter3d\":[{\"type\":\"scatter3d\",\"line\":{\"colorbar\":{\"outlinewidth\":0,\"ticks\":\"\"}},\"marker\":{\"colorbar\":{\"outlinewidth\":0,\"ticks\":\"\"}}}],\"scattermapbox\":[{\"type\":\"scattermapbox\",\"marker\":{\"colorbar\":{\"outlinewidth\":0,\"ticks\":\"\"}}}],\"scatterternary\":[{\"type\":\"scatterternary\",\"marker\":{\"colorbar\":{\"outlinewidth\":0,\"ticks\":\"\"}}}],\"scattercarpet\":[{\"type\":\"scattercarpet\",\"marker\":{\"colorbar\":{\"outlinewidth\":0,\"ticks\":\"\"}}}],\"carpet\":[{\"aaxis\":{\"endlinecolor\":\"#2a3f5f\",\"gridcolor\":\"white\",\"linecolor\":\"white\",\"minorgridcolor\":\"white\",\"startlinecolor\":\"#2a3f5f\"},\"baxis\":{\"endlinecolor\":\"#2a3f5f\",\"gridcolor\":\"white\",\"linecolor\":\"white\",\"minorgridcolor\":\"white\",\"startlinecolor\":\"#2a3f5f\"},\"type\":\"carpet\"}],\"table\":[{\"cells\":{\"fill\":{\"color\":\"#EBF0F8\"},\"line\":{\"color\":\"white\"}},\"header\":{\"fill\":{\"color\":\"#C8D4E3\"},\"line\":{\"color\":\"white\"}},\"type\":\"table\"}],\"barpolar\":[{\"marker\":{\"line\":{\"color\":\"#E5ECF6\",\"width\":0.5},\"pattern\":{\"fillmode\":\"overlay\",\"size\":10,\"solidity\":0.2}},\"type\":\"barpolar\"}],\"pie\":[{\"automargin\":true,\"type\":\"pie\"}]},\"layout\":{\"autotypenumbers\":\"strict\",\"colorway\":[\"#636efa\",\"#EF553B\",\"#00cc96\",\"#ab63fa\",\"#FFA15A\",\"#19d3f3\",\"#FF6692\",\"#B6E880\",\"#FF97FF\",\"#FECB52\"],\"font\":{\"color\":\"#2a3f5f\"},\"hovermode\":\"closest\",\"hoverlabel\":{\"align\":\"left\"},\"paper_bgcolor\":\"white\",\"plot_bgcolor\":\"#E5ECF6\",\"polar\":{\"bgcolor\":\"#E5ECF6\",\"angularaxis\":{\"gridcolor\":\"white\",\"linecolor\":\"white\",\"ticks\":\"\"},\"radialaxis\":{\"gridcolor\":\"white\",\"linecolor\":\"white\",\"ticks\":\"\"}},\"ternary\":{\"bgcolor\":\"#E5ECF6\",\"aaxis\":{\"gridcolor\":\"white\",\"linecolor\":\"white\",\"ticks\":\"\"},\"baxis\":{\"gridcolor\":\"white\",\"linecolor\":\"white\",\"ticks\":\"\"},\"caxis\":{\"gridcolor\":\"white\",\"linecolor\":\"white\",\"ticks\":\"\"}},\"coloraxis\":{\"colorbar\":{\"outlinewidth\":0,\"ticks\":\"\"}},\"colorscale\":{\"sequential\":[[0.0,\"#0d0887\"],[0.1111111111111111,\"#46039f\"],[0.2222222222222222,\"#7201a8\"],[0.3333333333333333,\"#9c179e\"],[0.4444444444444444,\"#bd3786\"],[0.5555555555555556,\"#d8576b\"],[0.6666666666666666,\"#ed7953\"],[0.7777777777777778,\"#fb9f3a\"],[0.8888888888888888,\"#fdca26\"],[1.0,\"#f0f921\"]],\"sequentialminus\":[[0.0,\"#0d0887\"],[0.1111111111111111,\"#46039f\"],[0.2222222222222222,\"#7201a8\"],[0.3333333333333333,\"#9c179e\"],[0.4444444444444444,\"#bd3786\"],[0.5555555555555556,\"#d8576b\"],[0.6666666666666666,\"#ed7953\"],[0.7777777777777778,\"#fb9f3a\"],[0.8888888888888888,\"#fdca26\"],[1.0,\"#f0f921\"]],\"diverging\":[[0,\"#8e0152\"],[0.1,\"#c51b7d\"],[0.2,\"#de77ae\"],[0.3,\"#f1b6da\"],[0.4,\"#fde0ef\"],[0.5,\"#f7f7f7\"],[0.6,\"#e6f5d0\"],[0.7,\"#b8e186\"],[0.8,\"#7fbc41\"],[0.9,\"#4d9221\"],[1,\"#276419\"]]},\"xaxis\":{\"gridcolor\":\"white\",\"linecolor\":\"white\",\"ticks\":\"\",\"title\":{\"standoff\":15},\"zerolinecolor\":\"white\",\"automargin\":true,\"zerolinewidth\":2},\"yaxis\":{\"gridcolor\":\"white\",\"linecolor\":\"white\",\"ticks\":\"\",\"title\":{\"standoff\":15},\"zerolinecolor\":\"white\",\"automargin\":true,\"zerolinewidth\":2},\"scene\":{\"xaxis\":{\"backgroundcolor\":\"#E5ECF6\",\"gridcolor\":\"white\",\"linecolor\":\"white\",\"showbackground\":true,\"ticks\":\"\",\"zerolinecolor\":\"white\",\"gridwidth\":2},\"yaxis\":{\"backgroundcolor\":\"#E5ECF6\",\"gridcolor\":\"white\",\"linecolor\":\"white\",\"showbackground\":true,\"ticks\":\"\",\"zerolinecolor\":\"white\",\"gridwidth\":2},\"zaxis\":{\"backgroundcolor\":\"#E5ECF6\",\"gridcolor\":\"white\",\"linecolor\":\"white\",\"showbackground\":true,\"ticks\":\"\",\"zerolinecolor\":\"white\",\"gridwidth\":2}},\"shapedefaults\":{\"line\":{\"color\":\"#2a3f5f\"}},\"annotationdefaults\":{\"arrowcolor\":\"#2a3f5f\",\"arrowhead\":0,\"arrowwidth\":1},\"geo\":{\"bgcolor\":\"white\",\"landcolor\":\"#E5ECF6\",\"subunitcolor\":\"white\",\"showland\":true,\"showlakes\":true,\"lakecolor\":\"white\"},\"title\":{\"x\":0.05},\"mapbox\":{\"style\":\"light\"}}},\"xaxis\":{\"anchor\":\"y\",\"domain\":[0.0,1.0],\"title\":{\"text\":\"sepal_length\"}},\"yaxis\":{\"anchor\":\"x\",\"domain\":[0.0,1.0],\"title\":{\"text\":\"sepal_width\"}},\"legend\":{\"title\":{\"text\":\"species\"},\"tracegroupgap\":0},\"margin\":{\"t\":60}},                        {\"responsive\": true}                    ).then(function(){\n",
       "                            \n",
       "var gd = document.getElementById('747f80a9-56f4-4f4b-bc90-ecb108dcc353');\n",
       "var x = new MutationObserver(function (mutations, observer) {{\n",
       "        var display = window.getComputedStyle(gd).display;\n",
       "        if (!display || display === 'none') {{\n",
       "            console.log([gd, 'removed!']);\n",
       "            Plotly.purge(gd);\n",
       "            observer.disconnect();\n",
       "        }}\n",
       "}});\n",
       "\n",
       "// Listen for the removal of the full notebook cells\n",
       "var notebookContainer = gd.closest('#notebook-container');\n",
       "if (notebookContainer) {{\n",
       "    x.observe(notebookContainer, {childList: true});\n",
       "}}\n",
       "\n",
       "// Listen for the clearing of the current output cell\n",
       "var outputEl = gd.closest('.output');\n",
       "if (outputEl) {{\n",
       "    x.observe(outputEl, {childList: true});\n",
       "}}\n",
       "\n",
       "                        })                };                });            </script>        </div>"
      ]
     },
     "metadata": {},
     "output_type": "display_data"
    }
   ],
   "source": [
    "U = eigenvectors[:, 0:2]\n",
    "X_star_2D = X.dot(U)\n",
    "df_2D = pd.DataFrame({'sepal_length': X_star_2D[:, 0], 'sepal_width': X_star_2D[:, 1], 'species': y})\n",
    "fig = px.scatter(df_3D, x='sepal_length', y='sepal_width',\n",
    "              color='species')\n",
    "fig.show()"
   ]
  },
  {
   "cell_type": "code",
   "execution_count": null,
   "id": "12739716-2567-4036-886c-bab737d8bc4d",
   "metadata": {},
   "outputs": [],
   "source": [
    "import sklearn"
   ]
  }
 ],
 "metadata": {
  "kernelspec": {
   "display_name": "Python 3 (ipykernel)",
   "language": "python",
   "name": "python3"
  },
  "language_info": {
   "codemirror_mode": {
    "name": "ipython",
    "version": 3
   },
   "file_extension": ".py",
   "mimetype": "text/x-python",
   "name": "python",
   "nbconvert_exporter": "python",
   "pygments_lexer": "ipython3",
   "version": "3.10.6"
  }
 },
 "nbformat": 4,
 "nbformat_minor": 5
}
