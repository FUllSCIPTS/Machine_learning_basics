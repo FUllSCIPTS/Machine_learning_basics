{
 "cells": [
  {
   "cell_type": "markdown",
   "id": "8cee9c79-ae63-4675-87df-255510403af3",
   "metadata": {},
   "source": [
    "<div dir=\"rtl\" align=\"center\">\n",
    "<font face=\"XB Zar\" size=5>\n",
    "    <font face=\"IranNastaliq\" size=5>\n",
    "      به نام خدا\n",
    "    </font>\n",
    "    <br>\n",
    "    <font size=3>\n",
    "      دانشگاه صنعتی شریف - دانشکده مهندسی کامپیوتر\n",
    "    </font>\n",
    "    <br>\n",
    "    <font color=blue size=5>\n",
    "      مقدمه‌ای بر یادگیری ماشین\n",
    "    </font>\n",
    "    <br>\n",
    "    <hr/>\n",
    "    <font color=red size=6>\n",
    "      فصل دوم:  کاهش بعد داده‌ها\n",
    "    </font>\n",
    "    <br>\n",
    "      نویسنده:‌ سینا مظاهری\n",
    "    <hr>\n",
    "<br>\n",
    "</font>\n",
    "</div>"
   ]
  },
  {
   "cell_type": "markdown",
   "id": "3ba14717-4269-4af7-9901-62b59bd8a751",
   "metadata": {},
   "source": [
    "<span style=\"font-family: XB Zar; font-size: 5; \"><div dir=rtl><meta charset=\"UTF-8\">\n",
    "    <span style=\"color: red; font-size: large; \">1.مقدمه</span>\n",
    "    <br>\n",
    "    در مباحثی از یادگیری نظارت نشده که بیشتر بر روی کاهش بعد داده‌ها تمرکز دارند؛ یک هدف اصلی وجود دارد:  <b> پیدا کردن متغیر‌های تصادفی نهان پیوسته در ساختار مجموعه دادگان داده شده </b>.<br>\n",
    "    این عمل درست بر‌خلاف خوشه‌بندی می‌باشد که در آن ما به دنبال متغیر‌های نهان گسسته می‌باشیم. (پیدا کردن تعداد خوشه‌ها، بررسی رفتار خوشه‌ها، ...)<br>\n",
    "    روش‌های متعددی به منظور کاهش بعد داده‌ها وجود دارند. در این بخش به یکی از پرکاربردترین و معروف‌ترین آن‌ها می پردازیم.<br>\n",
    "    کاهش بعد‌ داده‌ها عموما به سه منظور صورت می‌گیرد:\n",
    "    <ul>\n",
    "        <li>نمایش داده‌ها یا همان Data Visualization برای مجموعه دادگانی که معمولا ابعاد بسیار بالایی دارند یعنی تعداد ابعاد از تعداد داده‌ها بسیار بسیار بیشتر است $(D \\gg N)$</li>\n",
    "        <li>در بعضی از روش‌های یادگیری ماشین نظارت شده که هدف به دست آوردن یک مقدار پیوسته یا گسسته است، کاهش بعد داده‌های ورودی، تاثیر بسزایی برروی عملکرد و نتایج خروجی آن می گذارد.</li> \n",
    "        <li>به منظور فشرده‌سازی داده‌ها استفاده می‌گردد.</li>\n",
    "    </ul>\n",
    "</div></span>"
   ]
  },
  {
   "cell_type": "markdown",
   "id": "d25574fb-0e37-45aa-99b8-db7fe7ff82e4",
   "metadata": {},
   "source": [
    "<div dir=\"rtl\"><table><tr>\n",
    "<td> <img src=\"https://www.sqlservercentral.com/wp-content/uploads/legacy/c2362193dd68a81c6774bb9668f1178fc2cf4ad4/32947.jpg\" width=\"500\" style=\"vertical-align:middle\">\n",
    " <figcaption><center>شکل1. فشرده‌سازی تصویر</center></figcaption>\n",
    " </td>\n",
    "<td> <img src=\"https://www.researchgate.net/profile/Diego-Peluffo/publication/325363944/figure/fig1/AS:631693463539712@1527618866278/Dimensionality-reduction-effect-over-an-3D-artificial-Swiss-roll-manifold-the-2D.png\" width=\"500\" style=\"vertical-align:middle\">\n",
    " <figcaption><center>شکل2. کاهش بعد داده‌های سه بعدی به دو بعدی</center></figcaption> </td>\n",
    "</tr></table>\n",
    "    </div>\n",
    "     "
   ]
  },
  {
   "cell_type": "markdown",
   "id": "0ebc8de2-1826-41ac-a8a4-ba878c473e49",
   "metadata": {},
   "source": [
    "<span style=\"font-family: XB Zar; font-size: medium; \"><div dir=rtl><meta charset=\"UTF-8\">\n",
    "    <span style=\"color: red; font-size: large; \">2. تحلیل مولفه‌های اصلی یا PCA</span>\n",
    "    <br>\n",
    "    یکی از پرکاربردترین روش‌هایی که در کاهش بعد داده‌های یک مجموعه دادگان استفاده می‌شود\n",
    "    <b>تحلیل مولفه‌های اصلی </b>\n",
    "    می‌باشد. این روش از دو منظر قابل تعریف است که هر دو معادل یکدیگر می‌باشند:\n",
    "    <ul>\n",
    "  <li>نگاشت متعامد مجموعه دادگان به یک فضای برداری خطی با ابعاد کمتر از فضای برداری اصلی خود دادگان به گونه‌ای که واریانس دادگان تبدیل یافته بیشینه شود. به این زیرفضای کاهش یافته،\n",
    "      <b>زیرفضای اصلی (principal subspace)</b>\n",
    "      نیز گفته می‌شود.</li>\n",
    "  <li>نگاشت خطی‌ای می باشد که میانگین مربعات فاصله اقلیدسی بین داده اصلی و داده تبدیل یافته را کمینه می‌کند. </li>\n",
    "    </ul>\n",
    "</div></span>"
   ]
  },
  {
   "cell_type": "markdown",
   "id": "6fdd67a9-aea0-4d11-ac85-5f58269e2356",
   "metadata": {},
   "source": [
    "<div>\n",
    "<center>\n",
    "<img src=\"http://alexhwilliams.info/itsneuronalblog/img/pca/pca_two_views.png\" width=\"500\">\n",
    "     <figcaption><center>شکل3. کمینه‌سازی خطای مربعات در مقایسه با بیشینه‌سازی واریانس</center></figcaption> </td>\n",
    "</center>\n",
    "</div>"
   ]
  },
  {
   "cell_type": "markdown",
   "id": "92e77070-39ad-4805-bcdd-d2074c89f3b2",
   "metadata": {},
   "source": [
    "<span style=\"font-family: XB Zar; font-size: medium; \"><div dir=rtl><meta charset=\"UTF-8\">\n",
    "    ما در این درسنامه به بررسی تعریف اول یعنی بیشینه سازی واریانس می پردازیم و بررسی درستی تعریف دوم را به خواننده واگذار می کنیم.\n",
    "</div></span>"
   ]
  },
  {
   "cell_type": "markdown",
   "id": "5339da8d-2ac7-43aa-8109-cdeaf40ade04",
   "metadata": {},
   "source": [
    "<span style=\"font-family: XB Zar; font-size: medium; \"><div dir=rtl><meta charset=\"UTF-8\">\n",
    "    <span style=\"color: red; font-size: large; \">1.2. بررسی تعریف بیشینه سازی واریانس در تحلیل مولفه های اصلی</span>\n",
    "    <br>\n",
    "    ابتدا فرص کنید که مجموعه دادگان\n",
    "    $ \\mathcal{D} = \\{ \\mathbf{x}_{1}, \\mathbf{x}_{2}, \\dots, \\mathbf{x}_{N}\\} $\n",
    "    به ما داده شده است. هر یک از\n",
    "    $ \\mathbf{x}_{i} $\n",
    "    یک بردار داده\n",
    "    $ D $\n",
    "     بعدی می‌باشد. حال ما این بردار‌ها را در درون یک ماتریس قرار می‌دهیم تا ماتریس دادگان یا \n",
    "    <b>Design Matrix</b>\n",
    "    $ \\mathbf{X}_{N \\times D} $\n",
    "    را تشکیل دهیم.\n",
    "    <br>\n",
    "    <br>\n",
    "    $$\\mathbf{X}_{N \\times D}=\n",
    "\\begin{bmatrix}\n",
    "\\mathbf{x}^\\top_{1} \\\\\n",
    "\\mathbf{x}^\\top_{2} \\\\\n",
    "\\vdots \\\\\n",
    "\\mathbf{x}^\\top_n \\\\\n",
    "\\end{bmatrix} = \\begin{bmatrix}\n",
    " x_{1}^{[1]} & x_{2}^{[1]} & \\cdots & x_{D}^{[1]} \\\\\n",
    " x_{1}^{[2]} & x_{2}^{[2]} & \\cdots & x_{D}^{[2]} \\\\\n",
    "\\vdots & \\vdots & \\cdots & \\vdots \\\\\n",
    " x_{1}^{[N]} & x_{2}^{[N]} & \\cdots & x_{D}^{[N]} \\\\\n",
    "\\end{bmatrix}\n",
    "$$\n",
    "<br>\n",
    "    ابتدا به بررسی میانگین نمونه‌ای و کوواریانس نمونه‌ای این ماتریس دادگان می‌پردازیم و سپس زیر فضای اصلی را میابیم \n",
    "</div></span>"
   ]
  },
  {
   "cell_type": "markdown",
   "id": "2bac21f2-1e28-4dd6-b697-94b43704a873",
   "metadata": {},
   "source": [
    "<span style=\"font-family: XB Zar; font-size: medium; \"><div dir=rtl><meta charset=\"UTF-8\">\n",
    "    <span style=\"color: red; font-size: large; \">2.2. بررسی تعریف میانگین نمونه‌ای و واریانس نمونه‌ای ماتریس دادگان</span>\n",
    "    <br>\n",
    "    میانگین نمونه ای ماتریس دادگان را با\n",
    "    $\\bar{\\mathbf{x}}$\n",
    "    نمایش می دهیم و طبق تعریف خواهیم داشت:\n",
    "    <br>\n",
    "    $$\n",
    "    \\begin{split}\n",
    "    \\bar{\\mathbf{x}}_{D \\times 1} = \\frac{1}{N}\\mathbf{X}^\\top \\mathbf{1}\\quad, \\quad \\mathbf{1}_{N \\times 1} = \\begin{bmatrix}\n",
    "1 \\\\\n",
    "1 \\\\\n",
    "\\vdots \\\\\n",
    "1 \\\\\n",
    "\\end{bmatrix}\n",
    "    \\end{split}\n",
    "    $$\n",
    "    <br>\n",
    "    ‌برای ماتریس کوواریانس نمونه‌ای که آن را با\n",
    "    $\\mathbf{S}$\n",
    "    نشان می‌دهیم نیز خواهیم داشت:\n",
    "    <br>\n",
    "     $$\n",
    "    \\mathbf{S}_{D \\times D} = \\frac{1}{N - 1}(\\mathbf{X} - \\mathbf{1}\\bar{\\mathbf{x}}^{\\top})^\\top(\\mathbf{X} - \\mathbf{1}\\bar{\\mathbf{x}}^{\\top}) = \\frac{1}{N - 1}\\displaystyle\\sum_{i = 1}^{N}(\\mathbf{x}_{i} - \\bar{\\mathbf{x}})(\\mathbf{x}_{i} - \\bar{\\mathbf{x}})^\\top\n",
    "    $$\n",
    "</div></span>"
   ]
  },
  {
   "cell_type": "markdown",
   "id": "7b8a806c-0d35-4945-ae77-ba0ee73af0b2",
   "metadata": {},
   "source": [
    "<span style=\"font-family: XB Zar; font-size: medium; \"><div dir=rtl><meta charset=\"UTF-8\">\n",
    "    چند نکته در مورد ماتریس کوواریانس نمونه‌ای\n",
    "    $ \\mathbf{S} $:\n",
    "    <ul>\n",
    "        <li>این ماتریس به وضوح یک ماتریس\n",
    "            <b> متقارن</b>\n",
    "        می‌باشد زیرا داریم:\n",
    "        $ \\mathbf{S}^{\\top} = \\mathbf{S} $\n",
    "        </li>\n",
    "        <li>\n",
    "            طبق قضیه‌ای در جبر خطی، هر ماتریس متقارن\n",
    "            ،$ D \\times D $،\n",
    "            $D$\n",
    "            مقدار ویژه حقیقی به شکل\n",
    "            $ \\lambda_{1}, \\lambda_{2}, \\dots, \\lambda_{D} $\n",
    "            دارد که متناظر آن‌ها بردار ویژه‌ای وجود دارد به شکل\n",
    "            $\\{ \\mathbf{q}_{1}, \\mathbf{q}_{1}, \\dots, \\mathbf{q}_{D} \\}$\n",
    "که \n",
    "            <b>متعامد نرمال</b>\n",
    "             می‌باشند. نکته‌ای که وجود دارد آن است که بردارهای ویژه متعامد هستند اما لزوما نرم واحد ندارند. ما می‌توانیم آن را نرمال کنیم و با قرار دادن آن‌ها در ستون های ماتریس\n",
    "            $ \\mathbf{Q} $\n",
    "            ، بردار‌های ویژه متعامد نرمال را به دست بیاوریم.\n",
    "        </li>\n",
    "        <li>\n",
    "            طبق قضیه ای در جبر خطی، هر ماتریس متقارن یک ماتریس قطری شدنی است یعنی چنین تجزیه ای برای آن وجود دارد:\n",
    "            <br>\n",
    "            <br>\n",
    "            $$\\begin{split}\n",
    "            \\mathbf{S} = \\mathbf{Q}\\mathbf{\\Lambda}\\mathbf{Q}^{-1} = \\mathbf{Q}\\mathbf{\\Lambda}\\mathbf{Q}^{\\top} = \\displaystyle\\sum_{i = 1}^{D} \\lambda_{i}\\mathbf{q}_{i}\\mathbf{q}_{i}^{\\top}, \\quad \\mathbf{\\Lambda} = diag(\\lambda_{1}, \\lambda_{2}, \\dots, \\lambda_{D}), \\quad \\mathbf{Q}= \\begin{bmatrix}\n",
    "\\mathbf{q}_{1} & \\mathbf{q}_{1} & \\dots & \\mathbf{q}_{D}\n",
    "\\end{bmatrix}\n",
    "            \\end{split}\n",
    "            $$\n",
    "        </li>\n",
    "    </ul>\n",
    "</div></span>"
   ]
  },
  {
   "cell_type": "markdown",
   "id": "c90f5171-29fc-4360-8894-4b26044fd508",
   "metadata": {},
   "source": [
    "<span style=\"font-family: XB Zar; font-size: medium; \"><div dir=rtl><meta charset=\"UTF-8\">\n",
    "    <span style=\"color: red; font-size: large; \">3.2. بررسی زیرفضای اصلی دادگان تبدیل یافته</span>\n",
    "    <br>\n",
    "    ابتدا فرض می‌کنیم که می‌خواهیم بعد داده‌ها را به مقدار\n",
    "    $M$\n",
    "    به گونه ای که\n",
    "    $M < D$\n",
    "    می‌باشد؛ کاهش دهیم. این فضای برداری را\n",
    "    $\\mathbf{W}$\n",
    "    می‌نامیم و داریم\n",
    "    $ \\mathbf{W} \\subseteq \\mathbb{R}^{D}$.\n",
    "    برای این کار ابتدا فرض می‌کنیم که پایه‌های متعامد نرمال تشکیل دهنده این فضا به شکل \n",
    "    $\\mathbf{u}_{1}, \\mathbf{u}_{2}, \\dots, \\mathbf{u}_{M}$\n",
    "    می‌باشند. هر کدام از این پایه‌های برداری\n",
    "    $\\mathbf{u}_{i}$،\n",
    "    $D \\times 1$\n",
    "    ‌بوده که داده‌‌ای چون \n",
    "    $\\mathbf{x}$\n",
    "    را به فضای مقصد می‌نگارند. اگر فرض کنیم که با قرار دادن این پایه‌ها در درون ستون‌های یک ماتریس چون \n",
    "    $ \\mathbf{U} $\n",
    "    ماتریس نگاشت به دست می‌آید؛ در اینصورت بردار داده در فضای تبدیل یافته \n",
    "    $ M $\n",
    "    بعدی را با \n",
    "    $\\mathbf{x}^{*}$\n",
    "    نشان می‌دهیم و خواهیم داشت:\n",
    "    <br>\n",
    "    <br>\n",
    "    $$\\begin{split}\n",
    "    \\mathbf{x}^{*} = \\mathbf{U}^{\\top}\\mathbf{x}, \\quad \\mathbf{U} = \\begin{bmatrix}\n",
    "\\mathbf{u}_{1} & \\mathbf{u}_{2} & \\dots & \\mathbf{u}_{M}\n",
    "\\end{bmatrix}\n",
    "    \\end{split}\n",
    "    $$\n",
    "    <br>\n",
    "    حال اگر فرض کنیم که می‌خواهیم این موضوع را در مورد کل\n",
    "    $ N $\n",
    "    داده ماتریس دادگان تعمیم دهیم آن را با \n",
    "    $ \\mathbf{X}^{*} $\n",
    "   نشان می‌دهیم و خواهیم داشت: (در عبارت زیر منظور از \n",
    "    $ \\mathbf{X} $\n",
    "    همان \n",
    "    <b>Design Matrix</b>\n",
    "    می‌باشد.)\n",
    "    <br>\n",
    "    <br>\n",
    "    $$\n",
    "    \\mathbf{X}^{*} = \\mathbf{X}\\mathbf{U} $$\n",
    "    حال از آنجایی که نیاز است تا واریانس داده‌ها در هر یک از \n",
    "    $M$\n",
    "     بعد بیشینه شود. باید ابتدا بردار میانگین داده‌های تبدیل یافته و همچنین ماتریس کوواریانس آن‌ها را به دست بیاوریم \n",
    "    این مقادیر را به ترتیب با \n",
    "    $ \\bar{\\mathbf{x}}^{*} $\n",
    "    و\n",
    "    $ \\mathbf{S}^{*} $\n",
    "    نشان می‌دهیم و طبق تعریفی که قبلا ارائه دادیم؛ داریم:\n",
    "    <br>\n",
    "    <br>\n",
    "    $$ \n",
    "    \\bar{\\mathbf{x}}^{*} = \\frac{1}{N} (\\mathbf{X}^{*})^{\\top} \\mathbf{1} = \\frac{1}{N} (\\mathbf{X}\\mathbf{U})^{\\top} \\mathbf{1} = \\frac{1}{N} (\\mathbf{U}^{\\top}\\mathbf{X}^{\\top}) \\mathbf{1} =  \\mathbf{U}^{\\top}(\\frac{1}{N}\\mathbf{X}^{\\top} \\mathbf{1}) = \\mathbf{U}^{\\top}\\bar{\\mathbf{x}} $$\n",
    "    <br>\n",
    "    $$\n",
    "    \\mathbf{S}^{*} =\n",
    "    \\frac{1}{N - 1}\\big(\\mathbf{X}^{*} - \\mathbf{1}(\\bar{\\mathbf{x}}^{*})^{\\top}\\big)^\\top\\big(\\mathbf{X}^{*} - \\mathbf{1}(\\bar{\\mathbf{x}}^{*})^{\\top}\\big) =\n",
    "    \\frac{1}{N - 1}\\big((\\mathbf{X}\\mathbf{U}) - \\mathbf{1}(\\mathbf{U}^{\\top}\\bar{\\mathbf{x}})^{\\top}\\big)^\\top\\big((\\mathbf{X}\\mathbf{U}) - \\mathbf{1}(\\mathbf{U}^{\\top}\\bar{\\mathbf{x}})^{\\top}\\big) = \n",
    "    \\frac{1}{N - 1}\\big((\\mathbf{X} - \\mathbf{1}\\bar{\\mathbf{x}}^{\\top})\\mathbf{U}\\big)^\\top\\big((\\mathbf{X} - \\mathbf{1}\\bar{\\mathbf{x}}^{\\top})\\mathbf{U}\\big) = \n",
    "    \\frac{1}{N - 1}\\mathbf{U}^{\\top}\\big(\\mathbf{X} - \\mathbf{1}\\bar{\\mathbf{x}}^{\\top}\\big)^\\top\\big(\\mathbf{X} - \\mathbf{1}\\bar{\\mathbf{x}}^{\\top}\\big)\\mathbf{U} = \n",
    "    \\mathbf{U}^{\\top}\\bigg(\\frac{1}{N - 1}\\big(\\mathbf{X} - \\mathbf{1}\\bar{\\mathbf{x}}^{\\top}\\big)^\\top\\big(\\mathbf{X} - \\mathbf{1}\\bar{\\mathbf{x}}^{\\top}\\big)\\bigg)\\mathbf{U} = \\mathbf{U}^{\\top}\\mathbf{S}\\mathbf{U}\n",
    "    $$\n",
    "    <br>\n",
    "ما می‌دانیم که واریانس هر بعد (می توان هر بعد را به نوعی محور اعداد حقیقی فرض کرد که واریانس نمونه‌ای \n",
    "    $ S_{i} $\n",
    "    برای آن تعریف می‌شود)\n",
    "    بر روی درایه‌های قطر اصلی ماتریس\n",
    "        $ \\mathbf{S}^{*} $\n",
    "    واقع شده‌است. به منظور بیشینه‌سازی هر واریانس نمونه‌ای، حاصل جمع آن‌ها را بیشینه می‌کنیم:\n",
    "    <br>\n",
    "    <br>\n",
    "    $$\\DeclareMathOperator{\\Tr}{Tr} \\max_{S_1, S_2, \\dots, S_{M}} S_1 + S_2 + \\dots + S_{M} \\equiv  \\max_{S_1, S_2, \\dots, S_{M}} \\Tr(\\mathbf{S^{*}}) \\equiv \\max_{S_1, S_2, \\dots, S_{M}} \\Tr(\\mathbf{U}^{\\top}\\mathbf{S}\\mathbf{U})$$\n",
    "    <br>\n",
    "    چون حاصل جمع تابعی خطی از تک تک واریانس‌ها می‌باشد؛ بیشینه کردن آن نسبت به واریانس‌ها، بیشینه کردن هر یک از واریانس‌ها را تضمین می‌کند. ما می‌دانیم که \n",
    "    واریانس هر بعد چون \n",
    "    $ S_{i} $\n",
    "    از مولفه‌های تبدیل یافته هر داده توسط پایه متناظر آن بعد یعنی\n",
    "    $ \\mathbf{u}_{i} $\n",
    "    بدست می‌آید\n",
    "    پس در واقع\n",
    "    $S_{i} = \\mathbf{u}_{i}^{\\top} \\mathbf{S} \\mathbf{u}_{i} $\n",
    "    و از آنجایی که ماتریس \n",
    "    $ \\mathbf{S}$\n",
    "    از روی داده‌ها حساب شده است پس متغیر‌های برداری \n",
    "    $ \\mathbf{u}_{i} $\n",
    "    در مسئله بهینه‌سازی استفاده شده و مقدار حاصل جمع باید نسبت به آن‌ها بهینه شود. چون این بردارها متعامد نرمال هستند پس داریم\n",
    "    $\\mathbf{U}^{\\top} \\mathbf{U} = \\mathbf{I}$\n",
    "    و مسئله بهینه‌سازی به شکل زیر خواهد شد:\n",
    "    </div></span>\n",
    "    \n"
   ]
  },
  {
   "cell_type": "markdown",
   "id": "ded6de1c-1f9c-4272-920e-9275a6173a78",
   "metadata": {},
   "source": [
    "<span style=\"font-family: XB Zar; font-size: medium; \"><div dir=rtl><meta charset=\"UTF-8\">\n",
    "    <br>\n",
    "    $$\\DeclareMathOperator{\\Tr}{Tr} \\begin{aligned}\n",
    "\\max_{\\mathbf{U}} \\quad & \\Tr(\\mathbf{U}^{\\top}\\mathbf{S}\\mathbf{U})\\\\\n",
    "\\textrm{subject to} \\quad & \\mathbf{U} \\in \\mathbb{R}^{D \\times M},\\\\\n",
    "  & \\mathbf{U}^{\\top}\\mathbf{U} = \\mathbf{I}\\\\\n",
    "\\end{aligned}$$\n",
    "    <br>\n",
    "     ثابت می کنیم که\n",
    "    اگر \n",
    "    $\\lambda_{1} \\geq \\lambda_{2} \\geq \\dots \\geq \\lambda_{D}$\n",
    "    مقادیر ویژه ماتریس\n",
    "    $ \\mathbf{S} $\n",
    "    باشند؛ آنگاه بیشینه عبارت بالا برابر\n",
    "    $ \\lambda_{1} + \\lambda_{2} + \\dots + \\lambda_{M} $\n",
    "    می باشد یا به عبارتی حاصل جمع \n",
    "    $M$\n",
    "    مقدار ویژه بزرگ \n",
    "    ماتریس\n",
    "    $ S $\n",
    "    می شود.\n",
    "    در واقع این مقادیر ویژه همان بیشینه مقدار واریانس در هر یک از \n",
    "    $ M $\n",
    "    بعد می‌باشند\n",
    "    $S_{1}^{max} = \\lambda_{1}, S_{2}^{max} = \\lambda_{2}, \\dots, S_{M}^{max} = \\lambda_{M} $\n",
    "    و این زمانی به دست می آید که \n",
    "    ماتریس\n",
    "    $\\mathbf{U}$\n",
    "    ماتریس نگاشت متعامد و شامل بردارهای ویژه \n",
    "    $\\mathbf{U} = \\begin{bmatrix} \\mathbf{q_{1}} & \\mathbf{q_{2}} & \\cdots & \\mathbf{q_{M}} \\end{bmatrix}$\n",
    "    نظیر مقادیر ویژه\n",
    "    $ \\lambda_{1}, \\lambda_{2}, \\dots, \\lambda_{M} $\n",
    "    باشد.\n",
    "    </div></span>"
   ]
  },
  {
   "cell_type": "markdown",
   "id": "29fde405-e67c-483d-94ee-1a2067601a18",
   "metadata": {},
   "source": [
    "<span style=\"font-family: XB Zar; font-size: medium; \"><div dir=rtl><meta charset=\"UTF-8\">\n",
    "    اثبات:\n",
    "    <br>\n",
    "    ابتدا فرض می کنیم که\n",
    "    $ \\mathbf{u}_{1}, \\mathbf{u}_{2}, \\dots, \\mathbf{u}_{M} $\n",
    "    بردار های ستونی، ستون های ماتریس\n",
    "    $ U $\n",
    "     می باشند. از آنجایی که گفتیم برای هر ماتریس متقارن یک تجزیه به شکل\n",
    "    $ \\sum_{j = 1}^{D} \\lambda_{j}\\mathbf{q}_{j}\\mathbf{q}_{j}^{\\top} $\n",
    "    وجود دارد در نتیجه عبارت\n",
    "    $\\DeclareMathOperator{\\Tr}{Tr} \\Tr(\\mathbf{U}^{\\top}\\mathbf{S}\\mathbf{U})$\n",
    "    به شکل زیر می شود:\n",
    "    <br>\n",
    "    <br>\n",
    "    $$\n",
    "    \\DeclareMathOperator{\\Tr}{Tr} \\Tr(\\mathbf{U}^{\\top}\\mathbf{S}\\mathbf{U}) = \\displaystyle\\sum_{i = 1}^{M} \\mathbf{u}_{i}^{\\top}\\mathbf{S}\\mathbf{u}_{i} =\n",
    "    \\displaystyle\\sum_{i = 1}^{M} \\mathbf{u}_{i}^{\\top}\\Big(\\displaystyle\\sum_{j = 1}^{D} \\lambda_{j}\\mathbf{q}_{j}\\mathbf{q}_{j}^{\\top}\\Big)\\mathbf{u}_{i} = \n",
    "    \\displaystyle\\sum_{i = 1}^{M}\\displaystyle\\sum_{j = 1}^{D} \\lambda_{j} \\mathbf{u}_{i}^{\\top}\\mathbf{q}_{j}\\mathbf{q}_{j}^{\\top}\\mathbf{u}_{i} = \n",
    "    \\displaystyle\\sum_{i = 1}^{M}\\displaystyle\\sum_{j = 1}^{D} \\lambda_{j} \\big(\\mathbf{q}_{j}^{\\top}\\mathbf{u}_{i}\\big)^{2} =\n",
    "    \\displaystyle\\sum_{j = 1}^{D} \\lambda_{j}\\displaystyle\\sum_{i = 1}^{M} \\big(\\mathbf{q}_{j}^{\\top}\\mathbf{u}_{i}\\big)^{2} =\n",
    "    \\displaystyle\\sum_{j = 1}^{D} \\lambda_{j}c_{j}\n",
    "    $$\n",
    "    <br>\n",
    "    در عبارت بالا مقدار\n",
    "    $c_{j}$\n",
    "    برابر\n",
    "    $c_{j} = \\sum_{i = 1}^{M} \\big(\\mathbf{q}_{j}^{\\top}\\mathbf{u}_{i}\\big)^{2}$\n",
    "    می باشد. ابتدا ثابت می کنیم که مقدار \n",
    "    $c_{j}$\n",
    "    بین 0 و 1 می باشد یعنی \n",
    "    $0 \\leq c_{j} \\leq 1$\n",
    "    و ثانیا ثابت می کنیم که \n",
    "    $\\sum_{j = 1}^{D} c_{j} = M$.\n",
    "    <br>\n",
    "    می دانیم که به وضوح\n",
    "    $ c_{j} \\geq 0 $\n",
    "    برقرار است زیرا مجموع مقادیر نامنفی می‌باشد\n",
    "    حال برای اثبات \n",
    "    $ c_{j} \\leq 1 $\n",
    "    مقادیر برداری \n",
    "    $\\mathbf{u}_{1}, \\mathbf{u}_{2}, \\dots,  \\mathbf{u}_{M}$\n",
    "    را به پایه‌های متعامد نرمال\n",
    "    $\\mathbf{u}_{1}, \\mathbf{u}_{2}, \\dots,  \\mathbf{u}_{D}$\n",
    "    فضای برداری\n",
    "    $\\mathbb{R}^{D} $\n",
    "    گسترده می‌کنیم و داریم:\n",
    "    <br>\n",
    "    <br>\n",
    "    $$\n",
    "    c_{j} = \\displaystyle\\sum_{i = 1}^{M}\\big(\\mathbf{q}_{j}^{\\top}\\mathbf{u}_{i}\\big)^{2} \\leq \\displaystyle\\sum_{i = 1}^{D}\\big(\\mathbf{q}_{j}^{\\top}\\mathbf{u}_{i}\\big)^{2} = \n",
    "    \\| \\mathbf{q}_{j}^{\\top} \\mathbf{U} \\|_{2}^{2} =\n",
    "    (\\mathbf{q}_{j}^{\\top} \\mathbf{U})(\\mathbf{q}_{j}^{\\top} \\mathbf{U})^{\\top}\n",
    "    = \\| \\mathbf{q}_{j} \\|_{2}^{2} = 1\n",
    "    $$\n",
    "    <br>\n",
    "    و چون \n",
    "    $\\mathbf{q}_{1}, \\mathbf{q}_{2}, \\dots,  \\mathbf{q}_{D}$\n",
    "    پایه‌های متعامد نرمالی برای فضای برداری \n",
    "    $\\mathbb{R}^{D} $\n",
    "    هستند؛ نیز داریم:\n",
    "    <br>\n",
    "    <br>\n",
    "    $$\\displaystyle\\sum_{j = 1}^{D} c_{j} = \\displaystyle\\sum_{j = 1}^{D}\\displaystyle\\sum_{i = 1}^{M}\\big(\\mathbf{q}_{j}^{\\top}\\mathbf{u}_{i}\\big)^{2} =\n",
    "    \\displaystyle\\sum_{i = 1}^{M}\\displaystyle\\sum_{j = 1}^{D}\\big(\\mathbf{q}_{j}^{\\top}\\mathbf{u}_{i}\\big)^{2} =\n",
    "    \\displaystyle\\sum_{i = 1}^{M}\\| \\mathbf{u}_{i} \\|_{2}^{2} =\n",
    "    \\displaystyle\\sum_{i = 1}^{M}1 = M$$\n",
    "    <br> \n",
    "     بنابراین \n",
    "    عبارت \n",
    "    $ \\sum_{j = 1}^{D} \\lambda_{j}c_{j}$\n",
    "    زمانی بیشینه میشود که با داده شدن مقادیر ویژه، هر یک از ضرایب آن‌ها بیشینه شود و مقدار 1 را به خود بگیرد از طرفی چون رابطه تساوی\n",
    "    $ \\sum_{j = 1}^{D} c_{j} = M$\n",
    "    باید برقرار باشد خواهیم داشت:\n",
    "    <br>\n",
    "    <br>\n",
    "    $$\n",
    "    \\begin{split}\n",
    "    c_{1} = c_{2} =  \\dots = c_{M} = 1, \\quad c_{M+1} = c_{M+2} =  \\dots = c_{D} = 0\n",
    "    \\end{split}\n",
    "    $$\n",
    "    <br>\n",
    "    در نتیجه تساوی \n",
    "    $Span[\\mathbf{q}_{1}, \\mathbf{q}_{2}, \\dots,  \\mathbf{q}_{M}] = Span[\\mathbf{u}_{1}, \\mathbf{u}_{2}, \\dots,  \\mathbf{u}_{M}]$\n",
    "    باید برقرار باشد \n",
    "    و در نتیجه مقادیر برداری \n",
    "    $\\mathbf{q}_{1}, \\mathbf{q}_{2}, \\dots,  \\mathbf{q}_{M}$\n",
    "    پایه‌هایی برای فضای مقصد می‌باشند که در ستون‌های ماتریس \n",
    "    $\\mathbf{U}$\n",
    "    قرار گرفته‌اند.\n",
    "    <br>\n",
    "    <br>\n",
    "    خلاصه و جمع‌بندی:\n",
    "    <br>\n",
    "     برای پیداکردن مجموعه دادگان تبدیل یافته با بعد کمتر به کمک روش تحلیل مولفه‌های اصلی باید مراحل زیر را طی کنیم. فرض می‌کنیم که مجموعه دادگان\n",
    "    $ \\mathbf{X}_{N \\times D}$\n",
    "    که \n",
    "    $D$\n",
    "    بعدی است داده شده و می‌خواهیم آن را به \n",
    "    $\\mathbf{X}^{*}_{N \\times M}$\n",
    "    تبدیل کنیم که \n",
    "    $ M $\n",
    "    بعدی است:\n",
    "    <ol>\n",
    "  <li>ابتدا ماتریس کوواریانس نمونه‌ای \n",
    "        $ S $\n",
    "      را طبق فرمول \n",
    "      $\\mathbf{S}_{D \\times D} = \\frac{1}{N - 1}(\\mathbf{X} - \\mathbf{1}\\bar{\\mathbf{x}}^{\\top})^\\top(\\mathbf{X} - \\mathbf{1}\\bar{\\mathbf{x}}^{\\top}) $\n",
    "        بدست می‌آوریم که در آن\n",
    "      $\\bar{\\mathbf{x}}_{D \\times 1} = \\frac{1}{N}\\mathbf{X}^\\top \\mathbf{1}$\n",
    "      می‌باشد\n",
    "        </li>\n",
    "  <li>مقادیر ویژه\n",
    "      $\\lambda_{1}, \\lambda_{2}, \\dots, \\lambda_{M}$\n",
    "       و بردار‌های ویژه نظیر آن‌ها \n",
    "        $\\mathbf{q}_{1}, \\mathbf{q}_{2}, \\dots,  \\mathbf{q}_{M}$\n",
    "       را برای ماتریس\n",
    "      $ S $\n",
    "       می‌یابیم\n",
    "        </li>\n",
    "  <li>برای کاهش بعد داده‌ها به \n",
    "        $M$\n",
    "        بعد، ابتدا این مقادیر ویژه را به شکل نزولی مرتب می‌کنیم\n",
    "        $\\lambda_{1} \\geq \\lambda_{2} \\geq \\dots \\geq \\lambda_{D}$\n",
    "        سپس \n",
    "        $M$\n",
    "        تا از بزرگترین آن‌ها را به شکل \n",
    "        $\\lambda_{1} \\geq \\lambda_{2} \\geq \\dots \\geq \\lambda_{M}$\n",
    "        بر می‌گزینیم و بردار‌های ویژه نظیر آن‌ها را انتخاب می‌کنیم\n",
    "        $\\mathbf{q}_{1}, \\mathbf{q}_{2}, \\dots,\\mathbf{q}_{M} $\n",
    "        </li>\n",
    "        <li>\n",
    "        مقادیر ویژه \n",
    "        $\\lambda_{1}, \\lambda_{2}, \\dots, \\lambda_{M}$\n",
    "        به ترتیب واریانس نمونه‌ای دادگان تبدیل یافته در هر یک از \n",
    "            $ M $\n",
    "            بعد جدید خواهند بود و با قرار دادن بردار‌های ویژه \n",
    "            $\\mathbf{q}_{1}, \\mathbf{q}_{2}, \\dots,\\mathbf{q}_{M}$\n",
    "            در ستون‌های ماتریس \n",
    "            $ \\mathbf{U}_{D \\times M} $\n",
    "            به شکل \n",
    "            $\\mathbf{U}_{D \\times M} = \\begin{bmatrix} \\mathbf{q}_{1}& \\mathbf{q}_{2}& \\cdots&\\mathbf{q}_{M}\\end{bmatrix}$\n",
    "            ؛ ماتریس نگاشت را می‌سازیم.\n",
    "        </li>\n",
    "        <li>\n",
    "          در نهایت با اعمال نگاشت به ماتریس دادگان طبق رابطه\n",
    "        $\\mathbf{X}^{*} = \\mathbf{X}\\mathbf{U}$\n",
    "        ماتریس \n",
    "            $\\mathbf{X}^{*}$\n",
    "        را بدست می‌اوریم.\n",
    "        </li>\n",
    "    </ol>\n",
    "    </div></span>\n",
    "    "
   ]
  },
  {
   "cell_type": "markdown",
   "id": "ef2d8ee5-66f8-4c74-a765-b418923e6089",
   "metadata": {},
   "source": [
    "<span style=\"font-family: XB Zar; font-size: medium; \"><div dir=rtl><meta charset=\"UTF-8\">\n",
    "    <span style=\"color: red; font-size: large; \"> 4.2. بررسی مجموعه دادگان  Iris </span>\n",
    "    <br>\n",
    "    برای مشاهده عملکرد PCA به منظور کاهش بعد داده‌ها ، مجموعه دادگان Iris را در نظر می‌گیریم. از آنجایی که داده‌های این مجموعه 4 بعدی هستند؛ قصد داریم تا آن‌ها را به 2 و 3 بعد کاهش دهیم.\n",
    "    ابتدا توصیفی از ویژگی‌های این مجموعه دادگان ارائه می‌دهیم:\n",
    "    <ul>\n",
    "        <li><b>Sepal Length: </b>\n",
    "      این مقدار طول کاسبرگ را نشان می‌دهد.</li>\n",
    "        <li><b> Sepal Width:</b>\n",
    "      این مقدار عرض کاسبرگ را نشان می‌دهد.</li>\n",
    "        <li><b>Petal Length:</b>\n",
    "      این مقدار طول گلبرگ را نشان می‌دهد.</li>\n",
    "        <li><b>Petal Width:</b>\n",
    "      این مقدار عرض گلبرگ را نشان می‌دهد.</li>\n",
    "        <li><b>Species:</b>\n",
    "      این مقدار نوع گونه را نشان می‌دهد که می تواند از 3 نوع \n",
    "           Setosa, Virginica یا Versicolor باشد</li>\n",
    "</ul>   \n",
    "    </div></span>\n",
    "    "
   ]
  },
  {
   "cell_type": "code",
   "execution_count": 15,
   "id": "e32b9b44-671f-4c7c-a9b7-8c7984cb78c0",
   "metadata": {},
   "outputs": [],
   "source": [
    "import numpy as np\n",
    "import pandas as pd\n",
    "import plotly.express as px"
   ]
  },
  {
   "cell_type": "markdown",
   "id": "6e7a6c21-09b3-45e4-b177-5dac7b643c6c",
   "metadata": {},
   "source": [
    "<span style=\"font-family: XB Zar; font-size: medium; \"><div dir=rtl><meta charset=\"UTF-8\">\n",
    "    <br>\n",
    "    بعد از آنکه کتابخانه‌های مورد نظر را import کردیم مجموعه دادگان را ابتدا بارگذاری می‌کنیم. \n",
    "    </div></span>"
   ]
  },
  {
   "cell_type": "code",
   "execution_count": 16,
   "id": "e8525cc5-7416-4669-9f93-c645f6c3700c",
   "metadata": {},
   "outputs": [
    {
     "data": {
      "text/html": [
       "<div>\n",
       "<style scoped>\n",
       "    .dataframe tbody tr th:only-of-type {\n",
       "        vertical-align: middle;\n",
       "    }\n",
       "\n",
       "    .dataframe tbody tr th {\n",
       "        vertical-align: top;\n",
       "    }\n",
       "\n",
       "    .dataframe thead th {\n",
       "        text-align: right;\n",
       "    }\n",
       "</style>\n",
       "<table border=\"1\" class=\"dataframe\">\n",
       "  <thead>\n",
       "    <tr style=\"text-align: right;\">\n",
       "      <th></th>\n",
       "      <th>sepal.length</th>\n",
       "      <th>sepal.width</th>\n",
       "      <th>petal.length</th>\n",
       "      <th>petal.width</th>\n",
       "      <th>variety</th>\n",
       "    </tr>\n",
       "  </thead>\n",
       "  <tbody>\n",
       "    <tr>\n",
       "      <th>0</th>\n",
       "      <td>5.1</td>\n",
       "      <td>3.5</td>\n",
       "      <td>1.4</td>\n",
       "      <td>0.2</td>\n",
       "      <td>Setosa</td>\n",
       "    </tr>\n",
       "    <tr>\n",
       "      <th>1</th>\n",
       "      <td>4.9</td>\n",
       "      <td>3.0</td>\n",
       "      <td>1.4</td>\n",
       "      <td>0.2</td>\n",
       "      <td>Setosa</td>\n",
       "    </tr>\n",
       "    <tr>\n",
       "      <th>2</th>\n",
       "      <td>4.7</td>\n",
       "      <td>3.2</td>\n",
       "      <td>1.3</td>\n",
       "      <td>0.2</td>\n",
       "      <td>Setosa</td>\n",
       "    </tr>\n",
       "    <tr>\n",
       "      <th>3</th>\n",
       "      <td>4.6</td>\n",
       "      <td>3.1</td>\n",
       "      <td>1.5</td>\n",
       "      <td>0.2</td>\n",
       "      <td>Setosa</td>\n",
       "    </tr>\n",
       "    <tr>\n",
       "      <th>4</th>\n",
       "      <td>5.0</td>\n",
       "      <td>3.6</td>\n",
       "      <td>1.4</td>\n",
       "      <td>0.2</td>\n",
       "      <td>Setosa</td>\n",
       "    </tr>\n",
       "    <tr>\n",
       "      <th>...</th>\n",
       "      <td>...</td>\n",
       "      <td>...</td>\n",
       "      <td>...</td>\n",
       "      <td>...</td>\n",
       "      <td>...</td>\n",
       "    </tr>\n",
       "    <tr>\n",
       "      <th>145</th>\n",
       "      <td>6.7</td>\n",
       "      <td>3.0</td>\n",
       "      <td>5.2</td>\n",
       "      <td>2.3</td>\n",
       "      <td>Virginica</td>\n",
       "    </tr>\n",
       "    <tr>\n",
       "      <th>146</th>\n",
       "      <td>6.3</td>\n",
       "      <td>2.5</td>\n",
       "      <td>5.0</td>\n",
       "      <td>1.9</td>\n",
       "      <td>Virginica</td>\n",
       "    </tr>\n",
       "    <tr>\n",
       "      <th>147</th>\n",
       "      <td>6.5</td>\n",
       "      <td>3.0</td>\n",
       "      <td>5.2</td>\n",
       "      <td>2.0</td>\n",
       "      <td>Virginica</td>\n",
       "    </tr>\n",
       "    <tr>\n",
       "      <th>148</th>\n",
       "      <td>6.2</td>\n",
       "      <td>3.4</td>\n",
       "      <td>5.4</td>\n",
       "      <td>2.3</td>\n",
       "      <td>Virginica</td>\n",
       "    </tr>\n",
       "    <tr>\n",
       "      <th>149</th>\n",
       "      <td>5.9</td>\n",
       "      <td>3.0</td>\n",
       "      <td>5.1</td>\n",
       "      <td>1.8</td>\n",
       "      <td>Virginica</td>\n",
       "    </tr>\n",
       "  </tbody>\n",
       "</table>\n",
       "<p>150 rows × 5 columns</p>\n",
       "</div>"
      ],
      "text/plain": [
       "     sepal.length  sepal.width  petal.length  petal.width    variety\n",
       "0             5.1          3.5           1.4          0.2     Setosa\n",
       "1             4.9          3.0           1.4          0.2     Setosa\n",
       "2             4.7          3.2           1.3          0.2     Setosa\n",
       "3             4.6          3.1           1.5          0.2     Setosa\n",
       "4             5.0          3.6           1.4          0.2     Setosa\n",
       "..            ...          ...           ...          ...        ...\n",
       "145           6.7          3.0           5.2          2.3  Virginica\n",
       "146           6.3          2.5           5.0          1.9  Virginica\n",
       "147           6.5          3.0           5.2          2.0  Virginica\n",
       "148           6.2          3.4           5.4          2.3  Virginica\n",
       "149           5.9          3.0           5.1          1.8  Virginica\n",
       "\n",
       "[150 rows x 5 columns]"
      ]
     },
     "execution_count": 16,
     "metadata": {},
     "output_type": "execute_result"
    }
   ],
   "source": [
    "df = pd.read_csv(\"iris.csv\")\n",
    "df"
   ]
  },
  {
   "cell_type": "code",
   "execution_count": 53,
   "id": "ea43cb40-a74a-4391-ac7e-adc8c7d5be14",
   "metadata": {},
   "outputs": [
    {
     "name": "stdout",
     "output_type": "stream",
     "text": [
      "The Design Matrix Shape is (150, 4) That is N = 150 and D = 4\n"
     ]
    }
   ],
   "source": [
    "X = df.iloc[:, 0:4].to_numpy()\n",
    "N, D = X.shape\n",
    "y = df.iloc[:, 4].to_numpy().reshape((N,))\n",
    "print(\"The Design Matrix Shape is\", X.shape, \"That is N =\", N, \"and D =\", D)"
   ]
  },
  {
   "cell_type": "markdown",
   "id": "b7e659b1-1330-46cb-94ac-af25470584bc",
   "metadata": {},
   "source": [
    "<span style=\"font-family: XB Zar; font-size: medium; \"><div dir=rtl><meta charset=\"UTF-8\">\n",
    "    <br>\n",
    "    طبق آنچه که گفته شد ابتدا میانگین نمونه‌ای یعنی \n",
    "    $\\bar{\\mathbf{x}}$\n",
    "    و سپس ماتریس کوواریانس نمونه‌ای \n",
    "    $\\mathbf{S}$\n",
    "    را\n",
    "    حساب می‌کنیم\n",
    "    </div></span>"
   ]
  },
  {
   "cell_type": "code",
   "execution_count": 54,
   "id": "24195c0c-c653-4869-ade2-a603c1be0b2e",
   "metadata": {},
   "outputs": [
    {
     "name": "stdout",
     "output_type": "stream",
     "text": [
      "The Sample Covariance Matrix is:\n",
      " [[ 0.68569351 -0.042434    1.27431544  0.51627069]\n",
      " [-0.042434    0.18997942 -0.32965638 -0.12163937]\n",
      " [ 1.27431544 -0.32965638  3.11627785  1.2956094 ]\n",
      " [ 0.51627069 -0.12163937  1.2956094   0.58100626]]\n"
     ]
    }
   ],
   "source": [
    "ones = np.ones((N, 1), dtype=X.dtype)\n",
    "x_bar = 1 / N * (X.transpose().dot(ones))\n",
    "T = (X - ones.dot(x_bar.transpose()))\n",
    "S = 1 / (N - 1) * T.transpose().dot(T)\n",
    "print(\"The Sample Covariance Matrix is:\\n\", S)"
   ]
  },
  {
   "cell_type": "markdown",
   "id": "ed095bf0-219d-4f61-b6c0-48495580c87e",
   "metadata": {},
   "source": [
    "<span style=\"font-family: XB Zar; font-size: medium; \"><div dir=rtl><meta charset=\"UTF-8\">\n",
    "    <br>\n",
    "    حال مقادیر ویژه و بردار‌های ویژه را حساب می‌کنیم. این کار را با استفاده از تابع \n",
    "   np.linalg.eig()\n",
    "    حساب می‌کنیم. دقت داریم که این تابع خود مقادیر ویژه را به شکل نزولی مرتب می‌کند\n",
    "    </div></span>"
   ]
  },
  {
   "cell_type": "code",
   "execution_count": 55,
   "id": "8bc9acdf-93a8-4e82-a6e3-7a198d36eb77",
   "metadata": {},
   "outputs": [
    {
     "name": "stdout",
     "output_type": "stream",
     "text": [
      "The Eigenvalues are:  [4.22824171 0.24267075 0.0782095  0.02383509]\n",
      "The Eigenvectors Matrix which each of them is a column-vector:\n",
      " [[ 0.36138659 -0.65658877 -0.58202985  0.31548719]\n",
      " [-0.08452251 -0.73016143  0.59791083 -0.3197231 ]\n",
      " [ 0.85667061  0.17337266  0.07623608 -0.47983899]\n",
      " [ 0.3582892   0.07548102  0.54583143  0.75365743]]\n"
     ]
    }
   ],
   "source": [
    "eigenvalues, eigenvectors = np.linalg.eig(S)\n",
    "print(\"The Eigenvalues are: \", eigenvalues)\n",
    "print(\"The Eigenvectors Matrix which each of them is a column-vector:\\n\", eigenvectors)"
   ]
  },
  {
   "cell_type": "markdown",
   "id": "fbb35d4d-fad7-41ed-88b9-005e8c9673ed",
   "metadata": {},
   "source": [
    "<span style=\"font-family: XB Zar; font-size: medium; \"><div dir=rtl><meta charset=\"UTF-8\">\n",
    "    <br>\n",
    "    با انتخاب 3 مقدار ویژه بزرگتر، 3 بردار‌ ویژه متناظر با آن را به عنوان پایه‌ای برای فضای مقصد درنظر می‌گیریم و با انجام تبدیل مورد نظر داده‌های ما 3 بعدی شده و در شکل زیر نتایج را می‌بینیم:\n",
    "    </div></span>"
   ]
  },
  {
   "cell_type": "code",
   "execution_count": 73,
   "id": "5ac60432-89fe-4f31-a7fa-f14594795fcc",
   "metadata": {},
   "outputs": [
    {
     "data": {
      "application/vnd.plotly.v1+json": {
       "config": {
        "plotlyServerURL": "https://plot.ly"
       },
       "data": [
        {
         "hovertemplate": "species=Setosa<br>PC1=%{x}<br>PC2=%{y}<br>PC3=%{z}<extra></extra>",
         "legendgroup": "Setosa",
         "marker": {
          "color": "#636efa",
          "symbol": "circle"
         },
         "mode": "markers",
         "name": "Setosa",
         "scene": "scene",
         "showlegend": true,
         "type": "scatter3d",
         "x": [
          2.818239506639465,
          2.7882234453146766,
          2.6133745635497054,
          2.7570222769675925,
          2.7736485960544717,
          3.221505499764509,
          2.6818273818683935,
          2.876220159462369,
          2.6159824008284494,
          2.829609334788048,
          2.9954180419571457,
          2.8896099017002794,
          2.7162558664209846,
          2.27856138874335,
          2.857614742666972,
          3.1163260990778676,
          2.878837257384575,
          2.8540684263546203,
          3.3025448089914216,
          2.9143787327302335,
          3.192108917366484,
          2.958659903851845,
          2.2864257169603905,
          3.199631950382795,
          3.14661108348523,
          2.9956962256831803,
          3.0335450594876625,
          2.940045226412986,
          2.862830417224459,
          2.8703757453346563,
          2.91496665591965,
          3.0924326356068264,
          2.8535027982590897,
          2.9036283835084142,
          2.865438254503203,
          2.6361234804903324,
          2.8771270827586295,
          2.70168101716078,
          2.521863088827009,
          2.912358818640906,
          2.7322627065811003,
          2.652996427565899,
          2.5049585860140953,
          3.096750647511516,
          3.2928758948253223,
          2.787913705851295,
          2.964216873610062,
          2.662902964966152,
          2.959279382778609,
          2.7990053502738426
         ],
         "y": [
          -5.6463498234127965,
          -5.149951351762915,
          -5.182003150742138,
          -5.008653597575779,
          -5.653707089762615,
          -6.06828302589061,
          -5.237491192299125,
          -5.490337536526025,
          -4.748640822640992,
          -5.213178330953579,
          -5.97202147547627,
          -5.341682515989069,
          -5.0918405766259776,
          -4.815557989821313,
          -6.505717213265272,
          -6.665014907228347,
          -6.137632091008952,
          -5.63880172142105,
          -6.1997916157899065,
          -5.840512885576972,
          -5.71829851248159,
          -5.759948640106724,
          -5.46042064636622,
          -5.425661431641795,
          -5.289670717150312,
          -5.180935696332428,
          -5.457904066262945,
          -5.694671434261896,
          -5.638992557062979,
          -5.129991351903381,
          -5.122634085553561,
          -5.737876841057269,
          -6.140316397124657,
          -6.420098336277052,
          -5.205630228961833,
          -5.396317048407777,
          -5.926322598207119,
          -5.595596314625677,
          -4.838994232399079,
          -5.555996413654708,
          -5.590480110571952,
          -4.385992003186499,
          -4.985026519356085,
          -5.515824005757955,
          -5.763615718466882,
          -5.076744372642485,
          -5.830723721289132,
          -5.099007007333867,
          -5.906362598347585,
          -5.434658659327107
         ],
         "z": [
          -0.6597675437572553,
          -0.8423169885460869,
          -0.6139524598469525,
          -0.600293342562162,
          -0.5417734756166404,
          -0.4631750579587361,
          -0.3739605579122248,
          -0.6537320340545617,
          -0.6110931459030637,
          -0.829485441155989,
          -0.707170725546961,
          -0.5297024562112523,
          -0.8386971466174878,
          -0.5705530437107444,
          -0.7834802397856494,
          -0.35407581346470346,
          -0.4936694882871217,
          -0.605184400555248,
          -0.7521582395625714,
          -0.4181875439431252,
          -0.8712967594127948,
          -0.4233954837511264,
          -0.3394559654225999,
          -0.592729457424962,
          -0.5068316334649631,
          -0.8852727585125006,
          -0.5369421400684508,
          -0.7103469213057658,
          -0.7777616118978712,
          -0.5910816371006633,
          -0.7090757052412787,
          -0.777377688172973,
          -0.4061835664477204,
          -0.4740419032096194,
          -0.7749022979539816,
          -0.7961850228208683,
          -0.9002030918617777,
          -0.5381536336880413,
          -0.5589256704751512,
          -0.7119350191851678,
          -0.5546050230067383,
          -0.981083093473812,
          -0.4393435044551334,
          -0.3679847706544272,
          -0.3331099704127322,
          -0.7295308602134731,
          -0.4651470795630362,
          -0.5481258671342496,
          -0.6489677404163541,
          -0.7211467246466671
         ]
        },
        {
         "hovertemplate": "species=Versicolor<br>PC1=%{x}<br>PC2=%{y}<br>PC3=%{z}<extra></extra>",
         "legendgroup": "Versicolor",
         "marker": {
          "color": "#EF553B",
          "symbol": "circle"
         },
         "mode": "markers",
         "name": "Versicolor",
         "scene": "scene",
         "showlegend": true,
         "type": "scatter3d",
         "x": [
          6.787190821467353,
          6.434853664921319,
          6.966667454600395,
          5.685682852567373,
          6.590468390320667,
          6.144034216867079,
          6.597425795241448,
          4.753242462779345,
          6.546496958662437,
          5.493619728526106,
          4.9945242487736765,
          6.014063690056599,
          5.767341640721049,
          6.487299643079892,
          5.328439760927234,
          6.430225913553248,
          6.1626488943059385,
          5.738470125926673,
          6.447098860628815,
          5.547592108907701,
          6.618648309959052,
          5.860253550606309,
          6.800549007967915,
          6.424094055056038,
          6.217218458520413,
          6.402539505781169,
          6.83438956933109,
          7.060167287675072,
          6.315655782426544,
          5.196781354584693,
          5.434238640540638,
          5.3127426602305,
          5.638793844167017,
          6.882391568524513,
          6.090371575948866,
          6.309223445109414,
          6.723056015053354,
          6.317460368375601,
          5.748322812495695,
          5.668778349754459,
          5.967165421012782,
          6.393180331078451,
          5.732913156168457,
          4.797833373364338,
          5.859346627310049,
          5.83429961255406,
          5.878580783675672,
          6.14494114016334,
          4.595895267660166,
          5.801365974487145
         ],
         "y": [
          -6.0121130472950055,
          -5.645286215090326,
          -5.831215392136902,
          -4.498993565007064,
          -5.401543252025413,
          -4.908705705259017,
          -5.610420846889223,
          -4.3220616156458,
          -5.555314476616093,
          -4.603870671822861,
          -4.060981386301303,
          -5.222971341328655,
          -4.776916113147222,
          -5.202134722701339,
          -5.072098368125107,
          -5.794132071269207,
          -4.973982911103845,
          -4.993341810002781,
          -4.783807026047931,
          -4.743118199355832,
          -5.242335724632906,
          -5.258027545171682,
          -4.99916526849378,
          -5.144214783206329,
          -5.476008521197483,
          -5.65545705066202,
          -5.571393452844041,
          -5.594448024137949,
          -5.16360227614008,
          -4.9586903870731085,
          -4.621780445028231,
          -4.646665813299563,
          -5.01292013857846,
          -4.905998289513813,
          -4.8426651568464765,
          -5.521134891540845,
          -5.734572170438703,
          -4.954915516918195,
          -5.058428180205681,
          -4.645025851964069,
          -4.656241032315975,
          -5.292488132459427,
          -4.922566728820371,
          -4.314704349295981,
          -4.822042483490588,
          -5.114297893046526,
          -5.033733647576277,
          -5.344690766940114,
          -4.570859210228681,
          -4.978054770377359
         ],
         "z": [
          -1.038420741635536,
          -0.6498669028140822,
          -0.9701784811487377,
          -0.8114441080432006,
          -0.9396106124026276,
          -0.5907766253438874,
          -0.4620424763072669,
          -0.6195497969302496,
          -1.0471888009272394,
          -0.3507112849914349,
          -0.9016698989366988,
          -0.501304965927357,
          -1.3259995463122634,
          -0.6939671244901038,
          -0.5413950254421395,
          -0.9464736920000145,
          -0.30382518778924844,
          -0.9030145534189101,
          -1.1313717626529578,
          -0.8668548211399002,
          -0.17223172480873888,
          -0.861706603776795,
          -0.9797070684251523,
          -0.8629244939041275,
          -0.9536536534123162,
          -0.9480617898794164,
          -1.1535554958322614,
          -0.7967736999114228,
          -0.5964282113216828,
          -0.9503442967908909,
          -0.8760665266013988,
          -0.9382732773855026,
          -0.8090954821790882,
          -0.6156855886471145,
          -0.18741921752803586,
          -0.24288965306963126,
          -0.8690197260517178,
          -1.2465735587596665,
          -0.4434859045216487,
          -0.6918619420231827,
          -0.6561595718867957,
          -0.6417996490621913,
          -0.8612629576070009,
          -0.7375438650708651,
          -0.6152355459695785,
          -0.5486484252721661,
          -0.5538563650801674,
          -0.8372476831511032,
          -0.6444523637257352,
          -0.621271055672273
         ]
        },
        {
         "hovertemplate": "species=Virginica<br>PC1=%{x}<br>PC2=%{y}<br>PC3=%{z}<extra></extra>",
         "legendgroup": "Virginica",
         "marker": {
          "color": "#00cc96",
          "symbol": "circle"
         },
         "mode": "markers",
         "name": "Virginica",
         "scene": "scene",
         "showlegend": true,
         "type": "scatter3d",
         "x": [
          8.033557860412628,
          6.917601009312904,
          8.11904114860469,
          7.473896185652437,
          7.852371052653641,
          8.89940386866226,
          6.023597376518776,
          8.43495220160269,
          7.82359394918238,
          8.419116099395072,
          7.164139286245532,
          7.305767085574091,
          7.667956928689146,
          6.848528712067452,
          7.088293356482223,
          7.4068215074024275,
          7.452054192008071,
          8.98942049689928,
          9.298010554681886,
          6.803156845246659,
          7.930183045675046,
          6.701366238074562,
          9.002285171533538,
          6.8911312643004665,
          7.777795636481206,
          8.116455606419832,
          6.76087329312049,
          6.793497191724023,
          7.625973855382895,
          7.890368148612469,
          8.344037910712872,
          8.733038794041093,
          7.66180277509805,
          6.946526374938511,
          7.283659942654114,
          8.578865064296188,
          7.646608446911083,
          7.407463281423077,
          6.671691471950502,
          7.609976275866242,
          7.8165198378446,
          7.424632933511601,
          6.917601009312904,
          8.065378507686477,
          7.921111315341826,
          7.446474927155969,
          7.029531747423518,
          7.26671084965343,
          7.4033067468274245,
          6.892553994556915
         ],
         "y": [
          -5.3171034673288915,
          -4.752036229281205,
          -5.67085572816943,
          -5.14722467247545,
          -5.286691629685163,
          -5.877789249855752,
          -4.1341938498270485,
          -5.682452579805194,
          -5.083121074517005,
          -6.109744525642972,
          -5.569180984582761,
          -5.11131495949414,
          -5.54322816190172,
          -4.550134229483354,
          -4.7873118628009745,
          -5.4462032689196676,
          -5.368895836490906,
          -6.502691906541124,
          -5.584275550248177,
          -4.565802940392633,
          -5.705148589444746,
          -4.720861049069764,
          -5.787626675739592,
          -5.122553249475544,
          -5.661943182649371,
          -5.887853931950774,
          -5.147247782104949,
          -5.210283925653683,
          -5.117223100150393,
          -5.791592381536432,
          -5.7022217440228,
          -6.701117663620743,
          -5.1096749981586465,
          -5.183539166370116,
          -4.827050895749561,
          -6.015038254398871,
          -5.467016777917483,
          -5.376253102840725,
          -5.161962314804585,
          -5.699240448788493,
          -5.510603855996713,
          -5.736156043643757,
          -4.752036229281205,
          -5.60481517975689,
          -5.631750774682385,
          -5.5144848796282995,
          -4.951635594247207,
          -5.40581143134617,
          -5.443580535339717,
          -5.0442916388371435
         ],
         "z": [
          0.12831271107805226,
          -0.33553018877988,
          -0.7426405993869514,
          -0.5234280537044198,
          -0.34646315298340197,
          -0.9802902719653086,
          -0.08619342052103286,
          -1.0520926519358098,
          -0.9801571111026888,
          -0.20851729848528316,
          -0.3894125264420736,
          -0.669500884399326,
          -0.5985260743235175,
          -0.3499498340493803,
          -0.0028233897598347866,
          -0.15221289654125247,
          -0.5876665485377204,
          -0.49795784223174105,
          -1.145620479985647,
          -0.9768477544812626,
          -0.4127333918658992,
          -0.11999720747084397,
          -1.2050349587358442,
          -0.6963754727991123,
          -0.34570262499869236,
          -0.8373872405214664,
          -0.5860050122405935,
          -0.4005962535078729,
          -0.47767269223901315,
          -1.0813829081096915,
          -1.130750792038611,
          -0.7464009216432581,
          -0.42308954903700574,
          -0.7850866042309328,
          -0.8047279052812628,
          -0.9674450086023832,
          0.10302622055766827,
          -0.46967248039710513,
          -0.35001687595936276,
          -0.6045615840262115,
          -0.30915896899478434,
          -0.5182661203684863,
          -0.33553018877988,
          -0.33928319157109976,
          -0.12737005219066305,
          -0.45402762553518616,
          -0.7537508880350265,
          -0.501371084879995,
          0.0913988473220747,
          -0.26894306808246743
         ]
        }
       ],
       "layout": {
        "autosize": true,
        "legend": {
         "title": {
          "text": "species"
         },
         "tracegroupgap": 0
        },
        "margin": {
         "t": 60
        },
        "scene": {
         "aspectmode": "auto",
         "aspectratio": {
          "x": 1,
          "y": 1,
          "z": 1
         },
         "camera": {
          "center": {
           "x": 0,
           "y": 0,
           "z": 0
          },
          "eye": {
           "x": -0.007481057005086414,
           "y": -0.7027986885432328,
           "z": 0.1693277795754979
          },
          "projection": {
           "type": "perspective"
          },
          "up": {
           "x": 0,
           "y": 0,
           "z": 1
          }
         },
         "domain": {
          "x": [
           0,
           1
          ],
          "y": [
           0,
           1
          ]
         },
         "xaxis": {
          "title": {
           "text": "PC1"
          },
          "type": "linear"
         },
         "yaxis": {
          "title": {
           "text": "PC2"
          },
          "type": "linear"
         },
         "zaxis": {
          "title": {
           "text": "PC3"
          },
          "type": "linear"
         }
        },
        "template": {
         "data": {
          "bar": [
           {
            "error_x": {
             "color": "#2a3f5f"
            },
            "error_y": {
             "color": "#2a3f5f"
            },
            "marker": {
             "line": {
              "color": "#E5ECF6",
              "width": 0.5
             },
             "pattern": {
              "fillmode": "overlay",
              "size": 10,
              "solidity": 0.2
             }
            },
            "type": "bar"
           }
          ],
          "barpolar": [
           {
            "marker": {
             "line": {
              "color": "#E5ECF6",
              "width": 0.5
             },
             "pattern": {
              "fillmode": "overlay",
              "size": 10,
              "solidity": 0.2
             }
            },
            "type": "barpolar"
           }
          ],
          "carpet": [
           {
            "aaxis": {
             "endlinecolor": "#2a3f5f",
             "gridcolor": "white",
             "linecolor": "white",
             "minorgridcolor": "white",
             "startlinecolor": "#2a3f5f"
            },
            "baxis": {
             "endlinecolor": "#2a3f5f",
             "gridcolor": "white",
             "linecolor": "white",
             "minorgridcolor": "white",
             "startlinecolor": "#2a3f5f"
            },
            "type": "carpet"
           }
          ],
          "choropleth": [
           {
            "colorbar": {
             "outlinewidth": 0,
             "ticks": ""
            },
            "type": "choropleth"
           }
          ],
          "contour": [
           {
            "colorbar": {
             "outlinewidth": 0,
             "ticks": ""
            },
            "colorscale": [
             [
              0,
              "#0d0887"
             ],
             [
              0.1111111111111111,
              "#46039f"
             ],
             [
              0.2222222222222222,
              "#7201a8"
             ],
             [
              0.3333333333333333,
              "#9c179e"
             ],
             [
              0.4444444444444444,
              "#bd3786"
             ],
             [
              0.5555555555555556,
              "#d8576b"
             ],
             [
              0.6666666666666666,
              "#ed7953"
             ],
             [
              0.7777777777777778,
              "#fb9f3a"
             ],
             [
              0.8888888888888888,
              "#fdca26"
             ],
             [
              1,
              "#f0f921"
             ]
            ],
            "type": "contour"
           }
          ],
          "contourcarpet": [
           {
            "colorbar": {
             "outlinewidth": 0,
             "ticks": ""
            },
            "type": "contourcarpet"
           }
          ],
          "heatmap": [
           {
            "colorbar": {
             "outlinewidth": 0,
             "ticks": ""
            },
            "colorscale": [
             [
              0,
              "#0d0887"
             ],
             [
              0.1111111111111111,
              "#46039f"
             ],
             [
              0.2222222222222222,
              "#7201a8"
             ],
             [
              0.3333333333333333,
              "#9c179e"
             ],
             [
              0.4444444444444444,
              "#bd3786"
             ],
             [
              0.5555555555555556,
              "#d8576b"
             ],
             [
              0.6666666666666666,
              "#ed7953"
             ],
             [
              0.7777777777777778,
              "#fb9f3a"
             ],
             [
              0.8888888888888888,
              "#fdca26"
             ],
             [
              1,
              "#f0f921"
             ]
            ],
            "type": "heatmap"
           }
          ],
          "heatmapgl": [
           {
            "colorbar": {
             "outlinewidth": 0,
             "ticks": ""
            },
            "colorscale": [
             [
              0,
              "#0d0887"
             ],
             [
              0.1111111111111111,
              "#46039f"
             ],
             [
              0.2222222222222222,
              "#7201a8"
             ],
             [
              0.3333333333333333,
              "#9c179e"
             ],
             [
              0.4444444444444444,
              "#bd3786"
             ],
             [
              0.5555555555555556,
              "#d8576b"
             ],
             [
              0.6666666666666666,
              "#ed7953"
             ],
             [
              0.7777777777777778,
              "#fb9f3a"
             ],
             [
              0.8888888888888888,
              "#fdca26"
             ],
             [
              1,
              "#f0f921"
             ]
            ],
            "type": "heatmapgl"
           }
          ],
          "histogram": [
           {
            "marker": {
             "pattern": {
              "fillmode": "overlay",
              "size": 10,
              "solidity": 0.2
             }
            },
            "type": "histogram"
           }
          ],
          "histogram2d": [
           {
            "colorbar": {
             "outlinewidth": 0,
             "ticks": ""
            },
            "colorscale": [
             [
              0,
              "#0d0887"
             ],
             [
              0.1111111111111111,
              "#46039f"
             ],
             [
              0.2222222222222222,
              "#7201a8"
             ],
             [
              0.3333333333333333,
              "#9c179e"
             ],
             [
              0.4444444444444444,
              "#bd3786"
             ],
             [
              0.5555555555555556,
              "#d8576b"
             ],
             [
              0.6666666666666666,
              "#ed7953"
             ],
             [
              0.7777777777777778,
              "#fb9f3a"
             ],
             [
              0.8888888888888888,
              "#fdca26"
             ],
             [
              1,
              "#f0f921"
             ]
            ],
            "type": "histogram2d"
           }
          ],
          "histogram2dcontour": [
           {
            "colorbar": {
             "outlinewidth": 0,
             "ticks": ""
            },
            "colorscale": [
             [
              0,
              "#0d0887"
             ],
             [
              0.1111111111111111,
              "#46039f"
             ],
             [
              0.2222222222222222,
              "#7201a8"
             ],
             [
              0.3333333333333333,
              "#9c179e"
             ],
             [
              0.4444444444444444,
              "#bd3786"
             ],
             [
              0.5555555555555556,
              "#d8576b"
             ],
             [
              0.6666666666666666,
              "#ed7953"
             ],
             [
              0.7777777777777778,
              "#fb9f3a"
             ],
             [
              0.8888888888888888,
              "#fdca26"
             ],
             [
              1,
              "#f0f921"
             ]
            ],
            "type": "histogram2dcontour"
           }
          ],
          "mesh3d": [
           {
            "colorbar": {
             "outlinewidth": 0,
             "ticks": ""
            },
            "type": "mesh3d"
           }
          ],
          "parcoords": [
           {
            "line": {
             "colorbar": {
              "outlinewidth": 0,
              "ticks": ""
             }
            },
            "type": "parcoords"
           }
          ],
          "pie": [
           {
            "automargin": true,
            "type": "pie"
           }
          ],
          "scatter": [
           {
            "fillpattern": {
             "fillmode": "overlay",
             "size": 10,
             "solidity": 0.2
            },
            "type": "scatter"
           }
          ],
          "scatter3d": [
           {
            "line": {
             "colorbar": {
              "outlinewidth": 0,
              "ticks": ""
             }
            },
            "marker": {
             "colorbar": {
              "outlinewidth": 0,
              "ticks": ""
             }
            },
            "type": "scatter3d"
           }
          ],
          "scattercarpet": [
           {
            "marker": {
             "colorbar": {
              "outlinewidth": 0,
              "ticks": ""
             }
            },
            "type": "scattercarpet"
           }
          ],
          "scattergeo": [
           {
            "marker": {
             "colorbar": {
              "outlinewidth": 0,
              "ticks": ""
             }
            },
            "type": "scattergeo"
           }
          ],
          "scattergl": [
           {
            "marker": {
             "colorbar": {
              "outlinewidth": 0,
              "ticks": ""
             }
            },
            "type": "scattergl"
           }
          ],
          "scattermapbox": [
           {
            "marker": {
             "colorbar": {
              "outlinewidth": 0,
              "ticks": ""
             }
            },
            "type": "scattermapbox"
           }
          ],
          "scatterpolar": [
           {
            "marker": {
             "colorbar": {
              "outlinewidth": 0,
              "ticks": ""
             }
            },
            "type": "scatterpolar"
           }
          ],
          "scatterpolargl": [
           {
            "marker": {
             "colorbar": {
              "outlinewidth": 0,
              "ticks": ""
             }
            },
            "type": "scatterpolargl"
           }
          ],
          "scatterternary": [
           {
            "marker": {
             "colorbar": {
              "outlinewidth": 0,
              "ticks": ""
             }
            },
            "type": "scatterternary"
           }
          ],
          "surface": [
           {
            "colorbar": {
             "outlinewidth": 0,
             "ticks": ""
            },
            "colorscale": [
             [
              0,
              "#0d0887"
             ],
             [
              0.1111111111111111,
              "#46039f"
             ],
             [
              0.2222222222222222,
              "#7201a8"
             ],
             [
              0.3333333333333333,
              "#9c179e"
             ],
             [
              0.4444444444444444,
              "#bd3786"
             ],
             [
              0.5555555555555556,
              "#d8576b"
             ],
             [
              0.6666666666666666,
              "#ed7953"
             ],
             [
              0.7777777777777778,
              "#fb9f3a"
             ],
             [
              0.8888888888888888,
              "#fdca26"
             ],
             [
              1,
              "#f0f921"
             ]
            ],
            "type": "surface"
           }
          ],
          "table": [
           {
            "cells": {
             "fill": {
              "color": "#EBF0F8"
             },
             "line": {
              "color": "white"
             }
            },
            "header": {
             "fill": {
              "color": "#C8D4E3"
             },
             "line": {
              "color": "white"
             }
            },
            "type": "table"
           }
          ]
         },
         "layout": {
          "annotationdefaults": {
           "arrowcolor": "#2a3f5f",
           "arrowhead": 0,
           "arrowwidth": 1
          },
          "autotypenumbers": "strict",
          "coloraxis": {
           "colorbar": {
            "outlinewidth": 0,
            "ticks": ""
           }
          },
          "colorscale": {
           "diverging": [
            [
             0,
             "#8e0152"
            ],
            [
             0.1,
             "#c51b7d"
            ],
            [
             0.2,
             "#de77ae"
            ],
            [
             0.3,
             "#f1b6da"
            ],
            [
             0.4,
             "#fde0ef"
            ],
            [
             0.5,
             "#f7f7f7"
            ],
            [
             0.6,
             "#e6f5d0"
            ],
            [
             0.7,
             "#b8e186"
            ],
            [
             0.8,
             "#7fbc41"
            ],
            [
             0.9,
             "#4d9221"
            ],
            [
             1,
             "#276419"
            ]
           ],
           "sequential": [
            [
             0,
             "#0d0887"
            ],
            [
             0.1111111111111111,
             "#46039f"
            ],
            [
             0.2222222222222222,
             "#7201a8"
            ],
            [
             0.3333333333333333,
             "#9c179e"
            ],
            [
             0.4444444444444444,
             "#bd3786"
            ],
            [
             0.5555555555555556,
             "#d8576b"
            ],
            [
             0.6666666666666666,
             "#ed7953"
            ],
            [
             0.7777777777777778,
             "#fb9f3a"
            ],
            [
             0.8888888888888888,
             "#fdca26"
            ],
            [
             1,
             "#f0f921"
            ]
           ],
           "sequentialminus": [
            [
             0,
             "#0d0887"
            ],
            [
             0.1111111111111111,
             "#46039f"
            ],
            [
             0.2222222222222222,
             "#7201a8"
            ],
            [
             0.3333333333333333,
             "#9c179e"
            ],
            [
             0.4444444444444444,
             "#bd3786"
            ],
            [
             0.5555555555555556,
             "#d8576b"
            ],
            [
             0.6666666666666666,
             "#ed7953"
            ],
            [
             0.7777777777777778,
             "#fb9f3a"
            ],
            [
             0.8888888888888888,
             "#fdca26"
            ],
            [
             1,
             "#f0f921"
            ]
           ]
          },
          "colorway": [
           "#636efa",
           "#EF553B",
           "#00cc96",
           "#ab63fa",
           "#FFA15A",
           "#19d3f3",
           "#FF6692",
           "#B6E880",
           "#FF97FF",
           "#FECB52"
          ],
          "font": {
           "color": "#2a3f5f"
          },
          "geo": {
           "bgcolor": "white",
           "lakecolor": "white",
           "landcolor": "#E5ECF6",
           "showlakes": true,
           "showland": true,
           "subunitcolor": "white"
          },
          "hoverlabel": {
           "align": "left"
          },
          "hovermode": "closest",
          "mapbox": {
           "style": "light"
          },
          "paper_bgcolor": "white",
          "plot_bgcolor": "#E5ECF6",
          "polar": {
           "angularaxis": {
            "gridcolor": "white",
            "linecolor": "white",
            "ticks": ""
           },
           "bgcolor": "#E5ECF6",
           "radialaxis": {
            "gridcolor": "white",
            "linecolor": "white",
            "ticks": ""
           }
          },
          "scene": {
           "xaxis": {
            "backgroundcolor": "#E5ECF6",
            "gridcolor": "white",
            "gridwidth": 2,
            "linecolor": "white",
            "showbackground": true,
            "ticks": "",
            "zerolinecolor": "white"
           },
           "yaxis": {
            "backgroundcolor": "#E5ECF6",
            "gridcolor": "white",
            "gridwidth": 2,
            "linecolor": "white",
            "showbackground": true,
            "ticks": "",
            "zerolinecolor": "white"
           },
           "zaxis": {
            "backgroundcolor": "#E5ECF6",
            "gridcolor": "white",
            "gridwidth": 2,
            "linecolor": "white",
            "showbackground": true,
            "ticks": "",
            "zerolinecolor": "white"
           }
          },
          "shapedefaults": {
           "line": {
            "color": "#2a3f5f"
           }
          },
          "ternary": {
           "aaxis": {
            "gridcolor": "white",
            "linecolor": "white",
            "ticks": ""
           },
           "baxis": {
            "gridcolor": "white",
            "linecolor": "white",
            "ticks": ""
           },
           "bgcolor": "#E5ECF6",
           "caxis": {
            "gridcolor": "white",
            "linecolor": "white",
            "ticks": ""
           }
          },
          "title": {
           "x": 0.05
          },
          "xaxis": {
           "automargin": true,
           "gridcolor": "white",
           "linecolor": "white",
           "ticks": "",
           "title": {
            "standoff": 15
           },
           "zerolinecolor": "white",
           "zerolinewidth": 2
          },
          "yaxis": {
           "automargin": true,
           "gridcolor": "white",
           "linecolor": "white",
           "ticks": "",
           "title": {
            "standoff": 15
           },
           "zerolinecolor": "white",
           "zerolinewidth": 2
          }
         }
        }
       }
      },
      "image/png": "[encoded data removed]",
      "text/html": [
       "<div>                            <div id=\"a9661c41-baf5-4467-970d-afa704ca3389\" class=\"plotly-graph-div\" style=\"height:525px; width:100%;\"></div>            <script type=\"text/javascript\">                require([\"plotly\"], function(Plotly) {                    window.PLOTLYENV=window.PLOTLYENV || {};                                    if (document.getElementById(\"a9661c41-baf5-4467-970d-afa704ca3389\")) {                    Plotly.newPlot(                        \"a9661c41-baf5-4467-970d-afa704ca3389\",                        [{\"hovertemplate\":\"species=Setosa<br>PC1=%{x}<br>PC2=%{y}<br>PC3=%{z}<extra></extra>\",\"legendgroup\":\"Setosa\",\"marker\":{\"color\":\"#636efa\",\"symbol\":\"circle\"},\"mode\":\"markers\",\"name\":\"Setosa\",\"scene\":\"scene\",\"showlegend\":true,\"x\":[2.818239506639465,2.7882234453146766,2.6133745635497054,2.7570222769675925,2.7736485960544717,3.221505499764509,2.6818273818683935,2.876220159462369,2.6159824008284494,2.829609334788048,2.9954180419571457,2.8896099017002794,2.7162558664209846,2.27856138874335,2.857614742666972,3.1163260990778676,2.878837257384575,2.8540684263546203,3.3025448089914216,2.9143787327302335,3.192108917366484,2.958659903851845,2.2864257169603905,3.199631950382795,3.14661108348523,2.9956962256831803,3.0335450594876625,2.940045226412986,2.862830417224459,2.8703757453346563,2.91496665591965,3.0924326356068264,2.8535027982590897,2.9036283835084142,2.865438254503203,2.6361234804903324,2.8771270827586295,2.70168101716078,2.521863088827009,2.912358818640906,2.7322627065811003,2.652996427565899,2.5049585860140953,3.096750647511516,3.2928758948253223,2.787913705851295,2.964216873610062,2.662902964966152,2.959279382778609,2.7990053502738426],\"y\":[-5.6463498234127965,-5.149951351762915,-5.182003150742138,-5.008653597575779,-5.653707089762615,-6.06828302589061,-5.237491192299125,-5.490337536526025,-4.748640822640992,-5.213178330953579,-5.97202147547627,-5.341682515989069,-5.0918405766259776,-4.815557989821313,-6.505717213265272,-6.665014907228347,-6.137632091008952,-5.63880172142105,-6.1997916157899065,-5.840512885576972,-5.71829851248159,-5.759948640106724,-5.46042064636622,-5.425661431641795,-5.289670717150312,-5.180935696332428,-5.457904066262945,-5.694671434261896,-5.638992557062979,-5.129991351903381,-5.122634085553561,-5.737876841057269,-6.140316397124657,-6.420098336277052,-5.205630228961833,-5.396317048407777,-5.926322598207119,-5.595596314625677,-4.838994232399079,-5.555996413654708,-5.590480110571952,-4.385992003186499,-4.985026519356085,-5.515824005757955,-5.763615718466882,-5.076744372642485,-5.830723721289132,-5.099007007333867,-5.906362598347585,-5.434658659327107],\"z\":[-0.6597675437572553,-0.8423169885460869,-0.6139524598469525,-0.600293342562162,-0.5417734756166404,-0.4631750579587361,-0.3739605579122248,-0.6537320340545617,-0.6110931459030637,-0.829485441155989,-0.707170725546961,-0.5297024562112523,-0.8386971466174878,-0.5705530437107444,-0.7834802397856494,-0.35407581346470346,-0.4936694882871217,-0.605184400555248,-0.7521582395625714,-0.4181875439431252,-0.8712967594127948,-0.4233954837511264,-0.3394559654225999,-0.592729457424962,-0.5068316334649631,-0.8852727585125006,-0.5369421400684508,-0.7103469213057658,-0.7777616118978712,-0.5910816371006633,-0.7090757052412787,-0.777377688172973,-0.4061835664477204,-0.4740419032096194,-0.7749022979539816,-0.7961850228208683,-0.9002030918617777,-0.5381536336880413,-0.5589256704751512,-0.7119350191851678,-0.5546050230067383,-0.981083093473812,-0.4393435044551334,-0.3679847706544272,-0.3331099704127322,-0.7295308602134731,-0.4651470795630362,-0.5481258671342496,-0.6489677404163541,-0.7211467246466671],\"type\":\"scatter3d\"},{\"hovertemplate\":\"species=Versicolor<br>PC1=%{x}<br>PC2=%{y}<br>PC3=%{z}<extra></extra>\",\"legendgroup\":\"Versicolor\",\"marker\":{\"color\":\"#EF553B\",\"symbol\":\"circle\"},\"mode\":\"markers\",\"name\":\"Versicolor\",\"scene\":\"scene\",\"showlegend\":true,\"x\":[6.787190821467353,6.434853664921319,6.966667454600395,5.685682852567373,6.590468390320667,6.144034216867079,6.597425795241448,4.753242462779345,6.546496958662437,5.493619728526106,4.9945242487736765,6.014063690056599,5.767341640721049,6.487299643079892,5.328439760927234,6.430225913553248,6.1626488943059385,5.738470125926673,6.447098860628815,5.547592108907701,6.618648309959052,5.860253550606309,6.800549007967915,6.424094055056038,6.217218458520413,6.402539505781169,6.83438956933109,7.060167287675072,6.315655782426544,5.196781354584693,5.434238640540638,5.3127426602305,5.638793844167017,6.882391568524513,6.090371575948866,6.309223445109414,6.723056015053354,6.317460368375601,5.748322812495695,5.668778349754459,5.967165421012782,6.393180331078451,5.732913156168457,4.797833373364338,5.859346627310049,5.83429961255406,5.878580783675672,6.14494114016334,4.595895267660166,5.801365974487145],\"y\":[-6.0121130472950055,-5.645286215090326,-5.831215392136902,-4.498993565007064,-5.401543252025413,-4.908705705259017,-5.610420846889223,-4.3220616156458,-5.555314476616093,-4.603870671822861,-4.060981386301303,-5.222971341328655,-4.776916113147222,-5.202134722701339,-5.072098368125107,-5.794132071269207,-4.973982911103845,-4.993341810002781,-4.783807026047931,-4.743118199355832,-5.242335724632906,-5.258027545171682,-4.99916526849378,-5.144214783206329,-5.476008521197483,-5.65545705066202,-5.571393452844041,-5.594448024137949,-5.16360227614008,-4.9586903870731085,-4.621780445028231,-4.646665813299563,-5.01292013857846,-4.905998289513813,-4.8426651568464765,-5.521134891540845,-5.734572170438703,-4.954915516918195,-5.058428180205681,-4.645025851964069,-4.656241032315975,-5.292488132459427,-4.922566728820371,-4.314704349295981,-4.822042483490588,-5.114297893046526,-5.033733647576277,-5.344690766940114,-4.570859210228681,-4.978054770377359],\"z\":[-1.038420741635536,-0.6498669028140822,-0.9701784811487377,-0.8114441080432006,-0.9396106124026276,-0.5907766253438874,-0.4620424763072669,-0.6195497969302496,-1.0471888009272394,-0.3507112849914349,-0.9016698989366988,-0.501304965927357,-1.3259995463122634,-0.6939671244901038,-0.5413950254421395,-0.9464736920000145,-0.30382518778924844,-0.9030145534189101,-1.1313717626529578,-0.8668548211399002,-0.17223172480873888,-0.861706603776795,-0.9797070684251523,-0.8629244939041275,-0.9536536534123162,-0.9480617898794164,-1.1535554958322614,-0.7967736999114228,-0.5964282113216828,-0.9503442967908909,-0.8760665266013988,-0.9382732773855026,-0.8090954821790882,-0.6156855886471145,-0.18741921752803586,-0.24288965306963126,-0.8690197260517178,-1.2465735587596665,-0.4434859045216487,-0.6918619420231827,-0.6561595718867957,-0.6417996490621913,-0.8612629576070009,-0.7375438650708651,-0.6152355459695785,-0.5486484252721661,-0.5538563650801674,-0.8372476831511032,-0.6444523637257352,-0.621271055672273],\"type\":\"scatter3d\"},{\"hovertemplate\":\"species=Virginica<br>PC1=%{x}<br>PC2=%{y}<br>PC3=%{z}<extra></extra>\",\"legendgroup\":\"Virginica\",\"marker\":{\"color\":\"#00cc96\",\"symbol\":\"circle\"},\"mode\":\"markers\",\"name\":\"Virginica\",\"scene\":\"scene\",\"showlegend\":true,\"x\":[8.033557860412628,6.917601009312904,8.11904114860469,7.473896185652437,7.852371052653641,8.89940386866226,6.023597376518776,8.43495220160269,7.82359394918238,8.419116099395072,7.164139286245532,7.305767085574091,7.667956928689146,6.848528712067452,7.088293356482223,7.4068215074024275,7.452054192008071,8.98942049689928,9.298010554681886,6.803156845246659,7.930183045675046,6.701366238074562,9.002285171533538,6.8911312643004665,7.777795636481206,8.116455606419832,6.76087329312049,6.793497191724023,7.625973855382895,7.890368148612469,8.344037910712872,8.733038794041093,7.66180277509805,6.946526374938511,7.283659942654114,8.578865064296188,7.646608446911083,7.407463281423077,6.671691471950502,7.609976275866242,7.8165198378446,7.424632933511601,6.917601009312904,8.065378507686477,7.921111315341826,7.446474927155969,7.029531747423518,7.26671084965343,7.4033067468274245,6.892553994556915],\"y\":[-5.3171034673288915,-4.752036229281205,-5.67085572816943,-5.14722467247545,-5.286691629685163,-5.877789249855752,-4.1341938498270485,-5.682452579805194,-5.083121074517005,-6.109744525642972,-5.569180984582761,-5.11131495949414,-5.54322816190172,-4.550134229483354,-4.7873118628009745,-5.4462032689196676,-5.368895836490906,-6.502691906541124,-5.584275550248177,-4.565802940392633,-5.705148589444746,-4.720861049069764,-5.787626675739592,-5.122553249475544,-5.661943182649371,-5.887853931950774,-5.147247782104949,-5.210283925653683,-5.117223100150393,-5.791592381536432,-5.7022217440228,-6.701117663620743,-5.1096749981586465,-5.183539166370116,-4.827050895749561,-6.015038254398871,-5.467016777917483,-5.376253102840725,-5.161962314804585,-5.699240448788493,-5.510603855996713,-5.736156043643757,-4.752036229281205,-5.60481517975689,-5.631750774682385,-5.5144848796282995,-4.951635594247207,-5.40581143134617,-5.443580535339717,-5.0442916388371435],\"z\":[0.12831271107805226,-0.33553018877988,-0.7426405993869514,-0.5234280537044198,-0.34646315298340197,-0.9802902719653086,-0.08619342052103286,-1.0520926519358098,-0.9801571111026888,-0.20851729848528316,-0.3894125264420736,-0.669500884399326,-0.5985260743235175,-0.3499498340493803,-0.0028233897598347866,-0.15221289654125247,-0.5876665485377204,-0.49795784223174105,-1.145620479985647,-0.9768477544812626,-0.4127333918658992,-0.11999720747084397,-1.2050349587358442,-0.6963754727991123,-0.34570262499869236,-0.8373872405214664,-0.5860050122405935,-0.4005962535078729,-0.47767269223901315,-1.0813829081096915,-1.130750792038611,-0.7464009216432581,-0.42308954903700574,-0.7850866042309328,-0.8047279052812628,-0.9674450086023832,0.10302622055766827,-0.46967248039710513,-0.35001687595936276,-0.6045615840262115,-0.30915896899478434,-0.5182661203684863,-0.33553018877988,-0.33928319157109976,-0.12737005219066305,-0.45402762553518616,-0.7537508880350265,-0.501371084879995,0.0913988473220747,-0.26894306808246743],\"type\":\"scatter3d\"}],                        {\"template\":{\"data\":{\"histogram2dcontour\":[{\"type\":\"histogram2dcontour\",\"colorbar\":{\"outlinewidth\":0,\"ticks\":\"\"},\"colorscale\":[[0.0,\"#0d0887\"],[0.1111111111111111,\"#46039f\"],[0.2222222222222222,\"#7201a8\"],[0.3333333333333333,\"#9c179e\"],[0.4444444444444444,\"#bd3786\"],[0.5555555555555556,\"#d8576b\"],[0.6666666666666666,\"#ed7953\"],[0.7777777777777778,\"#fb9f3a\"],[0.8888888888888888,\"#fdca26\"],[1.0,\"#f0f921\"]]}],\"choropleth\":[{\"type\":\"choropleth\",\"colorbar\":{\"outlinewidth\":0,\"ticks\":\"\"}}],\"histogram2d\":[{\"type\":\"histogram2d\",\"colorbar\":{\"outlinewidth\":0,\"ticks\":\"\"},\"colorscale\":[[0.0,\"#0d0887\"],[0.1111111111111111,\"#46039f\"],[0.2222222222222222,\"#7201a8\"],[0.3333333333333333,\"#9c179e\"],[0.4444444444444444,\"#bd3786\"],[0.5555555555555556,\"#d8576b\"],[0.6666666666666666,\"#ed7953\"],[0.7777777777777778,\"#fb9f3a\"],[0.8888888888888888,\"#fdca26\"],[1.0,\"#f0f921\"]]}],\"heatmap\":[{\"type\":\"heatmap\",\"colorbar\":{\"outlinewidth\":0,\"ticks\":\"\"},\"colorscale\":[[0.0,\"#0d0887\"],[0.1111111111111111,\"#46039f\"],[0.2222222222222222,\"#7201a8\"],[0.3333333333333333,\"#9c179e\"],[0.4444444444444444,\"#bd3786\"],[0.5555555555555556,\"#d8576b\"],[0.6666666666666666,\"#ed7953\"],[0.7777777777777778,\"#fb9f3a\"],[0.8888888888888888,\"#fdca26\"],[1.0,\"#f0f921\"]]}],\"heatmapgl\":[{\"type\":\"heatmapgl\",\"colorbar\":{\"outlinewidth\":0,\"ticks\":\"\"},\"colorscale\":[[0.0,\"#0d0887\"],[0.1111111111111111,\"#46039f\"],[0.2222222222222222,\"#7201a8\"],[0.3333333333333333,\"#9c179e\"],[0.4444444444444444,\"#bd3786\"],[0.5555555555555556,\"#d8576b\"],[0.6666666666666666,\"#ed7953\"],[0.7777777777777778,\"#fb9f3a\"],[0.8888888888888888,\"#fdca26\"],[1.0,\"#f0f921\"]]}],\"contourcarpet\":[{\"type\":\"contourcarpet\",\"colorbar\":{\"outlinewidth\":0,\"ticks\":\"\"}}],\"contour\":[{\"type\":\"contour\",\"colorbar\":{\"outlinewidth\":0,\"ticks\":\"\"},\"colorscale\":[[0.0,\"#0d0887\"],[0.1111111111111111,\"#46039f\"],[0.2222222222222222,\"#7201a8\"],[0.3333333333333333,\"#9c179e\"],[0.4444444444444444,\"#bd3786\"],[0.5555555555555556,\"#d8576b\"],[0.6666666666666666,\"#ed7953\"],[0.7777777777777778,\"#fb9f3a\"],[0.8888888888888888,\"#fdca26\"],[1.0,\"#f0f921\"]]}],\"surface\":[{\"type\":\"surface\",\"colorbar\":{\"outlinewidth\":0,\"ticks\":\"\"},\"colorscale\":[[0.0,\"#0d0887\"],[0.1111111111111111,\"#46039f\"],[0.2222222222222222,\"#7201a8\"],[0.3333333333333333,\"#9c179e\"],[0.4444444444444444,\"#bd3786\"],[0.5555555555555556,\"#d8576b\"],[0.6666666666666666,\"#ed7953\"],[0.7777777777777778,\"#fb9f3a\"],[0.8888888888888888,\"#fdca26\"],[1.0,\"#f0f921\"]]}],\"mesh3d\":[{\"type\":\"mesh3d\",\"colorbar\":{\"outlinewidth\":0,\"ticks\":\"\"}}],\"scatter\":[{\"fillpattern\":{\"fillmode\":\"overlay\",\"size\":10,\"solidity\":0.2},\"type\":\"scatter\"}],\"parcoords\":[{\"type\":\"parcoords\",\"line\":{\"colorbar\":{\"outlinewidth\":0,\"ticks\":\"\"}}}],\"scatterpolargl\":[{\"type\":\"scatterpolargl\",\"marker\":{\"colorbar\":{\"outlinewidth\":0,\"ticks\":\"\"}}}],\"bar\":[{\"error_x\":{\"color\":\"#2a3f5f\"},\"error_y\":{\"color\":\"#2a3f5f\"},\"marker\":{\"line\":{\"color\":\"#E5ECF6\",\"width\":0.5},\"pattern\":{\"fillmode\":\"overlay\",\"size\":10,\"solidity\":0.2}},\"type\":\"bar\"}],\"scattergeo\":[{\"type\":\"scattergeo\",\"marker\":{\"colorbar\":{\"outlinewidth\":0,\"ticks\":\"\"}}}],\"scatterpolar\":[{\"type\":\"scatterpolar\",\"marker\":{\"colorbar\":{\"outlinewidth\":0,\"ticks\":\"\"}}}],\"histogram\":[{\"marker\":{\"pattern\":{\"fillmode\":\"overlay\",\"size\":10,\"solidity\":0.2}},\"type\":\"histogram\"}],\"scattergl\":[{\"type\":\"scattergl\",\"marker\":{\"colorbar\":{\"outlinewidth\":0,\"ticks\":\"\"}}}],\"scatter3d\":[{\"type\":\"scatter3d\",\"line\":{\"colorbar\":{\"outlinewidth\":0,\"ticks\":\"\"}},\"marker\":{\"colorbar\":{\"outlinewidth\":0,\"ticks\":\"\"}}}],\"scattermapbox\":[{\"type\":\"scattermapbox\",\"marker\":{\"colorbar\":{\"outlinewidth\":0,\"ticks\":\"\"}}}],\"scatterternary\":[{\"type\":\"scatterternary\",\"marker\":{\"colorbar\":{\"outlinewidth\":0,\"ticks\":\"\"}}}],\"scattercarpet\":[{\"type\":\"scattercarpet\",\"marker\":{\"colorbar\":{\"outlinewidth\":0,\"ticks\":\"\"}}}],\"carpet\":[{\"aaxis\":{\"endlinecolor\":\"#2a3f5f\",\"gridcolor\":\"white\",\"linecolor\":\"white\",\"minorgridcolor\":\"white\",\"startlinecolor\":\"#2a3f5f\"},\"baxis\":{\"endlinecolor\":\"#2a3f5f\",\"gridcolor\":\"white\",\"linecolor\":\"white\",\"minorgridcolor\":\"white\",\"startlinecolor\":\"#2a3f5f\"},\"type\":\"carpet\"}],\"table\":[{\"cells\":{\"fill\":{\"color\":\"#EBF0F8\"},\"line\":{\"color\":\"white\"}},\"header\":{\"fill\":{\"color\":\"#C8D4E3\"},\"line\":{\"color\":\"white\"}},\"type\":\"table\"}],\"barpolar\":[{\"marker\":{\"line\":{\"color\":\"#E5ECF6\",\"width\":0.5},\"pattern\":{\"fillmode\":\"overlay\",\"size\":10,\"solidity\":0.2}},\"type\":\"barpolar\"}],\"pie\":[{\"automargin\":true,\"type\":\"pie\"}]},\"layout\":{\"autotypenumbers\":\"strict\",\"colorway\":[\"#636efa\",\"#EF553B\",\"#00cc96\",\"#ab63fa\",\"#FFA15A\",\"#19d3f3\",\"#FF6692\",\"#B6E880\",\"#FF97FF\",\"#FECB52\"],\"font\":{\"color\":\"#2a3f5f\"},\"hovermode\":\"closest\",\"hoverlabel\":{\"align\":\"left\"},\"paper_bgcolor\":\"white\",\"plot_bgcolor\":\"#E5ECF6\",\"polar\":{\"bgcolor\":\"#E5ECF6\",\"angularaxis\":{\"gridcolor\":\"white\",\"linecolor\":\"white\",\"ticks\":\"\"},\"radialaxis\":{\"gridcolor\":\"white\",\"linecolor\":\"white\",\"ticks\":\"\"}},\"ternary\":{\"bgcolor\":\"#E5ECF6\",\"aaxis\":{\"gridcolor\":\"white\",\"linecolor\":\"white\",\"ticks\":\"\"},\"baxis\":{\"gridcolor\":\"white\",\"linecolor\":\"white\",\"ticks\":\"\"},\"caxis\":{\"gridcolor\":\"white\",\"linecolor\":\"white\",\"ticks\":\"\"}},\"coloraxis\":{\"colorbar\":{\"outlinewidth\":0,\"ticks\":\"\"}},\"colorscale\":{\"sequential\":[[0.0,\"#0d0887\"],[0.1111111111111111,\"#46039f\"],[0.2222222222222222,\"#7201a8\"],[0.3333333333333333,\"#9c179e\"],[0.4444444444444444,\"#bd3786\"],[0.5555555555555556,\"#d8576b\"],[0.6666666666666666,\"#ed7953\"],[0.7777777777777778,\"#fb9f3a\"],[0.8888888888888888,\"#fdca26\"],[1.0,\"#f0f921\"]],\"sequentialminus\":[[0.0,\"#0d0887\"],[0.1111111111111111,\"#46039f\"],[0.2222222222222222,\"#7201a8\"],[0.3333333333333333,\"#9c179e\"],[0.4444444444444444,\"#bd3786\"],[0.5555555555555556,\"#d8576b\"],[0.6666666666666666,\"#ed7953\"],[0.7777777777777778,\"#fb9f3a\"],[0.8888888888888888,\"#fdca26\"],[1.0,\"#f0f921\"]],\"diverging\":[[0,\"#8e0152\"],[0.1,\"#c51b7d\"],[0.2,\"#de77ae\"],[0.3,\"#f1b6da\"],[0.4,\"#fde0ef\"],[0.5,\"#f7f7f7\"],[0.6,\"#e6f5d0\"],[0.7,\"#b8e186\"],[0.8,\"#7fbc41\"],[0.9,\"#4d9221\"],[1,\"#276419\"]]},\"xaxis\":{\"gridcolor\":\"white\",\"linecolor\":\"white\",\"ticks\":\"\",\"title\":{\"standoff\":15},\"zerolinecolor\":\"white\",\"automargin\":true,\"zerolinewidth\":2},\"yaxis\":{\"gridcolor\":\"white\",\"linecolor\":\"white\",\"ticks\":\"\",\"title\":{\"standoff\":15},\"zerolinecolor\":\"white\",\"automargin\":true,\"zerolinewidth\":2},\"scene\":{\"xaxis\":{\"backgroundcolor\":\"#E5ECF6\",\"gridcolor\":\"white\",\"linecolor\":\"white\",\"showbackground\":true,\"ticks\":\"\",\"zerolinecolor\":\"white\",\"gridwidth\":2},\"yaxis\":{\"backgroundcolor\":\"#E5ECF6\",\"gridcolor\":\"white\",\"linecolor\":\"white\",\"showbackground\":true,\"ticks\":\"\",\"zerolinecolor\":\"white\",\"gridwidth\":2},\"zaxis\":{\"backgroundcolor\":\"#E5ECF6\",\"gridcolor\":\"white\",\"linecolor\":\"white\",\"showbackground\":true,\"ticks\":\"\",\"zerolinecolor\":\"white\",\"gridwidth\":2}},\"shapedefaults\":{\"line\":{\"color\":\"#2a3f5f\"}},\"annotationdefaults\":{\"arrowcolor\":\"#2a3f5f\",\"arrowhead\":0,\"arrowwidth\":1},\"geo\":{\"bgcolor\":\"white\",\"landcolor\":\"#E5ECF6\",\"subunitcolor\":\"white\",\"showland\":true,\"showlakes\":true,\"lakecolor\":\"white\"},\"title\":{\"x\":0.05},\"mapbox\":{\"style\":\"light\"}}},\"scene\":{\"domain\":{\"x\":[0.0,1.0],\"y\":[0.0,1.0]},\"xaxis\":{\"title\":{\"text\":\"PC1\"}},\"yaxis\":{\"title\":{\"text\":\"PC2\"}},\"zaxis\":{\"title\":{\"text\":\"PC3\"}}},\"legend\":{\"title\":{\"text\":\"species\"},\"tracegroupgap\":0},\"margin\":{\"t\":60}},                        {\"responsive\": true}                    ).then(function(){\n",
       "                            \n",
       "var gd = document.getElementById('a9661c41-baf5-4467-970d-afa704ca3389');\n",
       "var x = new MutationObserver(function (mutations, observer) {{\n",
       "        var display = window.getComputedStyle(gd).display;\n",
       "        if (!display || display === 'none') {{\n",
       "            console.log([gd, 'removed!']);\n",
       "            Plotly.purge(gd);\n",
       "            observer.disconnect();\n",
       "        }}\n",
       "}});\n",
       "\n",
       "// Listen for the removal of the full notebook cells\n",
       "var notebookContainer = gd.closest('#notebook-container');\n",
       "if (notebookContainer) {{\n",
       "    x.observe(notebookContainer, {childList: true});\n",
       "}}\n",
       "\n",
       "// Listen for the clearing of the current output cell\n",
       "var outputEl = gd.closest('.output');\n",
       "if (outputEl) {{\n",
       "    x.observe(outputEl, {childList: true});\n",
       "}}\n",
       "\n",
       "                        })                };                });            </script>        </div>"
      ]
     },
     "metadata": {},
     "output_type": "display_data"
    }
   ],
   "source": [
    "U = eigenvectors[:, 0:3]\n",
    "X_star_3D = X.dot(U)\n",
    "df_3D = pd.DataFrame({'PC1': X_star_3D[:, 0], 'PC2': X_star_3D[:, 1], 'PC3': X_star_3D[:, 2], 'species': y})\n",
    "fig = px.scatter_3d(df_3D, x='PC1', y='PC2', z='PC3',\n",
    "              color='species')\n",
    "fig.show()"
   ]
  },
  {
   "cell_type": "markdown",
   "id": "eb65d41c-d9b4-496e-8cd8-924a3409108c",
   "metadata": {},
   "source": [
    "<span style=\"font-family: XB Zar; font-size: medium; \"><div dir=rtl><meta charset=\"UTF-8\">\n",
    "    <br>\n",
    "    در این قسمت با انتخاب 2 بردار ویژه، فضای مقصد را 2 بعدی در نظر گرفته و تبدیل را انجام می‌دهیم:  \n",
    "    </div></span>"
   ]
  },
  {
   "cell_type": "code",
   "execution_count": 56,
   "id": "d009a8c4-51db-4ec1-87f0-9f04d0367e5f",
   "metadata": {},
   "outputs": [
    {
     "data": {
      "application/vnd.plotly.v1+json": {
       "config": {
        "plotlyServerURL": "https://plot.ly"
       },
       "data": [
        {
         "hovertemplate": "species=Setosa<br>PC1=%{x}<br>PC2=%{y}<extra></extra>",
         "legendgroup": "Setosa",
         "marker": {
          "color": "#636efa",
          "symbol": "circle"
         },
         "mode": "markers",
         "name": "Setosa",
         "orientation": "v",
         "showlegend": true,
         "type": "scatter",
         "x": [
          2.818239506639465,
          2.7882234453146766,
          2.6133745635497054,
          2.7570222769675925,
          2.7736485960544717,
          3.221505499764509,
          2.6818273818683935,
          2.876220159462369,
          2.6159824008284494,
          2.829609334788048,
          2.9954180419571457,
          2.8896099017002794,
          2.7162558664209846,
          2.27856138874335,
          2.857614742666972,
          3.1163260990778676,
          2.878837257384575,
          2.8540684263546203,
          3.3025448089914216,
          2.9143787327302335,
          3.192108917366484,
          2.958659903851845,
          2.2864257169603905,
          3.199631950382795,
          3.14661108348523,
          2.9956962256831803,
          3.0335450594876625,
          2.940045226412986,
          2.862830417224459,
          2.8703757453346563,
          2.91496665591965,
          3.0924326356068264,
          2.8535027982590897,
          2.9036283835084142,
          2.865438254503203,
          2.6361234804903324,
          2.8771270827586295,
          2.70168101716078,
          2.521863088827009,
          2.912358818640906,
          2.7322627065811003,
          2.652996427565899,
          2.5049585860140953,
          3.096750647511516,
          3.2928758948253223,
          2.787913705851295,
          2.964216873610062,
          2.662902964966152,
          2.959279382778609,
          2.7990053502738426
         ],
         "xaxis": "x",
         "y": [
          -5.6463498234127965,
          -5.149951351762915,
          -5.182003150742138,
          -5.008653597575779,
          -5.653707089762615,
          -6.06828302589061,
          -5.237491192299125,
          -5.490337536526025,
          -4.748640822640992,
          -5.213178330953579,
          -5.97202147547627,
          -5.341682515989069,
          -5.0918405766259776,
          -4.815557989821313,
          -6.505717213265272,
          -6.665014907228347,
          -6.137632091008952,
          -5.63880172142105,
          -6.1997916157899065,
          -5.840512885576972,
          -5.71829851248159,
          -5.759948640106724,
          -5.46042064636622,
          -5.425661431641795,
          -5.289670717150312,
          -5.180935696332428,
          -5.457904066262945,
          -5.694671434261896,
          -5.638992557062979,
          -5.129991351903381,
          -5.122634085553561,
          -5.737876841057269,
          -6.140316397124657,
          -6.420098336277052,
          -5.205630228961833,
          -5.396317048407777,
          -5.926322598207119,
          -5.595596314625677,
          -4.838994232399079,
          -5.555996413654708,
          -5.590480110571952,
          -4.385992003186499,
          -4.985026519356085,
          -5.515824005757955,
          -5.763615718466882,
          -5.076744372642485,
          -5.830723721289132,
          -5.099007007333867,
          -5.906362598347585,
          -5.434658659327107
         ],
         "yaxis": "y"
        },
        {
         "hovertemplate": "species=Versicolor<br>PC1=%{x}<br>PC2=%{y}<extra></extra>",
         "legendgroup": "Versicolor",
         "marker": {
          "color": "#EF553B",
          "symbol": "circle"
         },
         "mode": "markers",
         "name": "Versicolor",
         "orientation": "v",
         "showlegend": true,
         "type": "scatter",
         "x": [
          6.787190821467353,
          6.434853664921319,
          6.966667454600395,
          5.685682852567373,
          6.590468390320667,
          6.144034216867079,
          6.597425795241448,
          4.753242462779345,
          6.546496958662437,
          5.493619728526106,
          4.9945242487736765,
          6.014063690056599,
          5.767341640721049,
          6.487299643079892,
          5.328439760927234,
          6.430225913553248,
          6.1626488943059385,
          5.738470125926673,
          6.447098860628815,
          5.547592108907701,
          6.618648309959052,
          5.860253550606309,
          6.800549007967915,
          6.424094055056038,
          6.217218458520413,
          6.402539505781169,
          6.83438956933109,
          7.060167287675072,
          6.315655782426544,
          5.196781354584693,
          5.434238640540638,
          5.3127426602305,
          5.638793844167017,
          6.882391568524513,
          6.090371575948866,
          6.309223445109414,
          6.723056015053354,
          6.317460368375601,
          5.748322812495695,
          5.668778349754459,
          5.967165421012782,
          6.393180331078451,
          5.732913156168457,
          4.797833373364338,
          5.859346627310049,
          5.83429961255406,
          5.878580783675672,
          6.14494114016334,
          4.595895267660166,
          5.801365974487145
         ],
         "xaxis": "x",
         "y": [
          -6.0121130472950055,
          -5.645286215090326,
          -5.831215392136902,
          -4.498993565007064,
          -5.401543252025413,
          -4.908705705259017,
          -5.610420846889223,
          -4.3220616156458,
          -5.555314476616093,
          -4.603870671822861,
          -4.060981386301303,
          -5.222971341328655,
          -4.776916113147222,
          -5.202134722701339,
          -5.072098368125107,
          -5.794132071269207,
          -4.973982911103845,
          -4.993341810002781,
          -4.783807026047931,
          -4.743118199355832,
          -5.242335724632906,
          -5.258027545171682,
          -4.99916526849378,
          -5.144214783206329,
          -5.476008521197483,
          -5.65545705066202,
          -5.571393452844041,
          -5.594448024137949,
          -5.16360227614008,
          -4.9586903870731085,
          -4.621780445028231,
          -4.646665813299563,
          -5.01292013857846,
          -4.905998289513813,
          -4.8426651568464765,
          -5.521134891540845,
          -5.734572170438703,
          -4.954915516918195,
          -5.058428180205681,
          -4.645025851964069,
          -4.656241032315975,
          -5.292488132459427,
          -4.922566728820371,
          -4.314704349295981,
          -4.822042483490588,
          -5.114297893046526,
          -5.033733647576277,
          -5.344690766940114,
          -4.570859210228681,
          -4.978054770377359
         ],
         "yaxis": "y"
        },
        {
         "hovertemplate": "species=Virginica<br>PC1=%{x}<br>PC2=%{y}<extra></extra>",
         "legendgroup": "Virginica",
         "marker": {
          "color": "#00cc96",
          "symbol": "circle"
         },
         "mode": "markers",
         "name": "Virginica",
         "orientation": "v",
         "showlegend": true,
         "type": "scatter",
         "x": [
          8.033557860412628,
          6.917601009312904,
          8.11904114860469,
          7.473896185652437,
          7.852371052653641,
          8.89940386866226,
          6.023597376518776,
          8.43495220160269,
          7.82359394918238,
          8.419116099395072,
          7.164139286245532,
          7.305767085574091,
          7.667956928689146,
          6.848528712067452,
          7.088293356482223,
          7.4068215074024275,
          7.452054192008071,
          8.98942049689928,
          9.298010554681886,
          6.803156845246659,
          7.930183045675046,
          6.701366238074562,
          9.002285171533538,
          6.8911312643004665,
          7.777795636481206,
          8.116455606419832,
          6.76087329312049,
          6.793497191724023,
          7.625973855382895,
          7.890368148612469,
          8.344037910712872,
          8.733038794041093,
          7.66180277509805,
          6.946526374938511,
          7.283659942654114,
          8.578865064296188,
          7.646608446911083,
          7.407463281423077,
          6.671691471950502,
          7.609976275866242,
          7.8165198378446,
          7.424632933511601,
          6.917601009312904,
          8.065378507686477,
          7.921111315341826,
          7.446474927155969,
          7.029531747423518,
          7.26671084965343,
          7.4033067468274245,
          6.892553994556915
         ],
         "xaxis": "x",
         "y": [
          -5.3171034673288915,
          -4.752036229281205,
          -5.67085572816943,
          -5.14722467247545,
          -5.286691629685163,
          -5.877789249855752,
          -4.1341938498270485,
          -5.682452579805194,
          -5.083121074517005,
          -6.109744525642972,
          -5.569180984582761,
          -5.11131495949414,
          -5.54322816190172,
          -4.550134229483354,
          -4.7873118628009745,
          -5.4462032689196676,
          -5.368895836490906,
          -6.502691906541124,
          -5.584275550248177,
          -4.565802940392633,
          -5.705148589444746,
          -4.720861049069764,
          -5.787626675739592,
          -5.122553249475544,
          -5.661943182649371,
          -5.887853931950774,
          -5.147247782104949,
          -5.210283925653683,
          -5.117223100150393,
          -5.791592381536432,
          -5.7022217440228,
          -6.701117663620743,
          -5.1096749981586465,
          -5.183539166370116,
          -4.827050895749561,
          -6.015038254398871,
          -5.467016777917483,
          -5.376253102840725,
          -5.161962314804585,
          -5.699240448788493,
          -5.510603855996713,
          -5.736156043643757,
          -4.752036229281205,
          -5.60481517975689,
          -5.631750774682385,
          -5.5144848796282995,
          -4.951635594247207,
          -5.40581143134617,
          -5.443580535339717,
          -5.0442916388371435
         ],
         "yaxis": "y"
        }
       ],
       "layout": {
        "autosize": true,
        "legend": {
         "title": {
          "text": "species"
         },
         "tracegroupgap": 0
        },
        "margin": {
         "t": 60
        },
        "template": {
         "data": {
          "bar": [
           {
            "error_x": {
             "color": "#2a3f5f"
            },
            "error_y": {
             "color": "#2a3f5f"
            },
            "marker": {
             "line": {
              "color": "#E5ECF6",
              "width": 0.5
             },
             "pattern": {
              "fillmode": "overlay",
              "size": 10,
              "solidity": 0.2
             }
            },
            "type": "bar"
           }
          ],
          "barpolar": [
           {
            "marker": {
             "line": {
              "color": "#E5ECF6",
              "width": 0.5
             },
             "pattern": {
              "fillmode": "overlay",
              "size": 10,
              "solidity": 0.2
             }
            },
            "type": "barpolar"
           }
          ],
          "carpet": [
           {
            "aaxis": {
             "endlinecolor": "#2a3f5f",
             "gridcolor": "white",
             "linecolor": "white",
             "minorgridcolor": "white",
             "startlinecolor": "#2a3f5f"
            },
            "baxis": {
             "endlinecolor": "#2a3f5f",
             "gridcolor": "white",
             "linecolor": "white",
             "minorgridcolor": "white",
             "startlinecolor": "#2a3f5f"
            },
            "type": "carpet"
           }
          ],
          "choropleth": [
           {
            "colorbar": {
             "outlinewidth": 0,
             "ticks": ""
            },
            "type": "choropleth"
           }
          ],
          "contour": [
           {
            "colorbar": {
             "outlinewidth": 0,
             "ticks": ""
            },
            "colorscale": [
             [
              0,
              "#0d0887"
             ],
             [
              0.1111111111111111,
              "#46039f"
             ],
             [
              0.2222222222222222,
              "#7201a8"
             ],
             [
              0.3333333333333333,
              "#9c179e"
             ],
             [
              0.4444444444444444,
              "#bd3786"
             ],
             [
              0.5555555555555556,
              "#d8576b"
             ],
             [
              0.6666666666666666,
              "#ed7953"
             ],
             [
              0.7777777777777778,
              "#fb9f3a"
             ],
             [
              0.8888888888888888,
              "#fdca26"
             ],
             [
              1,
              "#f0f921"
             ]
            ],
            "type": "contour"
           }
          ],
          "contourcarpet": [
           {
            "colorbar": {
             "outlinewidth": 0,
             "ticks": ""
            },
            "type": "contourcarpet"
           }
          ],
          "heatmap": [
           {
            "colorbar": {
             "outlinewidth": 0,
             "ticks": ""
            },
            "colorscale": [
             [
              0,
              "#0d0887"
             ],
             [
              0.1111111111111111,
              "#46039f"
             ],
             [
              0.2222222222222222,
              "#7201a8"
             ],
             [
              0.3333333333333333,
              "#9c179e"
             ],
             [
              0.4444444444444444,
              "#bd3786"
             ],
             [
              0.5555555555555556,
              "#d8576b"
             ],
             [
              0.6666666666666666,
              "#ed7953"
             ],
             [
              0.7777777777777778,
              "#fb9f3a"
             ],
             [
              0.8888888888888888,
              "#fdca26"
             ],
             [
              1,
              "#f0f921"
             ]
            ],
            "type": "heatmap"
           }
          ],
          "heatmapgl": [
           {
            "colorbar": {
             "outlinewidth": 0,
             "ticks": ""
            },
            "colorscale": [
             [
              0,
              "#0d0887"
             ],
             [
              0.1111111111111111,
              "#46039f"
             ],
             [
              0.2222222222222222,
              "#7201a8"
             ],
             [
              0.3333333333333333,
              "#9c179e"
             ],
             [
              0.4444444444444444,
              "#bd3786"
             ],
             [
              0.5555555555555556,
              "#d8576b"
             ],
             [
              0.6666666666666666,
              "#ed7953"
             ],
             [
              0.7777777777777778,
              "#fb9f3a"
             ],
             [
              0.8888888888888888,
              "#fdca26"
             ],
             [
              1,
              "#f0f921"
             ]
            ],
            "type": "heatmapgl"
           }
          ],
          "histogram": [
           {
            "marker": {
             "pattern": {
              "fillmode": "overlay",
              "size": 10,
              "solidity": 0.2
             }
            },
            "type": "histogram"
           }
          ],
          "histogram2d": [
           {
            "colorbar": {
             "outlinewidth": 0,
             "ticks": ""
            },
            "colorscale": [
             [
              0,
              "#0d0887"
             ],
             [
              0.1111111111111111,
              "#46039f"
             ],
             [
              0.2222222222222222,
              "#7201a8"
             ],
             [
              0.3333333333333333,
              "#9c179e"
             ],
             [
              0.4444444444444444,
              "#bd3786"
             ],
             [
              0.5555555555555556,
              "#d8576b"
             ],
             [
              0.6666666666666666,
              "#ed7953"
             ],
             [
              0.7777777777777778,
              "#fb9f3a"
             ],
             [
              0.8888888888888888,
              "#fdca26"
             ],
             [
              1,
              "#f0f921"
             ]
            ],
            "type": "histogram2d"
           }
          ],
          "histogram2dcontour": [
           {
            "colorbar": {
             "outlinewidth": 0,
             "ticks": ""
            },
            "colorscale": [
             [
              0,
              "#0d0887"
             ],
             [
              0.1111111111111111,
              "#46039f"
             ],
             [
              0.2222222222222222,
              "#7201a8"
             ],
             [
              0.3333333333333333,
              "#9c179e"
             ],
             [
              0.4444444444444444,
              "#bd3786"
             ],
             [
              0.5555555555555556,
              "#d8576b"
             ],
             [
              0.6666666666666666,
              "#ed7953"
             ],
             [
              0.7777777777777778,
              "#fb9f3a"
             ],
             [
              0.8888888888888888,
              "#fdca26"
             ],
             [
              1,
              "#f0f921"
             ]
            ],
            "type": "histogram2dcontour"
           }
          ],
          "mesh3d": [
           {
            "colorbar": {
             "outlinewidth": 0,
             "ticks": ""
            },
            "type": "mesh3d"
           }
          ],
          "parcoords": [
           {
            "line": {
             "colorbar": {
              "outlinewidth": 0,
              "ticks": ""
             }
            },
            "type": "parcoords"
           }
          ],
          "pie": [
           {
            "automargin": true,
            "type": "pie"
           }
          ],
          "scatter": [
           {
            "fillpattern": {
             "fillmode": "overlay",
             "size": 10,
             "solidity": 0.2
            },
            "type": "scatter"
           }
          ],
          "scatter3d": [
           {
            "line": {
             "colorbar": {
              "outlinewidth": 0,
              "ticks": ""
             }
            },
            "marker": {
             "colorbar": {
              "outlinewidth": 0,
              "ticks": ""
             }
            },
            "type": "scatter3d"
           }
          ],
          "scattercarpet": [
           {
            "marker": {
             "colorbar": {
              "outlinewidth": 0,
              "ticks": ""
             }
            },
            "type": "scattercarpet"
           }
          ],
          "scattergeo": [
           {
            "marker": {
             "colorbar": {
              "outlinewidth": 0,
              "ticks": ""
             }
            },
            "type": "scattergeo"
           }
          ],
          "scattergl": [
           {
            "marker": {
             "colorbar": {
              "outlinewidth": 0,
              "ticks": ""
             }
            },
            "type": "scattergl"
           }
          ],
          "scattermapbox": [
           {
            "marker": {
             "colorbar": {
              "outlinewidth": 0,
              "ticks": ""
             }
            },
            "type": "scattermapbox"
           }
          ],
          "scatterpolar": [
           {
            "marker": {
             "colorbar": {
              "outlinewidth": 0,
              "ticks": ""
             }
            },
            "type": "scatterpolar"
           }
          ],
          "scatterpolargl": [
           {
            "marker": {
             "colorbar": {
              "outlinewidth": 0,
              "ticks": ""
             }
            },
            "type": "scatterpolargl"
           }
          ],
          "scatterternary": [
           {
            "marker": {
             "colorbar": {
              "outlinewidth": 0,
              "ticks": ""
             }
            },
            "type": "scatterternary"
           }
          ],
          "surface": [
           {
            "colorbar": {
             "outlinewidth": 0,
             "ticks": ""
            },
            "colorscale": [
             [
              0,
              "#0d0887"
             ],
             [
              0.1111111111111111,
              "#46039f"
             ],
             [
              0.2222222222222222,
              "#7201a8"
             ],
             [
              0.3333333333333333,
              "#9c179e"
             ],
             [
              0.4444444444444444,
              "#bd3786"
             ],
             [
              0.5555555555555556,
              "#d8576b"
             ],
             [
              0.6666666666666666,
              "#ed7953"
             ],
             [
              0.7777777777777778,
              "#fb9f3a"
             ],
             [
              0.8888888888888888,
              "#fdca26"
             ],
             [
              1,
              "#f0f921"
             ]
            ],
            "type": "surface"
           }
          ],
          "table": [
           {
            "cells": {
             "fill": {
              "color": "#EBF0F8"
             },
             "line": {
              "color": "white"
             }
            },
            "header": {
             "fill": {
              "color": "#C8D4E3"
             },
             "line": {
              "color": "white"
             }
            },
            "type": "table"
           }
          ]
         },
         "layout": {
          "annotationdefaults": {
           "arrowcolor": "#2a3f5f",
           "arrowhead": 0,
           "arrowwidth": 1
          },
          "autotypenumbers": "strict",
          "coloraxis": {
           "colorbar": {
            "outlinewidth": 0,
            "ticks": ""
           }
          },
          "colorscale": {
           "diverging": [
            [
             0,
             "#8e0152"
            ],
            [
             0.1,
             "#c51b7d"
            ],
            [
             0.2,
             "#de77ae"
            ],
            [
             0.3,
             "#f1b6da"
            ],
            [
             0.4,
             "#fde0ef"
            ],
            [
             0.5,
             "#f7f7f7"
            ],
            [
             0.6,
             "#e6f5d0"
            ],
            [
             0.7,
             "#b8e186"
            ],
            [
             0.8,
             "#7fbc41"
            ],
            [
             0.9,
             "#4d9221"
            ],
            [
             1,
             "#276419"
            ]
           ],
           "sequential": [
            [
             0,
             "#0d0887"
            ],
            [
             0.1111111111111111,
             "#46039f"
            ],
            [
             0.2222222222222222,
             "#7201a8"
            ],
            [
             0.3333333333333333,
             "#9c179e"
            ],
            [
             0.4444444444444444,
             "#bd3786"
            ],
            [
             0.5555555555555556,
             "#d8576b"
            ],
            [
             0.6666666666666666,
             "#ed7953"
            ],
            [
             0.7777777777777778,
             "#fb9f3a"
            ],
            [
             0.8888888888888888,
             "#fdca26"
            ],
            [
             1,
             "#f0f921"
            ]
           ],
           "sequentialminus": [
            [
             0,
             "#0d0887"
            ],
            [
             0.1111111111111111,
             "#46039f"
            ],
            [
             0.2222222222222222,
             "#7201a8"
            ],
            [
             0.3333333333333333,
             "#9c179e"
            ],
            [
             0.4444444444444444,
             "#bd3786"
            ],
            [
             0.5555555555555556,
             "#d8576b"
            ],
            [
             0.6666666666666666,
             "#ed7953"
            ],
            [
             0.7777777777777778,
             "#fb9f3a"
            ],
            [
             0.8888888888888888,
             "#fdca26"
            ],
            [
             1,
             "#f0f921"
            ]
           ]
          },
          "colorway": [
           "#636efa",
           "#EF553B",
           "#00cc96",
           "#ab63fa",
           "#FFA15A",
           "#19d3f3",
           "#FF6692",
           "#B6E880",
           "#FF97FF",
           "#FECB52"
          ],
          "font": {
           "color": "#2a3f5f"
          },
          "geo": {
           "bgcolor": "white",
           "lakecolor": "white",
           "landcolor": "#E5ECF6",
           "showlakes": true,
           "showland": true,
           "subunitcolor": "white"
          },
          "hoverlabel": {
           "align": "left"
          },
          "hovermode": "closest",
          "mapbox": {
           "style": "light"
          },
          "paper_bgcolor": "white",
          "plot_bgcolor": "#E5ECF6",
          "polar": {
           "angularaxis": {
            "gridcolor": "white",
            "linecolor": "white",
            "ticks": ""
           },
           "bgcolor": "#E5ECF6",
           "radialaxis": {
            "gridcolor": "white",
            "linecolor": "white",
            "ticks": ""
           }
          },
          "scene": {
           "xaxis": {
            "backgroundcolor": "#E5ECF6",
            "gridcolor": "white",
            "gridwidth": 2,
            "linecolor": "white",
            "showbackground": true,
            "ticks": "",
            "zerolinecolor": "white"
           },
           "yaxis": {
            "backgroundcolor": "#E5ECF6",
            "gridcolor": "white",
            "gridwidth": 2,
            "linecolor": "white",
            "showbackground": true,
            "ticks": "",
            "zerolinecolor": "white"
           },
           "zaxis": {
            "backgroundcolor": "#E5ECF6",
            "gridcolor": "white",
            "gridwidth": 2,
            "linecolor": "white",
            "showbackground": true,
            "ticks": "",
            "zerolinecolor": "white"
           }
          },
          "shapedefaults": {
           "line": {
            "color": "#2a3f5f"
           }
          },
          "ternary": {
           "aaxis": {
            "gridcolor": "white",
            "linecolor": "white",
            "ticks": ""
           },
           "baxis": {
            "gridcolor": "white",
            "linecolor": "white",
            "ticks": ""
           },
           "bgcolor": "#E5ECF6",
           "caxis": {
            "gridcolor": "white",
            "linecolor": "white",
            "ticks": ""
           }
          },
          "title": {
           "x": 0.05
          },
          "xaxis": {
           "automargin": true,
           "gridcolor": "white",
           "linecolor": "white",
           "ticks": "",
           "title": {
            "standoff": 15
           },
           "zerolinecolor": "white",
           "zerolinewidth": 2
          },
          "yaxis": {
           "automargin": true,
           "gridcolor": "white",
           "linecolor": "white",
           "ticks": "",
           "title": {
            "standoff": 15
           },
           "zerolinecolor": "white",
           "zerolinewidth": 2
          }
         }
        },
        "xaxis": {
         "anchor": "y",
         "autorange": true,
         "domain": [
          0,
          1
         ],
         "range": [
          1.8551469307636381,
          9.721425012661598
         ],
         "title": {
          "text": "PC1"
         },
         "type": "linear"
        },
        "yaxis": {
         "anchor": "x",
         "autorange": true,
         "domain": [
          0,
          1
         ],
         "range": [
          -6.905537664095608,
          -3.856561385826438
         ],
         "title": {
          "text": "PC2"
         },
         "type": "linear"
        }
       }
      },
      "image/png": "[encoded data removed]",
      "text/html": [
       "<div>                            <div id=\"7f4168b3-be02-45e2-85d8-280ff8943a6a\" class=\"plotly-graph-div\" style=\"height:525px; width:100%;\"></div>            <script type=\"text/javascript\">                require([\"plotly\"], function(Plotly) {                    window.PLOTLYENV=window.PLOTLYENV || {};                                    if (document.getElementById(\"7f4168b3-be02-45e2-85d8-280ff8943a6a\")) {                    Plotly.newPlot(                        \"7f4168b3-be02-45e2-85d8-280ff8943a6a\",                        [{\"hovertemplate\":\"species=Setosa<br>PC1=%{x}<br>PC2=%{y}<extra></extra>\",\"legendgroup\":\"Setosa\",\"marker\":{\"color\":\"#636efa\",\"symbol\":\"circle\"},\"mode\":\"markers\",\"name\":\"Setosa\",\"orientation\":\"v\",\"showlegend\":true,\"x\":[2.818239506639465,2.7882234453146766,2.6133745635497054,2.7570222769675925,2.7736485960544717,3.221505499764509,2.6818273818683935,2.876220159462369,2.6159824008284494,2.829609334788048,2.9954180419571457,2.8896099017002794,2.7162558664209846,2.27856138874335,2.857614742666972,3.1163260990778676,2.878837257384575,2.8540684263546203,3.3025448089914216,2.9143787327302335,3.192108917366484,2.958659903851845,2.2864257169603905,3.199631950382795,3.14661108348523,2.9956962256831803,3.0335450594876625,2.940045226412986,2.862830417224459,2.8703757453346563,2.91496665591965,3.0924326356068264,2.8535027982590897,2.9036283835084142,2.865438254503203,2.6361234804903324,2.8771270827586295,2.70168101716078,2.521863088827009,2.912358818640906,2.7322627065811003,2.652996427565899,2.5049585860140953,3.096750647511516,3.2928758948253223,2.787913705851295,2.964216873610062,2.662902964966152,2.959279382778609,2.7990053502738426],\"xaxis\":\"x\",\"y\":[-5.6463498234127965,-5.149951351762915,-5.182003150742138,-5.008653597575779,-5.653707089762615,-6.06828302589061,-5.237491192299125,-5.490337536526025,-4.748640822640992,-5.213178330953579,-5.97202147547627,-5.341682515989069,-5.0918405766259776,-4.815557989821313,-6.505717213265272,-6.665014907228347,-6.137632091008952,-5.63880172142105,-6.1997916157899065,-5.840512885576972,-5.71829851248159,-5.759948640106724,-5.46042064636622,-5.425661431641795,-5.289670717150312,-5.180935696332428,-5.457904066262945,-5.694671434261896,-5.638992557062979,-5.129991351903381,-5.122634085553561,-5.737876841057269,-6.140316397124657,-6.420098336277052,-5.205630228961833,-5.396317048407777,-5.926322598207119,-5.595596314625677,-4.838994232399079,-5.555996413654708,-5.590480110571952,-4.385992003186499,-4.985026519356085,-5.515824005757955,-5.763615718466882,-5.076744372642485,-5.830723721289132,-5.099007007333867,-5.906362598347585,-5.434658659327107],\"yaxis\":\"y\",\"type\":\"scatter\"},{\"hovertemplate\":\"species=Versicolor<br>PC1=%{x}<br>PC2=%{y}<extra></extra>\",\"legendgroup\":\"Versicolor\",\"marker\":{\"color\":\"#EF553B\",\"symbol\":\"circle\"},\"mode\":\"markers\",\"name\":\"Versicolor\",\"orientation\":\"v\",\"showlegend\":true,\"x\":[6.787190821467353,6.434853664921319,6.966667454600395,5.685682852567373,6.590468390320667,6.144034216867079,6.597425795241448,4.753242462779345,6.546496958662437,5.493619728526106,4.9945242487736765,6.014063690056599,5.767341640721049,6.487299643079892,5.328439760927234,6.430225913553248,6.1626488943059385,5.738470125926673,6.447098860628815,5.547592108907701,6.618648309959052,5.860253550606309,6.800549007967915,6.424094055056038,6.217218458520413,6.402539505781169,6.83438956933109,7.060167287675072,6.315655782426544,5.196781354584693,5.434238640540638,5.3127426602305,5.638793844167017,6.882391568524513,6.090371575948866,6.309223445109414,6.723056015053354,6.317460368375601,5.748322812495695,5.668778349754459,5.967165421012782,6.393180331078451,5.732913156168457,4.797833373364338,5.859346627310049,5.83429961255406,5.878580783675672,6.14494114016334,4.595895267660166,5.801365974487145],\"xaxis\":\"x\",\"y\":[-6.0121130472950055,-5.645286215090326,-5.831215392136902,-4.498993565007064,-5.401543252025413,-4.908705705259017,-5.610420846889223,-4.3220616156458,-5.555314476616093,-4.603870671822861,-4.060981386301303,-5.222971341328655,-4.776916113147222,-5.202134722701339,-5.072098368125107,-5.794132071269207,-4.973982911103845,-4.993341810002781,-4.783807026047931,-4.743118199355832,-5.242335724632906,-5.258027545171682,-4.99916526849378,-5.144214783206329,-5.476008521197483,-5.65545705066202,-5.571393452844041,-5.594448024137949,-5.16360227614008,-4.9586903870731085,-4.621780445028231,-4.646665813299563,-5.01292013857846,-4.905998289513813,-4.8426651568464765,-5.521134891540845,-5.734572170438703,-4.954915516918195,-5.058428180205681,-4.645025851964069,-4.656241032315975,-5.292488132459427,-4.922566728820371,-4.314704349295981,-4.822042483490588,-5.114297893046526,-5.033733647576277,-5.344690766940114,-4.570859210228681,-4.978054770377359],\"yaxis\":\"y\",\"type\":\"scatter\"},{\"hovertemplate\":\"species=Virginica<br>PC1=%{x}<br>PC2=%{y}<extra></extra>\",\"legendgroup\":\"Virginica\",\"marker\":{\"color\":\"#00cc96\",\"symbol\":\"circle\"},\"mode\":\"markers\",\"name\":\"Virginica\",\"orientation\":\"v\",\"showlegend\":true,\"x\":[8.033557860412628,6.917601009312904,8.11904114860469,7.473896185652437,7.852371052653641,8.89940386866226,6.023597376518776,8.43495220160269,7.82359394918238,8.419116099395072,7.164139286245532,7.305767085574091,7.667956928689146,6.848528712067452,7.088293356482223,7.4068215074024275,7.452054192008071,8.98942049689928,9.298010554681886,6.803156845246659,7.930183045675046,6.701366238074562,9.002285171533538,6.8911312643004665,7.777795636481206,8.116455606419832,6.76087329312049,6.793497191724023,7.625973855382895,7.890368148612469,8.344037910712872,8.733038794041093,7.66180277509805,6.946526374938511,7.283659942654114,8.578865064296188,7.646608446911083,7.407463281423077,6.671691471950502,7.609976275866242,7.8165198378446,7.424632933511601,6.917601009312904,8.065378507686477,7.921111315341826,7.446474927155969,7.029531747423518,7.26671084965343,7.4033067468274245,6.892553994556915],\"xaxis\":\"x\",\"y\":[-5.3171034673288915,-4.752036229281205,-5.67085572816943,-5.14722467247545,-5.286691629685163,-5.877789249855752,-4.1341938498270485,-5.682452579805194,-5.083121074517005,-6.109744525642972,-5.569180984582761,-5.11131495949414,-5.54322816190172,-4.550134229483354,-4.7873118628009745,-5.4462032689196676,-5.368895836490906,-6.502691906541124,-5.584275550248177,-4.565802940392633,-5.705148589444746,-4.720861049069764,-5.787626675739592,-5.122553249475544,-5.661943182649371,-5.887853931950774,-5.147247782104949,-5.210283925653683,-5.117223100150393,-5.791592381536432,-5.7022217440228,-6.701117663620743,-5.1096749981586465,-5.183539166370116,-4.827050895749561,-6.015038254398871,-5.467016777917483,-5.376253102840725,-5.161962314804585,-5.699240448788493,-5.510603855996713,-5.736156043643757,-4.752036229281205,-5.60481517975689,-5.631750774682385,-5.5144848796282995,-4.951635594247207,-5.40581143134617,-5.443580535339717,-5.0442916388371435],\"yaxis\":\"y\",\"type\":\"scatter\"}],                        {\"template\":{\"data\":{\"histogram2dcontour\":[{\"type\":\"histogram2dcontour\",\"colorbar\":{\"outlinewidth\":0,\"ticks\":\"\"},\"colorscale\":[[0.0,\"#0d0887\"],[0.1111111111111111,\"#46039f\"],[0.2222222222222222,\"#7201a8\"],[0.3333333333333333,\"#9c179e\"],[0.4444444444444444,\"#bd3786\"],[0.5555555555555556,\"#d8576b\"],[0.6666666666666666,\"#ed7953\"],[0.7777777777777778,\"#fb9f3a\"],[0.8888888888888888,\"#fdca26\"],[1.0,\"#f0f921\"]]}],\"choropleth\":[{\"type\":\"choropleth\",\"colorbar\":{\"outlinewidth\":0,\"ticks\":\"\"}}],\"histogram2d\":[{\"type\":\"histogram2d\",\"colorbar\":{\"outlinewidth\":0,\"ticks\":\"\"},\"colorscale\":[[0.0,\"#0d0887\"],[0.1111111111111111,\"#46039f\"],[0.2222222222222222,\"#7201a8\"],[0.3333333333333333,\"#9c179e\"],[0.4444444444444444,\"#bd3786\"],[0.5555555555555556,\"#d8576b\"],[0.6666666666666666,\"#ed7953\"],[0.7777777777777778,\"#fb9f3a\"],[0.8888888888888888,\"#fdca26\"],[1.0,\"#f0f921\"]]}],\"heatmap\":[{\"type\":\"heatmap\",\"colorbar\":{\"outlinewidth\":0,\"ticks\":\"\"},\"colorscale\":[[0.0,\"#0d0887\"],[0.1111111111111111,\"#46039f\"],[0.2222222222222222,\"#7201a8\"],[0.3333333333333333,\"#9c179e\"],[0.4444444444444444,\"#bd3786\"],[0.5555555555555556,\"#d8576b\"],[0.6666666666666666,\"#ed7953\"],[0.7777777777777778,\"#fb9f3a\"],[0.8888888888888888,\"#fdca26\"],[1.0,\"#f0f921\"]]}],\"heatmapgl\":[{\"type\":\"heatmapgl\",\"colorbar\":{\"outlinewidth\":0,\"ticks\":\"\"},\"colorscale\":[[0.0,\"#0d0887\"],[0.1111111111111111,\"#46039f\"],[0.2222222222222222,\"#7201a8\"],[0.3333333333333333,\"#9c179e\"],[0.4444444444444444,\"#bd3786\"],[0.5555555555555556,\"#d8576b\"],[0.6666666666666666,\"#ed7953\"],[0.7777777777777778,\"#fb9f3a\"],[0.8888888888888888,\"#fdca26\"],[1.0,\"#f0f921\"]]}],\"contourcarpet\":[{\"type\":\"contourcarpet\",\"colorbar\":{\"outlinewidth\":0,\"ticks\":\"\"}}],\"contour\":[{\"type\":\"contour\",\"colorbar\":{\"outlinewidth\":0,\"ticks\":\"\"},\"colorscale\":[[0.0,\"#0d0887\"],[0.1111111111111111,\"#46039f\"],[0.2222222222222222,\"#7201a8\"],[0.3333333333333333,\"#9c179e\"],[0.4444444444444444,\"#bd3786\"],[0.5555555555555556,\"#d8576b\"],[0.6666666666666666,\"#ed7953\"],[0.7777777777777778,\"#fb9f3a\"],[0.8888888888888888,\"#fdca26\"],[1.0,\"#f0f921\"]]}],\"surface\":[{\"type\":\"surface\",\"colorbar\":{\"outlinewidth\":0,\"ticks\":\"\"},\"colorscale\":[[0.0,\"#0d0887\"],[0.1111111111111111,\"#46039f\"],[0.2222222222222222,\"#7201a8\"],[0.3333333333333333,\"#9c179e\"],[0.4444444444444444,\"#bd3786\"],[0.5555555555555556,\"#d8576b\"],[0.6666666666666666,\"#ed7953\"],[0.7777777777777778,\"#fb9f3a\"],[0.8888888888888888,\"#fdca26\"],[1.0,\"#f0f921\"]]}],\"mesh3d\":[{\"type\":\"mesh3d\",\"colorbar\":{\"outlinewidth\":0,\"ticks\":\"\"}}],\"scatter\":[{\"fillpattern\":{\"fillmode\":\"overlay\",\"size\":10,\"solidity\":0.2},\"type\":\"scatter\"}],\"parcoords\":[{\"type\":\"parcoords\",\"line\":{\"colorbar\":{\"outlinewidth\":0,\"ticks\":\"\"}}}],\"scatterpolargl\":[{\"type\":\"scatterpolargl\",\"marker\":{\"colorbar\":{\"outlinewidth\":0,\"ticks\":\"\"}}}],\"bar\":[{\"error_x\":{\"color\":\"#2a3f5f\"},\"error_y\":{\"color\":\"#2a3f5f\"},\"marker\":{\"line\":{\"color\":\"#E5ECF6\",\"width\":0.5},\"pattern\":{\"fillmode\":\"overlay\",\"size\":10,\"solidity\":0.2}},\"type\":\"bar\"}],\"scattergeo\":[{\"type\":\"scattergeo\",\"marker\":{\"colorbar\":{\"outlinewidth\":0,\"ticks\":\"\"}}}],\"scatterpolar\":[{\"type\":\"scatterpolar\",\"marker\":{\"colorbar\":{\"outlinewidth\":0,\"ticks\":\"\"}}}],\"histogram\":[{\"marker\":{\"pattern\":{\"fillmode\":\"overlay\",\"size\":10,\"solidity\":0.2}},\"type\":\"histogram\"}],\"scattergl\":[{\"type\":\"scattergl\",\"marker\":{\"colorbar\":{\"outlinewidth\":0,\"ticks\":\"\"}}}],\"scatter3d\":[{\"type\":\"scatter3d\",\"line\":{\"colorbar\":{\"outlinewidth\":0,\"ticks\":\"\"}},\"marker\":{\"colorbar\":{\"outlinewidth\":0,\"ticks\":\"\"}}}],\"scattermapbox\":[{\"type\":\"scattermapbox\",\"marker\":{\"colorbar\":{\"outlinewidth\":0,\"ticks\":\"\"}}}],\"scatterternary\":[{\"type\":\"scatterternary\",\"marker\":{\"colorbar\":{\"outlinewidth\":0,\"ticks\":\"\"}}}],\"scattercarpet\":[{\"type\":\"scattercarpet\",\"marker\":{\"colorbar\":{\"outlinewidth\":0,\"ticks\":\"\"}}}],\"carpet\":[{\"aaxis\":{\"endlinecolor\":\"#2a3f5f\",\"gridcolor\":\"white\",\"linecolor\":\"white\",\"minorgridcolor\":\"white\",\"startlinecolor\":\"#2a3f5f\"},\"baxis\":{\"endlinecolor\":\"#2a3f5f\",\"gridcolor\":\"white\",\"linecolor\":\"white\",\"minorgridcolor\":\"white\",\"startlinecolor\":\"#2a3f5f\"},\"type\":\"carpet\"}],\"table\":[{\"cells\":{\"fill\":{\"color\":\"#EBF0F8\"},\"line\":{\"color\":\"white\"}},\"header\":{\"fill\":{\"color\":\"#C8D4E3\"},\"line\":{\"color\":\"white\"}},\"type\":\"table\"}],\"barpolar\":[{\"marker\":{\"line\":{\"color\":\"#E5ECF6\",\"width\":0.5},\"pattern\":{\"fillmode\":\"overlay\",\"size\":10,\"solidity\":0.2}},\"type\":\"barpolar\"}],\"pie\":[{\"automargin\":true,\"type\":\"pie\"}]},\"layout\":{\"autotypenumbers\":\"strict\",\"colorway\":[\"#636efa\",\"#EF553B\",\"#00cc96\",\"#ab63fa\",\"#FFA15A\",\"#19d3f3\",\"#FF6692\",\"#B6E880\",\"#FF97FF\",\"#FECB52\"],\"font\":{\"color\":\"#2a3f5f\"},\"hovermode\":\"closest\",\"hoverlabel\":{\"align\":\"left\"},\"paper_bgcolor\":\"white\",\"plot_bgcolor\":\"#E5ECF6\",\"polar\":{\"bgcolor\":\"#E5ECF6\",\"angularaxis\":{\"gridcolor\":\"white\",\"linecolor\":\"white\",\"ticks\":\"\"},\"radialaxis\":{\"gridcolor\":\"white\",\"linecolor\":\"white\",\"ticks\":\"\"}},\"ternary\":{\"bgcolor\":\"#E5ECF6\",\"aaxis\":{\"gridcolor\":\"white\",\"linecolor\":\"white\",\"ticks\":\"\"},\"baxis\":{\"gridcolor\":\"white\",\"linecolor\":\"white\",\"ticks\":\"\"},\"caxis\":{\"gridcolor\":\"white\",\"linecolor\":\"white\",\"ticks\":\"\"}},\"coloraxis\":{\"colorbar\":{\"outlinewidth\":0,\"ticks\":\"\"}},\"colorscale\":{\"sequential\":[[0.0,\"#0d0887\"],[0.1111111111111111,\"#46039f\"],[0.2222222222222222,\"#7201a8\"],[0.3333333333333333,\"#9c179e\"],[0.4444444444444444,\"#bd3786\"],[0.5555555555555556,\"#d8576b\"],[0.6666666666666666,\"#ed7953\"],[0.7777777777777778,\"#fb9f3a\"],[0.8888888888888888,\"#fdca26\"],[1.0,\"#f0f921\"]],\"sequentialminus\":[[0.0,\"#0d0887\"],[0.1111111111111111,\"#46039f\"],[0.2222222222222222,\"#7201a8\"],[0.3333333333333333,\"#9c179e\"],[0.4444444444444444,\"#bd3786\"],[0.5555555555555556,\"#d8576b\"],[0.6666666666666666,\"#ed7953\"],[0.7777777777777778,\"#fb9f3a\"],[0.8888888888888888,\"#fdca26\"],[1.0,\"#f0f921\"]],\"diverging\":[[0,\"#8e0152\"],[0.1,\"#c51b7d\"],[0.2,\"#de77ae\"],[0.3,\"#f1b6da\"],[0.4,\"#fde0ef\"],[0.5,\"#f7f7f7\"],[0.6,\"#e6f5d0\"],[0.7,\"#b8e186\"],[0.8,\"#7fbc41\"],[0.9,\"#4d9221\"],[1,\"#276419\"]]},\"xaxis\":{\"gridcolor\":\"white\",\"linecolor\":\"white\",\"ticks\":\"\",\"title\":{\"standoff\":15},\"zerolinecolor\":\"white\",\"automargin\":true,\"zerolinewidth\":2},\"yaxis\":{\"gridcolor\":\"white\",\"linecolor\":\"white\",\"ticks\":\"\",\"title\":{\"standoff\":15},\"zerolinecolor\":\"white\",\"automargin\":true,\"zerolinewidth\":2},\"scene\":{\"xaxis\":{\"backgroundcolor\":\"#E5ECF6\",\"gridcolor\":\"white\",\"linecolor\":\"white\",\"showbackground\":true,\"ticks\":\"\",\"zerolinecolor\":\"white\",\"gridwidth\":2},\"yaxis\":{\"backgroundcolor\":\"#E5ECF6\",\"gridcolor\":\"white\",\"linecolor\":\"white\",\"showbackground\":true,\"ticks\":\"\",\"zerolinecolor\":\"white\",\"gridwidth\":2},\"zaxis\":{\"backgroundcolor\":\"#E5ECF6\",\"gridcolor\":\"white\",\"linecolor\":\"white\",\"showbackground\":true,\"ticks\":\"\",\"zerolinecolor\":\"white\",\"gridwidth\":2}},\"shapedefaults\":{\"line\":{\"color\":\"#2a3f5f\"}},\"annotationdefaults\":{\"arrowcolor\":\"#2a3f5f\",\"arrowhead\":0,\"arrowwidth\":1},\"geo\":{\"bgcolor\":\"white\",\"landcolor\":\"#E5ECF6\",\"subunitcolor\":\"white\",\"showland\":true,\"showlakes\":true,\"lakecolor\":\"white\"},\"title\":{\"x\":0.05},\"mapbox\":{\"style\":\"light\"}}},\"xaxis\":{\"anchor\":\"y\",\"domain\":[0.0,1.0],\"title\":{\"text\":\"PC1\"}},\"yaxis\":{\"anchor\":\"x\",\"domain\":[0.0,1.0],\"title\":{\"text\":\"PC2\"}},\"legend\":{\"title\":{\"text\":\"species\"},\"tracegroupgap\":0},\"margin\":{\"t\":60}},                        {\"responsive\": true}                    ).then(function(){\n",
       "                            \n",
       "var gd = document.getElementById('7f4168b3-be02-45e2-85d8-280ff8943a6a');\n",
       "var x = new MutationObserver(function (mutations, observer) {{\n",
       "        var display = window.getComputedStyle(gd).display;\n",
       "        if (!display || display === 'none') {{\n",
       "            console.log([gd, 'removed!']);\n",
       "            Plotly.purge(gd);\n",
       "            observer.disconnect();\n",
       "        }}\n",
       "}});\n",
       "\n",
       "// Listen for the removal of the full notebook cells\n",
       "var notebookContainer = gd.closest('#notebook-container');\n",
       "if (notebookContainer) {{\n",
       "    x.observe(notebookContainer, {childList: true});\n",
       "}}\n",
       "\n",
       "// Listen for the clearing of the current output cell\n",
       "var outputEl = gd.closest('.output');\n",
       "if (outputEl) {{\n",
       "    x.observe(outputEl, {childList: true});\n",
       "}}\n",
       "\n",
       "                        })                };                });            </script>        </div>"
      ]
     },
     "metadata": {},
     "output_type": "display_data"
    }
   ],
   "source": [
    "U = eigenvectors[:, 0:2]\n",
    "X_star_2D = X.dot(U)\n",
    "df_2D = pd.DataFrame({'PC1': X_star_2D[:, 0], 'PC2': X_star_2D[:, 1], 'species': y})\n",
    "fig = px.scatter(df_2D, x='PC1', y='PC2',\n",
    "              color='species')\n",
    "fig.show()"
   ]
  },
  {
   "cell_type": "markdown",
   "id": "48da5802-d45d-4c0f-ab32-5297c96f95da",
   "metadata": {},
   "source": [
    "<span style=\"font-family: XB Zar; font-size: medium; \"><div dir=rtl><meta charset=\"UTF-8\">\n",
    "    <span style=\"color: red; font-size: large; \"> 5.2. تحلیل مولفه‌های اصلی افزایشی یا Incremental PCA </span>\n",
    "    <br>\n",
    "    یکی از مشکلات بزرگ روش قبلی در PCA این آست که کل مجموعه دادگان را به عنوان ورودی خود می‌گیرد. این موضوع در عمل برای مجموعه دادگان حجیم با تعداد داده‌های بسیار زیاد با مشکلاتی همچون زمان محاسبات زیاد همراه می‌شود. یکی از راه حل‌های این مشکل تقسیم‌بندی کردن مجموعه دادگان به دسته‌های کوچک و اعمال PCA به هریک از این دسته‌هاست.\n",
    "    این روش\n",
    "    فقط تخمین‌های واریانس‌های مولفه و نویز را ذخیره می‌کند، . \n",
    "    این عمل به شکل فزاینده، نرخ واریانس را بروزرسانی می‌کند \n",
    "    به همین دلیل است که استفاده از حافظه به تعداد نمونه‌ها در هر دسته بستگی دارد، نه به تعداد نمونه‌هایی که در مجموعه داده پردازش می‌شوند. \n",
    "   در این قسمت از کتابخانه sklearn برای بررسی یک نمونه مسئله در این مورد استفاده می‌کنیم.\n",
    "    </div></span>"
   ]
  },
  {
   "cell_type": "markdown",
   "id": "abdd05ac-b86f-4fff-8fe5-5f8925f7252f",
   "metadata": {},
   "source": [
    "from sklearn.decomposition import IncrementalPCA"
   ]
  },
  {
   "cell_type": "markdown",
   "id": "4f6571d3-a561-4d85-b10c-c2fa75692d82",
   "metadata": {},
   "source": [
    "<span style=\"font-family: XB Zar; font-size: medium; \"><div dir=rtl><meta charset=\"UTF-8\">\n",
    "    <br>\n",
    "    تعداد دسته‌های خود را 10تایی در نظر می‌گیریم و طبق آن خواهیم داشت:\n",
    "    </div></span>"
   ]
  },
  {
   "cell_type": "code",
   "execution_count": 10,
   "id": "7e2b0674-5ce7-4a07-9f25-6b22a5c1e34c",
   "metadata": {},
   "outputs": [],
   "source": [
    "batch_number = 10\n",
    "incremental_pca = IncrementalPCA(n_components=2)\n",
    "for X_batch in np.array_split(X, batch_number):\n",
    "    incremental_pca.partial_fit(X_batch)\n",
    "X_reduced = incremental_pca.transform(X)"
   ]
  },
  {
   "cell_type": "code",
   "execution_count": 60,
   "id": "c081c93d-bb7c-4319-9c28-25831bf6a380",
   "metadata": {},
   "outputs": [
    {
     "data": {
      "application/vnd.plotly.v1+json": {
       "config": {
        "plotlyServerURL": "https://plot.ly"
       },
       "data": [
        {
         "hovertemplate": "species=Setosa<br>PC1=%{x}<br>PC2=%{y}<extra></extra>",
         "legendgroup": "Setosa",
         "marker": {
          "color": "#636efa",
          "symbol": "circle"
         },
         "mode": "markers",
         "name": "Setosa",
         "orientation": "v",
         "showlegend": true,
         "type": "scatter",
         "x": [
          -2.6840558952002165,
          -2.7140298887907592,
          -2.889020100495127,
          -2.7454283982261383,
          -2.728725993935608,
          -2.280838006266893,
          -2.8207091943122222,
          -2.626114207164812,
          -2.8864950648560828,
          -2.6726726377790975,
          -2.5068000161034854,
          -2.612842617864799,
          -2.7860309782108628,
          -3.2239270832455458,
          -2.6444358677429136,
          -2.385974828676733,
          -2.623438063201231,
          -2.6482440182468987,
          -2.199601359551247,
          -2.5880366628191314,
          -2.3100573288304993,
          -2.5437438995972084,
          -3.21608290073709,
          -2.3027084491022984,
          -2.355892575164045,
          -2.506540647856804,
          -2.468840439024592,
          -2.562216668499846,
          -2.6393857964648246,
          -2.632070057794373,
          -2.5873999590589816,
          -2.4097336033910333,
          -2.6489138630647977,
          -2.598665249213313,
          -2.63686076082578,
          -2.8661024773283543,
          -2.6249490595666574,
          -2.800727083355711,
          -2.9806259653582727,
          -2.589924994698026,
          -2.7700832449472688,
          -2.849258672057929,
          -2.9975877378954845,
          -2.4056975713865625,
          -2.2096247289314754,
          -2.7144072243042277,
          -2.5381985255388644,
          -2.8395592987283287,
          -2.5429892285702715,
          -2.703283335129791
         ],
         "xaxis": "x",
         "y": [
          0.3193846432276619,
          -0.17982615828915824,
          -0.1442922560835459,
          -0.3171573966844453,
          0.32860529644398223,
          0.7440586550282963,
          -0.0852330720950362,
          0.16361209839973528,
          -0.5774246990213816,
          -0.1159492783360184,
          0.6443815934839162,
          0.017060206788128512,
          -0.23753663161800093,
          -0.5099070838956699,
          1.1764288758870134,
          1.3421842960103787,
          0.8124290381201853,
          0.31236546863718706,
          0.8713164722410853,
          0.5171237762711264,
          0.3883454985310597,
          0.43615430054501453,
          0.1380570878586025,
          0.09914872986604574,
          -0.03421758053078834,
          -0.14928170191578596,
          0.13248115344581318,
          0.36702169537400714,
          0.3101639900113421,
          -0.19557004340246278,
          -0.20479069661878316,
          0.4084923408960545,
          0.8177426767783054,
          1.095955342854392,
          -0.12296845292649328,
          0.0669892834473779,
          0.5953958306779031,
          0.27089482311514024,
          -0.48638180211277193,
          0.2283417463190523,
          0.2647284164908423,
          -0.9463234367333907,
          -0.33848119984149744,
          0.1923931054005007,
          0.44173421858876233,
          -0.2515749807989507,
          0.507050355088629,
          -0.22611449977583573,
          0.5796519455645988,
          0.10675439303707027
         ],
         "yaxis": "y"
        },
        {
         "hovertemplate": "species=Versicolor<br>PC1=%{x}<br>PC2=%{y}<extra></extra>",
         "legendgroup": "Versicolor",
         "marker": {
          "color": "#EF553B",
          "symbol": "circle"
         },
         "mode": "markers",
         "name": "Versicolor",
         "orientation": "v",
         "showlegend": true,
         "type": "scatter",
         "x": [
          1.285174793622636,
          0.932551367308069,
          1.464578372844943,
          0.18330260644988977,
          1.0883141390828621,
          0.6415266712083558,
          1.0949931739931642,
          -0.7492992851144763,
          1.044398711374407,
          -0.009026713305158038,
          -0.5078864991060982,
          0.5116170348105975,
          0.26529392419247205,
          0.9849145402273803,
          -0.1739935556292975,
          0.9281379997901305,
          0.6599994401109933,
          0.23616108214945583,
          0.9449818050605547,
          0.04525627823924414,
          1.115990978534846,
          0.358033449907576,
          1.298328415655862,
          0.9217716725893509,
          0.7150702437400818,
          0.9004296735919501,
          1.3323699279970715,
          1.5579546023201964,
          0.8132371762467427,
          -0.30544732945023156,
          -0.06810206219252052,
          -0.18956395337942242,
          0.1364848075889219,
          1.3799109111387793,
          0.5876210151774219,
          0.8066446218570316,
          1.2208999194442018,
          0.8154163631185154,
          0.2457756292700195,
          0.16634083391267823,
          0.46464812762509367,
          0.8907836397251895,
          0.23061570809111237,
          -0.7046291863790848,
          0.35686830230942185,
          0.331802979017073,
          0.3760957422389964,
          0.6426918188065099,
          -0.9065399121969467,
          0.29892661427401707
         ],
         "xaxis": "x",
         "y": [
          0.6791112946939921,
          0.3178994241335592,
          0.4992269795026185,
          -0.83071878931522,
          0.06973527173735458,
          -0.41697096666326067,
          0.28591571121345916,
          -1.0044406815132547,
          0.22245356997325866,
          -0.7190331073481248,
          -1.2696974296824315,
          -0.10237163041538451,
          -0.5599633270828465,
          -0.12530643998677454,
          -0.2539169514901902,
          0.46224983711932044,
          -0.3478383614922534,
          -0.3367637130162668,
          -0.5510628830614479,
          -0.5869575941707063,
          -0.07808412655336826,
          -0.07258939612113087,
          -0.33285271482710854,
          -0.18521839194146206,
          0.1442720614535416,
          0.3235698880643656,
          0.23675819853983626,
          0.2646864375744247,
          -0.16287007095062175,
          -0.37288808743338736,
          -0.7085449474526881,
          -0.6844331770892411,
          -0.3166168706512721,
          -0.42034542245020473,
          -0.47729765733088725,
          0.19986226013708966,
          0.4039528752099287,
          -0.3812519890525719,
          -0.2654296292194143,
          -0.6828181870439454,
          -0.6702190944097225,
          -0.034263543078164815,
          -0.4076597675598817,
          -1.013661334729575,
          -0.5043731283992984,
          -0.21077340248259427,
          -0.2917428782087065,
          0.014812765614907141,
          -0.7567724718105415,
          -0.3486005835713714
         ],
         "yaxis": "y"
        },
        {
         "hovertemplate": "species=Virginica<br>PC1=%{x}<br>PC2=%{y}<extra></extra>",
         "legendgroup": "Virginica",
         "marker": {
          "color": "#00cc96",
          "symbol": "circle"
         },
         "mode": "markers",
         "name": "Virginica",
         "orientation": "v",
         "showlegend": true,
         "type": "scatter",
         "x": [
          2.5307502516096223,
          1.4149681170651602,
          2.616809088102872,
          1.9713906010764837,
          2.3498356760218893,
          3.3973052500718928,
          0.5207031380931565,
          2.9328328253794345,
          2.3213710244852193,
          2.9166605192384623,
          1.66170004994295,
          1.803403420333045,
          2.1656413937681753,
          1.3459025398553193,
          1.5855466155631424,
          1.9042464968032864,
          1.9496381255078652,
          3.487109263576736,
          3.7959918042204914,
          1.3008534512949061,
          2.4277926160715544,
          1.1986206543491316,
          3.5002943723561577,
          1.3888022739786032,
          2.2753095509627417,
          2.614250911406078,
          1.2584821610096268,
          1.2909811902392143,
          2.123496330671828,
          2.388288901569485,
          2.8420147726009746,
          3.2309138919029183,
          2.1593082076251457,
          1.4441857853172135,
          1.781207327135459,
          3.0768681452773907,
          2.14385743145336,
          1.9049680267724738,
          1.1691419635388434,
          2.1076997057327715,
          2.3140569401263207,
          1.9223734169386522,
          1.4149681170651602,
          2.5629034320719377,
          2.418557058776012,
          1.944125892507271,
          1.5272259377027166,
          1.7643118367137467,
          1.9005563135660881,
          1.3899027937728115
         ],
         "xaxis": "x",
         "y": [
          0.000539394850545258,
          -0.5708622420602639,
          0.3416949689330428,
          -0.17775720446679022,
          -0.03660949740036264,
          0.5456950381188228,
          -1.1847357517866093,
          0.3498911043155755,
          -0.2488250088780149,
          0.7878645337583399,
          0.2449776244626679,
          -0.21666954609030506,
          0.21587640826698057,
          -0.7734190710683582,
          -0.5320078138770014,
          0.12500526122598168,
          0.042744988280453824,
          1.1779153247597909,
          0.24930734499572427,
          -0.7659851577649439,
          0.3802831177306783,
          -0.5992052198077917,
          0.45245066258436784,
          -0.20600963632725858,
          0.33881247220863064,
          0.5582901471220872,
          -0.17969638733796617,
          -0.11361802875898143,
          -0.20803538145453473,
          0.45861308557770714,
          0.3678364680547254,
          1.372690757098292,
          -0.21505455604500964,
          -0.14518700296614137,
          -0.5009907053504368,
          0.6818493157220519,
          0.1498792536685468,
          0.0519656414967742,
          -0.16125508090532598,
          0.37164895309490764,
          0.18694694193890404,
          0.4088883912328749,
          -0.5708622420602639,
          0.2813682782654161,
          0.31073577384673107,
          0.18838619848563076,
          -0.37802200896198035,
          0.0799844264184209,
          0.12635397188564917,
          -0.2772625161435598
         ],
         "yaxis": "y"
        }
       ],
       "layout": {
        "autosize": true,
        "legend": {
         "title": {
          "text": "species"
         },
         "tracegroupgap": 0
        },
        "margin": {
         "t": 60
        },
        "template": {
         "data": {
          "bar": [
           {
            "error_x": {
             "color": "#2a3f5f"
            },
            "error_y": {
             "color": "#2a3f5f"
            },
            "marker": {
             "line": {
              "color": "#E5ECF6",
              "width": 0.5
             },
             "pattern": {
              "fillmode": "overlay",
              "size": 10,
              "solidity": 0.2
             }
            },
            "type": "bar"
           }
          ],
          "barpolar": [
           {
            "marker": {
             "line": {
              "color": "#E5ECF6",
              "width": 0.5
             },
             "pattern": {
              "fillmode": "overlay",
              "size": 10,
              "solidity": 0.2
             }
            },
            "type": "barpolar"
           }
          ],
          "carpet": [
           {
            "aaxis": {
             "endlinecolor": "#2a3f5f",
             "gridcolor": "white",
             "linecolor": "white",
             "minorgridcolor": "white",
             "startlinecolor": "#2a3f5f"
            },
            "baxis": {
             "endlinecolor": "#2a3f5f",
             "gridcolor": "white",
             "linecolor": "white",
             "minorgridcolor": "white",
             "startlinecolor": "#2a3f5f"
            },
            "type": "carpet"
           }
          ],
          "choropleth": [
           {
            "colorbar": {
             "outlinewidth": 0,
             "ticks": ""
            },
            "type": "choropleth"
           }
          ],
          "contour": [
           {
            "colorbar": {
             "outlinewidth": 0,
             "ticks": ""
            },
            "colorscale": [
             [
              0,
              "#0d0887"
             ],
             [
              0.1111111111111111,
              "#46039f"
             ],
             [
              0.2222222222222222,
              "#7201a8"
             ],
             [
              0.3333333333333333,
              "#9c179e"
             ],
             [
              0.4444444444444444,
              "#bd3786"
             ],
             [
              0.5555555555555556,
              "#d8576b"
             ],
             [
              0.6666666666666666,
              "#ed7953"
             ],
             [
              0.7777777777777778,
              "#fb9f3a"
             ],
             [
              0.8888888888888888,
              "#fdca26"
             ],
             [
              1,
              "#f0f921"
             ]
            ],
            "type": "contour"
           }
          ],
          "contourcarpet": [
           {
            "colorbar": {
             "outlinewidth": 0,
             "ticks": ""
            },
            "type": "contourcarpet"
           }
          ],
          "heatmap": [
           {
            "colorbar": {
             "outlinewidth": 0,
             "ticks": ""
            },
            "colorscale": [
             [
              0,
              "#0d0887"
             ],
             [
              0.1111111111111111,
              "#46039f"
             ],
             [
              0.2222222222222222,
              "#7201a8"
             ],
             [
              0.3333333333333333,
              "#9c179e"
             ],
             [
              0.4444444444444444,
              "#bd3786"
             ],
             [
              0.5555555555555556,
              "#d8576b"
             ],
             [
              0.6666666666666666,
              "#ed7953"
             ],
             [
              0.7777777777777778,
              "#fb9f3a"
             ],
             [
              0.8888888888888888,
              "#fdca26"
             ],
             [
              1,
              "#f0f921"
             ]
            ],
            "type": "heatmap"
           }
          ],
          "heatmapgl": [
           {
            "colorbar": {
             "outlinewidth": 0,
             "ticks": ""
            },
            "colorscale": [
             [
              0,
              "#0d0887"
             ],
             [
              0.1111111111111111,
              "#46039f"
             ],
             [
              0.2222222222222222,
              "#7201a8"
             ],
             [
              0.3333333333333333,
              "#9c179e"
             ],
             [
              0.4444444444444444,
              "#bd3786"
             ],
             [
              0.5555555555555556,
              "#d8576b"
             ],
             [
              0.6666666666666666,
              "#ed7953"
             ],
             [
              0.7777777777777778,
              "#fb9f3a"
             ],
             [
              0.8888888888888888,
              "#fdca26"
             ],
             [
              1,
              "#f0f921"
             ]
            ],
            "type": "heatmapgl"
           }
          ],
          "histogram": [
           {
            "marker": {
             "pattern": {
              "fillmode": "overlay",
              "size": 10,
              "solidity": 0.2
             }
            },
            "type": "histogram"
           }
          ],
          "histogram2d": [
           {
            "colorbar": {
             "outlinewidth": 0,
             "ticks": ""
            },
            "colorscale": [
             [
              0,
              "#0d0887"
             ],
             [
              0.1111111111111111,
              "#46039f"
             ],
             [
              0.2222222222222222,
              "#7201a8"
             ],
             [
              0.3333333333333333,
              "#9c179e"
             ],
             [
              0.4444444444444444,
              "#bd3786"
             ],
             [
              0.5555555555555556,
              "#d8576b"
             ],
             [
              0.6666666666666666,
              "#ed7953"
             ],
             [
              0.7777777777777778,
              "#fb9f3a"
             ],
             [
              0.8888888888888888,
              "#fdca26"
             ],
             [
              1,
              "#f0f921"
             ]
            ],
            "type": "histogram2d"
           }
          ],
          "histogram2dcontour": [
           {
            "colorbar": {
             "outlinewidth": 0,
             "ticks": ""
            },
            "colorscale": [
             [
              0,
              "#0d0887"
             ],
             [
              0.1111111111111111,
              "#46039f"
             ],
             [
              0.2222222222222222,
              "#7201a8"
             ],
             [
              0.3333333333333333,
              "#9c179e"
             ],
             [
              0.4444444444444444,
              "#bd3786"
             ],
             [
              0.5555555555555556,
              "#d8576b"
             ],
             [
              0.6666666666666666,
              "#ed7953"
             ],
             [
              0.7777777777777778,
              "#fb9f3a"
             ],
             [
              0.8888888888888888,
              "#fdca26"
             ],
             [
              1,
              "#f0f921"
             ]
            ],
            "type": "histogram2dcontour"
           }
          ],
          "mesh3d": [
           {
            "colorbar": {
             "outlinewidth": 0,
             "ticks": ""
            },
            "type": "mesh3d"
           }
          ],
          "parcoords": [
           {
            "line": {
             "colorbar": {
              "outlinewidth": 0,
              "ticks": ""
             }
            },
            "type": "parcoords"
           }
          ],
          "pie": [
           {
            "automargin": true,
            "type": "pie"
           }
          ],
          "scatter": [
           {
            "fillpattern": {
             "fillmode": "overlay",
             "size": 10,
             "solidity": 0.2
            },
            "type": "scatter"
           }
          ],
          "scatter3d": [
           {
            "line": {
             "colorbar": {
              "outlinewidth": 0,
              "ticks": ""
             }
            },
            "marker": {
             "colorbar": {
              "outlinewidth": 0,
              "ticks": ""
             }
            },
            "type": "scatter3d"
           }
          ],
          "scattercarpet": [
           {
            "marker": {
             "colorbar": {
              "outlinewidth": 0,
              "ticks": ""
             }
            },
            "type": "scattercarpet"
           }
          ],
          "scattergeo": [
           {
            "marker": {
             "colorbar": {
              "outlinewidth": 0,
              "ticks": ""
             }
            },
            "type": "scattergeo"
           }
          ],
          "scattergl": [
           {
            "marker": {
             "colorbar": {
              "outlinewidth": 0,
              "ticks": ""
             }
            },
            "type": "scattergl"
           }
          ],
          "scattermapbox": [
           {
            "marker": {
             "colorbar": {
              "outlinewidth": 0,
              "ticks": ""
             }
            },
            "type": "scattermapbox"
           }
          ],
          "scatterpolar": [
           {
            "marker": {
             "colorbar": {
              "outlinewidth": 0,
              "ticks": ""
             }
            },
            "type": "scatterpolar"
           }
          ],
          "scatterpolargl": [
           {
            "marker": {
             "colorbar": {
              "outlinewidth": 0,
              "ticks": ""
             }
            },
            "type": "scatterpolargl"
           }
          ],
          "scatterternary": [
           {
            "marker": {
             "colorbar": {
              "outlinewidth": 0,
              "ticks": ""
             }
            },
            "type": "scatterternary"
           }
          ],
          "surface": [
           {
            "colorbar": {
             "outlinewidth": 0,
             "ticks": ""
            },
            "colorscale": [
             [
              0,
              "#0d0887"
             ],
             [
              0.1111111111111111,
              "#46039f"
             ],
             [
              0.2222222222222222,
              "#7201a8"
             ],
             [
              0.3333333333333333,
              "#9c179e"
             ],
             [
              0.4444444444444444,
              "#bd3786"
             ],
             [
              0.5555555555555556,
              "#d8576b"
             ],
             [
              0.6666666666666666,
              "#ed7953"
             ],
             [
              0.7777777777777778,
              "#fb9f3a"
             ],
             [
              0.8888888888888888,
              "#fdca26"
             ],
             [
              1,
              "#f0f921"
             ]
            ],
            "type": "surface"
           }
          ],
          "table": [
           {
            "cells": {
             "fill": {
              "color": "#EBF0F8"
             },
             "line": {
              "color": "white"
             }
            },
            "header": {
             "fill": {
              "color": "#C8D4E3"
             },
             "line": {
              "color": "white"
             }
            },
            "type": "table"
           }
          ]
         },
         "layout": {
          "annotationdefaults": {
           "arrowcolor": "#2a3f5f",
           "arrowhead": 0,
           "arrowwidth": 1
          },
          "autotypenumbers": "strict",
          "coloraxis": {
           "colorbar": {
            "outlinewidth": 0,
            "ticks": ""
           }
          },
          "colorscale": {
           "diverging": [
            [
             0,
             "#8e0152"
            ],
            [
             0.1,
             "#c51b7d"
            ],
            [
             0.2,
             "#de77ae"
            ],
            [
             0.3,
             "#f1b6da"
            ],
            [
             0.4,
             "#fde0ef"
            ],
            [
             0.5,
             "#f7f7f7"
            ],
            [
             0.6,
             "#e6f5d0"
            ],
            [
             0.7,
             "#b8e186"
            ],
            [
             0.8,
             "#7fbc41"
            ],
            [
             0.9,
             "#4d9221"
            ],
            [
             1,
             "#276419"
            ]
           ],
           "sequential": [
            [
             0,
             "#0d0887"
            ],
            [
             0.1111111111111111,
             "#46039f"
            ],
            [
             0.2222222222222222,
             "#7201a8"
            ],
            [
             0.3333333333333333,
             "#9c179e"
            ],
            [
             0.4444444444444444,
             "#bd3786"
            ],
            [
             0.5555555555555556,
             "#d8576b"
            ],
            [
             0.6666666666666666,
             "#ed7953"
            ],
            [
             0.7777777777777778,
             "#fb9f3a"
            ],
            [
             0.8888888888888888,
             "#fdca26"
            ],
            [
             1,
             "#f0f921"
            ]
           ],
           "sequentialminus": [
            [
             0,
             "#0d0887"
            ],
            [
             0.1111111111111111,
             "#46039f"
            ],
            [
             0.2222222222222222,
             "#7201a8"
            ],
            [
             0.3333333333333333,
             "#9c179e"
            ],
            [
             0.4444444444444444,
             "#bd3786"
            ],
            [
             0.5555555555555556,
             "#d8576b"
            ],
            [
             0.6666666666666666,
             "#ed7953"
            ],
            [
             0.7777777777777778,
             "#fb9f3a"
            ],
            [
             0.8888888888888888,
             "#fdca26"
            ],
            [
             1,
             "#f0f921"
            ]
           ]
          },
          "colorway": [
           "#636efa",
           "#EF553B",
           "#00cc96",
           "#ab63fa",
           "#FFA15A",
           "#19d3f3",
           "#FF6692",
           "#B6E880",
           "#FF97FF",
           "#FECB52"
          ],
          "font": {
           "color": "#2a3f5f"
          },
          "geo": {
           "bgcolor": "white",
           "lakecolor": "white",
           "landcolor": "#E5ECF6",
           "showlakes": true,
           "showland": true,
           "subunitcolor": "white"
          },
          "hoverlabel": {
           "align": "left"
          },
          "hovermode": "closest",
          "mapbox": {
           "style": "light"
          },
          "paper_bgcolor": "white",
          "plot_bgcolor": "#E5ECF6",
          "polar": {
           "angularaxis": {
            "gridcolor": "white",
            "linecolor": "white",
            "ticks": ""
           },
           "bgcolor": "#E5ECF6",
           "radialaxis": {
            "gridcolor": "white",
            "linecolor": "white",
            "ticks": ""
           }
          },
          "scene": {
           "xaxis": {
            "backgroundcolor": "#E5ECF6",
            "gridcolor": "white",
            "gridwidth": 2,
            "linecolor": "white",
            "showbackground": true,
            "ticks": "",
            "zerolinecolor": "white"
           },
           "yaxis": {
            "backgroundcolor": "#E5ECF6",
            "gridcolor": "white",
            "gridwidth": 2,
            "linecolor": "white",
            "showbackground": true,
            "ticks": "",
            "zerolinecolor": "white"
           },
           "zaxis": {
            "backgroundcolor": "#E5ECF6",
            "gridcolor": "white",
            "gridwidth": 2,
            "linecolor": "white",
            "showbackground": true,
            "ticks": "",
            "zerolinecolor": "white"
           }
          },
          "shapedefaults": {
           "line": {
            "color": "#2a3f5f"
           }
          },
          "ternary": {
           "aaxis": {
            "gridcolor": "white",
            "linecolor": "white",
            "ticks": ""
           },
           "baxis": {
            "gridcolor": "white",
            "linecolor": "white",
            "ticks": ""
           },
           "bgcolor": "#E5ECF6",
           "caxis": {
            "gridcolor": "white",
            "linecolor": "white",
            "ticks": ""
           }
          },
          "title": {
           "x": 0.05
          },
          "xaxis": {
           "automargin": true,
           "gridcolor": "white",
           "linecolor": "white",
           "ticks": "",
           "title": {
            "standoff": 15
           },
           "zerolinecolor": "white",
           "zerolinewidth": 2
          },
          "yaxis": {
           "automargin": true,
           "gridcolor": "white",
           "linecolor": "white",
           "ticks": "",
           "title": {
            "standoff": 15
           },
           "zerolinecolor": "white",
           "zerolinewidth": 2
          }
         }
        },
        "xaxis": {
         "anchor": "y",
         "autorange": true,
         "domain": [
          0,
          1
         ],
         "range": [
          -3.6473698749137373,
          4.219434595888683
         ],
         "title": {
          "text": "PC1"
         },
         "type": "linear"
        },
        "yaxis": {
         "anchor": "x",
         "autorange": true,
         "domain": [
          0,
          1
         ],
         "range": [
          -1.474291790601149,
          1.5772851180170095
         ],
         "title": {
          "text": "PC2"
         },
         "type": "linear"
        }
       }
      },
      "image/png": "[encoded data removed]",
      "text/html": [
       "<div>                            <div id=\"01089d41-6218-4011-a135-bd4802471060\" class=\"plotly-graph-div\" style=\"height:525px; width:100%;\"></div>            <script type=\"text/javascript\">                require([\"plotly\"], function(Plotly) {                    window.PLOTLYENV=window.PLOTLYENV || {};                                    if (document.getElementById(\"01089d41-6218-4011-a135-bd4802471060\")) {                    Plotly.newPlot(                        \"01089d41-6218-4011-a135-bd4802471060\",                        [{\"hovertemplate\":\"species=Setosa<br>PC1=%{x}<br>PC2=%{y}<extra></extra>\",\"legendgroup\":\"Setosa\",\"marker\":{\"color\":\"#636efa\",\"symbol\":\"circle\"},\"mode\":\"markers\",\"name\":\"Setosa\",\"orientation\":\"v\",\"showlegend\":true,\"x\":[-2.6840558952002165,-2.7140298887907592,-2.889020100495127,-2.7454283982261383,-2.728725993935608,-2.280838006266893,-2.8207091943122222,-2.626114207164812,-2.8864950648560828,-2.6726726377790975,-2.5068000161034854,-2.612842617864799,-2.7860309782108628,-3.2239270832455458,-2.6444358677429136,-2.385974828676733,-2.623438063201231,-2.6482440182468987,-2.199601359551247,-2.5880366628191314,-2.3100573288304993,-2.5437438995972084,-3.21608290073709,-2.3027084491022984,-2.355892575164045,-2.506540647856804,-2.468840439024592,-2.562216668499846,-2.6393857964648246,-2.632070057794373,-2.5873999590589816,-2.4097336033910333,-2.6489138630647977,-2.598665249213313,-2.63686076082578,-2.8661024773283543,-2.6249490595666574,-2.800727083355711,-2.9806259653582727,-2.589924994698026,-2.7700832449472688,-2.849258672057929,-2.9975877378954845,-2.4056975713865625,-2.2096247289314754,-2.7144072243042277,-2.5381985255388644,-2.8395592987283287,-2.5429892285702715,-2.703283335129791],\"xaxis\":\"x\",\"y\":[0.3193846432276619,-0.17982615828915824,-0.1442922560835459,-0.3171573966844453,0.32860529644398223,0.7440586550282963,-0.0852330720950362,0.16361209839973528,-0.5774246990213816,-0.1159492783360184,0.6443815934839162,0.017060206788128512,-0.23753663161800093,-0.5099070838956699,1.1764288758870134,1.3421842960103787,0.8124290381201853,0.31236546863718706,0.8713164722410853,0.5171237762711264,0.3883454985310597,0.43615430054501453,0.1380570878586025,0.09914872986604574,-0.03421758053078834,-0.14928170191578596,0.13248115344581318,0.36702169537400714,0.3101639900113421,-0.19557004340246278,-0.20479069661878316,0.4084923408960545,0.8177426767783054,1.095955342854392,-0.12296845292649328,0.0669892834473779,0.5953958306779031,0.27089482311514024,-0.48638180211277193,0.2283417463190523,0.2647284164908423,-0.9463234367333907,-0.33848119984149744,0.1923931054005007,0.44173421858876233,-0.2515749807989507,0.507050355088629,-0.22611449977583573,0.5796519455645988,0.10675439303707027],\"yaxis\":\"y\",\"type\":\"scatter\"},{\"hovertemplate\":\"species=Versicolor<br>PC1=%{x}<br>PC2=%{y}<extra></extra>\",\"legendgroup\":\"Versicolor\",\"marker\":{\"color\":\"#EF553B\",\"symbol\":\"circle\"},\"mode\":\"markers\",\"name\":\"Versicolor\",\"orientation\":\"v\",\"showlegend\":true,\"x\":[1.285174793622636,0.932551367308069,1.464578372844943,0.18330260644988977,1.0883141390828621,0.6415266712083558,1.0949931739931642,-0.7492992851144763,1.044398711374407,-0.009026713305158038,-0.5078864991060982,0.5116170348105975,0.26529392419247205,0.9849145402273803,-0.1739935556292975,0.9281379997901305,0.6599994401109933,0.23616108214945583,0.9449818050605547,0.04525627823924414,1.115990978534846,0.358033449907576,1.298328415655862,0.9217716725893509,0.7150702437400818,0.9004296735919501,1.3323699279970715,1.5579546023201964,0.8132371762467427,-0.30544732945023156,-0.06810206219252052,-0.18956395337942242,0.1364848075889219,1.3799109111387793,0.5876210151774219,0.8066446218570316,1.2208999194442018,0.8154163631185154,0.2457756292700195,0.16634083391267823,0.46464812762509367,0.8907836397251895,0.23061570809111237,-0.7046291863790848,0.35686830230942185,0.331802979017073,0.3760957422389964,0.6426918188065099,-0.9065399121969467,0.29892661427401707],\"xaxis\":\"x\",\"y\":[0.6791112946939921,0.3178994241335592,0.4992269795026185,-0.83071878931522,0.06973527173735458,-0.41697096666326067,0.28591571121345916,-1.0044406815132547,0.22245356997325866,-0.7190331073481248,-1.2696974296824315,-0.10237163041538451,-0.5599633270828465,-0.12530643998677454,-0.2539169514901902,0.46224983711932044,-0.3478383614922534,-0.3367637130162668,-0.5510628830614479,-0.5869575941707063,-0.07808412655336826,-0.07258939612113087,-0.33285271482710854,-0.18521839194146206,0.1442720614535416,0.3235698880643656,0.23675819853983626,0.2646864375744247,-0.16287007095062175,-0.37288808743338736,-0.7085449474526881,-0.6844331770892411,-0.3166168706512721,-0.42034542245020473,-0.47729765733088725,0.19986226013708966,0.4039528752099287,-0.3812519890525719,-0.2654296292194143,-0.6828181870439454,-0.6702190944097225,-0.034263543078164815,-0.4076597675598817,-1.013661334729575,-0.5043731283992984,-0.21077340248259427,-0.2917428782087065,0.014812765614907141,-0.7567724718105415,-0.3486005835713714],\"yaxis\":\"y\",\"type\":\"scatter\"},{\"hovertemplate\":\"species=Virginica<br>PC1=%{x}<br>PC2=%{y}<extra></extra>\",\"legendgroup\":\"Virginica\",\"marker\":{\"color\":\"#00cc96\",\"symbol\":\"circle\"},\"mode\":\"markers\",\"name\":\"Virginica\",\"orientation\":\"v\",\"showlegend\":true,\"x\":[2.5307502516096223,1.4149681170651602,2.616809088102872,1.9713906010764837,2.3498356760218893,3.3973052500718928,0.5207031380931565,2.9328328253794345,2.3213710244852193,2.9166605192384623,1.66170004994295,1.803403420333045,2.1656413937681753,1.3459025398553193,1.5855466155631424,1.9042464968032864,1.9496381255078652,3.487109263576736,3.7959918042204914,1.3008534512949061,2.4277926160715544,1.1986206543491316,3.5002943723561577,1.3888022739786032,2.2753095509627417,2.614250911406078,1.2584821610096268,1.2909811902392143,2.123496330671828,2.388288901569485,2.8420147726009746,3.2309138919029183,2.1593082076251457,1.4441857853172135,1.781207327135459,3.0768681452773907,2.14385743145336,1.9049680267724738,1.1691419635388434,2.1076997057327715,2.3140569401263207,1.9223734169386522,1.4149681170651602,2.5629034320719377,2.418557058776012,1.944125892507271,1.5272259377027166,1.7643118367137467,1.9005563135660881,1.3899027937728115],\"xaxis\":\"x\",\"y\":[0.000539394850545258,-0.5708622420602639,0.3416949689330428,-0.17775720446679022,-0.03660949740036264,0.5456950381188228,-1.1847357517866093,0.3498911043155755,-0.2488250088780149,0.7878645337583399,0.2449776244626679,-0.21666954609030506,0.21587640826698057,-0.7734190710683582,-0.5320078138770014,0.12500526122598168,0.042744988280453824,1.1779153247597909,0.24930734499572427,-0.7659851577649439,0.3802831177306783,-0.5992052198077917,0.45245066258436784,-0.20600963632725858,0.33881247220863064,0.5582901471220872,-0.17969638733796617,-0.11361802875898143,-0.20803538145453473,0.45861308557770714,0.3678364680547254,1.372690757098292,-0.21505455604500964,-0.14518700296614137,-0.5009907053504368,0.6818493157220519,0.1498792536685468,0.0519656414967742,-0.16125508090532598,0.37164895309490764,0.18694694193890404,0.4088883912328749,-0.5708622420602639,0.2813682782654161,0.31073577384673107,0.18838619848563076,-0.37802200896198035,0.0799844264184209,0.12635397188564917,-0.2772625161435598],\"yaxis\":\"y\",\"type\":\"scatter\"}],                        {\"template\":{\"data\":{\"histogram2dcontour\":[{\"type\":\"histogram2dcontour\",\"colorbar\":{\"outlinewidth\":0,\"ticks\":\"\"},\"colorscale\":[[0.0,\"#0d0887\"],[0.1111111111111111,\"#46039f\"],[0.2222222222222222,\"#7201a8\"],[0.3333333333333333,\"#9c179e\"],[0.4444444444444444,\"#bd3786\"],[0.5555555555555556,\"#d8576b\"],[0.6666666666666666,\"#ed7953\"],[0.7777777777777778,\"#fb9f3a\"],[0.8888888888888888,\"#fdca26\"],[1.0,\"#f0f921\"]]}],\"choropleth\":[{\"type\":\"choropleth\",\"colorbar\":{\"outlinewidth\":0,\"ticks\":\"\"}}],\"histogram2d\":[{\"type\":\"histogram2d\",\"colorbar\":{\"outlinewidth\":0,\"ticks\":\"\"},\"colorscale\":[[0.0,\"#0d0887\"],[0.1111111111111111,\"#46039f\"],[0.2222222222222222,\"#7201a8\"],[0.3333333333333333,\"#9c179e\"],[0.4444444444444444,\"#bd3786\"],[0.5555555555555556,\"#d8576b\"],[0.6666666666666666,\"#ed7953\"],[0.7777777777777778,\"#fb9f3a\"],[0.8888888888888888,\"#fdca26\"],[1.0,\"#f0f921\"]]}],\"heatmap\":[{\"type\":\"heatmap\",\"colorbar\":{\"outlinewidth\":0,\"ticks\":\"\"},\"colorscale\":[[0.0,\"#0d0887\"],[0.1111111111111111,\"#46039f\"],[0.2222222222222222,\"#7201a8\"],[0.3333333333333333,\"#9c179e\"],[0.4444444444444444,\"#bd3786\"],[0.5555555555555556,\"#d8576b\"],[0.6666666666666666,\"#ed7953\"],[0.7777777777777778,\"#fb9f3a\"],[0.8888888888888888,\"#fdca26\"],[1.0,\"#f0f921\"]]}],\"heatmapgl\":[{\"type\":\"heatmapgl\",\"colorbar\":{\"outlinewidth\":0,\"ticks\":\"\"},\"colorscale\":[[0.0,\"#0d0887\"],[0.1111111111111111,\"#46039f\"],[0.2222222222222222,\"#7201a8\"],[0.3333333333333333,\"#9c179e\"],[0.4444444444444444,\"#bd3786\"],[0.5555555555555556,\"#d8576b\"],[0.6666666666666666,\"#ed7953\"],[0.7777777777777778,\"#fb9f3a\"],[0.8888888888888888,\"#fdca26\"],[1.0,\"#f0f921\"]]}],\"contourcarpet\":[{\"type\":\"contourcarpet\",\"colorbar\":{\"outlinewidth\":0,\"ticks\":\"\"}}],\"contour\":[{\"type\":\"contour\",\"colorbar\":{\"outlinewidth\":0,\"ticks\":\"\"},\"colorscale\":[[0.0,\"#0d0887\"],[0.1111111111111111,\"#46039f\"],[0.2222222222222222,\"#7201a8\"],[0.3333333333333333,\"#9c179e\"],[0.4444444444444444,\"#bd3786\"],[0.5555555555555556,\"#d8576b\"],[0.6666666666666666,\"#ed7953\"],[0.7777777777777778,\"#fb9f3a\"],[0.8888888888888888,\"#fdca26\"],[1.0,\"#f0f921\"]]}],\"surface\":[{\"type\":\"surface\",\"colorbar\":{\"outlinewidth\":0,\"ticks\":\"\"},\"colorscale\":[[0.0,\"#0d0887\"],[0.1111111111111111,\"#46039f\"],[0.2222222222222222,\"#7201a8\"],[0.3333333333333333,\"#9c179e\"],[0.4444444444444444,\"#bd3786\"],[0.5555555555555556,\"#d8576b\"],[0.6666666666666666,\"#ed7953\"],[0.7777777777777778,\"#fb9f3a\"],[0.8888888888888888,\"#fdca26\"],[1.0,\"#f0f921\"]]}],\"mesh3d\":[{\"type\":\"mesh3d\",\"colorbar\":{\"outlinewidth\":0,\"ticks\":\"\"}}],\"scatter\":[{\"fillpattern\":{\"fillmode\":\"overlay\",\"size\":10,\"solidity\":0.2},\"type\":\"scatter\"}],\"parcoords\":[{\"type\":\"parcoords\",\"line\":{\"colorbar\":{\"outlinewidth\":0,\"ticks\":\"\"}}}],\"scatterpolargl\":[{\"type\":\"scatterpolargl\",\"marker\":{\"colorbar\":{\"outlinewidth\":0,\"ticks\":\"\"}}}],\"bar\":[{\"error_x\":{\"color\":\"#2a3f5f\"},\"error_y\":{\"color\":\"#2a3f5f\"},\"marker\":{\"line\":{\"color\":\"#E5ECF6\",\"width\":0.5},\"pattern\":{\"fillmode\":\"overlay\",\"size\":10,\"solidity\":0.2}},\"type\":\"bar\"}],\"scattergeo\":[{\"type\":\"scattergeo\",\"marker\":{\"colorbar\":{\"outlinewidth\":0,\"ticks\":\"\"}}}],\"scatterpolar\":[{\"type\":\"scatterpolar\",\"marker\":{\"colorbar\":{\"outlinewidth\":0,\"ticks\":\"\"}}}],\"histogram\":[{\"marker\":{\"pattern\":{\"fillmode\":\"overlay\",\"size\":10,\"solidity\":0.2}},\"type\":\"histogram\"}],\"scattergl\":[{\"type\":\"scattergl\",\"marker\":{\"colorbar\":{\"outlinewidth\":0,\"ticks\":\"\"}}}],\"scatter3d\":[{\"type\":\"scatter3d\",\"line\":{\"colorbar\":{\"outlinewidth\":0,\"ticks\":\"\"}},\"marker\":{\"colorbar\":{\"outlinewidth\":0,\"ticks\":\"\"}}}],\"scattermapbox\":[{\"type\":\"scattermapbox\",\"marker\":{\"colorbar\":{\"outlinewidth\":0,\"ticks\":\"\"}}}],\"scatterternary\":[{\"type\":\"scatterternary\",\"marker\":{\"colorbar\":{\"outlinewidth\":0,\"ticks\":\"\"}}}],\"scattercarpet\":[{\"type\":\"scattercarpet\",\"marker\":{\"colorbar\":{\"outlinewidth\":0,\"ticks\":\"\"}}}],\"carpet\":[{\"aaxis\":{\"endlinecolor\":\"#2a3f5f\",\"gridcolor\":\"white\",\"linecolor\":\"white\",\"minorgridcolor\":\"white\",\"startlinecolor\":\"#2a3f5f\"},\"baxis\":{\"endlinecolor\":\"#2a3f5f\",\"gridcolor\":\"white\",\"linecolor\":\"white\",\"minorgridcolor\":\"white\",\"startlinecolor\":\"#2a3f5f\"},\"type\":\"carpet\"}],\"table\":[{\"cells\":{\"fill\":{\"color\":\"#EBF0F8\"},\"line\":{\"color\":\"white\"}},\"header\":{\"fill\":{\"color\":\"#C8D4E3\"},\"line\":{\"color\":\"white\"}},\"type\":\"table\"}],\"barpolar\":[{\"marker\":{\"line\":{\"color\":\"#E5ECF6\",\"width\":0.5},\"pattern\":{\"fillmode\":\"overlay\",\"size\":10,\"solidity\":0.2}},\"type\":\"barpolar\"}],\"pie\":[{\"automargin\":true,\"type\":\"pie\"}]},\"layout\":{\"autotypenumbers\":\"strict\",\"colorway\":[\"#636efa\",\"#EF553B\",\"#00cc96\",\"#ab63fa\",\"#FFA15A\",\"#19d3f3\",\"#FF6692\",\"#B6E880\",\"#FF97FF\",\"#FECB52\"],\"font\":{\"color\":\"#2a3f5f\"},\"hovermode\":\"closest\",\"hoverlabel\":{\"align\":\"left\"},\"paper_bgcolor\":\"white\",\"plot_bgcolor\":\"#E5ECF6\",\"polar\":{\"bgcolor\":\"#E5ECF6\",\"angularaxis\":{\"gridcolor\":\"white\",\"linecolor\":\"white\",\"ticks\":\"\"},\"radialaxis\":{\"gridcolor\":\"white\",\"linecolor\":\"white\",\"ticks\":\"\"}},\"ternary\":{\"bgcolor\":\"#E5ECF6\",\"aaxis\":{\"gridcolor\":\"white\",\"linecolor\":\"white\",\"ticks\":\"\"},\"baxis\":{\"gridcolor\":\"white\",\"linecolor\":\"white\",\"ticks\":\"\"},\"caxis\":{\"gridcolor\":\"white\",\"linecolor\":\"white\",\"ticks\":\"\"}},\"coloraxis\":{\"colorbar\":{\"outlinewidth\":0,\"ticks\":\"\"}},\"colorscale\":{\"sequential\":[[0.0,\"#0d0887\"],[0.1111111111111111,\"#46039f\"],[0.2222222222222222,\"#7201a8\"],[0.3333333333333333,\"#9c179e\"],[0.4444444444444444,\"#bd3786\"],[0.5555555555555556,\"#d8576b\"],[0.6666666666666666,\"#ed7953\"],[0.7777777777777778,\"#fb9f3a\"],[0.8888888888888888,\"#fdca26\"],[1.0,\"#f0f921\"]],\"sequentialminus\":[[0.0,\"#0d0887\"],[0.1111111111111111,\"#46039f\"],[0.2222222222222222,\"#7201a8\"],[0.3333333333333333,\"#9c179e\"],[0.4444444444444444,\"#bd3786\"],[0.5555555555555556,\"#d8576b\"],[0.6666666666666666,\"#ed7953\"],[0.7777777777777778,\"#fb9f3a\"],[0.8888888888888888,\"#fdca26\"],[1.0,\"#f0f921\"]],\"diverging\":[[0,\"#8e0152\"],[0.1,\"#c51b7d\"],[0.2,\"#de77ae\"],[0.3,\"#f1b6da\"],[0.4,\"#fde0ef\"],[0.5,\"#f7f7f7\"],[0.6,\"#e6f5d0\"],[0.7,\"#b8e186\"],[0.8,\"#7fbc41\"],[0.9,\"#4d9221\"],[1,\"#276419\"]]},\"xaxis\":{\"gridcolor\":\"white\",\"linecolor\":\"white\",\"ticks\":\"\",\"title\":{\"standoff\":15},\"zerolinecolor\":\"white\",\"automargin\":true,\"zerolinewidth\":2},\"yaxis\":{\"gridcolor\":\"white\",\"linecolor\":\"white\",\"ticks\":\"\",\"title\":{\"standoff\":15},\"zerolinecolor\":\"white\",\"automargin\":true,\"zerolinewidth\":2},\"scene\":{\"xaxis\":{\"backgroundcolor\":\"#E5ECF6\",\"gridcolor\":\"white\",\"linecolor\":\"white\",\"showbackground\":true,\"ticks\":\"\",\"zerolinecolor\":\"white\",\"gridwidth\":2},\"yaxis\":{\"backgroundcolor\":\"#E5ECF6\",\"gridcolor\":\"white\",\"linecolor\":\"white\",\"showbackground\":true,\"ticks\":\"\",\"zerolinecolor\":\"white\",\"gridwidth\":2},\"zaxis\":{\"backgroundcolor\":\"#E5ECF6\",\"gridcolor\":\"white\",\"linecolor\":\"white\",\"showbackground\":true,\"ticks\":\"\",\"zerolinecolor\":\"white\",\"gridwidth\":2}},\"shapedefaults\":{\"line\":{\"color\":\"#2a3f5f\"}},\"annotationdefaults\":{\"arrowcolor\":\"#2a3f5f\",\"arrowhead\":0,\"arrowwidth\":1},\"geo\":{\"bgcolor\":\"white\",\"landcolor\":\"#E5ECF6\",\"subunitcolor\":\"white\",\"showland\":true,\"showlakes\":true,\"lakecolor\":\"white\"},\"title\":{\"x\":0.05},\"mapbox\":{\"style\":\"light\"}}},\"xaxis\":{\"anchor\":\"y\",\"domain\":[0.0,1.0],\"title\":{\"text\":\"PC1\"}},\"yaxis\":{\"anchor\":\"x\",\"domain\":[0.0,1.0],\"title\":{\"text\":\"PC2\"}},\"legend\":{\"title\":{\"text\":\"species\"},\"tracegroupgap\":0},\"margin\":{\"t\":60}},                        {\"responsive\": true}                    ).then(function(){\n",
       "                            \n",
       "var gd = document.getElementById('01089d41-6218-4011-a135-bd4802471060');\n",
       "var x = new MutationObserver(function (mutations, observer) {{\n",
       "        var display = window.getComputedStyle(gd).display;\n",
       "        if (!display || display === 'none') {{\n",
       "            console.log([gd, 'removed!']);\n",
       "            Plotly.purge(gd);\n",
       "            observer.disconnect();\n",
       "        }}\n",
       "}});\n",
       "\n",
       "// Listen for the removal of the full notebook cells\n",
       "var notebookContainer = gd.closest('#notebook-container');\n",
       "if (notebookContainer) {{\n",
       "    x.observe(notebookContainer, {childList: true});\n",
       "}}\n",
       "\n",
       "// Listen for the clearing of the current output cell\n",
       "var outputEl = gd.closest('.output');\n",
       "if (outputEl) {{\n",
       "    x.observe(outputEl, {childList: true});\n",
       "}}\n",
       "\n",
       "                        })                };                });            </script>        </div>"
      ]
     },
     "metadata": {},
     "output_type": "display_data"
    }
   ],
   "source": [
    "df_2D = pd.DataFrame({'PC1': X_reduced[:, 0], 'PC2': X_reduced[:, 1], 'species': y})\n",
    "fig = px.scatter(df_2D, x='PC1', y='PC2',\n",
    "              color='species')\n",
    "fig.show()"
   ]
  },
  {
   "cell_type": "markdown",
   "id": "d4ac25c4-d7d6-40d2-a947-8a11f6042440",
   "metadata": {},
   "source": [
    "<span style=\"font-family: XB Zar; font-size: medium; \"><div dir=rtl><meta charset=\"UTF-8\">\n",
    "    <span style=\"color: red; font-size: large; \"> 6.2. تحلیل مولفه‌های اصلی تصادفی یا Randomized PCA </span>\n",
    "    <br>\n",
    "    نوعی از الگوریتم PCA است که در آن به شکل تصادفی تقریبی از \n",
    "    $d$\n",
    "    مولفه اصلی را پیدا می‌کند\n",
    "    اگر فرض کنیم که مجموعه دادگان ما \n",
    "    $ N \\times D $\n",
    "    باشد؛ به گونه‌ای که \n",
    "    $ N $\n",
    "    تعداد دادگان و \n",
    "    $ D $\n",
    "    بعد داده‌ها باشد.\n",
    "    و داشته باشیم\n",
    "    $max = \\max(N, D)$\n",
    "    و \n",
    "    $min = \\min(N, D) $\n",
    "    پیچیدگی زمانی الگوریتم تحلیل مولفه‌های اصلی تصادفی به شکل\n",
    "    $O(max^{2}d)$\n",
    "    خواهد بود این درحالی است که خود الگوریتم اصلی پیچیدگی زمانی \n",
    "    $O(max^{2}min)$\n",
    "    دارد\n",
    "    حال یک مثال و کاربرد آن را به وسیله sklearn می بینیم:\n",
    "    </div></span>"
   ]
  },
  {
   "cell_type": "code",
   "execution_count": 79,
   "id": "fe8088f7-5a9a-407b-9451-81b5d067a6af",
   "metadata": {},
   "outputs": [
    {
     "name": "stdout",
     "output_type": "stream",
     "text": [
      "Total dataset size:\n",
      "n_samples: 1288\n",
      "n_features: 1850\n",
      "Extracting the top 150 eigenfaces from 1288 faces\n",
      "done in 0.803s\n",
      "Projecting the input data on the eigenfaces orthonormal basis\n",
      "done in 0.026s\n"
     ]
    },
    {
     "data": {
      "image/png": "[encoded data removed]",
      "text/plain": [
       "<Figure size 720x720 with 12 Axes>"
      ]
     },
     "metadata": {},
     "output_type": "display_data"
    }
   ],
   "source": [
    "from time import time\n",
    "import matplotlib.pyplot as plt\n",
    "\n",
    "from sklearn.model_selection import train_test_split\n",
    "from sklearn.model_selection import RandomizedSearchCV\n",
    "from sklearn.datasets import fetch_lfw_people\n",
    "from sklearn.metrics import classification_report\n",
    "from sklearn.metrics import ConfusionMatrixDisplay\n",
    "from sklearn.preprocessing import StandardScaler\n",
    "from sklearn.decomposition import PCA\n",
    "from sklearn.svm import SVC\n",
    "from sklearn.utils.fixes import loguniform\n",
    "\n",
    "\n",
    "# %%\n",
    "# Download the data, if not already on disk and load it as numpy arrays\n",
    "\n",
    "lfw_people = fetch_lfw_people(min_faces_per_person=70, resize=0.4)\n",
    "\n",
    "# introspect the images arrays to find the shapes (for plotting)\n",
    "n_samples, h, w = lfw_people.images.shape\n",
    "\n",
    "# for machine learning we use the 2 data directly (as relative pixel\n",
    "# positions info is ignored by this model)\n",
    "X = lfw_people.data\n",
    "n_features = X.shape[1]\n",
    "\n",
    "# the label to predict is the id of the person\n",
    "target_names = lfw_people.target_names\n",
    "n_classes = target_names.shape[0]\n",
    "print(\"Total dataset size:\")\n",
    "print(\"n_samples: %d\" % n_samples)\n",
    "print(\"n_features: %d\" % n_features)\n",
    "scaler = StandardScaler()\n",
    "X = scaler.fit_transform(X)\n",
    "# %%\n",
    "# Compute a PCA (eigenfaces) on the face dataset (treated as unlabeled\n",
    "# dataset): unsupervised feature extraction / dimensionality reduction\n",
    "\n",
    "n_components = 150\n",
    "\n",
    "print(\n",
    "    \"Extracting the top %d eigenfaces from %d faces\" % (n_components, X.shape[0])\n",
    ")\n",
    "t0 = time()\n",
    "pca = PCA(n_components=n_components, svd_solver=\"randomized\", whiten=True).fit(X)\n",
    "print(\"done in %0.3fs\" % (time() - t0))\n",
    "\n",
    "eigenfaces = pca.components_.reshape((n_components, h, w))\n",
    "\n",
    "print(\"Projecting the input data on the eigenfaces orthonormal basis\")\n",
    "t0 = time()\n",
    "X_pca = pca.transform(X)\n",
    "print(\"done in %0.3fs\" % (time() - t0))\n",
    "\n",
    "\n",
    "\n",
    "# %%\n",
    "# Qualitative evaluation of the predictions using matplotlib\n",
    "\n",
    "\n",
    "def plot_gallery(images, titles, h, w, n_row=3, n_col=4):\n",
    "    \"\"\"Helper function to plot a gallery of portraits\"\"\"\n",
    "    plt.figure(figsize=(1.8 * n_col, 2.4 * n_row))\n",
    "    plt.subplots_adjust(bottom=0, left=0.01, right=0.99, top=0.90, hspace=0.35)\n",
    "    for i in range(n_row * n_col):\n",
    "        plt.subplot(n_row, n_col, i + 1)\n",
    "        plt.imshow(images[i].reshape((h, w)), cmap=plt.cm.gray)\n",
    "        plt.title(titles[i], size=12)\n",
    "        plt.xticks(())\n",
    "        plt.yticks(())\n",
    "\n",
    "\n",
    "# %%\n",
    "# plot the gallery of the most significative eigenfaces\n",
    "\n",
    "eigenface_titles = [\"eigenface %d\" % i for i in range(eigenfaces.shape[0])]\n",
    "plot_gallery(eigenfaces, eigenface_titles, h, w)\n",
    "\n",
    "plt.show()"
   ]
  },
  {
   "cell_type": "markdown",
   "id": "4e1b5f2c-dc36-48e6-9cf6-986c9c2b975f",
   "metadata": {},
   "source": [
    "<span style=\"font-family: XB Zar; font-size: medium; \"><div dir=rtl><meta charset=\"UTF-8\">\n",
    "    <span style=\"color: red; font-size: large; \"> 7.2. تحلیل مولفه‌های اصلی به کمک هسته یا Kernel PCA </span>\n",
    "    <br>\n",
    "     این روش بر خلاف PCA اصلی ،از طریق استفاده از هسته‌ها به کاهش ابعاد غیرخطی می‌رسد \n",
    "    </div></span>"
   ]
  },
  {
   "cell_type": "code",
   "execution_count": 65,
   "id": "e699856b-df47-4188-b64a-7bc1188c5971",
   "metadata": {},
   "outputs": [],
   "source": [
    "from sklearn.decomposition import KernelPCA"
   ]
  },
  {
   "cell_type": "code",
   "execution_count": 70,
   "id": "0a3f9daf-65d4-4add-81c7-6e07424c60d3",
   "metadata": {},
   "outputs": [],
   "source": [
    "rbf_pca = KernelPCA(n_components=2, kernel=\"rbf\", gamma=0.04)\n",
    "X_reduced = rbf_pca.fit_transform(X)"
   ]
  },
  {
   "cell_type": "code",
   "execution_count": 71,
   "id": "c1f16f4b-1344-4c7e-b3fe-d062d7f78548",
   "metadata": {},
   "outputs": [
    {
     "data": {
      "application/vnd.plotly.v1+json": {
       "config": {
        "plotlyServerURL": "https://plot.ly"
       },
       "data": [
        {
         "hovertemplate": "species=Setosa<br>PC1=%{x}<br>PC2=%{y}<extra></extra>",
         "legendgroup": "Setosa",
         "marker": {
          "color": "#636efa",
          "symbol": "circle"
         },
         "mode": "markers",
         "name": "Setosa",
         "orientation": "v",
         "showlegend": true,
         "type": "scatter",
         "x": [
          0.6166941549104064,
          0.615553245678042,
          0.6406761250283564,
          0.6178037875349501,
          0.6228011912916498,
          0.5464629720988563,
          0.6312757439856334,
          0.6078579582598301,
          0.6283647881103251,
          0.610986496418322,
          0.5868197371003431,
          0.6039502159577241,
          0.6245614249461199,
          0.6669560124360681,
          0.5929291617806648,
          0.5470078203498012,
          0.6008256229070693,
          0.6113177098522994,
          0.5295622151624074,
          0.6001735501482819,
          0.5547044011429166,
          0.5940210801259446,
          0.6775887290856362,
          0.5533239777180512,
          0.55978678993581,
          0.5844176394888861,
          0.5825474963024468,
          0.5980970319638109,
          0.609612519750729,
          0.6039627844191691,
          0.5972079887158943,
          0.5716359799203735,
          0.60275709691799,
          0.5896613005269221,
          0.6060205650340083,
          0.639481476700957,
          0.6036445960001552,
          0.6321777519451096,
          0.6426814821610147,
          0.6024903641084495,
          0.6285278234285112,
          0.6031139711682241,
          0.6481890904480466,
          0.5703800527779307,
          0.53476726737736,
          0.6145930309452154,
          0.5922492912444329,
          0.6324775675098449,
          0.5934995518708547,
          0.618738956862041
         ],
         "xaxis": "x",
         "y": [
          0.09067107940365385,
          0.047446292535454196,
          0.0831836417349905,
          0.041864071822372326,
          0.0999982328032736,
          0.07388887561066,
          0.07846290633095719,
          0.0650243225469477,
          0.046891555323880875,
          0.045407150171058695,
          0.09549126327275426,
          0.04930584179857641,
          0.05499879810684879,
          0.11534822844972184,
          0.17446293781086347,
          0.15929108036581968,
          0.13439084826992914,
          0.08454224828949533,
          0.07499815329627985,
          0.09722321476616998,
          0.03521789630115887,
          0.08159781336226643,
          0.1685453220222857,
          0.00478350498687348,
          0.0005141251746661988,
          0.012879009650865992,
          0.036176052530739654,
          0.07470806732027892,
          0.08171866935792856,
          0.03212106122495404,
          0.0224347628146946,
          0.05503341753021547,
          0.13907385337721773,
          0.1605348179115565,
          0.03870306030604484,
          0.09772463097760499,
          0.10917553896619675,
          0.10661260869354758,
          0.07201959482526576,
          0.06503785239024629,
          0.10107049313021343,
          0.014812118267204615,
          0.08807521796021789,
          0.03446160095581543,
          0.02975444297969737,
          0.041786174602240364,
          0.08751539638549533,
          0.0674327783735541,
          0.09452448136441126,
          0.07262465747783521
         ],
         "yaxis": "y"
        },
        {
         "hovertemplate": "species=Versicolor<br>PC1=%{x}<br>PC2=%{y}<extra></extra>",
         "legendgroup": "Versicolor",
         "marker": {
          "color": "#EF553B",
          "symbol": "circle"
         },
         "mode": "markers",
         "name": "Versicolor",
         "orientation": "v",
         "showlegend": true,
         "type": "scatter",
         "x": [
          -0.3259045100780568,
          -0.2573862205194976,
          -0.36615132319116783,
          -0.06945525191485054,
          -0.2927764422393091,
          -0.1880532425585169,
          -0.29453452571755095,
          0.17453537012675618,
          -0.28087615855738235,
          -0.01980225279911475,
          0.10902904882753911,
          -0.15649210856576556,
          -0.08817716434174176,
          -0.2710618233007719,
          0.026403277760952235,
          -0.2526844923269489,
          -0.19257113851984045,
          -0.08356696139508457,
          -0.25490264134771096,
          -0.03343545691822971,
          -0.29877230325730014,
          -0.11564043822561904,
          -0.336113064664257,
          -0.2547268152786857,
          -0.20497525884326062,
          -0.24794180717934827,
          -0.34057396046502253,
          -0.3888332001020713,
          -0.23139865398642925,
          0.062407542747598736,
          -0.003330592104753475,
          0.029381135104365453,
          -0.05772677627880778,
          -0.35340040980746334,
          -0.17312757071440296,
          -0.22729960335850186,
          -0.319479502659663,
          -0.22544300276972987,
          -0.08714775206243705,
          -0.06590744599277185,
          -0.14214487048060626,
          -0.24940104602518975,
          -0.0826592738278668,
          0.16291641396454237,
          -0.11614810684530497,
          -0.10950078888936185,
          -0.12146762897599611,
          -0.18852267222826855,
          0.2192557381763488,
          -0.10133666307051138
         ],
         "xaxis": "x",
         "y": [
          0.0284918233614081,
          -0.07925289065460861,
          0.030955676143726758,
          -0.2904801927657552,
          -0.09196062342424922,
          -0.21233283813163117,
          -0.06043795072620904,
          -0.2961956569293081,
          -0.07621622332322442,
          -0.28331369407864004,
          -0.3254486090839778,
          -0.18443582118978558,
          -0.25138784778468704,
          -0.13495817626771664,
          -0.23708142566590448,
          -0.056966811005777294,
          -0.19885052706799197,
          -0.23494278041765196,
          -0.18722063061725014,
          -0.2723619547223786,
          -0.10446441317621516,
          -0.19319585571982165,
          -0.11255120645109382,
          -0.15031945311007938,
          -0.13015751745354648,
          -0.08136094731372306,
          -0.027883876069100304,
          0.012962291969664216,
          -0.1619336751785847,
          -0.2520393265350776,
          -0.2873008931146946,
          -0.2858796051658352,
          -0.23818184103746975,
          -0.1106957809885629,
          -0.2182564527961307,
          -0.1084263017579546,
          -0.024198072942766914,
          -0.18282355607107864,
          -0.22440657557886445,
          -0.27751793158354465,
          -0.2566441537755007,
          -0.13515164136574476,
          -0.24416902741075255,
          -0.29992616935716226,
          -0.24750041882554158,
          -0.21290205475773827,
          -0.22051676106872964,
          -0.15717240964677076,
          -0.2632526849110437,
          -0.2332253095735759
         ],
         "yaxis": "y"
        },
        {
         "hovertemplate": "species=Virginica<br>PC1=%{x}<br>PC2=%{y}<extra></extra>",
         "legendgroup": "Virginica",
         "marker": {
          "color": "#00cc96",
          "symbol": "circle"
         },
         "mode": "markers",
         "name": "Virginica",
         "orientation": "v",
         "showlegend": true,
         "type": "scatter",
         "x": [
          -0.5149415310364674,
          -0.35738817214213364,
          -0.5326417068231131,
          -0.45761634294088394,
          -0.5072966656830986,
          -0.5626655163808131,
          -0.14848914494567655,
          -0.5483054529064945,
          -0.5001612451100123,
          -0.5399118447159631,
          -0.40776289501945073,
          -0.4325012277729434,
          -0.4856423375961107,
          -0.33951167317498065,
          -0.38293668090913996,
          -0.4448487994800792,
          -0.45610195268431,
          -0.5409166065047177,
          -0.5612122886431011,
          -0.3294507444775601,
          -0.513396877631854,
          -0.3112501716136558,
          -0.5595376673544716,
          -0.3573213156244575,
          -0.49702295657564577,
          -0.5261994975278657,
          -0.33124853219766137,
          -0.3380155411225707,
          -0.4795975158706857,
          -0.5026233669371385,
          -0.5425923630758959,
          -0.5265115082757545,
          -0.4835742292832888,
          -0.3676883861905007,
          -0.4187372449253011,
          -0.5491830967808082,
          -0.47323951739280673,
          -0.44849578375641014,
          -0.3118799134938703,
          -0.4759143806609779,
          -0.5010151713276146,
          -0.4444622686498766,
          -0.35738817214213375,
          -0.5276078196730333,
          -0.5086060139444859,
          -0.4513930090196752,
          -0.3812571145237458,
          -0.4268357068936487,
          -0.4396474996201041,
          -0.35546972284382816
         ],
         "xaxis": "x",
         "y": [
          0.18235194439445607,
          -0.11995776414120667,
          0.24239996053291013,
          0.03429181201618583,
          0.134722893331065,
          0.43199293616899753,
          -0.2871704577616433,
          0.31290005487590145,
          0.1021067601144353,
          0.3606223430809846,
          0.030739243454491604,
          -0.00529386936691153,
          0.12804051901638638,
          -0.15296517527317555,
          -0.07574711361566122,
          0.0644847557748944,
          0.05843245096873883,
          0.5110759811435552,
          0.47696297608234633,
          -0.16178812559510405,
          0.206572604019018,
          -0.15424625182600285,
          0.442126565494551,
          -0.08140261318568834,
          0.16781005849879382,
          0.2695650413926593,
          -0.09974812638581675,
          -0.0851563486767443,
          0.06307207808520013,
          0.20920371976210142,
          0.29604380971274086,
          0.48499190564136074,
          0.07051698239651283,
          -0.06452485917406214,
          -0.042346554239280874,
          0.38303587272856304,
          0.11909540907710485,
          0.050956902648988424,
          -0.11018152163637197,
          0.13729493340385474,
          0.157451798457655,
          0.10746209527538914,
          -0.11995776414120633,
          0.22265397459767744,
          0.19676317127265902,
          0.08074254415888442,
          -0.07739714566623407,
          0.027037172394001618,
          0.06643071858914255,
          -0.08813928668945026
         ],
         "yaxis": "y"
        }
       ],
       "layout": {
        "autosize": true,
        "legend": {
         "title": {
          "text": "species"
         },
         "tracegroupgap": 0
        },
        "margin": {
         "t": 60
        },
        "template": {
         "data": {
          "bar": [
           {
            "error_x": {
             "color": "#2a3f5f"
            },
            "error_y": {
             "color": "#2a3f5f"
            },
            "marker": {
             "line": {
              "color": "#E5ECF6",
              "width": 0.5
             },
             "pattern": {
              "fillmode": "overlay",
              "size": 10,
              "solidity": 0.2
             }
            },
            "type": "bar"
           }
          ],
          "barpolar": [
           {
            "marker": {
             "line": {
              "color": "#E5ECF6",
              "width": 0.5
             },
             "pattern": {
              "fillmode": "overlay",
              "size": 10,
              "solidity": 0.2
             }
            },
            "type": "barpolar"
           }
          ],
          "carpet": [
           {
            "aaxis": {
             "endlinecolor": "#2a3f5f",
             "gridcolor": "white",
             "linecolor": "white",
             "minorgridcolor": "white",
             "startlinecolor": "#2a3f5f"
            },
            "baxis": {
             "endlinecolor": "#2a3f5f",
             "gridcolor": "white",
             "linecolor": "white",
             "minorgridcolor": "white",
             "startlinecolor": "#2a3f5f"
            },
            "type": "carpet"
           }
          ],
          "choropleth": [
           {
            "colorbar": {
             "outlinewidth": 0,
             "ticks": ""
            },
            "type": "choropleth"
           }
          ],
          "contour": [
           {
            "colorbar": {
             "outlinewidth": 0,
             "ticks": ""
            },
            "colorscale": [
             [
              0,
              "#0d0887"
             ],
             [
              0.1111111111111111,
              "#46039f"
             ],
             [
              0.2222222222222222,
              "#7201a8"
             ],
             [
              0.3333333333333333,
              "#9c179e"
             ],
             [
              0.4444444444444444,
              "#bd3786"
             ],
             [
              0.5555555555555556,
              "#d8576b"
             ],
             [
              0.6666666666666666,
              "#ed7953"
             ],
             [
              0.7777777777777778,
              "#fb9f3a"
             ],
             [
              0.8888888888888888,
              "#fdca26"
             ],
             [
              1,
              "#f0f921"
             ]
            ],
            "type": "contour"
           }
          ],
          "contourcarpet": [
           {
            "colorbar": {
             "outlinewidth": 0,
             "ticks": ""
            },
            "type": "contourcarpet"
           }
          ],
          "heatmap": [
           {
            "colorbar": {
             "outlinewidth": 0,
             "ticks": ""
            },
            "colorscale": [
             [
              0,
              "#0d0887"
             ],
             [
              0.1111111111111111,
              "#46039f"
             ],
             [
              0.2222222222222222,
              "#7201a8"
             ],
             [
              0.3333333333333333,
              "#9c179e"
             ],
             [
              0.4444444444444444,
              "#bd3786"
             ],
             [
              0.5555555555555556,
              "#d8576b"
             ],
             [
              0.6666666666666666,
              "#ed7953"
             ],
             [
              0.7777777777777778,
              "#fb9f3a"
             ],
             [
              0.8888888888888888,
              "#fdca26"
             ],
             [
              1,
              "#f0f921"
             ]
            ],
            "type": "heatmap"
           }
          ],
          "heatmapgl": [
           {
            "colorbar": {
             "outlinewidth": 0,
             "ticks": ""
            },
            "colorscale": [
             [
              0,
              "#0d0887"
             ],
             [
              0.1111111111111111,
              "#46039f"
             ],
             [
              0.2222222222222222,
              "#7201a8"
             ],
             [
              0.3333333333333333,
              "#9c179e"
             ],
             [
              0.4444444444444444,
              "#bd3786"
             ],
             [
              0.5555555555555556,
              "#d8576b"
             ],
             [
              0.6666666666666666,
              "#ed7953"
             ],
             [
              0.7777777777777778,
              "#fb9f3a"
             ],
             [
              0.8888888888888888,
              "#fdca26"
             ],
             [
              1,
              "#f0f921"
             ]
            ],
            "type": "heatmapgl"
           }
          ],
          "histogram": [
           {
            "marker": {
             "pattern": {
              "fillmode": "overlay",
              "size": 10,
              "solidity": 0.2
             }
            },
            "type": "histogram"
           }
          ],
          "histogram2d": [
           {
            "colorbar": {
             "outlinewidth": 0,
             "ticks": ""
            },
            "colorscale": [
             [
              0,
              "#0d0887"
             ],
             [
              0.1111111111111111,
              "#46039f"
             ],
             [
              0.2222222222222222,
              "#7201a8"
             ],
             [
              0.3333333333333333,
              "#9c179e"
             ],
             [
              0.4444444444444444,
              "#bd3786"
             ],
             [
              0.5555555555555556,
              "#d8576b"
             ],
             [
              0.6666666666666666,
              "#ed7953"
             ],
             [
              0.7777777777777778,
              "#fb9f3a"
             ],
             [
              0.8888888888888888,
              "#fdca26"
             ],
             [
              1,
              "#f0f921"
             ]
            ],
            "type": "histogram2d"
           }
          ],
          "histogram2dcontour": [
           {
            "colorbar": {
             "outlinewidth": 0,
             "ticks": ""
            },
            "colorscale": [
             [
              0,
              "#0d0887"
             ],
             [
              0.1111111111111111,
              "#46039f"
             ],
             [
              0.2222222222222222,
              "#7201a8"
             ],
             [
              0.3333333333333333,
              "#9c179e"
             ],
             [
              0.4444444444444444,
              "#bd3786"
             ],
             [
              0.5555555555555556,
              "#d8576b"
             ],
             [
              0.6666666666666666,
              "#ed7953"
             ],
             [
              0.7777777777777778,
              "#fb9f3a"
             ],
             [
              0.8888888888888888,
              "#fdca26"
             ],
             [
              1,
              "#f0f921"
             ]
            ],
            "type": "histogram2dcontour"
           }
          ],
          "mesh3d": [
           {
            "colorbar": {
             "outlinewidth": 0,
             "ticks": ""
            },
            "type": "mesh3d"
           }
          ],
          "parcoords": [
           {
            "line": {
             "colorbar": {
              "outlinewidth": 0,
              "ticks": ""
             }
            },
            "type": "parcoords"
           }
          ],
          "pie": [
           {
            "automargin": true,
            "type": "pie"
           }
          ],
          "scatter": [
           {
            "fillpattern": {
             "fillmode": "overlay",
             "size": 10,
             "solidity": 0.2
            },
            "type": "scatter"
           }
          ],
          "scatter3d": [
           {
            "line": {
             "colorbar": {
              "outlinewidth": 0,
              "ticks": ""
             }
            },
            "marker": {
             "colorbar": {
              "outlinewidth": 0,
              "ticks": ""
             }
            },
            "type": "scatter3d"
           }
          ],
          "scattercarpet": [
           {
            "marker": {
             "colorbar": {
              "outlinewidth": 0,
              "ticks": ""
             }
            },
            "type": "scattercarpet"
           }
          ],
          "scattergeo": [
           {
            "marker": {
             "colorbar": {
              "outlinewidth": 0,
              "ticks": ""
             }
            },
            "type": "scattergeo"
           }
          ],
          "scattergl": [
           {
            "marker": {
             "colorbar": {
              "outlinewidth": 0,
              "ticks": ""
             }
            },
            "type": "scattergl"
           }
          ],
          "scattermapbox": [
           {
            "marker": {
             "colorbar": {
              "outlinewidth": 0,
              "ticks": ""
             }
            },
            "type": "scattermapbox"
           }
          ],
          "scatterpolar": [
           {
            "marker": {
             "colorbar": {
              "outlinewidth": 0,
              "ticks": ""
             }
            },
            "type": "scatterpolar"
           }
          ],
          "scatterpolargl": [
           {
            "marker": {
             "colorbar": {
              "outlinewidth": 0,
              "ticks": ""
             }
            },
            "type": "scatterpolargl"
           }
          ],
          "scatterternary": [
           {
            "marker": {
             "colorbar": {
              "outlinewidth": 0,
              "ticks": ""
             }
            },
            "type": "scatterternary"
           }
          ],
          "surface": [
           {
            "colorbar": {
             "outlinewidth": 0,
             "ticks": ""
            },
            "colorscale": [
             [
              0,
              "#0d0887"
             ],
             [
              0.1111111111111111,
              "#46039f"
             ],
             [
              0.2222222222222222,
              "#7201a8"
             ],
             [
              0.3333333333333333,
              "#9c179e"
             ],
             [
              0.4444444444444444,
              "#bd3786"
             ],
             [
              0.5555555555555556,
              "#d8576b"
             ],
             [
              0.6666666666666666,
              "#ed7953"
             ],
             [
              0.7777777777777778,
              "#fb9f3a"
             ],
             [
              0.8888888888888888,
              "#fdca26"
             ],
             [
              1,
              "#f0f921"
             ]
            ],
            "type": "surface"
           }
          ],
          "table": [
           {
            "cells": {
             "fill": {
              "color": "#EBF0F8"
             },
             "line": {
              "color": "white"
             }
            },
            "header": {
             "fill": {
              "color": "#C8D4E3"
             },
             "line": {
              "color": "white"
             }
            },
            "type": "table"
           }
          ]
         },
         "layout": {
          "annotationdefaults": {
           "arrowcolor": "#2a3f5f",
           "arrowhead": 0,
           "arrowwidth": 1
          },
          "autotypenumbers": "strict",
          "coloraxis": {
           "colorbar": {
            "outlinewidth": 0,
            "ticks": ""
           }
          },
          "colorscale": {
           "diverging": [
            [
             0,
             "#8e0152"
            ],
            [
             0.1,
             "#c51b7d"
            ],
            [
             0.2,
             "#de77ae"
            ],
            [
             0.3,
             "#f1b6da"
            ],
            [
             0.4,
             "#fde0ef"
            ],
            [
             0.5,
             "#f7f7f7"
            ],
            [
             0.6,
             "#e6f5d0"
            ],
            [
             0.7,
             "#b8e186"
            ],
            [
             0.8,
             "#7fbc41"
            ],
            [
             0.9,
             "#4d9221"
            ],
            [
             1,
             "#276419"
            ]
           ],
           "sequential": [
            [
             0,
             "#0d0887"
            ],
            [
             0.1111111111111111,
             "#46039f"
            ],
            [
             0.2222222222222222,
             "#7201a8"
            ],
            [
             0.3333333333333333,
             "#9c179e"
            ],
            [
             0.4444444444444444,
             "#bd3786"
            ],
            [
             0.5555555555555556,
             "#d8576b"
            ],
            [
             0.6666666666666666,
             "#ed7953"
            ],
            [
             0.7777777777777778,
             "#fb9f3a"
            ],
            [
             0.8888888888888888,
             "#fdca26"
            ],
            [
             1,
             "#f0f921"
            ]
           ],
           "sequentialminus": [
            [
             0,
             "#0d0887"
            ],
            [
             0.1111111111111111,
             "#46039f"
            ],
            [
             0.2222222222222222,
             "#7201a8"
            ],
            [
             0.3333333333333333,
             "#9c179e"
            ],
            [
             0.4444444444444444,
             "#bd3786"
            ],
            [
             0.5555555555555556,
             "#d8576b"
            ],
            [
             0.6666666666666666,
             "#ed7953"
            ],
            [
             0.7777777777777778,
             "#fb9f3a"
            ],
            [
             0.8888888888888888,
             "#fdca26"
            ],
            [
             1,
             "#f0f921"
            ]
           ]
          },
          "colorway": [
           "#636efa",
           "#EF553B",
           "#00cc96",
           "#ab63fa",
           "#FFA15A",
           "#19d3f3",
           "#FF6692",
           "#B6E880",
           "#FF97FF",
           "#FECB52"
          ],
          "font": {
           "color": "#2a3f5f"
          },
          "geo": {
           "bgcolor": "white",
           "lakecolor": "white",
           "landcolor": "#E5ECF6",
           "showlakes": true,
           "showland": true,
           "subunitcolor": "white"
          },
          "hoverlabel": {
           "align": "left"
          },
          "hovermode": "closest",
          "mapbox": {
           "style": "light"
          },
          "paper_bgcolor": "white",
          "plot_bgcolor": "#E5ECF6",
          "polar": {
           "angularaxis": {
            "gridcolor": "white",
            "linecolor": "white",
            "ticks": ""
           },
           "bgcolor": "#E5ECF6",
           "radialaxis": {
            "gridcolor": "white",
            "linecolor": "white",
            "ticks": ""
           }
          },
          "scene": {
           "xaxis": {
            "backgroundcolor": "#E5ECF6",
            "gridcolor": "white",
            "gridwidth": 2,
            "linecolor": "white",
            "showbackground": true,
            "ticks": "",
            "zerolinecolor": "white"
           },
           "yaxis": {
            "backgroundcolor": "#E5ECF6",
            "gridcolor": "white",
            "gridwidth": 2,
            "linecolor": "white",
            "showbackground": true,
            "ticks": "",
            "zerolinecolor": "white"
           },
           "zaxis": {
            "backgroundcolor": "#E5ECF6",
            "gridcolor": "white",
            "gridwidth": 2,
            "linecolor": "white",
            "showbackground": true,
            "ticks": "",
            "zerolinecolor": "white"
           }
          },
          "shapedefaults": {
           "line": {
            "color": "#2a3f5f"
           }
          },
          "ternary": {
           "aaxis": {
            "gridcolor": "white",
            "linecolor": "white",
            "ticks": ""
           },
           "baxis": {
            "gridcolor": "white",
            "linecolor": "white",
            "ticks": ""
           },
           "bgcolor": "#E5ECF6",
           "caxis": {
            "gridcolor": "white",
            "linecolor": "white",
            "ticks": ""
           }
          },
          "title": {
           "x": 0.05
          },
          "xaxis": {
           "automargin": true,
           "gridcolor": "white",
           "linecolor": "white",
           "ticks": "",
           "title": {
            "standoff": 15
           },
           "zerolinecolor": "white",
           "zerolinewidth": 2
          },
          "yaxis": {
           "automargin": true,
           "gridcolor": "white",
           "linecolor": "white",
           "ticks": "",
           "title": {
            "standoff": 15
           },
           "zerolinecolor": "white",
           "zerolinewidth": 2
          }
         }
        },
        "xaxis": {
         "anchor": "y",
         "autorange": true,
         "domain": [
          0,
          1
         ],
         "range": [
          -0.637477879386365,
          0.7524010920911881
         ],
         "title": {
          "text": "PC1"
         },
         "type": "linear"
        },
        "yaxis": {
         "anchor": "x",
         "autorange": true,
         "domain": [
          0,
          1
         ],
         "range": [
          -0.3902188857551385,
          0.5758462578147159
         ],
         "title": {
          "text": "PC2"
         },
         "type": "linear"
        }
       }
      },
      "image/png": "[encoded data removed]",
      "text/html": [
       "<div>                            <div id=\"88bcde88-918c-494e-9e25-110a393ff363\" class=\"plotly-graph-div\" style=\"height:525px; width:100%;\"></div>            <script type=\"text/javascript\">                require([\"plotly\"], function(Plotly) {                    window.PLOTLYENV=window.PLOTLYENV || {};                                    if (document.getElementById(\"88bcde88-918c-494e-9e25-110a393ff363\")) {                    Plotly.newPlot(                        \"88bcde88-918c-494e-9e25-110a393ff363\",                        [{\"hovertemplate\":\"species=Setosa<br>PC1=%{x}<br>PC2=%{y}<extra></extra>\",\"legendgroup\":\"Setosa\",\"marker\":{\"color\":\"#636efa\",\"symbol\":\"circle\"},\"mode\":\"markers\",\"name\":\"Setosa\",\"orientation\":\"v\",\"showlegend\":true,\"x\":[0.6166941549104064,0.615553245678042,0.6406761250283564,0.6178037875349501,0.6228011912916498,0.5464629720988563,0.6312757439856334,0.6078579582598301,0.6283647881103251,0.610986496418322,0.5868197371003431,0.6039502159577241,0.6245614249461199,0.6669560124360681,0.5929291617806648,0.5470078203498012,0.6008256229070693,0.6113177098522994,0.5295622151624074,0.6001735501482819,0.5547044011429166,0.5940210801259446,0.6775887290856362,0.5533239777180512,0.55978678993581,0.5844176394888861,0.5825474963024468,0.5980970319638109,0.609612519750729,0.6039627844191691,0.5972079887158943,0.5716359799203735,0.60275709691799,0.5896613005269221,0.6060205650340083,0.639481476700957,0.6036445960001552,0.6321777519451096,0.6426814821610147,0.6024903641084495,0.6285278234285112,0.6031139711682241,0.6481890904480466,0.5703800527779307,0.53476726737736,0.6145930309452154,0.5922492912444329,0.6324775675098449,0.5934995518708547,0.618738956862041],\"xaxis\":\"x\",\"y\":[0.09067107940365385,0.047446292535454196,0.0831836417349905,0.041864071822372326,0.0999982328032736,0.07388887561066,0.07846290633095719,0.0650243225469477,0.046891555323880875,0.045407150171058695,0.09549126327275426,0.04930584179857641,0.05499879810684879,0.11534822844972184,0.17446293781086347,0.15929108036581968,0.13439084826992914,0.08454224828949533,0.07499815329627985,0.09722321476616998,0.03521789630115887,0.08159781336226643,0.1685453220222857,0.00478350498687348,0.0005141251746661988,0.012879009650865992,0.036176052530739654,0.07470806732027892,0.08171866935792856,0.03212106122495404,0.0224347628146946,0.05503341753021547,0.13907385337721773,0.1605348179115565,0.03870306030604484,0.09772463097760499,0.10917553896619675,0.10661260869354758,0.07201959482526576,0.06503785239024629,0.10107049313021343,0.014812118267204615,0.08807521796021789,0.03446160095581543,0.02975444297969737,0.041786174602240364,0.08751539638549533,0.0674327783735541,0.09452448136441126,0.07262465747783521],\"yaxis\":\"y\",\"type\":\"scatter\"},{\"hovertemplate\":\"species=Versicolor<br>PC1=%{x}<br>PC2=%{y}<extra></extra>\",\"legendgroup\":\"Versicolor\",\"marker\":{\"color\":\"#EF553B\",\"symbol\":\"circle\"},\"mode\":\"markers\",\"name\":\"Versicolor\",\"orientation\":\"v\",\"showlegend\":true,\"x\":[-0.3259045100780568,-0.2573862205194976,-0.36615132319116783,-0.06945525191485054,-0.2927764422393091,-0.1880532425585169,-0.29453452571755095,0.17453537012675618,-0.28087615855738235,-0.01980225279911475,0.10902904882753911,-0.15649210856576556,-0.08817716434174176,-0.2710618233007719,0.026403277760952235,-0.2526844923269489,-0.19257113851984045,-0.08356696139508457,-0.25490264134771096,-0.03343545691822971,-0.29877230325730014,-0.11564043822561904,-0.336113064664257,-0.2547268152786857,-0.20497525884326062,-0.24794180717934827,-0.34057396046502253,-0.3888332001020713,-0.23139865398642925,0.062407542747598736,-0.003330592104753475,0.029381135104365453,-0.05772677627880778,-0.35340040980746334,-0.17312757071440296,-0.22729960335850186,-0.319479502659663,-0.22544300276972987,-0.08714775206243705,-0.06590744599277185,-0.14214487048060626,-0.24940104602518975,-0.0826592738278668,0.16291641396454237,-0.11614810684530497,-0.10950078888936185,-0.12146762897599611,-0.18852267222826855,0.2192557381763488,-0.10133666307051138],\"xaxis\":\"x\",\"y\":[0.0284918233614081,-0.07925289065460861,0.030955676143726758,-0.2904801927657552,-0.09196062342424922,-0.21233283813163117,-0.06043795072620904,-0.2961956569293081,-0.07621622332322442,-0.28331369407864004,-0.3254486090839778,-0.18443582118978558,-0.25138784778468704,-0.13495817626771664,-0.23708142566590448,-0.056966811005777294,-0.19885052706799197,-0.23494278041765196,-0.18722063061725014,-0.2723619547223786,-0.10446441317621516,-0.19319585571982165,-0.11255120645109382,-0.15031945311007938,-0.13015751745354648,-0.08136094731372306,-0.027883876069100304,0.012962291969664216,-0.1619336751785847,-0.2520393265350776,-0.2873008931146946,-0.2858796051658352,-0.23818184103746975,-0.1106957809885629,-0.2182564527961307,-0.1084263017579546,-0.024198072942766914,-0.18282355607107864,-0.22440657557886445,-0.27751793158354465,-0.2566441537755007,-0.13515164136574476,-0.24416902741075255,-0.29992616935716226,-0.24750041882554158,-0.21290205475773827,-0.22051676106872964,-0.15717240964677076,-0.2632526849110437,-0.2332253095735759],\"yaxis\":\"y\",\"type\":\"scatter\"},{\"hovertemplate\":\"species=Virginica<br>PC1=%{x}<br>PC2=%{y}<extra></extra>\",\"legendgroup\":\"Virginica\",\"marker\":{\"color\":\"#00cc96\",\"symbol\":\"circle\"},\"mode\":\"markers\",\"name\":\"Virginica\",\"orientation\":\"v\",\"showlegend\":true,\"x\":[-0.5149415310364674,-0.35738817214213364,-0.5326417068231131,-0.45761634294088394,-0.5072966656830986,-0.5626655163808131,-0.14848914494567655,-0.5483054529064945,-0.5001612451100123,-0.5399118447159631,-0.40776289501945073,-0.4325012277729434,-0.4856423375961107,-0.33951167317498065,-0.38293668090913996,-0.4448487994800792,-0.45610195268431,-0.5409166065047177,-0.5612122886431011,-0.3294507444775601,-0.513396877631854,-0.3112501716136558,-0.5595376673544716,-0.3573213156244575,-0.49702295657564577,-0.5261994975278657,-0.33124853219766137,-0.3380155411225707,-0.4795975158706857,-0.5026233669371385,-0.5425923630758959,-0.5265115082757545,-0.4835742292832888,-0.3676883861905007,-0.4187372449253011,-0.5491830967808082,-0.47323951739280673,-0.44849578375641014,-0.3118799134938703,-0.4759143806609779,-0.5010151713276146,-0.4444622686498766,-0.35738817214213375,-0.5276078196730333,-0.5086060139444859,-0.4513930090196752,-0.3812571145237458,-0.4268357068936487,-0.4396474996201041,-0.35546972284382816],\"xaxis\":\"x\",\"y\":[0.18235194439445607,-0.11995776414120667,0.24239996053291013,0.03429181201618583,0.134722893331065,0.43199293616899753,-0.2871704577616433,0.31290005487590145,0.1021067601144353,0.3606223430809846,0.030739243454491604,-0.00529386936691153,0.12804051901638638,-0.15296517527317555,-0.07574711361566122,0.0644847557748944,0.05843245096873883,0.5110759811435552,0.47696297608234633,-0.16178812559510405,0.206572604019018,-0.15424625182600285,0.442126565494551,-0.08140261318568834,0.16781005849879382,0.2695650413926593,-0.09974812638581675,-0.0851563486767443,0.06307207808520013,0.20920371976210142,0.29604380971274086,0.48499190564136074,0.07051698239651283,-0.06452485917406214,-0.042346554239280874,0.38303587272856304,0.11909540907710485,0.050956902648988424,-0.11018152163637197,0.13729493340385474,0.157451798457655,0.10746209527538914,-0.11995776414120633,0.22265397459767744,0.19676317127265902,0.08074254415888442,-0.07739714566623407,0.027037172394001618,0.06643071858914255,-0.08813928668945026],\"yaxis\":\"y\",\"type\":\"scatter\"}],                        {\"template\":{\"data\":{\"histogram2dcontour\":[{\"type\":\"histogram2dcontour\",\"colorbar\":{\"outlinewidth\":0,\"ticks\":\"\"},\"colorscale\":[[0.0,\"#0d0887\"],[0.1111111111111111,\"#46039f\"],[0.2222222222222222,\"#7201a8\"],[0.3333333333333333,\"#9c179e\"],[0.4444444444444444,\"#bd3786\"],[0.5555555555555556,\"#d8576b\"],[0.6666666666666666,\"#ed7953\"],[0.7777777777777778,\"#fb9f3a\"],[0.8888888888888888,\"#fdca26\"],[1.0,\"#f0f921\"]]}],\"choropleth\":[{\"type\":\"choropleth\",\"colorbar\":{\"outlinewidth\":0,\"ticks\":\"\"}}],\"histogram2d\":[{\"type\":\"histogram2d\",\"colorbar\":{\"outlinewidth\":0,\"ticks\":\"\"},\"colorscale\":[[0.0,\"#0d0887\"],[0.1111111111111111,\"#46039f\"],[0.2222222222222222,\"#7201a8\"],[0.3333333333333333,\"#9c179e\"],[0.4444444444444444,\"#bd3786\"],[0.5555555555555556,\"#d8576b\"],[0.6666666666666666,\"#ed7953\"],[0.7777777777777778,\"#fb9f3a\"],[0.8888888888888888,\"#fdca26\"],[1.0,\"#f0f921\"]]}],\"heatmap\":[{\"type\":\"heatmap\",\"colorbar\":{\"outlinewidth\":0,\"ticks\":\"\"},\"colorscale\":[[0.0,\"#0d0887\"],[0.1111111111111111,\"#46039f\"],[0.2222222222222222,\"#7201a8\"],[0.3333333333333333,\"#9c179e\"],[0.4444444444444444,\"#bd3786\"],[0.5555555555555556,\"#d8576b\"],[0.6666666666666666,\"#ed7953\"],[0.7777777777777778,\"#fb9f3a\"],[0.8888888888888888,\"#fdca26\"],[1.0,\"#f0f921\"]]}],\"heatmapgl\":[{\"type\":\"heatmapgl\",\"colorbar\":{\"outlinewidth\":0,\"ticks\":\"\"},\"colorscale\":[[0.0,\"#0d0887\"],[0.1111111111111111,\"#46039f\"],[0.2222222222222222,\"#7201a8\"],[0.3333333333333333,\"#9c179e\"],[0.4444444444444444,\"#bd3786\"],[0.5555555555555556,\"#d8576b\"],[0.6666666666666666,\"#ed7953\"],[0.7777777777777778,\"#fb9f3a\"],[0.8888888888888888,\"#fdca26\"],[1.0,\"#f0f921\"]]}],\"contourcarpet\":[{\"type\":\"contourcarpet\",\"colorbar\":{\"outlinewidth\":0,\"ticks\":\"\"}}],\"contour\":[{\"type\":\"contour\",\"colorbar\":{\"outlinewidth\":0,\"ticks\":\"\"},\"colorscale\":[[0.0,\"#0d0887\"],[0.1111111111111111,\"#46039f\"],[0.2222222222222222,\"#7201a8\"],[0.3333333333333333,\"#9c179e\"],[0.4444444444444444,\"#bd3786\"],[0.5555555555555556,\"#d8576b\"],[0.6666666666666666,\"#ed7953\"],[0.7777777777777778,\"#fb9f3a\"],[0.8888888888888888,\"#fdca26\"],[1.0,\"#f0f921\"]]}],\"surface\":[{\"type\":\"surface\",\"colorbar\":{\"outlinewidth\":0,\"ticks\":\"\"},\"colorscale\":[[0.0,\"#0d0887\"],[0.1111111111111111,\"#46039f\"],[0.2222222222222222,\"#7201a8\"],[0.3333333333333333,\"#9c179e\"],[0.4444444444444444,\"#bd3786\"],[0.5555555555555556,\"#d8576b\"],[0.6666666666666666,\"#ed7953\"],[0.7777777777777778,\"#fb9f3a\"],[0.8888888888888888,\"#fdca26\"],[1.0,\"#f0f921\"]]}],\"mesh3d\":[{\"type\":\"mesh3d\",\"colorbar\":{\"outlinewidth\":0,\"ticks\":\"\"}}],\"scatter\":[{\"fillpattern\":{\"fillmode\":\"overlay\",\"size\":10,\"solidity\":0.2},\"type\":\"scatter\"}],\"parcoords\":[{\"type\":\"parcoords\",\"line\":{\"colorbar\":{\"outlinewidth\":0,\"ticks\":\"\"}}}],\"scatterpolargl\":[{\"type\":\"scatterpolargl\",\"marker\":{\"colorbar\":{\"outlinewidth\":0,\"ticks\":\"\"}}}],\"bar\":[{\"error_x\":{\"color\":\"#2a3f5f\"},\"error_y\":{\"color\":\"#2a3f5f\"},\"marker\":{\"line\":{\"color\":\"#E5ECF6\",\"width\":0.5},\"pattern\":{\"fillmode\":\"overlay\",\"size\":10,\"solidity\":0.2}},\"type\":\"bar\"}],\"scattergeo\":[{\"type\":\"scattergeo\",\"marker\":{\"colorbar\":{\"outlinewidth\":0,\"ticks\":\"\"}}}],\"scatterpolar\":[{\"type\":\"scatterpolar\",\"marker\":{\"colorbar\":{\"outlinewidth\":0,\"ticks\":\"\"}}}],\"histogram\":[{\"marker\":{\"pattern\":{\"fillmode\":\"overlay\",\"size\":10,\"solidity\":0.2}},\"type\":\"histogram\"}],\"scattergl\":[{\"type\":\"scattergl\",\"marker\":{\"colorbar\":{\"outlinewidth\":0,\"ticks\":\"\"}}}],\"scatter3d\":[{\"type\":\"scatter3d\",\"line\":{\"colorbar\":{\"outlinewidth\":0,\"ticks\":\"\"}},\"marker\":{\"colorbar\":{\"outlinewidth\":0,\"ticks\":\"\"}}}],\"scattermapbox\":[{\"type\":\"scattermapbox\",\"marker\":{\"colorbar\":{\"outlinewidth\":0,\"ticks\":\"\"}}}],\"scatterternary\":[{\"type\":\"scatterternary\",\"marker\":{\"colorbar\":{\"outlinewidth\":0,\"ticks\":\"\"}}}],\"scattercarpet\":[{\"type\":\"scattercarpet\",\"marker\":{\"colorbar\":{\"outlinewidth\":0,\"ticks\":\"\"}}}],\"carpet\":[{\"aaxis\":{\"endlinecolor\":\"#2a3f5f\",\"gridcolor\":\"white\",\"linecolor\":\"white\",\"minorgridcolor\":\"white\",\"startlinecolor\":\"#2a3f5f\"},\"baxis\":{\"endlinecolor\":\"#2a3f5f\",\"gridcolor\":\"white\",\"linecolor\":\"white\",\"minorgridcolor\":\"white\",\"startlinecolor\":\"#2a3f5f\"},\"type\":\"carpet\"}],\"table\":[{\"cells\":{\"fill\":{\"color\":\"#EBF0F8\"},\"line\":{\"color\":\"white\"}},\"header\":{\"fill\":{\"color\":\"#C8D4E3\"},\"line\":{\"color\":\"white\"}},\"type\":\"table\"}],\"barpolar\":[{\"marker\":{\"line\":{\"color\":\"#E5ECF6\",\"width\":0.5},\"pattern\":{\"fillmode\":\"overlay\",\"size\":10,\"solidity\":0.2}},\"type\":\"barpolar\"}],\"pie\":[{\"automargin\":true,\"type\":\"pie\"}]},\"layout\":{\"autotypenumbers\":\"strict\",\"colorway\":[\"#636efa\",\"#EF553B\",\"#00cc96\",\"#ab63fa\",\"#FFA15A\",\"#19d3f3\",\"#FF6692\",\"#B6E880\",\"#FF97FF\",\"#FECB52\"],\"font\":{\"color\":\"#2a3f5f\"},\"hovermode\":\"closest\",\"hoverlabel\":{\"align\":\"left\"},\"paper_bgcolor\":\"white\",\"plot_bgcolor\":\"#E5ECF6\",\"polar\":{\"bgcolor\":\"#E5ECF6\",\"angularaxis\":{\"gridcolor\":\"white\",\"linecolor\":\"white\",\"ticks\":\"\"},\"radialaxis\":{\"gridcolor\":\"white\",\"linecolor\":\"white\",\"ticks\":\"\"}},\"ternary\":{\"bgcolor\":\"#E5ECF6\",\"aaxis\":{\"gridcolor\":\"white\",\"linecolor\":\"white\",\"ticks\":\"\"},\"baxis\":{\"gridcolor\":\"white\",\"linecolor\":\"white\",\"ticks\":\"\"},\"caxis\":{\"gridcolor\":\"white\",\"linecolor\":\"white\",\"ticks\":\"\"}},\"coloraxis\":{\"colorbar\":{\"outlinewidth\":0,\"ticks\":\"\"}},\"colorscale\":{\"sequential\":[[0.0,\"#0d0887\"],[0.1111111111111111,\"#46039f\"],[0.2222222222222222,\"#7201a8\"],[0.3333333333333333,\"#9c179e\"],[0.4444444444444444,\"#bd3786\"],[0.5555555555555556,\"#d8576b\"],[0.6666666666666666,\"#ed7953\"],[0.7777777777777778,\"#fb9f3a\"],[0.8888888888888888,\"#fdca26\"],[1.0,\"#f0f921\"]],\"sequentialminus\":[[0.0,\"#0d0887\"],[0.1111111111111111,\"#46039f\"],[0.2222222222222222,\"#7201a8\"],[0.3333333333333333,\"#9c179e\"],[0.4444444444444444,\"#bd3786\"],[0.5555555555555556,\"#d8576b\"],[0.6666666666666666,\"#ed7953\"],[0.7777777777777778,\"#fb9f3a\"],[0.8888888888888888,\"#fdca26\"],[1.0,\"#f0f921\"]],\"diverging\":[[0,\"#8e0152\"],[0.1,\"#c51b7d\"],[0.2,\"#de77ae\"],[0.3,\"#f1b6da\"],[0.4,\"#fde0ef\"],[0.5,\"#f7f7f7\"],[0.6,\"#e6f5d0\"],[0.7,\"#b8e186\"],[0.8,\"#7fbc41\"],[0.9,\"#4d9221\"],[1,\"#276419\"]]},\"xaxis\":{\"gridcolor\":\"white\",\"linecolor\":\"white\",\"ticks\":\"\",\"title\":{\"standoff\":15},\"zerolinecolor\":\"white\",\"automargin\":true,\"zerolinewidth\":2},\"yaxis\":{\"gridcolor\":\"white\",\"linecolor\":\"white\",\"ticks\":\"\",\"title\":{\"standoff\":15},\"zerolinecolor\":\"white\",\"automargin\":true,\"zerolinewidth\":2},\"scene\":{\"xaxis\":{\"backgroundcolor\":\"#E5ECF6\",\"gridcolor\":\"white\",\"linecolor\":\"white\",\"showbackground\":true,\"ticks\":\"\",\"zerolinecolor\":\"white\",\"gridwidth\":2},\"yaxis\":{\"backgroundcolor\":\"#E5ECF6\",\"gridcolor\":\"white\",\"linecolor\":\"white\",\"showbackground\":true,\"ticks\":\"\",\"zerolinecolor\":\"white\",\"gridwidth\":2},\"zaxis\":{\"backgroundcolor\":\"#E5ECF6\",\"gridcolor\":\"white\",\"linecolor\":\"white\",\"showbackground\":true,\"ticks\":\"\",\"zerolinecolor\":\"white\",\"gridwidth\":2}},\"shapedefaults\":{\"line\":{\"color\":\"#2a3f5f\"}},\"annotationdefaults\":{\"arrowcolor\":\"#2a3f5f\",\"arrowhead\":0,\"arrowwidth\":1},\"geo\":{\"bgcolor\":\"white\",\"landcolor\":\"#E5ECF6\",\"subunitcolor\":\"white\",\"showland\":true,\"showlakes\":true,\"lakecolor\":\"white\"},\"title\":{\"x\":0.05},\"mapbox\":{\"style\":\"light\"}}},\"xaxis\":{\"anchor\":\"y\",\"domain\":[0.0,1.0],\"title\":{\"text\":\"PC1\"}},\"yaxis\":{\"anchor\":\"x\",\"domain\":[0.0,1.0],\"title\":{\"text\":\"PC2\"}},\"legend\":{\"title\":{\"text\":\"species\"},\"tracegroupgap\":0},\"margin\":{\"t\":60}},                        {\"responsive\": true}                    ).then(function(){\n",
       "                            \n",
       "var gd = document.getElementById('88bcde88-918c-494e-9e25-110a393ff363');\n",
       "var x = new MutationObserver(function (mutations, observer) {{\n",
       "        var display = window.getComputedStyle(gd).display;\n",
       "        if (!display || display === 'none') {{\n",
       "            console.log([gd, 'removed!']);\n",
       "            Plotly.purge(gd);\n",
       "            observer.disconnect();\n",
       "        }}\n",
       "}});\n",
       "\n",
       "// Listen for the removal of the full notebook cells\n",
       "var notebookContainer = gd.closest('#notebook-container');\n",
       "if (notebookContainer) {{\n",
       "    x.observe(notebookContainer, {childList: true});\n",
       "}}\n",
       "\n",
       "// Listen for the clearing of the current output cell\n",
       "var outputEl = gd.closest('.output');\n",
       "if (outputEl) {{\n",
       "    x.observe(outputEl, {childList: true});\n",
       "}}\n",
       "\n",
       "                        })                };                });            </script>        </div>"
      ]
     },
     "metadata": {},
     "output_type": "display_data"
    }
   ],
   "source": [
    "df_2D = pd.DataFrame({'PC1': X_reduced[:, 0], 'PC2': X_reduced[:, 1], 'species': y})\n",
    "fig = px.scatter(df_2D, x='PC1', y='PC2',\n",
    "              color='species')\n",
    "fig.show()"
   ]
  },
  {
   "cell_type": "markdown",
   "id": "460823a8-80dd-451d-a8bd-79901cee7240",
   "metadata": {},
   "source": [
    "<span style=\"font-family: XB Zar; font-size: medium; \"><div dir=rtl><meta charset=\"UTF-8\">\n",
    "    <span style=\"color: red; font-size: large; \"> 3. تجزیه مقادیر منفرد یا SVD و ارتباط آن با تحلیل مولفه‌های اصلی </span>\n",
    "    <br>\n",
    "    \n",
    "    </div></span>"
   ]
  },
  {
   "cell_type": "code",
   "execution_count": null,
   "id": "12739716-2567-4036-886c-bab737d8bc4d",
   "metadata": {},
   "outputs": [],
   "source": [
    "import sklearn"
   ]
  }
 ],
 "metadata": {
  "kernelspec": {
   "display_name": "Python 3 (ipykernel)",
   "language": "python",
   "name": "python3"
  },
  "language_info": {
   "codemirror_mode": {
    "name": "ipython",
    "version": 3
   },
   "file_extension": ".py",
   "mimetype": "text/x-python",
   "name": "python",
   "nbconvert_exporter": "python",
   "pygments_lexer": "ipython3",
   "version": "3.10.6"
  }
 },
 "nbformat": 4,
 "nbformat_minor": 5
}
