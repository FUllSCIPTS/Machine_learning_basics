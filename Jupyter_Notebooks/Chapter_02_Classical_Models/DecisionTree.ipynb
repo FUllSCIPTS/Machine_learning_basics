{
 "cells": [
  {
   "cell_type": "markdown",
   "id": "alternate-halloween",
   "metadata": {
    "id": "iNx2ze3Cfuh5"
   },
   "source": [
    "<div dir=\"rtl\" align=\"center\">\n",
    "<font face=\"XB Zar\" size=5>\n",
    "    <font face=\"IranNastaliq\" size=5>\n",
    "      به نام خدا\n",
    "    </font>\n",
    "    <br>\n",
    "    <font size=3>\n",
    "      دانشگاه صنعتی شریف - دانشکده مهندسی کامپیوتر\n",
    "    </font>\n",
    "    <br>\n",
    "    <font color=blue size=5>\n",
    "      مقدمه‌ای بر یادگیری ماشین\n",
    "    </font>\n",
    "    <br>\n",
    "    <hr/>\n",
    "    <font color=red size=6>\n",
    "      فصل دوم: مرور روش‌های کلاسیک یادگیری ماشین (درخت تصمیم گیری)\n",
    "    </font>\n",
    "    <br>\n",
    "      نویسنده:‌ حمیدرضا یعقوبی عراقی\n",
    "    <hr>\n",
    "<br>\n",
    "  <div align=\"right\">\n",
    "  <font color=\"red\" size=5>فهرست مطالب</font>\n",
    "\t<ul>\n",
    "    <li>\n",
    "        <a href=\"#Abstract\">\n",
    "        روند کلی\n",
    "        </a>\n",
    "\t</li>\n",
    "    <br>\n",
    "    <li>\n",
    "        <a href=\"#Classifier\">\n",
    "            درخت تصمیم از نوع طبقه‌بندی\n",
    "        </a>\n",
    "        <ul>\n",
    "            <br>\n",
    "            <li>\n",
    "                <a href=\"#classification_dataset\">\n",
    "                  آشنایی با دیتاست\n",
    "                </a>\n",
    "            </li>\n",
    "            <br>\n",
    "            <li>\n",
    "                <a href=\"#classification_columns\">\n",
    "                  آشنایی با ستون های دیتاست\n",
    "                </a>\n",
    "            </li>\n",
    "            <br>\n",
    "            <li>\n",
    "                <a href=\"#classification_Reading_DataSet\">\n",
    "                  خواندن و بررسی دیتاست\n",
    "                </a>\n",
    "            </li>\n",
    "            <br>\n",
    "            <li>\n",
    "                <a href=\"#classification_preprocessing\">\n",
    "                  آماده سازی دیتاست\n",
    "                </a>\n",
    "            </li>\n",
    "            <br>\n",
    "            <li>\n",
    "                <a href=\"#Training_classification_Decision_Treeـcriterion_entropy\">\n",
    "            آموزش درخت تصمیم\n",
    "                </a>\n",
    "            </li>\n",
    "            <br>\n",
    "            <li>\n",
    "                <a href=\"#classification_accuracy\">\n",
    "            بررسی دقت\n",
    "                </a>\n",
    "            </li>\n",
    "            <br>\n",
    "            <li>\n",
    "                <a href=\"#classification_Visualization\">\n",
    "            مصورسازی\n",
    "                </a>\n",
    "            </li>\n",
    "        </ul>\n",
    "    </li>\n",
    "    <br>\n",
    "    <li>\n",
    "        <a href=\"#Regression\">\n",
    "            درخت تصمیم از نوع رگرسیون\n",
    "        </a>\n",
    "        <ul>\n",
    "            <br>\n",
    "            <li>\n",
    "                <a href=\"#regression_dataset\">\n",
    "                  آشنایی با دیتاست\n",
    "                </a>\n",
    "            </li>\n",
    "            <br>\n",
    "            <li>\n",
    "                <a href=\"#regression_columns\">\n",
    "                  آشنایی با ستون های دیتاست\n",
    "                </a>\n",
    "            </li>\n",
    "            <br>\n",
    "            <li>\n",
    "                <a href=\"#regression_Reading_DataSet\">\n",
    "                  خواندن و بررسی دیتاست\n",
    "                </a>\n",
    "            </li>\n",
    "            <br>\n",
    "            <li>\n",
    "                <a href=\"#regression_preprocessing\">\n",
    "                  آماده سازی دیتاست\n",
    "                </a>\n",
    "            </li>\n",
    "            <br>\n",
    "            <li>\n",
    "                <a href=\"#Training_regression_Decision_Tree\">\n",
    "            آموزش درخت تصمیم\n",
    "                </a>\n",
    "            </li>\n",
    "            <br>\n",
    "            <li>\n",
    "                <a href=\"#regression_accuracy\">\n",
    "            بررسی دقت\n",
    "                </a>\n",
    "            </li>\n",
    "            <br>\n",
    "            <li>\n",
    "                <a href=\"#regression_Visualization\">\n",
    "            مصورسازی\n",
    "                </a>\n",
    "            </li>\n",
    "        </ul>\n",
    "    </li>\n",
    "    <br>\n",
    "    <li>\n",
    "      <a href=\"#Practice_1\">\n",
    "        تمرین-۱: پیاده سازی درخت تصمیم گیری از نوع طبقه بندی\n",
    "      </a>\n",
    "\t</li>\n",
    "    <br>\n",
    "    <li>\n",
    "      <a href=\"#Practice_۲\">\n",
    "        تمرین-۲: پیاده سازی درخت تصمیم گیری از رگرسیون\n",
    "      </a>\n",
    "\t</li>\n",
    "    <br>\n",
    "    </ul>\n",
    "   </div>\n",
    "</font>\n",
    "</div>"
   ]
  },
  {
   "cell_type": "markdown",
   "id": "attractive-entity",
   "metadata": {
    "ExecuteTime": {
     "end_time": "2022-09-15T14:20:11.136187Z",
     "start_time": "2022-09-15T14:20:11.120827Z"
    }
   },
   "source": [
    "<div dir=rtl id=\"Abstract\">\n",
    "<font face=\"XB Zar\" size=4>\n",
    "  <font color=\"red\" size=6>\n",
    "    روند کلی\n",
    "  </font>\n",
    "  <hr />\n",
    "    در این نوتبوک ابتدا با روند بررسی داه‌ها, نحوه آموزش مدل و بررسی آن آشنا می شویم. سپس در دو تمرین, با جزئیات پیاده سازی Decision Treeها آشنا می شویم.\n",
    "  <br/>\n",
    "</font>\n",
    "</div>"
   ]
  },
  {
   "cell_type": "markdown",
   "id": "cloudy-shower",
   "metadata": {},
   "source": [
    "<div dir=rtl id=\"Classifier\">\n",
    "    <font color=\"red\" size=6>\n",
    "        درخت تصمیم از نوع طبقه بندی\n",
    "    </font>\n",
    "    <hr>\n",
    "</div>"
   ]
  },
  {
   "cell_type": "markdown",
   "id": "facial-broadcast",
   "metadata": {
    "id": "sIGyifOmnOYc"
   },
   "source": [
    "\n",
    "  <div dir=rtl id=\"classification_dataset\">\n",
    "  <font face=\"XB Zar\" size=4>\n",
    "      <font color=\"red\" size=5>\n",
    "        آشنایی با دیتاست\n",
    "      </font>\n",
    "      <hr />\n",
    "      دیتاستی که در این بخش استفاده خواهد شد, مربوط به ارزیابی کیفی نزدیک به ۱۷۰۰ خودرو می باشد که در سال ۱۹۹۷ توسط  Marko Bohanec و برای ارزیابی متد HINT (Hierarchy INduction Tool) در مقاله <a href=\"https://citeseerx.ist.psu.edu/viewdoc/download?doi=10.1.1.29.4455&rep=rep1&type=pdf\"><font face=\"Roboto\">Machine Learning by Function Decomposition</font></a> منتشر گردید. این دیتاست شامل ۷ ستون (قیمت خرید, هزینه نگه‌داری, تعداد درها, تعداد سرنشینان, فضای صندق عقب و میزان امنیت ماشین) است که مقادیر هر ستون را در بخش ذیل می توانید مشاهده کنید.\n",
    "      برای دسترسی به دیتاست مذکور می توانید از <a href=\"https://www.kaggle.com/datasets/elikplim/car-evaluation-data-set\"><font face=\"Roboto\">این لینک</font></a> استفاده کنید. همچنین این دیتاست در همین پوشه با نام car_evaluation.csv در اختیار شما قرار داده شده است.\n",
    "      <br />\n",
    "      </font>\n",
    "    </div>"
   ]
  },
  {
   "cell_type": "markdown",
   "id": "disabled-southwest",
   "metadata": {
    "id": "BmZv9X3O0cxg"
   },
   "source": [
    "\n",
    "  <div dir=rtl id=\"classification_columns\">\n",
    "  <font face=\"XB Zar\" size=4>\n",
    "      <font color=\"red\" size=5>\n",
    "        آشنایی با ستون‌های دیتاست\n",
    "      </font>\n",
    "      <hr />\n",
    "      دیتاست شامل 7 ستون می شود:\n",
    "      <ol>\n",
    "        <li>\n",
    "          <font face=\"Roboto\">buying_price: </font>\n",
    "          هزینه خرید که شامل یکی از ۴ نوع زیر است:\n",
    "          <ul>\n",
    "            <font face=\"Roboto\">\n",
    "              <li>\n",
    "                v-high\n",
    "              </li>\n",
    "              <li>\n",
    "                high\n",
    "              </li>\n",
    "              <li>\n",
    "                med\n",
    "              </li>\n",
    "              <li>\n",
    "                low\n",
    "              </li>\n",
    "            </font>\n",
    "          </ul>\n",
    "        </li>\n",
    "        <li>\n",
    "          <font face=\"Roboto\">maintenance_cost: </font>\n",
    "          هزینه تعمیر و نگه داری که یکی از ۴ نوع زیر است:\n",
    "          <ul>\n",
    "            <font face=\"Roboto\">\n",
    "              <li>\n",
    "                v-high\n",
    "              </li>\n",
    "              <li>\n",
    "                high\n",
    "              </li>\n",
    "              <li>\n",
    "                med\n",
    "              </li>\n",
    "              <li>\n",
    "                low\n",
    "              </li>\n",
    "            </font>\n",
    "          </ul>\n",
    "        </li>\n",
    "        <li>\n",
    "          <font face=\"Roboto\">number_of_doors: </font>\n",
    "          تعداد در های یک ماشین که شامل یکی از مقدار زیر است:\n",
    "          <ul>\n",
    "            <font face=\"Roboto\">\n",
    "              <li>\n",
    "                2\n",
    "              </li>\n",
    "              <li>\n",
    "                3\n",
    "              </li>\n",
    "              <li>\n",
    "                4\n",
    "              </li>\n",
    "              <li>\n",
    "                  5more\n",
    "              </li>\n",
    "            </font>\n",
    "          </ul>\n",
    "        </li>\n",
    "        <li>\n",
    "          <font face=\"Roboto\">number_of_persons: </font>\n",
    "          تعداد سرنشین های یک ماشین که شامل یکی از مقدار زیر است:\n",
    "          <ul>\n",
    "            <font face=\"Roboto\">\n",
    "              <li>\n",
    "                2\n",
    "              </li>\n",
    "              <li>\n",
    "                4\n",
    "              </li>\n",
    "              <li>\n",
    "                  more\n",
    "              </li>\n",
    "            </font>\n",
    "          </ul>\n",
    "        </li>\n",
    "        <li>\n",
    "          <font face=\"Roboto\">lug_boot: </font>\n",
    "          نشان دهنده میزان فضای صندق عقب ماشین است که شامل یکی از ۳ نوع زیر است:\n",
    "          <ul>\n",
    "            <font face=\"Roboto\">\n",
    "              <li>\n",
    "                small\n",
    "              </li>\n",
    "              <li>\n",
    "                med\n",
    "              </li>\n",
    "              <li>\n",
    "                big\n",
    "              </li>\n",
    "            </font>\n",
    "          </ul>\n",
    "        </li>\n",
    "        <li>\n",
    "          <font face=\"Roboto\">safety: </font>\n",
    "          نشان دهنده میزان امنیت ماشین است که شامل یکی از ۳ نوع زیر است:\n",
    "          <ul>\n",
    "            <font face=\"Roboto\">\n",
    "              <li>\n",
    "                low\n",
    "              </li>\n",
    "              <li>\n",
    "                med\n",
    "              </li>\n",
    "              <li>\n",
    "                high\n",
    "              </li>\n",
    "            </font>\n",
    "          </ul>\n",
    "        </li>\n",
    "        <li>\n",
    "          <font face=\"Roboto\">decision: </font>\n",
    "          نشان دهنده میزان ارزش ماشین برای خرید است که شامل یکی از ۴ نوع زیر است:\n",
    "          <ul>\n",
    "            <font face=\"Roboto\">\n",
    "              <li>\n",
    "                unacc\n",
    "              </li>\n",
    "              <li>\n",
    "                acc\n",
    "              </li>\n",
    "              <li>\n",
    "                good\n",
    "              </li>\n",
    "              <li>\n",
    "                vgood\n",
    "              </li>\n",
    "            </font>\n",
    "          </ul>\n",
    "        </li>\n",
    "      </ol>\n",
    "  </font>\n",
    "  </div>"
   ]
  },
  {
   "cell_type": "markdown",
   "id": "jewish-wayne",
   "metadata": {
    "ExecuteTime": {
     "end_time": "2022-09-15T14:20:11.136187Z",
     "start_time": "2022-09-15T14:20:11.120827Z"
    }
   },
   "source": [
    "<div dir=rtl id=\"classification_Reading_DataSet\">\n",
    "      <font color=\"red\" size=5>\n",
    "        خواندن و بررسی دیتاست\n",
    "      </font>\n",
    "    <hr/>\n",
    "</div>"
   ]
  },
  {
   "cell_type": "code",
   "execution_count": 1,
   "id": "expanded-parcel",
   "metadata": {
    "ExecuteTime": {
     "end_time": "2022-09-17T13:13:54.800572Z",
     "start_time": "2022-09-17T13:13:54.259383Z"
    },
    "id": "d5cbzOzxego6"
   },
   "outputs": [],
   "source": [
    "import numpy as np\n",
    "import pandas as pd\n",
    "import seaborn as sns\n",
    "import matplotlib.pyplot as plt"
   ]
  },
  {
   "cell_type": "code",
   "execution_count": 2,
   "id": "consolidated-frequency",
   "metadata": {
    "ExecuteTime": {
     "end_time": "2022-09-17T13:13:54.830776Z",
     "start_time": "2022-09-17T13:13:54.813654Z"
    }
   },
   "outputs": [
    {
     "data": {
      "text/html": [
       "<div>\n",
       "<style scoped>\n",
       "    .dataframe tbody tr th:only-of-type {\n",
       "        vertical-align: middle;\n",
       "    }\n",
       "\n",
       "    .dataframe tbody tr th {\n",
       "        vertical-align: top;\n",
       "    }\n",
       "\n",
       "    .dataframe thead th {\n",
       "        text-align: right;\n",
       "    }\n",
       "</style>\n",
       "<table border=\"1\" class=\"dataframe\">\n",
       "  <thead>\n",
       "    <tr style=\"text-align: right;\">\n",
       "      <th></th>\n",
       "      <th>0</th>\n",
       "      <th>1</th>\n",
       "      <th>2</th>\n",
       "      <th>3</th>\n",
       "      <th>4</th>\n",
       "      <th>5</th>\n",
       "      <th>6</th>\n",
       "    </tr>\n",
       "  </thead>\n",
       "  <tbody>\n",
       "    <tr>\n",
       "      <th>0</th>\n",
       "      <td>vhigh</td>\n",
       "      <td>vhigh</td>\n",
       "      <td>2</td>\n",
       "      <td>2</td>\n",
       "      <td>small</td>\n",
       "      <td>low</td>\n",
       "      <td>unacc</td>\n",
       "    </tr>\n",
       "    <tr>\n",
       "      <th>1</th>\n",
       "      <td>vhigh</td>\n",
       "      <td>vhigh</td>\n",
       "      <td>2</td>\n",
       "      <td>2</td>\n",
       "      <td>small</td>\n",
       "      <td>med</td>\n",
       "      <td>unacc</td>\n",
       "    </tr>\n",
       "    <tr>\n",
       "      <th>2</th>\n",
       "      <td>vhigh</td>\n",
       "      <td>vhigh</td>\n",
       "      <td>2</td>\n",
       "      <td>2</td>\n",
       "      <td>small</td>\n",
       "      <td>high</td>\n",
       "      <td>unacc</td>\n",
       "    </tr>\n",
       "  </tbody>\n",
       "</table>\n",
       "</div>"
      ],
      "text/plain": [
       "       0      1  2  3      4     5      6\n",
       "0  vhigh  vhigh  2  2  small   low  unacc\n",
       "1  vhigh  vhigh  2  2  small   med  unacc\n",
       "2  vhigh  vhigh  2  2  small  high  unacc"
      ]
     },
     "execution_count": 2,
     "metadata": {},
     "output_type": "execute_result"
    }
   ],
   "source": [
    "car_evaluation_pdf = pd.read_csv(\"./car_evaluation.csv\", header=None)\n",
    "car_evaluation_pdf.head(3)"
   ]
  },
  {
   "cell_type": "markdown",
   "id": "fourth-collect",
   "metadata": {},
   "source": [
    "<div dir=rtl>\n",
    "    <font face=\"XB Zar\" size=4>\n",
    "         توجه کنید که ستون‌های این دیتاست فاقد نام هستند. با توجه به ترتیب ستون‌ها (ترتیب ستون‌ها را می توان در <a href=\"https://www.kaggle.com/datasets/elikplim/car-evaluation-data-set\"><font face=\"Roboto\">این لینک</font></a> دید) و به کمک کد زیر می توانیم این نامگذاری را انجام دهیم:\n",
    "    </font>\n",
    "</div>"
   ]
  },
  {
   "cell_type": "code",
   "execution_count": 3,
   "id": "typical-contract",
   "metadata": {
    "ExecuteTime": {
     "end_time": "2022-09-17T13:13:55.903692Z",
     "start_time": "2022-09-17T13:13:55.889629Z"
    },
    "colab": {
     "base_uri": "https://localhost:8080/"
    },
    "id": "D_tjVmTl0WUs",
    "outputId": "3e473001-e514-4582-b374-55bf369dfbad"
   },
   "outputs": [
    {
     "data": {
      "text/html": [
       "<div>\n",
       "<style scoped>\n",
       "    .dataframe tbody tr th:only-of-type {\n",
       "        vertical-align: middle;\n",
       "    }\n",
       "\n",
       "    .dataframe tbody tr th {\n",
       "        vertical-align: top;\n",
       "    }\n",
       "\n",
       "    .dataframe thead th {\n",
       "        text-align: right;\n",
       "    }\n",
       "</style>\n",
       "<table border=\"1\" class=\"dataframe\">\n",
       "  <thead>\n",
       "    <tr style=\"text-align: right;\">\n",
       "      <th></th>\n",
       "      <th>buying_price</th>\n",
       "      <th>maintenance_cost</th>\n",
       "      <th>number_of_doors</th>\n",
       "      <th>number_of_persons</th>\n",
       "      <th>lug_boot</th>\n",
       "      <th>safety</th>\n",
       "      <th>decision</th>\n",
       "    </tr>\n",
       "  </thead>\n",
       "  <tbody>\n",
       "    <tr>\n",
       "      <th>0</th>\n",
       "      <td>vhigh</td>\n",
       "      <td>vhigh</td>\n",
       "      <td>2</td>\n",
       "      <td>2</td>\n",
       "      <td>small</td>\n",
       "      <td>low</td>\n",
       "      <td>unacc</td>\n",
       "    </tr>\n",
       "    <tr>\n",
       "      <th>1</th>\n",
       "      <td>vhigh</td>\n",
       "      <td>vhigh</td>\n",
       "      <td>2</td>\n",
       "      <td>2</td>\n",
       "      <td>small</td>\n",
       "      <td>med</td>\n",
       "      <td>unacc</td>\n",
       "    </tr>\n",
       "    <tr>\n",
       "      <th>2</th>\n",
       "      <td>vhigh</td>\n",
       "      <td>vhigh</td>\n",
       "      <td>2</td>\n",
       "      <td>2</td>\n",
       "      <td>small</td>\n",
       "      <td>high</td>\n",
       "      <td>unacc</td>\n",
       "    </tr>\n",
       "  </tbody>\n",
       "</table>\n",
       "</div>"
      ],
      "text/plain": [
       "  buying_price maintenance_cost number_of_doors number_of_persons lug_boot  \\\n",
       "0        vhigh            vhigh               2                 2    small   \n",
       "1        vhigh            vhigh               2                 2    small   \n",
       "2        vhigh            vhigh               2                 2    small   \n",
       "\n",
       "  safety decision  \n",
       "0    low    unacc  \n",
       "1    med    unacc  \n",
       "2   high    unacc  "
      ]
     },
     "execution_count": 3,
     "metadata": {},
     "output_type": "execute_result"
    }
   ],
   "source": [
    "car_evaluation_column_names = ['buying_price', 'maintenance_cost', 'number_of_doors', \n",
    "                               'number_of_persons', 'lug_boot', 'safety', \n",
    "                               'decision']\n",
    "car_evaluation_pdf.columns = car_evaluation_column_names\n",
    "car_evaluation_pdf.head(3)"
   ]
  },
  {
   "cell_type": "markdown",
   "id": "amateur-berry",
   "metadata": {},
   "source": [
    "<div dir=rtl>\n",
    "    <font face=\"XB Zar\" size=4>\n",
    "        حال به کمک متد info می توانیم نگاهی اجمالی به دیتاست داشته باشیم:\n",
    "    </font>\n",
    "</div>"
   ]
  },
  {
   "cell_type": "code",
   "execution_count": 4,
   "id": "natural-scenario",
   "metadata": {
    "ExecuteTime": {
     "end_time": "2022-09-17T13:13:56.681679Z",
     "start_time": "2022-09-17T13:13:56.650880Z"
    },
    "colab": {
     "base_uri": "https://localhost:8080/"
    },
    "execution": {
     "iopub.execute_input": "2022-09-08T17:23:58.275887Z",
     "iopub.status.busy": "2022-09-08T17:23:58.275573Z",
     "iopub.status.idle": "2022-09-08T17:23:58.309198Z",
     "shell.execute_reply": "2022-09-08T17:23:58.308143Z",
     "shell.execute_reply.started": "2022-09-08T17:23:58.275853Z"
    },
    "id": "-rUt-7j7egpD",
    "outputId": "5d2135e9-0f08-40bf-a942-217de5354c0f"
   },
   "outputs": [
    {
     "name": "stdout",
     "output_type": "stream",
     "text": [
      "<class 'pandas.core.frame.DataFrame'>\n",
      "RangeIndex: 1728 entries, 0 to 1727\n",
      "Data columns (total 7 columns):\n",
      " #   Column             Non-Null Count  Dtype \n",
      "---  ------             --------------  ----- \n",
      " 0   buying_price       1728 non-null   object\n",
      " 1   maintenance_cost   1728 non-null   object\n",
      " 2   number_of_doors    1728 non-null   object\n",
      " 3   number_of_persons  1728 non-null   object\n",
      " 4   lug_boot           1728 non-null   object\n",
      " 5   safety             1728 non-null   object\n",
      " 6   decision           1728 non-null   object\n",
      "dtypes: object(7)\n",
      "memory usage: 94.6+ KB\n"
     ]
    }
   ],
   "source": [
    "car_evaluation_pdf.info()"
   ]
  },
  {
   "cell_type": "markdown",
   "id": "weird-effectiveness",
   "metadata": {},
   "source": [
    "<div dir=rtl>\n",
    "    <font face=\"XB Zar\" size=4>\n",
    "        همانطور که مشاهده می کنید در خط اول نام این object قابل مشاهده است.<br>\n",
    "        در خط بعدی می توان تعداد سطر های این دیتاست را مشاهده کرد و این که این سر ها از چه عددی تا چه عددی فهرست گذاری شده‌اند.<br>\n",
    "        در خطوط بعدی می تواند اطلاعات ستون‌ها را مشاهده کرد.این که هر ستون شامل چند سطر دارای مقدار است و داده های هر سطر از چه نوعی هستند. <br>\n",
    "        در خط آخر نیز می توان میزان memory اشغال شده توسط این دیتاست را مشاهده کرد.    </font>\n",
    "</div>"
   ]
  },
  {
   "cell_type": "markdown",
   "id": "surface-bahrain",
   "metadata": {},
   "source": [
    "<div dir=rtl>\n",
    "    <font face=\"XB Zar\" size=4>\n",
    "        هیمنطور به کمک متد describe می توانیم اطلاعات بیشتری در مورد هر ستون کسب کنیم. این اطلاعات شامل:<br>\n",
    "        ۱- تعداد سطرهای هر ستون<br>\n",
    "        ۲- تعداد مقادیر منحصر به فرد در آن ستون<br>\n",
    "        ۳- بیشترین مقدار تکرار شده در آن ستون و میزان تکرار آن<br>\n",
    "        می باشد.\n",
    "    </font>\n",
    "</div>"
   ]
  },
  {
   "cell_type": "code",
   "execution_count": 5,
   "id": "italic-middle",
   "metadata": {
    "ExecuteTime": {
     "end_time": "2022-09-17T13:13:57.778479Z",
     "start_time": "2022-09-17T13:13:57.730276Z"
    }
   },
   "outputs": [
    {
     "data": {
      "text/html": [
       "<div>\n",
       "<style scoped>\n",
       "    .dataframe tbody tr th:only-of-type {\n",
       "        vertical-align: middle;\n",
       "    }\n",
       "\n",
       "    .dataframe tbody tr th {\n",
       "        vertical-align: top;\n",
       "    }\n",
       "\n",
       "    .dataframe thead th {\n",
       "        text-align: right;\n",
       "    }\n",
       "</style>\n",
       "<table border=\"1\" class=\"dataframe\">\n",
       "  <thead>\n",
       "    <tr style=\"text-align: right;\">\n",
       "      <th></th>\n",
       "      <th>buying_price</th>\n",
       "      <th>maintenance_cost</th>\n",
       "      <th>number_of_doors</th>\n",
       "      <th>number_of_persons</th>\n",
       "      <th>lug_boot</th>\n",
       "      <th>safety</th>\n",
       "      <th>decision</th>\n",
       "    </tr>\n",
       "  </thead>\n",
       "  <tbody>\n",
       "    <tr>\n",
       "      <th>count</th>\n",
       "      <td>1728</td>\n",
       "      <td>1728</td>\n",
       "      <td>1728</td>\n",
       "      <td>1728</td>\n",
       "      <td>1728</td>\n",
       "      <td>1728</td>\n",
       "      <td>1728</td>\n",
       "    </tr>\n",
       "    <tr>\n",
       "      <th>unique</th>\n",
       "      <td>4</td>\n",
       "      <td>4</td>\n",
       "      <td>4</td>\n",
       "      <td>3</td>\n",
       "      <td>3</td>\n",
       "      <td>3</td>\n",
       "      <td>4</td>\n",
       "    </tr>\n",
       "    <tr>\n",
       "      <th>top</th>\n",
       "      <td>low</td>\n",
       "      <td>low</td>\n",
       "      <td>5more</td>\n",
       "      <td>more</td>\n",
       "      <td>small</td>\n",
       "      <td>low</td>\n",
       "      <td>unacc</td>\n",
       "    </tr>\n",
       "    <tr>\n",
       "      <th>freq</th>\n",
       "      <td>432</td>\n",
       "      <td>432</td>\n",
       "      <td>432</td>\n",
       "      <td>576</td>\n",
       "      <td>576</td>\n",
       "      <td>576</td>\n",
       "      <td>1210</td>\n",
       "    </tr>\n",
       "  </tbody>\n",
       "</table>\n",
       "</div>"
      ],
      "text/plain": [
       "       buying_price maintenance_cost number_of_doors number_of_persons  \\\n",
       "count          1728             1728            1728              1728   \n",
       "unique            4                4               4                 3   \n",
       "top             low              low           5more              more   \n",
       "freq            432              432             432               576   \n",
       "\n",
       "       lug_boot safety decision  \n",
       "count      1728   1728     1728  \n",
       "unique        3      3        4  \n",
       "top       small    low    unacc  \n",
       "freq        576    576     1210  "
      ]
     },
     "execution_count": 5,
     "metadata": {},
     "output_type": "execute_result"
    }
   ],
   "source": [
    "car_evaluation_pdf.describe()"
   ]
  },
  {
   "cell_type": "markdown",
   "id": "bored-renaissance",
   "metadata": {},
   "source": [
    "<div dir=rtl>\n",
    "    <font face=\"XB Zar\" size=4>\n",
    "        در آخر هم خوب است که نگاهی به توزیع هر ستون داشته باشیم:\n",
    "    </font>\n",
    "</div>"
   ]
  },
  {
   "cell_type": "code",
   "execution_count": 6,
   "id": "subsequent-morris",
   "metadata": {
    "ExecuteTime": {
     "end_time": "2022-09-17T13:13:58.986846Z",
     "start_time": "2022-09-17T13:13:58.971857Z"
    },
    "colab": {
     "base_uri": "https://localhost:8080/",
     "height": 300
    },
    "execution": {
     "iopub.execute_input": "2022-09-08T17:23:58.225234Z",
     "iopub.status.busy": "2022-09-08T17:23:58.224941Z",
     "iopub.status.idle": "2022-09-08T17:23:58.274266Z",
     "shell.execute_reply": "2022-09-08T17:23:58.272846Z",
     "shell.execute_reply.started": "2022-09-08T17:23:58.225206Z"
    },
    "id": "Vxei2ek5egpB",
    "outputId": "9db56a20-a46a-41bf-caac-73247ddae80f"
   },
   "outputs": [
    {
     "name": "stdout",
     "output_type": "stream",
     "text": [
      "low      432\n",
      "high     432\n",
      "vhigh    432\n",
      "med      432\n",
      "Name: buying_price, dtype: int64\n",
      "low      432\n",
      "high     432\n",
      "vhigh    432\n",
      "med      432\n",
      "Name: maintenance_cost, dtype: int64\n",
      "5more    432\n",
      "3        432\n",
      "4        432\n",
      "2        432\n",
      "Name: number_of_doors, dtype: int64\n",
      "more    576\n",
      "4       576\n",
      "2       576\n",
      "Name: number_of_persons, dtype: int64\n",
      "small    576\n",
      "big      576\n",
      "med      576\n",
      "Name: lug_boot, dtype: int64\n",
      "low     576\n",
      "high    576\n",
      "med     576\n",
      "Name: safety, dtype: int64\n",
      "unacc    1210\n",
      "acc       384\n",
      "good       69\n",
      "vgood      65\n",
      "Name: decision, dtype: int64\n"
     ]
    }
   ],
   "source": [
    "for column in car_evaluation_column_names:\n",
    "    print(car_evaluation_pdf[column].value_counts())  "
   ]
  },
  {
   "cell_type": "markdown",
   "id": "nuclear-belfast",
   "metadata": {
    "id": "7u-9szEQ1UST"
   },
   "source": [
    "\n",
    "  <div dir=rtl id=\"classification_preprocessing\">\n",
    "    <font face=\"XB Zar\" size=4>\n",
    "      <font color=\"red\" size=5>آماده‌سازی دیتاست</font>\n",
    "      <hr />\n",
    "      قدم اول تبدیل مقادیر غیر عددی به عددی می باشد. این کار را به کمک LabelEncoder کتاب خانه sklearn انجام میدهیم.<br>\n",
    "        توجه شود که به کمک متد info مشاهده کردیم که تمامی خانه‌های این دیتاست دارای مقدار هستند. در غیر این صورت اولین گام دور ریختن سطر‌هایی که دارای خانه یا خانه‌های فاقد مقدار هستند می‌بود.\n",
    "    </font>\n",
    "  </div>"
   ]
  },
  {
   "cell_type": "code",
   "execution_count": 7,
   "id": "complimentary-compromise",
   "metadata": {
    "ExecuteTime": {
     "end_time": "2022-09-17T13:13:59.976084Z",
     "start_time": "2022-09-17T13:13:59.770409Z"
    }
   },
   "outputs": [
    {
     "data": {
      "text/html": [
       "<div>\n",
       "<style scoped>\n",
       "    .dataframe tbody tr th:only-of-type {\n",
       "        vertical-align: middle;\n",
       "    }\n",
       "\n",
       "    .dataframe tbody tr th {\n",
       "        vertical-align: top;\n",
       "    }\n",
       "\n",
       "    .dataframe thead th {\n",
       "        text-align: right;\n",
       "    }\n",
       "</style>\n",
       "<table border=\"1\" class=\"dataframe\">\n",
       "  <thead>\n",
       "    <tr style=\"text-align: right;\">\n",
       "      <th></th>\n",
       "      <th>buying_price</th>\n",
       "      <th>maintenance_cost</th>\n",
       "      <th>number_of_doors</th>\n",
       "      <th>number_of_persons</th>\n",
       "      <th>lug_boot</th>\n",
       "      <th>safety</th>\n",
       "      <th>decision</th>\n",
       "    </tr>\n",
       "  </thead>\n",
       "  <tbody>\n",
       "    <tr>\n",
       "      <th>0</th>\n",
       "      <td>3</td>\n",
       "      <td>3</td>\n",
       "      <td>0</td>\n",
       "      <td>0</td>\n",
       "      <td>2</td>\n",
       "      <td>1</td>\n",
       "      <td>unacc</td>\n",
       "    </tr>\n",
       "    <tr>\n",
       "      <th>1</th>\n",
       "      <td>3</td>\n",
       "      <td>3</td>\n",
       "      <td>0</td>\n",
       "      <td>0</td>\n",
       "      <td>2</td>\n",
       "      <td>2</td>\n",
       "      <td>unacc</td>\n",
       "    </tr>\n",
       "    <tr>\n",
       "      <th>2</th>\n",
       "      <td>3</td>\n",
       "      <td>3</td>\n",
       "      <td>0</td>\n",
       "      <td>0</td>\n",
       "      <td>2</td>\n",
       "      <td>0</td>\n",
       "      <td>unacc</td>\n",
       "    </tr>\n",
       "    <tr>\n",
       "      <th>3</th>\n",
       "      <td>3</td>\n",
       "      <td>3</td>\n",
       "      <td>0</td>\n",
       "      <td>0</td>\n",
       "      <td>1</td>\n",
       "      <td>1</td>\n",
       "      <td>unacc</td>\n",
       "    </tr>\n",
       "    <tr>\n",
       "      <th>4</th>\n",
       "      <td>3</td>\n",
       "      <td>3</td>\n",
       "      <td>0</td>\n",
       "      <td>0</td>\n",
       "      <td>1</td>\n",
       "      <td>2</td>\n",
       "      <td>unacc</td>\n",
       "    </tr>\n",
       "    <tr>\n",
       "      <th>...</th>\n",
       "      <td>...</td>\n",
       "      <td>...</td>\n",
       "      <td>...</td>\n",
       "      <td>...</td>\n",
       "      <td>...</td>\n",
       "      <td>...</td>\n",
       "      <td>...</td>\n",
       "    </tr>\n",
       "    <tr>\n",
       "      <th>1723</th>\n",
       "      <td>1</td>\n",
       "      <td>1</td>\n",
       "      <td>3</td>\n",
       "      <td>2</td>\n",
       "      <td>1</td>\n",
       "      <td>2</td>\n",
       "      <td>good</td>\n",
       "    </tr>\n",
       "    <tr>\n",
       "      <th>1724</th>\n",
       "      <td>1</td>\n",
       "      <td>1</td>\n",
       "      <td>3</td>\n",
       "      <td>2</td>\n",
       "      <td>1</td>\n",
       "      <td>0</td>\n",
       "      <td>vgood</td>\n",
       "    </tr>\n",
       "    <tr>\n",
       "      <th>1725</th>\n",
       "      <td>1</td>\n",
       "      <td>1</td>\n",
       "      <td>3</td>\n",
       "      <td>2</td>\n",
       "      <td>0</td>\n",
       "      <td>1</td>\n",
       "      <td>unacc</td>\n",
       "    </tr>\n",
       "    <tr>\n",
       "      <th>1726</th>\n",
       "      <td>1</td>\n",
       "      <td>1</td>\n",
       "      <td>3</td>\n",
       "      <td>2</td>\n",
       "      <td>0</td>\n",
       "      <td>2</td>\n",
       "      <td>good</td>\n",
       "    </tr>\n",
       "    <tr>\n",
       "      <th>1727</th>\n",
       "      <td>1</td>\n",
       "      <td>1</td>\n",
       "      <td>3</td>\n",
       "      <td>2</td>\n",
       "      <td>0</td>\n",
       "      <td>0</td>\n",
       "      <td>vgood</td>\n",
       "    </tr>\n",
       "  </tbody>\n",
       "</table>\n",
       "<p>1728 rows × 7 columns</p>\n",
       "</div>"
      ],
      "text/plain": [
       "      buying_price  maintenance_cost  number_of_doors  number_of_persons  \\\n",
       "0                3                 3                0                  0   \n",
       "1                3                 3                0                  0   \n",
       "2                3                 3                0                  0   \n",
       "3                3                 3                0                  0   \n",
       "4                3                 3                0                  0   \n",
       "...            ...               ...              ...                ...   \n",
       "1723             1                 1                3                  2   \n",
       "1724             1                 1                3                  2   \n",
       "1725             1                 1                3                  2   \n",
       "1726             1                 1                3                  2   \n",
       "1727             1                 1                3                  2   \n",
       "\n",
       "      lug_boot  safety decision  \n",
       "0            2       1    unacc  \n",
       "1            2       2    unacc  \n",
       "2            2       0    unacc  \n",
       "3            1       1    unacc  \n",
       "4            1       2    unacc  \n",
       "...        ...     ...      ...  \n",
       "1723         1       2     good  \n",
       "1724         1       0    vgood  \n",
       "1725         0       1    unacc  \n",
       "1726         0       2     good  \n",
       "1727         0       0    vgood  \n",
       "\n",
       "[1728 rows x 7 columns]"
      ]
     },
     "execution_count": 7,
     "metadata": {},
     "output_type": "execute_result"
    }
   ],
   "source": [
    "from sklearn.preprocessing import LabelEncoder\n",
    "encoder = LabelEncoder()\n",
    "\n",
    "encoded_car_evaluation_pdf = car_evaluation_pdf.copy()\n",
    "\n",
    "for column in car_evaluation_pdf.columns[:-1]:\n",
    "    encoded_car_evaluation_pdf[column] = encoder.fit_transform(car_evaluation_pdf[column])\n",
    "    \n",
    "encoded_car_evaluation_pdf"
   ]
  },
  {
   "cell_type": "markdown",
   "id": "vocal-collector",
   "metadata": {},
   "source": [
    "\n",
    "  <div dir=rtl>\n",
    "    <font face=\"XB Zar\" size=4>\n",
    "      حال ستون برچسب جدا می کنیم:\n",
    "    </font>\n",
    "  </div>"
   ]
  },
  {
   "cell_type": "code",
   "execution_count": 8,
   "id": "right-russian",
   "metadata": {
    "ExecuteTime": {
     "end_time": "2022-09-17T13:14:00.825005Z",
     "start_time": "2022-09-17T13:14:00.811640Z"
    }
   },
   "outputs": [],
   "source": [
    "X = encoded_car_evaluation_pdf.drop(['decision'], axis=1)\n",
    "\n",
    "y = encoded_car_evaluation_pdf['decision']"
   ]
  },
  {
   "cell_type": "markdown",
   "id": "referenced-prefix",
   "metadata": {},
   "source": [
    "  <div dir=rtl>\n",
    "    <font face=\"XB Zar\" size=4>\n",
    "      قدم آخر تقسیم دیتاست به دو قسمت:\n",
    "      <ul>\n",
    "        <font face=\"Roboto\">\n",
    "          <li>\n",
    "            Train\n",
    "          </li>\n",
    "          <li>\n",
    "            Test\n",
    "          </li>\n",
    "        </font>\n",
    "      </ul>\n",
    "      می باشد.\n",
    "    </font>\n",
    "  </div>"
   ]
  },
  {
   "cell_type": "code",
   "execution_count": 9,
   "id": "flying-tattoo",
   "metadata": {
    "ExecuteTime": {
     "end_time": "2022-09-17T13:14:01.801708Z",
     "start_time": "2022-09-17T13:14:01.765474Z"
    }
   },
   "outputs": [],
   "source": [
    "from sklearn.model_selection import train_test_split\n",
    "\n",
    "X_train, X_test, y_train, y_test = train_test_split(X, y, test_size = 0.33, random_state = 42)"
   ]
  },
  {
   "cell_type": "markdown",
   "id": "blond-jefferson",
   "metadata": {},
   "source": [
    "\n",
    "  <div dir=rtl id=\"Training_classification_Decision_Treeـcriterion_entropy\">\n",
    "    <font face=\"XB Zar\" size=4>\n",
    "      <font color=\"red\" size=5>آموزش درخت تصمیم</font>\n",
    "      <hr />\n",
    "      در این بخش به کمک‌کتاب خانه sklearn, یک درخت تصمیم از نوع طبقه بندی با معیار entropy  را آموزش می دهیم و دقت آن را بررسی می کنیم \n",
    "    </font>\n",
    "  </div>"
   ]
  },
  {
   "cell_type": "code",
   "execution_count": 10,
   "id": "substantial-conversion",
   "metadata": {
    "ExecuteTime": {
     "end_time": "2022-09-17T13:14:02.844409Z",
     "start_time": "2022-09-17T13:14:02.766991Z"
    }
   },
   "outputs": [],
   "source": [
    "from sklearn.tree import DecisionTreeClassifier\n",
    "from sklearn.metrics import accuracy_score"
   ]
  },
  {
   "cell_type": "markdown",
   "id": "hungry-effects",
   "metadata": {},
   "source": [
    "<div dir=rtl>\n",
    "    <font face=\"XB Zar\" size=4>\n",
    "        پیش از شروع نگاهی به پارامتر‌های ورودی این کلاس می‌اندازیم:<br>\n",
    "            ۱-criterion: این پارامتر, تابع معیاری که برای split کردن استفاده می‌شود را مشخص می‌کند. این پارامتر می تواند شامل مقادیر {“gini”, “entropy”, “log_loss”} باشد. مقدار پیش‌فرض این پارامتر \"gini\" است.<br> <br>\n",
    "            ۲-splitter: این پارامتر استراتژیی که برای split کردن هر node استفاده می‌شود را مشخص می‌کند. این پارامتر می تواند شامل مقادیر {“best”, “random”} باشد که به صورت پیش‌فرض مقدار \"best\". برای آن در نظر گرفته شده است.<br><br>\n",
    "            ۳-max_depth: این پارامتر نشان‌دهنده بیش‌ترین عمق قابل قبول برای درخت است. در صورتی که مقدار این پارامتر به عنوان ورودی داده نشود, عملیات split کردن تا زمانی که تمام برگ‌ها خالص شوند و یا تام برگ‌ها کمتر از پارامتر min_samples_split دارای sample باشند, ادامه پیدا می‌کند. <br><br>\n",
    "            ۴-min_samples_split: این پارامتر نشان‌دهنده کمترین تعداد قابل قبول در هر node برای split کردن می‌باشد. مقدار پیش‌فرض این پارامتر ۲ است. <br><br>\n",
    "            ۵-min_samples_leaf: این پارامتر نشان‌دهنده کمترین تعداد قابل قبول در یک برگ است. مقدار پیش‌فرض این پارامتر ۱ است.<br><br>\n",
    "            ۶-min_weight_fraction_leaf: حداقل کسر وزنی از مجموع کل وزن های قابل قبول در یک برگ است. مقدار پیش‌فرض این پارامتر ۰ است.<br><br>\n",
    "            ۷-max_features: این پارامتر نشان‌دهنده بیشترین تعداد قابل قبول برای تعداد ویژگی ها است. در صورتی که مقدار این پارامتر به عناون ورودی داده نشود, مقدار آن برابر تعداد ویژگی های دیتاست ورودی است.<br><br>\n",
    "            ۸-random_state: این پارامتر نحوه تصادفی بودن تولید یک درخت را مشخص می‌کند. در صورتی که دو درخت متفاوت با ویژگی‌های یکسان بر روی یک دیتاست یکسان آموزش دیده شود, یکسان بودن این مقدار در این دو درخت متفاوت تضمین می کند که هر دو درخت یکسان هستند.<br><br>\n",
    "            ۹-max_leaf_nodes: این پارامتر بیش ‌ترین تعداد قابل قبول برای تعداد برگ ‌ها را مشخص می کند. در صورتی که مقدار این پارامتر به عنوان ورودی داده نشود, این مقدار برابر بی‌نهایت است.<br><br>\n",
    "            ۱۰-min_impurity_decrease: این پارامتر نشان‌دهنده کمترین مقدار قابل قبول برای میزان کاهش ناخالصی در هنگام یک split است. مقدار پیش‌فرض این پارامتر برابر ۰ است.<br><br>\n",
    "            ۱۱-class_weight: این پارامتر وزن هر کلاس را مشخص می کند. در صورتی که این مقدار این پارامتر به عناون ورودی داده نشود, تمامی کلاس‌ها وزن یکسانی خواهند داشت.<br><br>\n",
    "            ۱۲-ccp_alpha: این پارامتر تعیین کننده پارامتر Complexity مورد استفاده در هرس Minimal Cost-Complexity است.<br><br>\n",
    "        برای اطلاعات بیشتر در مورد کلاس مذکور می توانید از طریق <a href=\"https://scikit-learn.org/stable/modules/generated/sklearn.tree.DecisionTreeClassifier.html\"><font face=\"Roboto\">این لینک</font></a> به مستند این کلاس مراجعه کنید.\n",
    "    </font>\n",
    "</div>"
   ]
  },
  {
   "cell_type": "code",
   "execution_count": 11,
   "id": "returning-checkout",
   "metadata": {
    "ExecuteTime": {
     "end_time": "2022-09-17T13:14:03.835510Z",
     "start_time": "2022-09-17T13:14:03.832112Z"
    }
   },
   "outputs": [],
   "source": [
    "clf_entropy = DecisionTreeClassifier(criterion='entropy', max_depth=3, random_state=0)"
   ]
  },
  {
   "cell_type": "markdown",
   "id": "respective-cartridge",
   "metadata": {},
   "source": [
    "\n",
    "  <div dir=rtl>\n",
    "    <font face=\"XB Zar\" size=4>\n",
    "     حال به کمک متد fit می توانیم Decision Tree تعریف شده با parameterهای مورد نظر را بر روی دیتاست خود آموزش بدهیم:\n",
    "    </font>\n",
    "  </div>"
   ]
  },
  {
   "cell_type": "code",
   "execution_count": 12,
   "id": "trained-coffee",
   "metadata": {
    "ExecuteTime": {
     "end_time": "2022-09-17T13:14:08.140287Z",
     "start_time": "2022-09-17T13:14:08.129482Z"
    }
   },
   "outputs": [
    {
     "data": {
      "text/plain": [
       "DecisionTreeClassifier(criterion='entropy', max_depth=3, random_state=0)"
      ]
     },
     "execution_count": 12,
     "metadata": {},
     "output_type": "execute_result"
    }
   ],
   "source": [
    "clf_entropy.fit(X_train, y_train)"
   ]
  },
  {
   "cell_type": "markdown",
   "id": "silent-decline",
   "metadata": {},
   "source": [
    "\n",
    "  <div dir=rtl>\n",
    "    <font face=\"XB Zar\" size=4>\n",
    "        همچنین به کمک متد predict, خروجی درخت آموزش دیده شده را مورد نظر خود محاسبه می‌کنیم:\n",
    "    </font>\n",
    "  </div>"
   ]
  },
  {
   "cell_type": "code",
   "execution_count": 13,
   "id": "returning-beach",
   "metadata": {
    "ExecuteTime": {
     "end_time": "2022-09-17T13:14:09.017363Z",
     "start_time": "2022-09-17T13:14:09.010378Z"
    }
   },
   "outputs": [],
   "source": [
    "y_pred = clf_entropy.predict(X_test)"
   ]
  },
  {
   "cell_type": "markdown",
   "id": "italic-optimum",
   "metadata": {},
   "source": [
    "\n",
    "  <div dir=rtl id=\"classification_accuracy\">\n",
    "    <font face=\"XB Zar\" size=4>\n",
    "      <font color=\"red\" size=5>بررسی دقت</font>\n",
    "      <hr />\n",
    "      برای بررسی دقت, از accuracy استفاده می‌کنیم. برای محاسبه از تابع accuracy_score کتاب‌خانه sklearn استفاده می‌کنیم: \n",
    "      </font>\n",
    "  </div>"
   ]
  },
  {
   "cell_type": "code",
   "execution_count": 14,
   "id": "banned-fault",
   "metadata": {
    "ExecuteTime": {
     "end_time": "2022-09-17T13:14:11.819381Z",
     "start_time": "2022-09-17T13:14:11.813839Z"
    }
   },
   "outputs": [
    {
     "name": "stdout",
     "output_type": "stream",
     "text": [
      "Model accuracy score with criterion=entropy: 0.7653\n"
     ]
    }
   ],
   "source": [
    "model_accuracy_score = accuracy_score(y_test, y_pred)\n",
    "print('Model accuracy score with criterion=entropy: {0:0.4f}'. format(model_accuracy_score))"
   ]
  },
  {
   "cell_type": "markdown",
   "id": "martial-blanket",
   "metadata": {},
   "source": [
    "\n",
    "  <div dir=rtl>\n",
    "    <font face=\"XB Zar\" size=4>\n",
    "        همچنین می‌توان این کار را به کمک توابع داخلی مدل نیز انجام داد:\n",
    "    </font>\n",
    "  </div>"
   ]
  },
  {
   "cell_type": "code",
   "execution_count": 15,
   "id": "worse-warehouse",
   "metadata": {
    "ExecuteTime": {
     "end_time": "2022-09-17T13:14:13.202367Z",
     "start_time": "2022-09-17T13:14:13.191049Z"
    }
   },
   "outputs": [
    {
     "name": "stdout",
     "output_type": "stream",
     "text": [
      "Training set score: 0.7744\n",
      "Test set score: 0.7653\n"
     ]
    }
   ],
   "source": [
    "print('Training set score: {:.4f}'.format(clf_entropy.score(X_train, y_train)))\n",
    "\n",
    "print('Test set score: {:.4f}'.format(clf_entropy.score(X_test, y_test)))"
   ]
  },
  {
   "cell_type": "markdown",
   "id": "renewable-peripheral",
   "metadata": {},
   "source": [
    "\n",
    "  <div dir=rtl id=\"classification_Visualization\">\n",
    "    <font face=\"XB Zar\" size=4>\n",
    "      <font color=\"red\" size=5>مصورسازی</font>\n",
    "      <hr />\n",
    "        برای بررسی بیشتر مدل‌ها می توانیم از مصورسازی کمک بگیریم. این مصور سازی را هم به کمک کتاب خانه sklearn و هم به کمک کتاب خانه graphviz می توانیم انجام دهیم.\n",
    "        برای نصب این کتاب خانه می توانید از دستور زیر کمک بگیرید:\n",
    "      </font>\n",
    "  </div>"
   ]
  },
  {
   "cell_type": "markdown",
   "id": "traditional-finnish",
   "metadata": {},
   "source": [
    "  `sudo apt-get install graphviz`"
   ]
  },
  {
   "cell_type": "code",
   "execution_count": 16,
   "id": "dental-preservation",
   "metadata": {
    "ExecuteTime": {
     "end_time": "2022-09-17T13:14:15.645291Z",
     "start_time": "2022-09-17T13:14:15.635296Z"
    }
   },
   "outputs": [],
   "source": [
    "from sklearn import tree\n",
    "import graphviz "
   ]
  },
  {
   "cell_type": "code",
   "execution_count": 17,
   "id": "soviet-chick",
   "metadata": {
    "ExecuteTime": {
     "end_time": "2022-09-17T13:14:16.694150Z",
     "start_time": "2022-09-17T13:14:16.305569Z"
    }
   },
   "outputs": [
    {
     "data": {
      "text/plain": [
       "[Text(251.10000000000002, 380.52, 'X[3] <= 0.5\\nentropy = 1.2\\nsamples = 1157\\nvalue = [255, 49, 813, 40]'),\n",
       " Text(167.4, 271.8, 'entropy = 0.0\\nsamples = 375\\nvalue = [0, 0, 375, 0]'),\n",
       " Text(334.8, 271.8, 'X[5] <= 0.5\\nentropy = 1.465\\nsamples = 782\\nvalue = [255, 49, 438, 40]'),\n",
       " Text(167.4, 163.07999999999998, 'X[1] <= 2.5\\nentropy = 1.684\\nsamples = 263\\nvalue = [139, 21, 63, 40]'),\n",
       " Text(83.7, 54.360000000000014, 'entropy = 1.668\\nsamples = 194\\nvalue = [108, 21, 25, 40]'),\n",
       " Text(251.10000000000002, 54.360000000000014, 'entropy = 0.993\\nsamples = 69\\nvalue = [31, 0, 38, 0]'),\n",
       " Text(502.20000000000005, 163.07999999999998, 'X[5] <= 1.5\\nentropy = 1.049\\nsamples = 519\\nvalue = [116, 28, 375, 0]'),\n",
       " Text(418.5, 54.360000000000014, 'entropy = 0.0\\nsamples = 257\\nvalue = [0, 0, 257, 0]'),\n",
       " Text(585.9, 54.360000000000014, 'entropy = 1.383\\nsamples = 262\\nvalue = [116, 28, 118, 0]')]"
      ]
     },
     "execution_count": 17,
     "metadata": {},
     "output_type": "execute_result"
    },
    {
     "data": {
      "image/png": "[encoded data removed]",
      "text/plain": [
       "<Figure size 864x576 with 1 Axes>"
      ]
     },
     "metadata": {
      "needs_background": "light"
     },
     "output_type": "display_data"
    }
   ],
   "source": [
    "plt.figure(figsize=(12,8))\n",
    "\n",
    "tree.plot_tree(clf_entropy.fit(X_train, y_train))"
   ]
  },
  {
   "cell_type": "code",
   "execution_count": 18,
   "id": "associate-style",
   "metadata": {
    "ExecuteTime": {
     "end_time": "2022-09-17T13:14:17.258525Z",
     "start_time": "2022-09-17T13:14:17.151675Z"
    }
   },
   "outputs": [
    {
     "data": {
      "image/svg+xml": [
       "<?xml version=\"1.0\" encoding=\"UTF-8\" standalone=\"no\"?>\n",
       "<!DOCTYPE svg PUBLIC \"-//W3C//DTD SVG 1.1//EN\"\n",
       " \"http://www.w3.org/Graphics/SVG/1.1/DTD/svg11.dtd\">\n",
       "<!-- Generated by graphviz version 2.43.0 (0)\n",
       " -->\n",
       "<!-- Title: Tree Pages: 1 -->\n",
       "<svg width=\"796pt\" height=\"433pt\"\n",
       " viewBox=\"0.00 0.00 796.00 433.00\" xmlns=\"http://www.w3.org/2000/svg\" xmlns:xlink=\"http://www.w3.org/1999/xlink\">\n",
       "<g id=\"graph0\" class=\"graph\" transform=\"scale(1 1) rotate(0) translate(4 429)\">\n",
       "<title>Tree</title>\n",
       "<polygon fill=\"white\" stroke=\"transparent\" points=\"-4,4 -4,-429 792,-429 792,4 -4,4\"/>\n",
       "<!-- 0 -->\n",
       "<g id=\"node1\" class=\"node\">\n",
       "<title>0</title>\n",
       "<path fill=\"#85c2ef\" stroke=\"black\" d=\"M381.5,-425C381.5,-425 202.5,-425 202.5,-425 196.5,-425 190.5,-419 190.5,-413 190.5,-413 190.5,-354 190.5,-354 190.5,-348 196.5,-342 202.5,-342 202.5,-342 381.5,-342 381.5,-342 387.5,-342 393.5,-348 393.5,-354 393.5,-354 393.5,-413 393.5,-413 393.5,-419 387.5,-425 381.5,-425\"/>\n",
       "<text text-anchor=\"start\" x=\"201.5\" y=\"-409.8\" font-family=\"Helvetica,sans-Serif\" font-size=\"14.00\">number_of_persons ≤ 0.5</text>\n",
       "<text text-anchor=\"start\" x=\"243.5\" y=\"-394.8\" font-family=\"Helvetica,sans-Serif\" font-size=\"14.00\">entropy = 1.2</text>\n",
       "<text text-anchor=\"start\" x=\"234.5\" y=\"-379.8\" font-family=\"Helvetica,sans-Serif\" font-size=\"14.00\">samples = 1157</text>\n",
       "<text text-anchor=\"start\" x=\"198.5\" y=\"-364.8\" font-family=\"Helvetica,sans-Serif\" font-size=\"14.00\">value = [255, 49, 813, 40]</text>\n",
       "<text text-anchor=\"start\" x=\"243.5\" y=\"-349.8\" font-family=\"Helvetica,sans-Serif\" font-size=\"14.00\">class = unacc</text>\n",
       "</g>\n",
       "<!-- 1 -->\n",
       "<g id=\"node2\" class=\"node\">\n",
       "<title>1</title>\n",
       "<path fill=\"#399de5\" stroke=\"black\" d=\"M262.5,-298.5C262.5,-298.5 119.5,-298.5 119.5,-298.5 113.5,-298.5 107.5,-292.5 107.5,-286.5 107.5,-286.5 107.5,-242.5 107.5,-242.5 107.5,-236.5 113.5,-230.5 119.5,-230.5 119.5,-230.5 262.5,-230.5 262.5,-230.5 268.5,-230.5 274.5,-236.5 274.5,-242.5 274.5,-242.5 274.5,-286.5 274.5,-286.5 274.5,-292.5 268.5,-298.5 262.5,-298.5\"/>\n",
       "<text text-anchor=\"start\" x=\"142.5\" y=\"-283.3\" font-family=\"Helvetica,sans-Serif\" font-size=\"14.00\">entropy = 0.0</text>\n",
       "<text text-anchor=\"start\" x=\"138\" y=\"-268.3\" font-family=\"Helvetica,sans-Serif\" font-size=\"14.00\">samples = 375</text>\n",
       "<text text-anchor=\"start\" x=\"115.5\" y=\"-253.3\" font-family=\"Helvetica,sans-Serif\" font-size=\"14.00\">value = [0, 0, 375, 0]</text>\n",
       "<text text-anchor=\"start\" x=\"142.5\" y=\"-238.3\" font-family=\"Helvetica,sans-Serif\" font-size=\"14.00\">class = unacc</text>\n",
       "</g>\n",
       "<!-- 0&#45;&gt;1 -->\n",
       "<g id=\"edge1\" class=\"edge\">\n",
       "<title>0&#45;&gt;1</title>\n",
       "<path fill=\"none\" stroke=\"black\" d=\"M256.96,-341.91C247.05,-330.43 236.27,-317.94 226.34,-306.44\"/>\n",
       "<polygon fill=\"black\" stroke=\"black\" points=\"228.82,-303.95 219.63,-298.67 223.52,-308.52 228.82,-303.95\"/>\n",
       "<text text-anchor=\"middle\" x=\"217.8\" y=\"-319.9\" font-family=\"Helvetica,sans-Serif\" font-size=\"14.00\">True</text>\n",
       "</g>\n",
       "<!-- 2 -->\n",
       "<g id=\"node3\" class=\"node\">\n",
       "<title>2</title>\n",
       "<path fill=\"#baddf6\" stroke=\"black\" d=\"M483.5,-306C483.5,-306 304.5,-306 304.5,-306 298.5,-306 292.5,-300 292.5,-294 292.5,-294 292.5,-235 292.5,-235 292.5,-229 298.5,-223 304.5,-223 304.5,-223 483.5,-223 483.5,-223 489.5,-223 495.5,-229 495.5,-235 495.5,-235 495.5,-294 495.5,-294 495.5,-300 489.5,-306 483.5,-306\"/>\n",
       "<text text-anchor=\"start\" x=\"350.5\" y=\"-290.8\" font-family=\"Helvetica,sans-Serif\" font-size=\"14.00\">safety ≤ 0.5</text>\n",
       "<text text-anchor=\"start\" x=\"336.5\" y=\"-275.8\" font-family=\"Helvetica,sans-Serif\" font-size=\"14.00\">entropy = 1.465</text>\n",
       "<text text-anchor=\"start\" x=\"341\" y=\"-260.8\" font-family=\"Helvetica,sans-Serif\" font-size=\"14.00\">samples = 782</text>\n",
       "<text text-anchor=\"start\" x=\"300.5\" y=\"-245.8\" font-family=\"Helvetica,sans-Serif\" font-size=\"14.00\">value = [255, 49, 438, 40]</text>\n",
       "<text text-anchor=\"start\" x=\"345.5\" y=\"-230.8\" font-family=\"Helvetica,sans-Serif\" font-size=\"14.00\">class = unacc</text>\n",
       "</g>\n",
       "<!-- 0&#45;&gt;2 -->\n",
       "<g id=\"edge2\" class=\"edge\">\n",
       "<title>0&#45;&gt;2</title>\n",
       "<path fill=\"none\" stroke=\"black\" d=\"M327.39,-341.91C335.3,-332.83 343.77,-323.12 351.92,-313.77\"/>\n",
       "<polygon fill=\"black\" stroke=\"black\" points=\"354.74,-315.86 358.67,-306.02 349.46,-311.26 354.74,-315.86\"/>\n",
       "<text text-anchor=\"middle\" x=\"360.38\" y=\"-327.26\" font-family=\"Helvetica,sans-Serif\" font-size=\"14.00\">False</text>\n",
       "</g>\n",
       "<!-- 3 -->\n",
       "<g id=\"node4\" class=\"node\">\n",
       "<title>3</title>\n",
       "<path fill=\"#f5cfb4\" stroke=\"black\" d=\"M373,-187C373,-187 203,-187 203,-187 197,-187 191,-181 191,-175 191,-175 191,-116 191,-116 191,-110 197,-104 203,-104 203,-104 373,-104 373,-104 379,-104 385,-110 385,-116 385,-116 385,-175 385,-175 385,-181 379,-187 373,-187\"/>\n",
       "<text text-anchor=\"start\" x=\"203.5\" y=\"-171.8\" font-family=\"Helvetica,sans-Serif\" font-size=\"14.00\">maintenance_cost ≤ 2.5</text>\n",
       "<text text-anchor=\"start\" x=\"230.5\" y=\"-156.8\" font-family=\"Helvetica,sans-Serif\" font-size=\"14.00\">entropy = 1.684</text>\n",
       "<text text-anchor=\"start\" x=\"235\" y=\"-141.8\" font-family=\"Helvetica,sans-Serif\" font-size=\"14.00\">samples = 263</text>\n",
       "<text text-anchor=\"start\" x=\"199\" y=\"-126.8\" font-family=\"Helvetica,sans-Serif\" font-size=\"14.00\">value = [139, 21, 63, 40]</text>\n",
       "<text text-anchor=\"start\" x=\"239.5\" y=\"-111.8\" font-family=\"Helvetica,sans-Serif\" font-size=\"14.00\">class = unacc</text>\n",
       "</g>\n",
       "<!-- 2&#45;&gt;3 -->\n",
       "<g id=\"edge3\" class=\"edge\">\n",
       "<title>2&#45;&gt;3</title>\n",
       "<path fill=\"none\" stroke=\"black\" d=\"M357.22,-222.91C348.92,-213.74 340.03,-203.93 331.48,-194.49\"/>\n",
       "<polygon fill=\"black\" stroke=\"black\" points=\"334.02,-192.08 324.71,-187.02 328.83,-196.78 334.02,-192.08\"/>\n",
       "</g>\n",
       "<!-- 6 -->\n",
       "<g id=\"node7\" class=\"node\">\n",
       "<title>6</title>\n",
       "<path fill=\"#80c0ee\" stroke=\"black\" d=\"M585,-187C585,-187 415,-187 415,-187 409,-187 403,-181 403,-175 403,-175 403,-116 403,-116 403,-110 409,-104 415,-104 415,-104 585,-104 585,-104 591,-104 597,-110 597,-116 597,-116 597,-175 597,-175 597,-181 591,-187 585,-187\"/>\n",
       "<text text-anchor=\"start\" x=\"456.5\" y=\"-171.8\" font-family=\"Helvetica,sans-Serif\" font-size=\"14.00\">safety ≤ 1.5</text>\n",
       "<text text-anchor=\"start\" x=\"442.5\" y=\"-156.8\" font-family=\"Helvetica,sans-Serif\" font-size=\"14.00\">entropy = 1.049</text>\n",
       "<text text-anchor=\"start\" x=\"447\" y=\"-141.8\" font-family=\"Helvetica,sans-Serif\" font-size=\"14.00\">samples = 519</text>\n",
       "<text text-anchor=\"start\" x=\"411\" y=\"-126.8\" font-family=\"Helvetica,sans-Serif\" font-size=\"14.00\">value = [116, 28, 375, 0]</text>\n",
       "<text text-anchor=\"start\" x=\"451.5\" y=\"-111.8\" font-family=\"Helvetica,sans-Serif\" font-size=\"14.00\">class = unacc</text>\n",
       "</g>\n",
       "<!-- 2&#45;&gt;6 -->\n",
       "<g id=\"edge6\" class=\"edge\">\n",
       "<title>2&#45;&gt;6</title>\n",
       "<path fill=\"none\" stroke=\"black\" d=\"M430.78,-222.91C439.08,-213.74 447.97,-203.93 456.52,-194.49\"/>\n",
       "<polygon fill=\"black\" stroke=\"black\" points=\"459.17,-196.78 463.29,-187.02 453.98,-192.08 459.17,-196.78\"/>\n",
       "</g>\n",
       "<!-- 4 -->\n",
       "<g id=\"node5\" class=\"node\">\n",
       "<title>4</title>\n",
       "<path fill=\"#f4c7a8\" stroke=\"black\" d=\"M182,-68C182,-68 12,-68 12,-68 6,-68 0,-62 0,-56 0,-56 0,-12 0,-12 0,-6 6,0 12,0 12,0 182,0 182,0 188,0 194,-6 194,-12 194,-12 194,-56 194,-56 194,-62 188,-68 182,-68\"/>\n",
       "<text text-anchor=\"start\" x=\"39.5\" y=\"-52.8\" font-family=\"Helvetica,sans-Serif\" font-size=\"14.00\">entropy = 1.668</text>\n",
       "<text text-anchor=\"start\" x=\"44\" y=\"-37.8\" font-family=\"Helvetica,sans-Serif\" font-size=\"14.00\">samples = 194</text>\n",
       "<text text-anchor=\"start\" x=\"8\" y=\"-22.8\" font-family=\"Helvetica,sans-Serif\" font-size=\"14.00\">value = [108, 21, 25, 40]</text>\n",
       "<text text-anchor=\"start\" x=\"48.5\" y=\"-7.8\" font-family=\"Helvetica,sans-Serif\" font-size=\"14.00\">class = unacc</text>\n",
       "</g>\n",
       "<!-- 3&#45;&gt;4 -->\n",
       "<g id=\"edge4\" class=\"edge\">\n",
       "<title>3&#45;&gt;4</title>\n",
       "<path fill=\"none\" stroke=\"black\" d=\"M217.15,-103.88C199.61,-93.83 180.88,-83.09 163.56,-73.16\"/>\n",
       "<polygon fill=\"black\" stroke=\"black\" points=\"165.05,-69.98 154.64,-68.04 161.57,-76.05 165.05,-69.98\"/>\n",
       "</g>\n",
       "<!-- 5 -->\n",
       "<g id=\"node6\" class=\"node\">\n",
       "<title>5</title>\n",
       "<path fill=\"#dbedfa\" stroke=\"black\" d=\"M366.5,-68C366.5,-68 223.5,-68 223.5,-68 217.5,-68 211.5,-62 211.5,-56 211.5,-56 211.5,-12 211.5,-12 211.5,-6 217.5,0 223.5,0 223.5,0 366.5,0 366.5,0 372.5,0 378.5,-6 378.5,-12 378.5,-12 378.5,-56 378.5,-56 378.5,-62 372.5,-68 366.5,-68\"/>\n",
       "<text text-anchor=\"start\" x=\"237.5\" y=\"-52.8\" font-family=\"Helvetica,sans-Serif\" font-size=\"14.00\">entropy = 0.993</text>\n",
       "<text text-anchor=\"start\" x=\"246.5\" y=\"-37.8\" font-family=\"Helvetica,sans-Serif\" font-size=\"14.00\">samples = 69</text>\n",
       "<text text-anchor=\"start\" x=\"219.5\" y=\"-22.8\" font-family=\"Helvetica,sans-Serif\" font-size=\"14.00\">value = [31, 0, 38, 0]</text>\n",
       "<text text-anchor=\"start\" x=\"246.5\" y=\"-7.8\" font-family=\"Helvetica,sans-Serif\" font-size=\"14.00\">class = unacc</text>\n",
       "</g>\n",
       "<!-- 3&#45;&gt;5 -->\n",
       "<g id=\"edge5\" class=\"edge\">\n",
       "<title>3&#45;&gt;5</title>\n",
       "<path fill=\"none\" stroke=\"black\" d=\"M290.61,-103.73C291.14,-95.43 291.7,-86.67 292.23,-78.28\"/>\n",
       "<polygon fill=\"black\" stroke=\"black\" points=\"295.73,-78.5 292.87,-68.3 288.74,-78.06 295.73,-78.5\"/>\n",
       "</g>\n",
       "<!-- 7 -->\n",
       "<g id=\"node8\" class=\"node\">\n",
       "<title>7</title>\n",
       "<path fill=\"#399de5\" stroke=\"black\" d=\"M564.5,-68C564.5,-68 421.5,-68 421.5,-68 415.5,-68 409.5,-62 409.5,-56 409.5,-56 409.5,-12 409.5,-12 409.5,-6 415.5,0 421.5,0 421.5,0 564.5,0 564.5,0 570.5,0 576.5,-6 576.5,-12 576.5,-12 576.5,-56 576.5,-56 576.5,-62 570.5,-68 564.5,-68\"/>\n",
       "<text text-anchor=\"start\" x=\"444.5\" y=\"-52.8\" font-family=\"Helvetica,sans-Serif\" font-size=\"14.00\">entropy = 0.0</text>\n",
       "<text text-anchor=\"start\" x=\"440\" y=\"-37.8\" font-family=\"Helvetica,sans-Serif\" font-size=\"14.00\">samples = 257</text>\n",
       "<text text-anchor=\"start\" x=\"417.5\" y=\"-22.8\" font-family=\"Helvetica,sans-Serif\" font-size=\"14.00\">value = [0, 0, 257, 0]</text>\n",
       "<text text-anchor=\"start\" x=\"444.5\" y=\"-7.8\" font-family=\"Helvetica,sans-Serif\" font-size=\"14.00\">class = unacc</text>\n",
       "</g>\n",
       "<!-- 6&#45;&gt;7 -->\n",
       "<g id=\"edge7\" class=\"edge\">\n",
       "<title>6&#45;&gt;7</title>\n",
       "<path fill=\"none\" stroke=\"black\" d=\"M497.39,-103.73C496.86,-95.43 496.3,-86.67 495.77,-78.28\"/>\n",
       "<polygon fill=\"black\" stroke=\"black\" points=\"499.26,-78.06 495.13,-68.3 492.27,-78.5 499.26,-78.06\"/>\n",
       "</g>\n",
       "<!-- 8 -->\n",
       "<g id=\"node9\" class=\"node\">\n",
       "<title>8</title>\n",
       "<path fill=\"#fcfeff\" stroke=\"black\" d=\"M776,-68C776,-68 606,-68 606,-68 600,-68 594,-62 594,-56 594,-56 594,-12 594,-12 594,-6 600,0 606,0 606,0 776,0 776,0 782,0 788,-6 788,-12 788,-12 788,-56 788,-56 788,-62 782,-68 776,-68\"/>\n",
       "<text text-anchor=\"start\" x=\"633.5\" y=\"-52.8\" font-family=\"Helvetica,sans-Serif\" font-size=\"14.00\">entropy = 1.383</text>\n",
       "<text text-anchor=\"start\" x=\"638\" y=\"-37.8\" font-family=\"Helvetica,sans-Serif\" font-size=\"14.00\">samples = 262</text>\n",
       "<text text-anchor=\"start\" x=\"602\" y=\"-22.8\" font-family=\"Helvetica,sans-Serif\" font-size=\"14.00\">value = [116, 28, 118, 0]</text>\n",
       "<text text-anchor=\"start\" x=\"642.5\" y=\"-7.8\" font-family=\"Helvetica,sans-Serif\" font-size=\"14.00\">class = unacc</text>\n",
       "</g>\n",
       "<!-- 6&#45;&gt;8 -->\n",
       "<g id=\"edge8\" class=\"edge\">\n",
       "<title>6&#45;&gt;8</title>\n",
       "<path fill=\"none\" stroke=\"black\" d=\"M570.85,-103.88C588.39,-93.83 607.12,-83.09 624.44,-73.16\"/>\n",
       "<polygon fill=\"black\" stroke=\"black\" points=\"626.43,-76.05 633.36,-68.04 622.95,-69.98 626.43,-76.05\"/>\n",
       "</g>\n",
       "</g>\n",
       "</svg>\n"
      ],
      "text/plain": [
       "<graphviz.files.Source at 0x7f92d3973c50>"
      ]
     },
     "execution_count": 18,
     "metadata": {},
     "output_type": "execute_result"
    }
   ],
   "source": [
    "dot_data = tree.export_graphviz(clf_entropy, out_file=None, \n",
    "                                feature_names=X_train.columns,  \n",
    "                                class_names=y_train,  \n",
    "                                filled=True, rounded=True,  \n",
    "                                special_characters=True)\n",
    "\n",
    "graph = graphviz.Source(dot_data) \n",
    "\n",
    "graph"
   ]
  },
  {
   "cell_type": "markdown",
   "id": "collected-assurance",
   "metadata": {},
   "source": [
    "\n",
    "  <div dir=rtl id=\"Training_classification_Decision_Treeـcriterion_entropy\">\n",
    "    <font face=\"XB Zar\" size=4>\n",
    "      <font color=\"red\" size=5>تمرین</font>\n",
    "      <hr />\n",
    "      سعی کنید مشابه همین کار را این بار با معیار gini انجام دهید. \n",
    "    </font>\n",
    "  </div>"
   ]
  },
  {
   "cell_type": "code",
   "execution_count": 18,
   "id": "amazing-internet",
   "metadata": {
    "ExecuteTime": {
     "end_time": "2022-09-15T14:50:50.207639Z",
     "start_time": "2022-09-15T14:50:50.200037Z"
    }
   },
   "outputs": [],
   "source": [
    "# clf_gini = #TODO"
   ]
  },
  {
   "cell_type": "code",
   "execution_count": 19,
   "id": "contemporary-fountain",
   "metadata": {
    "ExecuteTime": {
     "end_time": "2022-09-15T14:50:50.574476Z",
     "start_time": "2022-09-15T14:50:50.572634Z"
    }
   },
   "outputs": [],
   "source": [
    "#TODO"
   ]
  },
  {
   "cell_type": "markdown",
   "id": "planned-activation",
   "metadata": {
    "id": "sIGyifOmnOYc"
   },
   "source": [
    "\n",
    "  <div dir=rtl id=\"Practice\">\n",
    "  <font face=\"XB Zar\" size=4>\n",
    "      <font color=\"red\" size=6>\n",
    "        تمرین: پیاده سازی درخت تصمیم گیری از نوع طبقه بندی\n",
    "      </font>\n",
    "      <hr />\n",
    "      در این بخش, قصد داریم تا با پیاده‌سازی یک درخت تصمیم, خوش خیم یا بدخیم بودن یک توده سرطانی را بر اساس ویژگی‌های داده شده, بررسی کنیم. دیتاستی در اختیار شما قرار داده شده که می توانید از طریق   \n",
    "      <a href=\"https://www.kaggle.com/datasets/merishnasuwal/breast-cancer-prediction-dataset\">\n",
    "        <font face=\"Roboto\">\n",
    "        این لینک\n",
    "        </font>\n",
    "      </a>\n",
    "      به آن دسترسی پیدا کنید.\n",
    "      <br>\n",
    "      ساختار کلی کلاس درخت تصمیم و توابع مورد نیاز آن برای شما مشخص شده است و تنها نیاز است که شما توابع آن را پیاده سازی کنید.\n",
    "      </font>\n",
    "    </div>"
   ]
  },
  {
   "cell_type": "code",
   "execution_count": 16,
   "id": "arabic-stake",
   "metadata": {
    "ExecuteTime": {
     "end_time": "2022-09-15T14:06:28.249237Z",
     "start_time": "2022-09-15T14:06:28.225450Z"
    }
   },
   "outputs": [],
   "source": [
    "import pandas as pd\n",
    "from sklearn.model_selection import train_test_split\n",
    "from sklearn.metrics import accuracy_score\n",
    "from math import log\n",
    "import random\n",
    "\n",
    "class Node:\n",
    "    def __init__(self, feature=None, threshold=None, left=None, right=None, value=None):\n",
    "        self.feature = feature\n",
    "        self.threshold = threshold\n",
    "        self.left = left\n",
    "        self.right = right\n",
    "        self.value = value\n",
    "\n",
    "    def is_leaf(self):\n",
    "        if self.value is not None:\n",
    "            return True\n",
    "        return False\n",
    "\n",
    "\n",
    "class DecisionTree:\n",
    "    def __init__(self, max_depth=None, min_samples_split=2):\n",
    "        self.max_depth = max_depth\n",
    "        self.min_samples_split = min_samples_split\n",
    "        self.root = None\n",
    "\n",
    "    def is_splitting_finished(self, depth, num_class_labels, num_samples):\n",
    "        if depth == self.max_depth:\n",
    "            return True\n",
    "        \n",
    "        if num_samples <= self.min_samples_split:\n",
    "            return True\n",
    "\n",
    "        if num_class_labels == 1:\n",
    "            return True\n",
    "\n",
    "        return False\n",
    "\n",
    "    def split(self, X, y, feature, threshold):\n",
    "        left_indexes = X[feature] <= threshold\n",
    "        right_indexes = -left_indexes\n",
    "        X_left = X[left_indexes]\n",
    "        y_left = y[left_indexes]\n",
    "        X_right = X[right_indexes]\n",
    "        y_right = y[right_indexes]\n",
    "\n",
    "        return X_left, X_right, y_left, y_right\n",
    "\n",
    "    def entropy(self, y):\n",
    "        p = len(y[y.diagnosis == 1]) / len(y)\n",
    "        if p == 1 or p == 0:\n",
    "            return 0\n",
    "        return -p * log(p, 2) - (1 - p) * log(1 - p, 2)\n",
    "\n",
    "\n",
    "    def information_gain(self, X, y, feature, threshold):\n",
    "        X_left, X_right, y_left, y_right = self.split(X, y, feature, threshold)\n",
    "        H_y = self.entropy(y)\n",
    "        p = len(X[X[feature] >= threshold]) / len(X)\n",
    "        if len(y_left) != 0:\n",
    "            p_left = self.entropy(y_left)\n",
    "        else:\n",
    "            p_left = 0\n",
    "        if len(y_right) != 0:\n",
    "            p_right = self.entropy(y_right)\n",
    "        else:\n",
    "            p_right = 0\n",
    "        H_y_given_x = p * p_right + (1 - p) * p_left\n",
    "        return H_y - H_y_given_x\n",
    "\n",
    "    def best_split(self, X, y):\n",
    "        features = list(X.columns.values)\n",
    "        random.shuffle(features)\n",
    "        best_information_gain = 0\n",
    "        best_feature = None\n",
    "        best_threshold = None\n",
    "        for feature in features:\n",
    "            thresholds = list(set(list(X[feature])))\n",
    "            for threshold in thresholds:\n",
    "                info_gain = self.information_gain(X, y, feature, threshold)\n",
    "                if info_gain >= best_information_gain:\n",
    "                    best_information_gain = info_gain\n",
    "                    best_feature = feature\n",
    "                    best_threshold = threshold\n",
    "        return best_feature, best_threshold\n",
    "\n",
    "    def build_tree(self, X, y, depth=0):\n",
    "        if self.is_splitting_finished(depth, len(X.columns), len(X)):\n",
    "            return None\n",
    "\n",
    "        best_feature, best_threshold = self.best_split(X, y)\n",
    "        X_left, X_right, y_left, y_right = self.split(X, y, best_feature, best_threshold)\n",
    "\n",
    "        left_node = self.build_tree(X_left, y_left, depth=depth + 1)\n",
    "        right_node = self.build_tree(X_right, y_right, depth=depth + 1)\n",
    "\n",
    "        value = None\n",
    "        if left_node is None or right_node is None:\n",
    "            true_value = len(y[y['diagnosis'] == 1])\n",
    "            false_value = len(y[y['diagnosis'] == 0])\n",
    "            if true_value >= false_value:\n",
    "                value = 1\n",
    "            else:\n",
    "                value = 0\n",
    "\n",
    "        return Node(feature=best_feature, threshold=best_threshold, left=left_node, right=right_node, value=value)\n",
    "\n",
    "    def fit(self, X, y):\n",
    "        self.root = self.build_tree(X, y)\n",
    "\n",
    "    def predict(self, X):\n",
    "        tree = self.root\n",
    "        predicted_value = []\n",
    "        for index in list(X.index):\n",
    "            data = X.loc[index]\n",
    "            current_tree = tree\n",
    "            for depth in range(self.max_depth):\n",
    "                if Node.is_leaf(current_tree):\n",
    "                    predicted_value.append(current_tree.value)\n",
    "                    break\n",
    "                feature = current_tree.feature\n",
    "                threshold = current_tree.threshold\n",
    "                if data[feature] <= threshold:\n",
    "                    current_tree = current_tree.left\n",
    "                if data[feature] > threshold:\n",
    "                    current_tree = current_tree.right\n",
    "\n",
    "        return predicted_value"
   ]
  },
  {
   "cell_type": "code",
   "execution_count": 21,
   "id": "naked-chart",
   "metadata": {
    "ExecuteTime": {
     "end_time": "2022-09-15T14:07:47.907344Z",
     "start_time": "2022-09-15T14:07:47.894805Z"
    }
   },
   "outputs": [],
   "source": [
    "breast_cancer_pdf = pd.read_csv(\"breast_cancer.csv\")\n",
    "\n",
    "X = breast_cancer_pdf.drop(['diagnosis'], axis=1)\n",
    "\n",
    "y = breast_cancer_pdf[['diagnosis']]\n",
    "\n",
    "x_train, x_val, y_train, y_val = train_test_split(X, y, test_size=0.70, random_state=42)"
   ]
  },
  {
   "cell_type": "markdown",
   "id": "reported-congo",
   "metadata": {},
   "source": [
    "\n",
    "  <div dir=rtl id=\"Training_classification_Decision_Treeـcriterion_entropy\">\n",
    "    <font face=\"XB Zar\" size=4>\n",
    "      <font color=\"red\" size=5>بررسی دقت با hyperparameter های مختلف</font>\n",
    "      <hr />\n",
    "      با پر کردن مقدایر متخلف هر hyperparameter در لیست های هر کدام, می توانید دقت مدل را برای هر ترکیب از آنها مشاهده کنید. \n",
    "    </font>\n",
    "  </div>"
   ]
  },
  {
   "cell_type": "code",
   "execution_count": 22,
   "id": "convertible-tragedy",
   "metadata": {
    "ExecuteTime": {
     "end_time": "2022-09-15T14:07:48.927320Z",
     "start_time": "2022-09-15T14:07:48.915254Z"
    }
   },
   "outputs": [],
   "source": [
    "max_depths = [1, 2, 5]\n",
    "min_samples_splits = [1, 10, 100]"
   ]
  },
  {
   "cell_type": "code",
   "execution_count": 23,
   "id": "noted-duplicate",
   "metadata": {
    "ExecuteTime": {
     "end_time": "2022-09-15T14:08:23.377776Z",
     "start_time": "2022-09-15T14:07:49.304670Z"
    },
    "scrolled": false
   },
   "outputs": [
    {
     "name": "stdout",
     "output_type": "stream",
     "text": [
      "accuracy of training set for min_samples_splits=1-max_depths=1 =0.5764705882352941\n",
      "accuracy of validation set for min_samples_splits=1-max_depths=1 =0.6491228070175439\n",
      "------------------------------------------------\n",
      "accuracy of training set for min_samples_splits=10-max_depths=1 =0.5764705882352941\n",
      "accuracy of validation set for min_samples_splits=10-max_depths=1 =0.6491228070175439\n",
      "------------------------------------------------\n",
      "accuracy of training set for min_samples_splits=100-max_depths=1 =0.5764705882352941\n",
      "accuracy of validation set for min_samples_splits=100-max_depths=1 =0.6491228070175439\n",
      "------------------------------------------------\n",
      "accuracy of training set for min_samples_splits=1-max_depths=2 =0.8705882352941177\n",
      "accuracy of validation set for min_samples_splits=1-max_depths=2 =0.8771929824561403\n",
      "------------------------------------------------\n",
      "accuracy of training set for min_samples_splits=10-max_depths=2 =0.8705882352941177\n",
      "accuracy of validation set for min_samples_splits=10-max_depths=2 =0.8771929824561403\n",
      "------------------------------------------------\n",
      "accuracy of training set for min_samples_splits=100-max_depths=2 =0.5764705882352941\n",
      "accuracy of validation set for min_samples_splits=100-max_depths=2 =0.6491228070175439\n",
      "------------------------------------------------\n",
      "accuracy of training set for min_samples_splits=1-max_depths=5 =0.9294117647058824\n",
      "accuracy of validation set for min_samples_splits=1-max_depths=5 =0.9047619047619048\n",
      "------------------------------------------------\n",
      "accuracy of training set for min_samples_splits=10-max_depths=5 =0.888235294117647\n",
      "accuracy of validation set for min_samples_splits=10-max_depths=5 =0.8421052631578947\n",
      "------------------------------------------------\n",
      "accuracy of training set for min_samples_splits=100-max_depths=5 =0.5764705882352941\n",
      "accuracy of validation set for min_samples_splits=100-max_depths=5 =0.6491228070175439\n",
      "------------------------------------------------\n"
     ]
    }
   ],
   "source": [
    "best_max_depth = None\n",
    "best_min_samples_split = None\n",
    "best_accuracy = 0\n",
    "best_model = None\n",
    "for max_depth in max_depths:\n",
    "    for min_samples_split in min_samples_splits:\n",
    "        clf = DecisionTree(max_depth, min_samples_split)\n",
    "        clf.fit(x_train, y_train)\n",
    "        y_val_pred = clf.predict(x_val)\n",
    "        y_train_pred = clf.predict(x_train)\n",
    "        accuracy = accuracy_score(y_val_pred, y_val)\n",
    "        train_accuracy = accuracy_score(y_train_pred, y_train)\n",
    "        print(f\"accuracy of training set for min_samples_splits={min_samples_split}-max_depths={max_depth} ={train_accuracy}\")\n",
    "        print(f\"accuracy of validation set for min_samples_splits={min_samples_split}-max_depths={max_depth} ={accuracy}\")\n",
    "        print(\"------------------------------------------------\")\n",
    "        if accuracy >= best_accuracy:\n",
    "            best_accuracy = accuracy\n",
    "            best_max_depth = max_depth\n",
    "            best_min_samples_split = min_samples_split\n",
    "            best_model = clf"
   ]
  }
 ],
 "metadata": {
  "kernelspec": {
   "display_name": "Python 3",
   "language": "python",
   "name": "python3"
  },
  "language_info": {
   "codemirror_mode": {
    "name": "ipython",
    "version": 3
   },
   "file_extension": ".py",
   "mimetype": "text/x-python",
   "name": "python",
   "nbconvert_exporter": "python",
   "pygments_lexer": "ipython3",
   "version": "3.6.9"
  },
  "toc": {
   "base_numbering": 1,
   "nav_menu": {},
   "number_sections": true,
   "sideBar": true,
   "skip_h1_title": false,
   "title_cell": "Table of Contents",
   "title_sidebar": "Contents",
   "toc_cell": false,
   "toc_position": {},
   "toc_section_display": true,
   "toc_window_display": false
  },
  "varInspector": {
   "cols": {
    "lenName": 16,
    "lenType": 16,
    "lenVar": 40
   },
   "kernels_config": {
    "python": {
     "delete_cmd_postfix": "",
     "delete_cmd_prefix": "del ",
     "library": "var_list.py",
     "varRefreshCmd": "print(var_dic_list())"
    },
    "r": {
     "delete_cmd_postfix": ") ",
     "delete_cmd_prefix": "rm(",
     "library": "var_list.r",
     "varRefreshCmd": "cat(var_dic_list()) "
    }
   },
   "types_to_exclude": [
    "module",
    "function",
    "builtin_function_or_method",
    "instance",
    "_Feature"
   ],
   "window_display": false
  }
 },
 "nbformat": 4,
 "nbformat_minor": 5
}
